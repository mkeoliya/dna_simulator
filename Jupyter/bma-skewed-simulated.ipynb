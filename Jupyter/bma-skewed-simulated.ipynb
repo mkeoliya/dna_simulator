{
 "cells": [
  {
   "cell_type": "code",
   "execution_count": 1,
   "metadata": {},
   "outputs": [],
   "source": [
    "import pandas as pd"
   ]
  },
  {
   "cell_type": "code",
   "execution_count": 2,
   "metadata": {},
   "outputs": [],
   "source": [
    "\n",
    "df = pd.read_csv('bma-skewed-simulated.csv')\n"
   ]
  },
  {
   "cell_type": "code",
   "execution_count": 3,
   "metadata": {},
   "outputs": [
    {
     "data": {
      "text/html": [
       "<div>\n",
       "<style scoped>\n",
       "    .dataframe tbody tr th:only-of-type {\n",
       "        vertical-align: middle;\n",
       "    }\n",
       "\n",
       "    .dataframe tbody tr th {\n",
       "        vertical-align: top;\n",
       "    }\n",
       "\n",
       "    .dataframe thead th {\n",
       "        text-align: right;\n",
       "    }\n",
       "</style>\n",
       "<table border=\"1\" class=\"dataframe\">\n",
       "  <thead>\n",
       "    <tr style=\"text-align: right;\">\n",
       "      <th></th>\n",
       "      <th>Refs</th>\n",
       "      <th>Reads</th>\n",
       "    </tr>\n",
       "  </thead>\n",
       "  <tbody>\n",
       "    <tr>\n",
       "      <th>0</th>\n",
       "      <td>ACCATAATGCGTGGGGCCGACCTCGGAATGCGGTCTCCATGCGCGT...</td>\n",
       "      <td>ACCATAATGCGTGGGGCCGACCTCGGAATGCGGTCTCCATGCGCGT...</td>\n",
       "    </tr>\n",
       "    <tr>\n",
       "      <th>1</th>\n",
       "      <td>TCGAAGCAGTAGGGCCTACCAAATAGGTTGGTCCTCCGTTGTATCT...</td>\n",
       "      <td>TCGAAGCAGTAGGGCCTACCAAATAGGTTGGTCCTCCGTTGTATCT...</td>\n",
       "    </tr>\n",
       "    <tr>\n",
       "      <th>2</th>\n",
       "      <td>AGTTAACGTCCCACGGCGAGGCACTCTTGATCCCCACCTTCAAGAG...</td>\n",
       "      <td>AGTTAACGTCCCACGGCGAGGCACTCTTGATCCCCACCTTCAAGAG...</td>\n",
       "    </tr>\n",
       "    <tr>\n",
       "      <th>3</th>\n",
       "      <td>GCCCAAGGGTACGCCCGCAGCGACGCAATTGGCGGAGTAAGCGCGT...</td>\n",
       "      <td>GCCCAAGGGTACGCCCGCAGCGACGCAATTGGCGGAGTAAGCGCGT...</td>\n",
       "    </tr>\n",
       "    <tr>\n",
       "      <th>4</th>\n",
       "      <td>GCACTGATGTAACTCATGGTACATCCGTCGCTGAGCGCCATTTTGT...</td>\n",
       "      <td>GCACTGATGTAACTCATGGTACATCCGTCGCTGAGCGCCATTTTGT...</td>\n",
       "    </tr>\n",
       "    <tr>\n",
       "      <th>...</th>\n",
       "      <td>...</td>\n",
       "      <td>...</td>\n",
       "    </tr>\n",
       "    <tr>\n",
       "      <th>9979</th>\n",
       "      <td>GCATGATTTGGAAGGTCGGCACTATACCCACCCAGGGTATATGGTC...</td>\n",
       "      <td>GCATGATTTGGAAGGTCGGCACTATACCCACCCAGGGTATATGGTC...</td>\n",
       "    </tr>\n",
       "    <tr>\n",
       "      <th>9980</th>\n",
       "      <td>GAAGTTTGGAACGTGTTCGTCCGCCAATTAAGGTTGGCTTCTAGTA...</td>\n",
       "      <td>GAAGTTTGGAACGTGTTCGTCCGCCAATTAAGGTTGGCTTCTAGTA...</td>\n",
       "    </tr>\n",
       "    <tr>\n",
       "      <th>9981</th>\n",
       "      <td>TGCATCCCGGACAACCGCAAGGGTGCATGGGCACCGCAATTCCCAA...</td>\n",
       "      <td>TGCATCCCGGACAACCGCAAGGGTGCATGGGCACCGCAATTCCCAA...</td>\n",
       "    </tr>\n",
       "    <tr>\n",
       "      <th>9982</th>\n",
       "      <td>ACTGGACGTCCTATGCTGGCATAATGAAACGACAACCTGTCTTCGA...</td>\n",
       "      <td>ACTGGACGTCCTATGCTGGCATAATGAAACGACAACCTGTCTTCGA...</td>\n",
       "    </tr>\n",
       "    <tr>\n",
       "      <th>9983</th>\n",
       "      <td>ATCGTGGTATCCCTCCAACCCGAATGACCTGGCGAGGCAGATCAAC...</td>\n",
       "      <td>ATCGTGGTATCCCTCCAACCCGAATGACCTGGCGAGGCAGATCAAC...</td>\n",
       "    </tr>\n",
       "  </tbody>\n",
       "</table>\n",
       "<p>9984 rows × 2 columns</p>\n",
       "</div>"
      ],
      "text/plain": [
       "                                                   Refs  \\\n",
       "0     ACCATAATGCGTGGGGCCGACCTCGGAATGCGGTCTCCATGCGCGT...   \n",
       "1     TCGAAGCAGTAGGGCCTACCAAATAGGTTGGTCCTCCGTTGTATCT...   \n",
       "2     AGTTAACGTCCCACGGCGAGGCACTCTTGATCCCCACCTTCAAGAG...   \n",
       "3     GCCCAAGGGTACGCCCGCAGCGACGCAATTGGCGGAGTAAGCGCGT...   \n",
       "4     GCACTGATGTAACTCATGGTACATCCGTCGCTGAGCGCCATTTTGT...   \n",
       "...                                                 ...   \n",
       "9979  GCATGATTTGGAAGGTCGGCACTATACCCACCCAGGGTATATGGTC...   \n",
       "9980  GAAGTTTGGAACGTGTTCGTCCGCCAATTAAGGTTGGCTTCTAGTA...   \n",
       "9981  TGCATCCCGGACAACCGCAAGGGTGCATGGGCACCGCAATTCCCAA...   \n",
       "9982  ACTGGACGTCCTATGCTGGCATAATGAAACGACAACCTGTCTTCGA...   \n",
       "9983  ATCGTGGTATCCCTCCAACCCGAATGACCTGGCGAGGCAGATCAAC...   \n",
       "\n",
       "                                                  Reads  \n",
       "0     ACCATAATGCGTGGGGCCGACCTCGGAATGCGGTCTCCATGCGCGT...  \n",
       "1     TCGAAGCAGTAGGGCCTACCAAATAGGTTGGTCCTCCGTTGTATCT...  \n",
       "2     AGTTAACGTCCCACGGCGAGGCACTCTTGATCCCCACCTTCAAGAG...  \n",
       "3     GCCCAAGGGTACGCCCGCAGCGACGCAATTGGCGGAGTAAGCGCGT...  \n",
       "4     GCACTGATGTAACTCATGGTACATCCGTCGCTGAGCGCCATTTTGT...  \n",
       "...                                                 ...  \n",
       "9979  GCATGATTTGGAAGGTCGGCACTATACCCACCCAGGGTATATGGTC...  \n",
       "9980  GAAGTTTGGAACGTGTTCGTCCGCCAATTAAGGTTGGCTTCTAGTA...  \n",
       "9981  TGCATCCCGGACAACCGCAAGGGTGCATGGGCACCGCAATTCCCAA...  \n",
       "9982  ACTGGACGTCCTATGCTGGCATAATGAAACGACAACCTGTCTTCGA...  \n",
       "9983  ATCGTGGTATCCCTCCAACCCGAATGACCTGGCGAGGCAGATCAAC...  \n",
       "\n",
       "[9984 rows x 2 columns]"
      ]
     },
     "execution_count": 3,
     "metadata": {},
     "output_type": "execute_result"
    }
   ],
   "source": [
    "df\n"
   ]
  },
  {
   "cell_type": "code",
   "execution_count": 4,
   "metadata": {},
   "outputs": [],
   "source": [
    "from tqdm import tqdm\n"
   ]
  },
  {
   "cell_type": "code",
   "execution_count": 5,
   "metadata": {},
   "outputs": [],
   "source": [
    "noisy_strands = [s.strip() for s in list(df['Reads'])]\n"
   ]
  },
  {
   "cell_type": "code",
   "execution_count": 6,
   "metadata": {},
   "outputs": [],
   "source": [
    "ref_strands = [s.strip() for s in list(df['Refs'])]\n"
   ]
  },
  {
   "cell_type": "code",
   "execution_count": 7,
   "metadata": {},
   "outputs": [],
   "source": [
    "import difflib\n"
   ]
  },
  {
   "cell_type": "code",
   "execution_count": 8,
   "metadata": {},
   "outputs": [],
   "source": [
    "def print_diff(ref_strand, noisy_strand):\n",
    "    global pairs\n",
    "    a, b = 0, 0\n",
    "\n",
    "    # quadratic time, no heuristics\n",
    "    for match in difflib.SequenceMatcher(None, ref_strand, noisy_strand, autojunk=False).get_matching_blocks():\n",
    "        was = ref_strand[a:match.a]\n",
    "        now = noisy_strand[b:match.b]\n",
    "        \n",
    "        a = match.a + match.size\n",
    "        b = match.b + match.size\n",
    "        \n",
    "        if was == '' and now == '':\n",
    "            pass\n",
    "        else:\n",
    "            # print('{}|{}'.format(was, now), end=', ')\n",
    "            pairs += [(was, now, match.a)]\n",
    "            \n",
    "        \n",
    "    #print('')\n"
   ]
  },
  {
   "cell_type": "code",
   "execution_count": 9,
   "metadata": {},
   "outputs": [
    {
     "name": "stderr",
     "output_type": "stream",
     "text": [
      "100%|██████████| 9984/9984 [00:00<00:00, 10785.72it/s]\n"
     ]
    }
   ],
   "source": [
    "pairs = []\n",
    "\n",
    "for i in tqdm(range(len(ref_strands))):\n",
    "    if ref_strands[i] != noisy_strands[i]:\n",
    "        #print(i, end=': ')\n",
    "        print_diff(ref_strands[i], noisy_strands[i])\n"
   ]
  },
  {
   "cell_type": "code",
   "execution_count": 10,
   "metadata": {},
   "outputs": [],
   "source": [
    "import numpy as np\n"
   ]
  },
  {
   "cell_type": "code",
   "execution_count": 11,
   "metadata": {},
   "outputs": [],
   "source": [
    "subs, counts = np.unique(pairs, return_counts=True, axis=0)\n",
    "sorting = np.argsort(counts)\n",
    "subs = subs[sorting]\n",
    "counts = counts[sorting]\n"
   ]
  },
  {
   "cell_type": "code",
   "execution_count": 12,
   "metadata": {},
   "outputs": [
    {
     "name": "stdout",
     "output_type": "stream",
     "text": [
      " -> G @ 56 6\n",
      " -> A @ 56 6\n",
      "G ->  @ 55 6\n",
      " -> C @ 56 7\n",
      "T ->  @ 55 7\n",
      "A ->  @ 56 7\n",
      " -> T @ 109 7\n",
      " -> T @ 56 8\n",
      " -> G @ 109 8\n",
      "C ->  @ 56 8\n",
      "T ->  @ 56 9\n",
      "G ->  @ 56 9\n",
      " -> C @ 109 10\n",
      " -> A @ 109 19\n",
      "A ->  @ 110 19\n",
      "C ->  @ 110 28\n",
      " -> C @ 55 29\n",
      " -> G @ 55 29\n",
      "T ->  @ 110 36\n",
      " -> A @ 55 36\n",
      " -> T @ 55 39\n",
      "G ->  @ 110 40\n"
     ]
    }
   ],
   "source": [
    "for sub, count in zip(subs, counts):\n",
    "    if count > 5:\n",
    "        print(\"{} -> {} @ {}\".format(sub[0], sub[1], sub[2]), count)\n"
   ]
  },
  {
   "cell_type": "code",
   "execution_count": 13,
   "metadata": {},
   "outputs": [
    {
     "name": "stdout",
     "output_type": "stream",
     "text": [
      "[4, 6, 5, 3, 1, 4, 5, 5, 5, 3, 4, 3, 4, 4, 5, 7, 7, 5, 5, 6, 3, 8, 11, 9, 3, 7, 9, 9, 4, 2, 12, 8, 8, 8, 7, 3, 7, 10, 5, 7, 6, 5, 8, 9, 15, 8, 12, 10, 6, 8, 13, 14, 19, 30, 33, 193, 80, 33, 17, 16, 9, 6, 8, 4, 6, 17, 12, 7, 9, 13, 8, 12, 6, 9, 11, 14, 11, 8, 12, 7, 11, 10, 11, 9, 7, 10, 4, 10, 6, 9, 7, 2, 7, 5, 7, 5, 6, 9, 8, 6, 7, 9, 3, 10, 9, 6, 8, 10, 8, 56, 161]\n"
     ]
    }
   ],
   "source": [
    "def get_key(char1, char2):\n",
    "    char1 = char1 if char1 != '' else '_'\n",
    "    char2 = char2 if char2 != '' else '_'\n",
    "    return char1 + char2\n",
    "\n",
    "strand_len = 110\n",
    "pos_map = {}\n",
    "pos_counts = [0] * (strand_len + 1)\n",
    "for sub, count in zip(subs, counts):\n",
    "    key = get_key(sub[0], sub[1])\n",
    "    if key not in pos_map:\n",
    "        pos_map[key] = [0] * (strand_len + 1)\n",
    "    pos_map[key][int(sub[2])] += count\n",
    "\n",
    "print(pos_map['_T'])"
   ]
  },
  {
   "cell_type": "code",
   "execution_count": 14,
   "metadata": {},
   "outputs": [],
   "source": [
    "import matplotlib.pyplot as plt"
   ]
  },
  {
   "cell_type": "code",
   "execution_count": 15,
   "metadata": {},
   "outputs": [
    {
     "data": {
      "text/plain": [
       "[<matplotlib.lines.Line2D at 0x11804b6a0>]"
      ]
     },
     "execution_count": 15,
     "metadata": {},
     "output_type": "execute_result"
    },
    {
     "data": {
      "image/png": "[encoded data removed]",
      "text/plain": [
       "<Figure size 432x288 with 1 Axes>"
      ]
     },
     "metadata": {
      "needs_background": "light"
     },
     "output_type": "display_data"
    }
   ],
   "source": [
    "keys = ['G_', '_T', 'C_', '_G', '_A', '_TC']\n",
    "for key in keys:\n",
    "    plt.plot(range(strand_len + 1), pos_map[key])"
   ]
  },
  {
   "cell_type": "code",
   "execution_count": 16,
   "metadata": {},
   "outputs": [],
   "source": [
    "np.save('subs.npy', subs)\n",
    "np.save('counts.npy', counts)"
   ]
  }
 ],
 "metadata": {
  "interpreter": {
   "hash": "aee8b7b246df8f9039afb4144a1f6fd8d2ca17a180786b69acc140d282b71a49"
  },
  "kernelspec": {
   "display_name": "Python 3.9.10 64-bit",
   "language": "python",
   "name": "python3"
  },
  "language_info": {
   "codemirror_mode": {
    "name": "ipython",
    "version": 3
   },
   "file_extension": ".py",
   "mimetype": "text/x-python",
   "name": "python",
   "nbconvert_exporter": "python",
   "pygments_lexer": "ipython3",
   "version": "3.9.10"
  },
  "orig_nbformat": 4
 },
 "nbformat": 4,
 "nbformat_minor": 2
}
