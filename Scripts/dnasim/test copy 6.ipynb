{
 "cells": [
  {
   "cell_type": "code",
   "execution_count": 1,
   "metadata": {},
   "outputs": [],
   "source": [
    "import matplotlib.pyplot as plt\n",
    "import numpy as np\n",
    "from strand_error_sim import StrandErrorSimulation\n",
    "import csv\n"
   ]
  },
  {
   "cell_type": "code",
   "execution_count": 2,
   "metadata": {},
   "outputs": [],
   "source": [
    "example_strand = \"TTGTCACTAGAGGACGCACGCTCTATTTTTATGATCCATTGATGTCCCTGACGCTGCAAAATTTGCAACCAGGCAGTCTTCGCGGTAGGTCCTAGCCTTATTGTCACTAGAGGACGCACGCTCTATTTTTATGATCCATTGATGTCCCTGACGCTGCAAAATTTGCAACCAGGCAGTCTTCGCGGTAGGTCCTAGCCTTA\"\n",
    "# len = 200"
   ]
  },
  {
   "cell_type": "code",
   "execution_count": 3,
   "metadata": {},
   "outputs": [],
   "source": [
    "total_error_rates = {\n",
    "    'd': 0.0833,\n",
    "    'i': 0.0833,\n",
    "    's': 0.0833,\n",
    "    'ld': 0,\n",
    "}\n",
    "\n",
    "base_error_rates = {\n",
    "    'A': {\n",
    "        'pi': 0.01588836102870499,\n",
    "        'i': 0.01621475841752588,\n",
    "        's': 0.015851018954560227,\n",
    "        'd': 0.011764136395383413,\n",
    "        'ld': 0.003110456472280425,\n",
    "    },\n",
    "    'G': {\n",
    "        'pi': 0.023879556701749495,\n",
    "        'i': 0.018091587091377988,\n",
    "        's': 0.016569317627378545,\n",
    "        'd': 0.017090680978601797,\n",
    "        'ld': 0.003931135429009549\n",
    "    },\n",
    "    'C': {\n",
    "        'pi': 0.017915924372554178,\n",
    "        'i': 0.01887005911546257,\n",
    "        's': 0.01853747500507736,\n",
    "        'd': 0.01712126643667476,\n",
    "        'ld': 0.0033067584089939467\n",
    "    },\n",
    "    'T': {\n",
    "        'pi': 0.01581873288059774,\n",
    "        'i': 0.020162401335515973,\n",
    "        's': 0.017022155950663705,\n",
    "        'd': 0.014674738110288119,\n",
    "        'ld': 0.002907934758532013,\n",
    "    }\n",
    "}\n",
    "\n",
    "long_deletion_length_rates = {2: 84,\n",
    "                            3: 13,\n",
    "                            4: 1.8,\n",
    "                            5: 0.2,\n",
    "                            6: 0.02}"
   ]
  },
  {
   "cell_type": "code",
   "execution_count": 4,
   "metadata": {},
   "outputs": [],
   "source": [
    "# full copy error types and locations test:\n",
    "\n",
    "full_strand_copy_sim_f = open('full_strand_copy_simulation', 'w')\n",
    "full_copy_err_type_f = open('full_copy_error_types', 'w')\n",
    "full_copy_error_loc_f = open('full_copy_error_locations', 'w')\n",
    "\n",
    "frame_f = open('frames.csv', 'w')\n",
    "writer = csv.writer(frame_f)\n",
    "writer.writerow(['Refs', 'Sims'])\n",
    "for _ in range(1000):\n",
    "    simulator = StrandErrorSimulation(total_error_rates, base_error_rates, long_deletion_length_rates,\n",
    "                                example_strand)\n",
    "    og_index = 0\n",
    "    while simulator.index < len(simulator.strand):\n",
    "        simulator.simulate_error_on_base()\n",
    "        type_result_to_write = str(simulator.err_type) + '\\n'\n",
    "        full_copy_err_type_f.write(type_result_to_write)\n",
    "        if simulator.err_type != 'n':\n",
    "            location_result_to_write = str(og_index) + '\\n'\n",
    "            full_copy_error_loc_f.write(location_result_to_write)\n",
    "        output_strand_to_write = str(simulator.strand) + '\\n'\n",
    "        full_strand_copy_sim_f.write(output_strand_to_write)\n",
    "        simulator.index += 1\n",
    "        og_index += 1\n",
    "\n",
    "    full_strand_copy_sim_f.write(simulator.strand + '\\n')\n",
    "    writer.writerow([example_strand, simulator.strand])\n",
    "\n",
    "full_copy_err_type_f.close()\n",
    "full_copy_error_loc_f.close()\n",
    "full_strand_copy_sim_f.close()\n"
   ]
  },
  {
   "cell_type": "code",
   "execution_count": 5,
   "metadata": {},
   "outputs": [
    {
     "name": "stdout",
     "output_type": "stream",
     "text": [
      "d appearance rate: 0.018827272727272727\n",
      "ld appearance rate: 0.0032\n",
      "s appearance rate: 0.0178\n",
      "pi appearance rate: 0.0187\n",
      "n appearance rate: 0.9377\n"
     ]
    }
   ],
   "source": [
    "# analyze error types:\n",
    "\n",
    "full_copy_err_type_f = open('full_copy_error_types', 'r')\n",
    "hist = [['d', 0], ['ld', 0], ['s', 0], ['pi', 0], ['n', 0]]\n",
    "lines = full_copy_err_type_f.readlines()\n",
    "for line in lines:\n",
    "    if line == 'd\\n':\n",
    "        hist[0][1] += 1\n",
    "    if line == 'ld\\n':\n",
    "        hist[1][1] += 1\n",
    "    if line == 's\\n':\n",
    "        hist[2][1] += 1\n",
    "    if line == 'pi\\n':\n",
    "        hist[3][1] += 1\n",
    "    if line == 'n\\n':\n",
    "        hist[4][1] += 1\n",
    "full_copy_err_type_f.close()\n",
    "\n",
    "print('d appearance rate: ' + str(hist[0][1] / (1000 * len(example_strand))))\n",
    "print('ld appearance rate: ' + str(hist[1][1] / (1000 * len(example_strand))))\n",
    "print('s appearance rate: ' + str(hist[2][1] / (1000 * len(example_strand))))\n",
    "print('pi appearance rate: ' + str(hist[3][1] / (1000 * len(example_strand))))\n",
    "print('n appearance rate: ' + str(hist[4][1] / (1000 * len(example_strand))))"
   ]
  },
  {
   "cell_type": "code",
   "execution_count": 6,
   "metadata": {},
   "outputs": [],
   "source": [
    "\n",
    "# Read file containing error locations\n",
    "error_loc_f = open('full_copy_error_locations', 'r')\n",
    "lines = error_loc_f.readlines()\n",
    "error_loc_f.close()\n",
    "\n",
    "hist = [int(line.rstrip()) for line in lines]\n"
   ]
  },
  {
   "cell_type": "code",
   "execution_count": 7,
   "metadata": {},
   "outputs": [
    {
     "name": "stdout",
     "output_type": "stream",
     "text": [
      "[  0   1   2   3   4   5   6   7   8   9  10  11  12  13  14  15  16  17\n",
      "  18  19  20  21  22  23  24  25  26  27  28  29  30  31  32  33  34  35\n",
      "  36  37  38  39  40  41  42  43  44  45  46  47  48  49  50  51  52  53\n",
      "  54  55  56  57  58  59  60  61  62  63  64  65  66  67  68  69  70  71\n",
      "  72  73  74  75  76  77  78  79  80  81  82  83  84  85  86  87  88  89\n",
      "  90  91  92  93  94  95  96  97  98  99 100 101 102 103 104 105 106 107\n",
      " 108 109]\n",
      "[109  96  98  63  40  61  64  57  51  60  59  63  58  45  48  56  57  53\n",
      "  52  55  46  62  62  43  62  73  57  53  57  50  53  61  52  42  66  44\n",
      "  49  53  53  56  47  53  54  55  46  61  45  62  56  64  53  58  57  61\n",
      "  49  51  47  52  52  48  52  54  50  53  54  39  45  55  51  52  57  48\n",
      "  48  52  60  52  50  66  58  56  38  50  47  48  44  36  56  58  77  48\n",
      "  62  59  50  52  51  52  46  58  51  61  48  58  53  58  62  56  67  79\n",
      " 124 327]\n"
     ]
    }
   ],
   "source": [
    "nums, counts = np.unique(hist, return_counts=True, axis=0)\n",
    "\n",
    "print(nums)\n",
    "print(counts)"
   ]
  },
  {
   "cell_type": "code",
   "execution_count": 8,
   "metadata": {},
   "outputs": [
    {
     "data": {
      "text/plain": [
       "[<matplotlib.lines.Line2D at 0x11f22b3a0>]"
      ]
     },
     "execution_count": 8,
     "metadata": {},
     "output_type": "execute_result"
    },
    {
     "data": {
      "image/png": "[encoded data removed]",
      "text/plain": [
       "<Figure size 432x288 with 1 Axes>"
      ]
     },
     "metadata": {
      "needs_background": "light"
     },
     "output_type": "display_data"
    }
   ],
   "source": [
    "plt.plot(nums, counts)"
   ]
  },
  {
   "cell_type": "code",
   "execution_count": 9,
   "metadata": {},
   "outputs": [],
   "source": [
    "# import numpy as np\n",
    "# import matplotlib.pyplot as plt\n",
    "\n",
    "# skew = sorted(np.random.triangular(0, 0.15, 0.3, 2000))\n",
    "# mid = 55\n",
    "\n",
    "# vals = [0] * 111\n",
    "# for i in range(0, 111):\n",
    "#     pos = int((len(skew) - 1) * abs(i - mid) / mid)\n",
    "#     # pos = -1 * int(len(skew) * abs(i - mid) / mid)\n",
    "#     # if i == 55:\n",
    "#     #     pos = -1\n",
    "#     vals[i] = skew[pos]\n",
    "\n",
    "# plt.plot(range(0, 111), vals)"
   ]
  }
 ],
 "metadata": {
  "interpreter": {
   "hash": "aee8b7b246df8f9039afb4144a1f6fd8d2ca17a180786b69acc140d282b71a49"
  },
  "kernelspec": {
   "display_name": "Python 3.9.10 64-bit",
   "language": "python",
   "name": "python3"
  },
  "language_info": {
   "codemirror_mode": {
    "name": "ipython",
    "version": 3
   },
   "file_extension": ".py",
   "mimetype": "text/x-python",
   "name": "python",
   "nbconvert_exporter": "python",
   "pygments_lexer": "ipython3",
   "version": "3.9.10"
  },
  "orig_nbformat": 4
 },
 "nbformat": 4,
 "nbformat_minor": 2
}
