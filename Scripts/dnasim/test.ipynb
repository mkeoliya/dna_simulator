{
 "cells": [
  {
   "cell_type": "code",
   "execution_count": 1,
   "metadata": {},
   "outputs": [],
   "source": [
    "import matplotlib.pyplot as plt\n",
    "import numpy as np\n",
    "import strand_error_sim\n"
   ]
  },
  {
   "cell_type": "code",
   "execution_count": 2,
   "metadata": {},
   "outputs": [],
   "source": [
    "example_strand = \"TTGTCACTAGAGGACGCACGCTCTATTTTTATGATCCATTGATGTCCCTGACGCTGCAAAATTTGCAACCAGGCAGTCTTCGCGGTAGGTCCTA\" \\\n",
    "                \"GTGCAATGGGGCTTTTTTTCCATAGTCCTCGAGAGGAGGAGACGTCAGTCCAGATATCTTTGATGTCGTGATTGGAAGGACCCTTGGCCCTCCA\" \\\n",
    "                \"CCCTTAGGCAGT\"\n",
    "# len = 200"
   ]
  },
  {
   "cell_type": "code",
   "execution_count": 3,
   "metadata": {},
   "outputs": [],
   "source": [
    "total_error_rates = {\n",
    "    'd': 0.018348000570951734,\n",
    "    'i': 0.01700159756686723,\n",
    "    's': 0.015163160437436866,\n",
    "    'ld': 0.0033104220650884975,\n",
    "}\n",
    "\n",
    "base_error_rates = {\n",
    "    'A': {\n",
    "        'pi': 0.01588836102870499,\n",
    "        'i': 0.01621475841752588,\n",
    "        's': 0.015851018954560227,\n",
    "        'd': 0.011764136395383413,\n",
    "        'ld': 0.003110456472280425,\n",
    "    },\n",
    "    'G': {\n",
    "        'pi': 0.023879556701749495,\n",
    "        'i': 0.018091587091377988,\n",
    "        's': 0.016569317627378545,\n",
    "        'd': 0.017090680978601797,\n",
    "        'ld': 0.003931135429009549\n",
    "    },\n",
    "    'C': {\n",
    "        'pi': 0.017915924372554178,\n",
    "        'i': 0.01887005911546257,\n",
    "        's': 0.01853747500507736,\n",
    "        'd': 0.01712126643667476,\n",
    "        'ld': 0.0033067584089939467\n",
    "    },\n",
    "    'T': {\n",
    "        'pi': 0.01581873288059774,\n",
    "        'i': 0.020162401335515973,\n",
    "        's': 0.017022155950663705,\n",
    "        'd': 0.014674738110288119,\n",
    "        'ld': 0.002907934758532013,\n",
    "    }\n",
    "}\n",
    "\n",
    "long_deletion_length_rates = {2: 84,\n",
    "                                  3: 13,\n",
    "                                  4: 1.8,\n",
    "                                  5: 0.2,\n",
    "                                  6: 0.02\n",
    "                            }"
   ]
  },
  {
   "cell_type": "code",
   "execution_count": 4,
   "metadata": {},
   "outputs": [],
   "source": [
    "# full copy error types and locations test:\n",
    "\n",
    "full_strand_copy_sim_f = open('full_strand_copy_simulation', 'w')\n",
    "full_copy_err_type_f = open('full_copy_error_types', 'w')\n",
    "full_copy_error_loc_f = open('full_copy_error_locations', 'w')\n",
    "for _ in range(1000):\n",
    "    simulator = strand_error_sim.StrandErrorSimulation(total_error_rates, base_error_rates, long_deletion_length_rates,\n",
    "                                example_strand)\n",
    "    og_index = 0\n",
    "    while simulator.index < len(simulator.strand):\n",
    "        simulator.simulate_error_on_base()\n",
    "        type_result_to_write = str(simulator.err_type) + '\\n'\n",
    "        full_copy_err_type_f.write(type_result_to_write)\n",
    "        if simulator.err_type != 'n':\n",
    "            location_result_to_write = str(og_index) + '\\n'\n",
    "            full_copy_error_loc_f.write(location_result_to_write)\n",
    "        output_strand_to_write = str(simulator.strand) + '\\n'\n",
    "        full_strand_copy_sim_f.write(output_strand_to_write)\n",
    "        simulator.index += 1\n",
    "        og_index += 1\n",
    "\n",
    "    full_strand_copy_sim_f.write(simulator.strand + '\\n')\n",
    "\n",
    "full_copy_err_type_f.close()\n",
    "full_copy_error_loc_f.close()\n",
    "full_strand_copy_sim_f.close()\n"
   ]
  },
  {
   "cell_type": "code",
   "execution_count": 5,
   "metadata": {},
   "outputs": [
    {
     "name": "stdout",
     "output_type": "stream",
     "text": [
      "d appearance rate: 0.016175\n",
      "ld appearance rate: 0.003395\n",
      "s appearance rate: 0.018265\n",
      "pi appearance rate: 0.018775\n",
      "n appearance rate: 0.939515\n"
     ]
    }
   ],
   "source": [
    "# analyze error types:\n",
    "\n",
    "full_copy_err_type_f = open('full_copy_error_types', 'r')\n",
    "hist = [['d', 0], ['ld', 0], ['s', 0], ['pi', 0], ['n', 0]]\n",
    "lines = full_copy_err_type_f.readlines()\n",
    "for line in lines:\n",
    "    if line == 'd\\n':\n",
    "        hist[0][1] += 1\n",
    "    if line == 'ld\\n':\n",
    "        hist[1][1] += 1\n",
    "    if line == 's\\n':\n",
    "        hist[2][1] += 1\n",
    "    if line == 'pi\\n':\n",
    "        hist[3][1] += 1\n",
    "    if line == 'n\\n':\n",
    "        hist[4][1] += 1\n",
    "full_copy_err_type_f.close()\n",
    "\n",
    "print('d appearance rate: ' + str(hist[0][1] / (1000 * len(example_strand))))\n",
    "print('ld appearance rate: ' + str(hist[1][1] / (1000 * len(example_strand))))\n",
    "print('s appearance rate: ' + str(hist[2][1] / (1000 * len(example_strand))))\n",
    "print('pi appearance rate: ' + str(hist[3][1] / (1000 * len(example_strand))))\n",
    "print('n appearance rate: ' + str(hist[4][1] / (1000 * len(example_strand))))"
   ]
  },
  {
   "cell_type": "code",
   "execution_count": 6,
   "metadata": {},
   "outputs": [],
   "source": [
    "\n",
    "# Read file containing error locations\n",
    "error_loc_f = open('full_copy_error_locations', 'r')\n",
    "lines = error_loc_f.readlines()\n",
    "error_loc_f.close()\n",
    "\n",
    "hist = [int(line.rstrip()) for line in lines]\n"
   ]
  },
  {
   "cell_type": "code",
   "execution_count": 7,
   "metadata": {},
   "outputs": [
    {
     "name": "stdout",
     "output_type": "stream",
     "text": [
      "[  0   1   2   3   4   5   6   7   8   9  10  11  12  13  14  15  16  17\n",
      "  18  19  20  21  22  23  24  25  26  27  28  29  30  31  32  33  34  35\n",
      "  36  37  38  39  40  41  42  43  44  45  46  47  48  49  50  51  52  53\n",
      "  54  55  56  57  58  59  60  61  62  63  64  65  66  67  68  69  70  71\n",
      "  72  73  74  75  76  77  78  79  80  81  82  83  84  85  86  87  88  89\n",
      "  90  91  92  93  94  95  96  97  98  99 100 101 102 103 104 105 106 107\n",
      " 108 109 110 111 112 113 114 115 116 117 118 119 120 121 122 123 124 125\n",
      " 126 127 128 129 130 131 132 133 134 135 136 137 138 139 140 141 142 143\n",
      " 144 145 146 147 148 149 150 151 152 153 154 155 156 157 158 159 160 161\n",
      " 162 163 164 165 166 167 168 169 170 171 172 173 174 175 176 177 178 179\n",
      " 180 181 182 183 184 185 186 187 188 189 190 191 192 193 194 195 196 197\n",
      " 198 199]\n",
      "[107 127  58  43  57  61  44  57  67  66  45  47  40  64  51  60  67  54\n",
      "  48  45  59  54  59  43  66  45  56  59  52  61  59  56  61  61  45  57\n",
      "  72  46  51  26  60  59  47  44  56  62  56  51  49  55  61  51  57  56\n",
      "  62  56  56  50  58  50  39  52  46  54  58  61  48  37  56  54  49  59\n",
      "  53  56  52  67  65  55  53  53  45  58  46  49  47  48  49  55  47  59\n",
      "  44  48  60  44  47  51  60  56  51  60  63  54  39  59  56  57  62  55\n",
      "  59  40  57  58  64  56  72  57  56  51  45  65  48  50  46  37  49  56\n",
      "  62  62  62  49  56  68  72  61  41  75  49  41  69  69  53  49  44  56\n",
      "  47  58  42  56  44  75  60  65  56  52  52  48  54  62  48  48  56  67\n",
      "  71  46  47  65  65  74  54  55  50  63  48  51  57  47  60  51  53  58\n",
      "  49  47  58  56  54  64  49  44  56  61  54  51  59  56  63  53  72  90\n",
      " 142 207]\n"
     ]
    }
   ],
   "source": [
    "nums, counts = np.unique(hist, return_counts=True, axis=0)\n",
    "\n",
    "print(nums)\n",
    "print(counts)"
   ]
  },
  {
   "cell_type": "code",
   "execution_count": 9,
   "metadata": {},
   "outputs": [
    {
     "data": {
      "text/plain": [
       "[<matplotlib.lines.Line2D at 0x11fe62e80>]"
      ]
     },
     "execution_count": 9,
     "metadata": {},
     "output_type": "execute_result"
    },
    {
     "data": {
      "image/png": "[encoded data removed]",
      "text/plain": [
       "<Figure size 432x288 with 1 Axes>"
      ]
     },
     "metadata": {
      "needs_background": "light"
     },
     "output_type": "display_data"
    }
   ],
   "source": [
    "plt.plot(nums, counts)"
   ]
  }
 ],
 "metadata": {
  "interpreter": {
   "hash": "aee8b7b246df8f9039afb4144a1f6fd8d2ca17a180786b69acc140d282b71a49"
  },
  "kernelspec": {
   "display_name": "Python 3.9.10 64-bit",
   "language": "python",
   "name": "python3"
  },
  "language_info": {
   "codemirror_mode": {
    "name": "ipython",
    "version": 3
   },
   "file_extension": ".py",
   "mimetype": "text/x-python",
   "name": "python",
   "nbconvert_exporter": "python",
   "pygments_lexer": "ipython3",
   "version": "3.9.10"
  },
  "orig_nbformat": 4
 },
 "nbformat": 4,
 "nbformat_minor": 2
}
