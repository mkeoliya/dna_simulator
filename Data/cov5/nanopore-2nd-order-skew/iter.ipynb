{
 "cells": [
  {
   "cell_type": "code",
   "execution_count": 11,
   "metadata": {},
   "outputs": [],
   "source": [
    "import pandas as pd"
   ]
  },
  {
   "cell_type": "code",
   "execution_count": 12,
   "metadata": {},
   "outputs": [],
   "source": [
    "\n",
    "df = pd.read_csv('iter.csv')\n"
   ]
  },
  {
   "cell_type": "code",
   "execution_count": 13,
   "metadata": {},
   "outputs": [
    {
     "data": {
      "text/html": [
       "<div>\n",
       "<style scoped>\n",
       "    .dataframe tbody tr th:only-of-type {\n",
       "        vertical-align: middle;\n",
       "    }\n",
       "\n",
       "    .dataframe tbody tr th {\n",
       "        vertical-align: top;\n",
       "    }\n",
       "\n",
       "    .dataframe thead th {\n",
       "        text-align: right;\n",
       "    }\n",
       "</style>\n",
       "<table border=\"1\" class=\"dataframe\">\n",
       "  <thead>\n",
       "    <tr style=\"text-align: right;\">\n",
       "      <th></th>\n",
       "      <th>Refs</th>\n",
       "      <th>Reads</th>\n",
       "    </tr>\n",
       "  </thead>\n",
       "  <tbody>\n",
       "    <tr>\n",
       "      <th>0</th>\n",
       "      <td>ACCATAATGCGTGGGGCCGACCTCGGAATGCGGTCTCCATGCGCGT...</td>\n",
       "      <td>CACCATAATGCGTGGGGCCGACCTCGGAATGCGGTCTCCATGCGCG...</td>\n",
       "    </tr>\n",
       "    <tr>\n",
       "      <th>1</th>\n",
       "      <td>TCGAAGCAGTAGGGCCTACCAAATAGGTTGGTCCTCCGTTGTATCT...</td>\n",
       "      <td>TCGAAGCAGTAGGGCCTACCAAATAGGTTGGTCCTCCGTTGTATCT...</td>\n",
       "    </tr>\n",
       "    <tr>\n",
       "      <th>2</th>\n",
       "      <td>AGTTAACGTCCCACGGCGAGGCACTCTTGATCCCCACCTTCAAGAG...</td>\n",
       "      <td>AGTTAACGTCCCACGGCGAGGCACTCTTGATCCCCACCTTCAAGAG...</td>\n",
       "    </tr>\n",
       "    <tr>\n",
       "      <th>3</th>\n",
       "      <td>GCCCAAGGGTACGCCCGCAGCGACGCAATTGGCGGAGTAAGCGCGT...</td>\n",
       "      <td>GCCCAAGGGTACGCCCGCAGCGACGCAATTGGCGGAGTAAGCGCGT...</td>\n",
       "    </tr>\n",
       "    <tr>\n",
       "      <th>4</th>\n",
       "      <td>GCACTGATGTAACTCATGGTACATCCGTCGCTGAGCGCCATTTTGT...</td>\n",
       "      <td>GCACTGATGTAACTCATGGTACATCCGTCGCTGAGCGCCATTTTGT...</td>\n",
       "    </tr>\n",
       "    <tr>\n",
       "      <th>...</th>\n",
       "      <td>...</td>\n",
       "      <td>...</td>\n",
       "    </tr>\n",
       "    <tr>\n",
       "      <th>9995</th>\n",
       "      <td>GCATGATTTGGAAGGTCGGCACTATACCCACCCAGGGTATATGGTC...</td>\n",
       "      <td>GCATGATTTGGAAGGTCGGCACTATACCCACCCAGGGTATATGGTC...</td>\n",
       "    </tr>\n",
       "    <tr>\n",
       "      <th>9996</th>\n",
       "      <td>GAAGTTTGGAACGTGTTCGTCCGCCAATTAAGGTTGGCTTCTAGTA...</td>\n",
       "      <td>GAAAGTTTGGAACGTGTTCGTCCGCCAATTAAGGTTGGCTTCTAGT...</td>\n",
       "    </tr>\n",
       "    <tr>\n",
       "      <th>9997</th>\n",
       "      <td>TGCATCCCGGACAACCGCAAGGGTGCATGGGCACCGCAATTCCCAA...</td>\n",
       "      <td>TGCATCCCGGACAACCGCAAGGGTGCATGGGCACCGCAATTCCCAA...</td>\n",
       "    </tr>\n",
       "    <tr>\n",
       "      <th>9998</th>\n",
       "      <td>ACTGGACGTCCTATGCTGGCATAATGAAACGACAACCTGTCTTCGA...</td>\n",
       "      <td>ACTGGACGTCCTATGCTGGCATAATGAAACGACAACCTGTCTTCGA...</td>\n",
       "    </tr>\n",
       "    <tr>\n",
       "      <th>9999</th>\n",
       "      <td>ATCGTGGTATCCCTCCAACCCGAATGACCTGGCGAGGCAGATCAAC...</td>\n",
       "      <td>ATCGTGGTATCCCTCCAACCCGAATGACCTGGCGAGGCAGATCAAC...</td>\n",
       "    </tr>\n",
       "  </tbody>\n",
       "</table>\n",
       "<p>10000 rows × 2 columns</p>\n",
       "</div>"
      ],
      "text/plain": [
       "                                                   Refs  \\\n",
       "0     ACCATAATGCGTGGGGCCGACCTCGGAATGCGGTCTCCATGCGCGT...   \n",
       "1     TCGAAGCAGTAGGGCCTACCAAATAGGTTGGTCCTCCGTTGTATCT...   \n",
       "2     AGTTAACGTCCCACGGCGAGGCACTCTTGATCCCCACCTTCAAGAG...   \n",
       "3     GCCCAAGGGTACGCCCGCAGCGACGCAATTGGCGGAGTAAGCGCGT...   \n",
       "4     GCACTGATGTAACTCATGGTACATCCGTCGCTGAGCGCCATTTTGT...   \n",
       "...                                                 ...   \n",
       "9995  GCATGATTTGGAAGGTCGGCACTATACCCACCCAGGGTATATGGTC...   \n",
       "9996  GAAGTTTGGAACGTGTTCGTCCGCCAATTAAGGTTGGCTTCTAGTA...   \n",
       "9997  TGCATCCCGGACAACCGCAAGGGTGCATGGGCACCGCAATTCCCAA...   \n",
       "9998  ACTGGACGTCCTATGCTGGCATAATGAAACGACAACCTGTCTTCGA...   \n",
       "9999  ATCGTGGTATCCCTCCAACCCGAATGACCTGGCGAGGCAGATCAAC...   \n",
       "\n",
       "                                                  Reads  \n",
       "0     CACCATAATGCGTGGGGCCGACCTCGGAATGCGGTCTCCATGCGCG...  \n",
       "1     TCGAAGCAGTAGGGCCTACCAAATAGGTTGGTCCTCCGTTGTATCT...  \n",
       "2     AGTTAACGTCCCACGGCGAGGCACTCTTGATCCCCACCTTCAAGAG...  \n",
       "3     GCCCAAGGGTACGCCCGCAGCGACGCAATTGGCGGAGTAAGCGCGT...  \n",
       "4     GCACTGATGTAACTCATGGTACATCCGTCGCTGAGCGCCATTTTGT...  \n",
       "...                                                 ...  \n",
       "9995  GCATGATTTGGAAGGTCGGCACTATACCCACCCAGGGTATATGGTC...  \n",
       "9996  GAAAGTTTGGAACGTGTTCGTCCGCCAATTAAGGTTGGCTTCTAGT...  \n",
       "9997  TGCATCCCGGACAACCGCAAGGGTGCATGGGCACCGCAATTCCCAA...  \n",
       "9998  ACTGGACGTCCTATGCTGGCATAATGAAACGACAACCTGTCTTCGA...  \n",
       "9999  ATCGTGGTATCCCTCCAACCCGAATGACCTGGCGAGGCAGATCAAC...  \n",
       "\n",
       "[10000 rows x 2 columns]"
      ]
     },
     "execution_count": 13,
     "metadata": {},
     "output_type": "execute_result"
    }
   ],
   "source": [
    "df\n"
   ]
  },
  {
   "cell_type": "code",
   "execution_count": 14,
   "metadata": {},
   "outputs": [],
   "source": [
    "from tqdm import tqdm\n"
   ]
  },
  {
   "cell_type": "code",
   "execution_count": 15,
   "metadata": {},
   "outputs": [],
   "source": [
    "noisy_strands = [s.strip() for s in list(df['Reads'])]\n"
   ]
  },
  {
   "cell_type": "code",
   "execution_count": 16,
   "metadata": {},
   "outputs": [],
   "source": [
    "ref_strands = [s.strip() for s in list(df['Refs'])]\n"
   ]
  },
  {
   "cell_type": "code",
   "execution_count": 17,
   "metadata": {},
   "outputs": [],
   "source": [
    "import difflib\n"
   ]
  },
  {
   "cell_type": "code",
   "execution_count": 18,
   "metadata": {},
   "outputs": [],
   "source": [
    "import matplotlib.pyplot as plt\n",
    "import numpy as np\n",
    "\n",
    "# use LaTeX fonts in the plot\n",
    "plt.rc('text', usetex=True)\n",
    "plt.rc('font', family='serif')"
   ]
  },
  {
   "cell_type": "code",
   "execution_count": 19,
   "metadata": {},
   "outputs": [],
   "source": [
    "def print_diff(ref_strand, noisy_strand):\n",
    "    global pairs\n",
    "    global pairs_no_pos\n",
    "    a, b = 0, 0\n",
    "\n",
    "    # quadratic time, no heuristics\n",
    "    for match in difflib.SequenceMatcher(None, ref_strand, noisy_strand, autojunk=False).get_matching_blocks():\n",
    "        was = ref_strand[a:match.a]\n",
    "        now = noisy_strand[b:match.b]\n",
    "        \n",
    "        a = match.a + match.size\n",
    "        b = match.b + match.size\n",
    "        \n",
    "        if was == '' and now == '':\n",
    "            pass\n",
    "        else:\n",
    "            # print('{}|{}'.format(was, now), end=', ')\n",
    "            pairs += [(was, now, match.a)]\n",
    "            pairs_no_pos += [(was, now)]\n",
    "\n"
   ]
  },
  {
   "cell_type": "code",
   "execution_count": 20,
   "metadata": {},
   "outputs": [
    {
     "name": "stderr",
     "output_type": "stream",
     "text": [
      "100%|██████████| 10000/10000 [00:00<00:00, 89033.65it/s]\n"
     ]
    },
    {
     "name": "stdout",
     "output_type": "stream",
     "text": [
      "[200, 486, 678, 765, 807, 855, 869, 931, 950, 958, 983, 1045, 1056, 1081, 1109, 1149, 1169, 1211, 1227, 1276, 1303, 1310, 1369, 1359, 1393, 1447, 1466, 1500, 1507, 1552, 1562, 1625, 1632, 1667, 1675, 1741, 1791, 1818, 1848, 1882, 1922, 1901, 1918, 1946, 2018, 2087, 2077, 2128, 2099, 2095, 2203, 2214, 2193, 2244, 2264, 2283, 2309, 2320, 2357, 2422, 2440, 2467, 2465, 2486, 2549, 2546, 2558, 2622, 2648, 2693, 2732, 2728, 2726, 2775, 2834, 2815, 2846, 2889, 2886, 2956, 2956, 3020, 2982, 3033, 3056, 3114, 3097, 3142, 3164, 3198, 3183, 3184, 3300, 3358, 3345, 3386, 3395, 3403, 3516, 3458, 3476, 3500, 3662, 3634, 3614, 3631, 3661, 3706, 3720, 4856]\n"
     ]
    },
    {
     "ename": "FileNotFoundError",
     "evalue": "missing font metrics file: cmr10",
     "output_type": "error",
     "traceback": [
      "\u001b[0;31m---------------------------------------------------------------------------\u001b[0m",
      "\u001b[0;31mFileNotFoundError\u001b[0m                         Traceback (most recent call last)",
      "File \u001b[0;32m/usr/local/lib/python3.9/site-packages/IPython/core/formatters.py:339\u001b[0m, in \u001b[0;36mBaseFormatter.__call__\u001b[0;34m(self, obj)\u001b[0m\n\u001b[1;32m    <a href='file:///usr/local/lib/python3.9/site-packages/IPython/core/formatters.py?line=336'>337</a>\u001b[0m     \u001b[39mpass\u001b[39;00m\n\u001b[1;32m    <a href='file:///usr/local/lib/python3.9/site-packages/IPython/core/formatters.py?line=337'>338</a>\u001b[0m \u001b[39melse\u001b[39;00m:\n\u001b[0;32m--> <a href='file:///usr/local/lib/python3.9/site-packages/IPython/core/formatters.py?line=338'>339</a>\u001b[0m     \u001b[39mreturn\u001b[39;00m printer(obj)\n\u001b[1;32m    <a href='file:///usr/local/lib/python3.9/site-packages/IPython/core/formatters.py?line=339'>340</a>\u001b[0m \u001b[39m# Finally look for special method names\u001b[39;00m\n\u001b[1;32m    <a href='file:///usr/local/lib/python3.9/site-packages/IPython/core/formatters.py?line=340'>341</a>\u001b[0m method \u001b[39m=\u001b[39m get_real_method(obj, \u001b[39mself\u001b[39m\u001b[39m.\u001b[39mprint_method)\n",
      "File \u001b[0;32m/usr/local/lib/python3.9/site-packages/IPython/core/pylabtools.py:151\u001b[0m, in \u001b[0;36mprint_figure\u001b[0;34m(fig, fmt, bbox_inches, base64, **kwargs)\u001b[0m\n\u001b[1;32m    <a href='file:///usr/local/lib/python3.9/site-packages/IPython/core/pylabtools.py?line=147'>148</a>\u001b[0m     \u001b[39mfrom\u001b[39;00m \u001b[39mmatplotlib\u001b[39;00m\u001b[39m.\u001b[39;00m\u001b[39mbackend_bases\u001b[39;00m \u001b[39mimport\u001b[39;00m FigureCanvasBase\n\u001b[1;32m    <a href='file:///usr/local/lib/python3.9/site-packages/IPython/core/pylabtools.py?line=148'>149</a>\u001b[0m     FigureCanvasBase(fig)\n\u001b[0;32m--> <a href='file:///usr/local/lib/python3.9/site-packages/IPython/core/pylabtools.py?line=150'>151</a>\u001b[0m fig\u001b[39m.\u001b[39;49mcanvas\u001b[39m.\u001b[39;49mprint_figure(bytes_io, \u001b[39m*\u001b[39;49m\u001b[39m*\u001b[39;49mkw)\n\u001b[1;32m    <a href='file:///usr/local/lib/python3.9/site-packages/IPython/core/pylabtools.py?line=151'>152</a>\u001b[0m data \u001b[39m=\u001b[39m bytes_io\u001b[39m.\u001b[39mgetvalue()\n\u001b[1;32m    <a href='file:///usr/local/lib/python3.9/site-packages/IPython/core/pylabtools.py?line=152'>153</a>\u001b[0m \u001b[39mif\u001b[39;00m fmt \u001b[39m==\u001b[39m \u001b[39m'\u001b[39m\u001b[39msvg\u001b[39m\u001b[39m'\u001b[39m:\n",
      "File \u001b[0;32m/usr/local/lib/python3.9/site-packages/matplotlib/backend_bases.py:2230\u001b[0m, in \u001b[0;36mFigureCanvasBase.print_figure\u001b[0;34m(self, filename, dpi, facecolor, edgecolor, orientation, format, bbox_inches, pad_inches, bbox_extra_artists, backend, **kwargs)\u001b[0m\n\u001b[1;32m   <a href='file:///usr/local/lib/python3.9/site-packages/matplotlib/backend_bases.py?line=2225'>2226</a>\u001b[0m     ctx \u001b[39m=\u001b[39m (renderer\u001b[39m.\u001b[39m_draw_disabled()\n\u001b[1;32m   <a href='file:///usr/local/lib/python3.9/site-packages/matplotlib/backend_bases.py?line=2226'>2227</a>\u001b[0m            \u001b[39mif\u001b[39;00m \u001b[39mhasattr\u001b[39m(renderer, \u001b[39m'\u001b[39m\u001b[39m_draw_disabled\u001b[39m\u001b[39m'\u001b[39m)\n\u001b[1;32m   <a href='file:///usr/local/lib/python3.9/site-packages/matplotlib/backend_bases.py?line=2227'>2228</a>\u001b[0m            \u001b[39melse\u001b[39;00m suppress())\n\u001b[1;32m   <a href='file:///usr/local/lib/python3.9/site-packages/matplotlib/backend_bases.py?line=2228'>2229</a>\u001b[0m     \u001b[39mwith\u001b[39;00m ctx:\n\u001b[0;32m-> <a href='file:///usr/local/lib/python3.9/site-packages/matplotlib/backend_bases.py?line=2229'>2230</a>\u001b[0m         \u001b[39mself\u001b[39;49m\u001b[39m.\u001b[39;49mfigure\u001b[39m.\u001b[39;49mdraw(renderer)\n\u001b[1;32m   <a href='file:///usr/local/lib/python3.9/site-packages/matplotlib/backend_bases.py?line=2231'>2232</a>\u001b[0m \u001b[39mif\u001b[39;00m bbox_inches:\n\u001b[1;32m   <a href='file:///usr/local/lib/python3.9/site-packages/matplotlib/backend_bases.py?line=2232'>2233</a>\u001b[0m     \u001b[39mif\u001b[39;00m bbox_inches \u001b[39m==\u001b[39m \u001b[39m\"\u001b[39m\u001b[39mtight\u001b[39m\u001b[39m\"\u001b[39m:\n",
      "File \u001b[0;32m/usr/local/lib/python3.9/site-packages/matplotlib/artist.py:74\u001b[0m, in \u001b[0;36m_finalize_rasterization.<locals>.draw_wrapper\u001b[0;34m(artist, renderer, *args, **kwargs)\u001b[0m\n\u001b[1;32m     <a href='file:///usr/local/lib/python3.9/site-packages/matplotlib/artist.py?line=71'>72</a>\u001b[0m \u001b[39m@wraps\u001b[39m(draw)\n\u001b[1;32m     <a href='file:///usr/local/lib/python3.9/site-packages/matplotlib/artist.py?line=72'>73</a>\u001b[0m \u001b[39mdef\u001b[39;00m \u001b[39mdraw_wrapper\u001b[39m(artist, renderer, \u001b[39m*\u001b[39margs, \u001b[39m*\u001b[39m\u001b[39m*\u001b[39mkwargs):\n\u001b[0;32m---> <a href='file:///usr/local/lib/python3.9/site-packages/matplotlib/artist.py?line=73'>74</a>\u001b[0m     result \u001b[39m=\u001b[39m draw(artist, renderer, \u001b[39m*\u001b[39;49margs, \u001b[39m*\u001b[39;49m\u001b[39m*\u001b[39;49mkwargs)\n\u001b[1;32m     <a href='file:///usr/local/lib/python3.9/site-packages/matplotlib/artist.py?line=74'>75</a>\u001b[0m     \u001b[39mif\u001b[39;00m renderer\u001b[39m.\u001b[39m_rasterizing:\n\u001b[1;32m     <a href='file:///usr/local/lib/python3.9/site-packages/matplotlib/artist.py?line=75'>76</a>\u001b[0m         renderer\u001b[39m.\u001b[39mstop_rasterizing()\n",
      "File \u001b[0;32m/usr/local/lib/python3.9/site-packages/matplotlib/artist.py:51\u001b[0m, in \u001b[0;36mallow_rasterization.<locals>.draw_wrapper\u001b[0;34m(artist, renderer, *args, **kwargs)\u001b[0m\n\u001b[1;32m     <a href='file:///usr/local/lib/python3.9/site-packages/matplotlib/artist.py?line=47'>48</a>\u001b[0m     \u001b[39mif\u001b[39;00m artist\u001b[39m.\u001b[39mget_agg_filter() \u001b[39mis\u001b[39;00m \u001b[39mnot\u001b[39;00m \u001b[39mNone\u001b[39;00m:\n\u001b[1;32m     <a href='file:///usr/local/lib/python3.9/site-packages/matplotlib/artist.py?line=48'>49</a>\u001b[0m         renderer\u001b[39m.\u001b[39mstart_filter()\n\u001b[0;32m---> <a href='file:///usr/local/lib/python3.9/site-packages/matplotlib/artist.py?line=50'>51</a>\u001b[0m     \u001b[39mreturn\u001b[39;00m draw(artist, renderer, \u001b[39m*\u001b[39;49margs, \u001b[39m*\u001b[39;49m\u001b[39m*\u001b[39;49mkwargs)\n\u001b[1;32m     <a href='file:///usr/local/lib/python3.9/site-packages/matplotlib/artist.py?line=51'>52</a>\u001b[0m \u001b[39mfinally\u001b[39;00m:\n\u001b[1;32m     <a href='file:///usr/local/lib/python3.9/site-packages/matplotlib/artist.py?line=52'>53</a>\u001b[0m     \u001b[39mif\u001b[39;00m artist\u001b[39m.\u001b[39mget_agg_filter() \u001b[39mis\u001b[39;00m \u001b[39mnot\u001b[39;00m \u001b[39mNone\u001b[39;00m:\n",
      "File \u001b[0;32m/usr/local/lib/python3.9/site-packages/matplotlib/figure.py:2790\u001b[0m, in \u001b[0;36mFigure.draw\u001b[0;34m(self, renderer)\u001b[0m\n\u001b[1;32m   <a href='file:///usr/local/lib/python3.9/site-packages/matplotlib/figure.py?line=2786'>2787</a>\u001b[0m         \u001b[39m# ValueError can occur when resizing a window.\u001b[39;00m\n\u001b[1;32m   <a href='file:///usr/local/lib/python3.9/site-packages/matplotlib/figure.py?line=2788'>2789</a>\u001b[0m \u001b[39mself\u001b[39m\u001b[39m.\u001b[39mpatch\u001b[39m.\u001b[39mdraw(renderer)\n\u001b[0;32m-> <a href='file:///usr/local/lib/python3.9/site-packages/matplotlib/figure.py?line=2789'>2790</a>\u001b[0m mimage\u001b[39m.\u001b[39;49m_draw_list_compositing_images(\n\u001b[1;32m   <a href='file:///usr/local/lib/python3.9/site-packages/matplotlib/figure.py?line=2790'>2791</a>\u001b[0m     renderer, \u001b[39mself\u001b[39;49m, artists, \u001b[39mself\u001b[39;49m\u001b[39m.\u001b[39;49msuppressComposite)\n\u001b[1;32m   <a href='file:///usr/local/lib/python3.9/site-packages/matplotlib/figure.py?line=2792'>2793</a>\u001b[0m \u001b[39mfor\u001b[39;00m sfig \u001b[39min\u001b[39;00m \u001b[39mself\u001b[39m\u001b[39m.\u001b[39msubfigs:\n\u001b[1;32m   <a href='file:///usr/local/lib/python3.9/site-packages/matplotlib/figure.py?line=2793'>2794</a>\u001b[0m     sfig\u001b[39m.\u001b[39mdraw(renderer)\n",
      "File \u001b[0;32m/usr/local/lib/python3.9/site-packages/matplotlib/image.py:132\u001b[0m, in \u001b[0;36m_draw_list_compositing_images\u001b[0;34m(renderer, parent, artists, suppress_composite)\u001b[0m\n\u001b[1;32m    <a href='file:///usr/local/lib/python3.9/site-packages/matplotlib/image.py?line=129'>130</a>\u001b[0m \u001b[39mif\u001b[39;00m not_composite \u001b[39mor\u001b[39;00m \u001b[39mnot\u001b[39;00m has_images:\n\u001b[1;32m    <a href='file:///usr/local/lib/python3.9/site-packages/matplotlib/image.py?line=130'>131</a>\u001b[0m     \u001b[39mfor\u001b[39;00m a \u001b[39min\u001b[39;00m artists:\n\u001b[0;32m--> <a href='file:///usr/local/lib/python3.9/site-packages/matplotlib/image.py?line=131'>132</a>\u001b[0m         a\u001b[39m.\u001b[39;49mdraw(renderer)\n\u001b[1;32m    <a href='file:///usr/local/lib/python3.9/site-packages/matplotlib/image.py?line=132'>133</a>\u001b[0m \u001b[39melse\u001b[39;00m:\n\u001b[1;32m    <a href='file:///usr/local/lib/python3.9/site-packages/matplotlib/image.py?line=133'>134</a>\u001b[0m     \u001b[39m# Composite any adjacent images together\u001b[39;00m\n\u001b[1;32m    <a href='file:///usr/local/lib/python3.9/site-packages/matplotlib/image.py?line=134'>135</a>\u001b[0m     image_group \u001b[39m=\u001b[39m []\n",
      "File \u001b[0;32m/usr/local/lib/python3.9/site-packages/matplotlib/artist.py:51\u001b[0m, in \u001b[0;36mallow_rasterization.<locals>.draw_wrapper\u001b[0;34m(artist, renderer, *args, **kwargs)\u001b[0m\n\u001b[1;32m     <a href='file:///usr/local/lib/python3.9/site-packages/matplotlib/artist.py?line=47'>48</a>\u001b[0m     \u001b[39mif\u001b[39;00m artist\u001b[39m.\u001b[39mget_agg_filter() \u001b[39mis\u001b[39;00m \u001b[39mnot\u001b[39;00m \u001b[39mNone\u001b[39;00m:\n\u001b[1;32m     <a href='file:///usr/local/lib/python3.9/site-packages/matplotlib/artist.py?line=48'>49</a>\u001b[0m         renderer\u001b[39m.\u001b[39mstart_filter()\n\u001b[0;32m---> <a href='file:///usr/local/lib/python3.9/site-packages/matplotlib/artist.py?line=50'>51</a>\u001b[0m     \u001b[39mreturn\u001b[39;00m draw(artist, renderer, \u001b[39m*\u001b[39;49margs, \u001b[39m*\u001b[39;49m\u001b[39m*\u001b[39;49mkwargs)\n\u001b[1;32m     <a href='file:///usr/local/lib/python3.9/site-packages/matplotlib/artist.py?line=51'>52</a>\u001b[0m \u001b[39mfinally\u001b[39;00m:\n\u001b[1;32m     <a href='file:///usr/local/lib/python3.9/site-packages/matplotlib/artist.py?line=52'>53</a>\u001b[0m     \u001b[39mif\u001b[39;00m artist\u001b[39m.\u001b[39mget_agg_filter() \u001b[39mis\u001b[39;00m \u001b[39mnot\u001b[39;00m \u001b[39mNone\u001b[39;00m:\n",
      "File \u001b[0;32m/usr/local/lib/python3.9/site-packages/matplotlib/_api/deprecation.py:431\u001b[0m, in \u001b[0;36mdelete_parameter.<locals>.wrapper\u001b[0;34m(*inner_args, **inner_kwargs)\u001b[0m\n\u001b[1;32m    <a href='file:///usr/local/lib/python3.9/site-packages/matplotlib/_api/deprecation.py?line=420'>421</a>\u001b[0m     deprecation_addendum \u001b[39m=\u001b[39m (\n\u001b[1;32m    <a href='file:///usr/local/lib/python3.9/site-packages/matplotlib/_api/deprecation.py?line=421'>422</a>\u001b[0m         \u001b[39mf\u001b[39m\u001b[39m\"\u001b[39m\u001b[39mIf any parameter follows \u001b[39m\u001b[39m{\u001b[39;00mname\u001b[39m!r}\u001b[39;00m\u001b[39m, they should be passed as \u001b[39m\u001b[39m\"\u001b[39m\n\u001b[1;32m    <a href='file:///usr/local/lib/python3.9/site-packages/matplotlib/_api/deprecation.py?line=422'>423</a>\u001b[0m         \u001b[39mf\u001b[39m\u001b[39m\"\u001b[39m\u001b[39mkeyword, not positionally.\u001b[39m\u001b[39m\"\u001b[39m)\n\u001b[1;32m    <a href='file:///usr/local/lib/python3.9/site-packages/matplotlib/_api/deprecation.py?line=423'>424</a>\u001b[0m     warn_deprecated(\n\u001b[1;32m    <a href='file:///usr/local/lib/python3.9/site-packages/matplotlib/_api/deprecation.py?line=424'>425</a>\u001b[0m         since,\n\u001b[1;32m    <a href='file:///usr/local/lib/python3.9/site-packages/matplotlib/_api/deprecation.py?line=425'>426</a>\u001b[0m         name\u001b[39m=\u001b[39m\u001b[39mrepr\u001b[39m(name),\n\u001b[0;32m   (...)\u001b[0m\n\u001b[1;32m    <a href='file:///usr/local/lib/python3.9/site-packages/matplotlib/_api/deprecation.py?line=428'>429</a>\u001b[0m                  \u001b[39melse\u001b[39;00m deprecation_addendum,\n\u001b[1;32m    <a href='file:///usr/local/lib/python3.9/site-packages/matplotlib/_api/deprecation.py?line=429'>430</a>\u001b[0m         \u001b[39m*\u001b[39m\u001b[39m*\u001b[39mkwargs)\n\u001b[0;32m--> <a href='file:///usr/local/lib/python3.9/site-packages/matplotlib/_api/deprecation.py?line=430'>431</a>\u001b[0m \u001b[39mreturn\u001b[39;00m func(\u001b[39m*\u001b[39;49minner_args, \u001b[39m*\u001b[39;49m\u001b[39m*\u001b[39;49minner_kwargs)\n",
      "File \u001b[0;32m/usr/local/lib/python3.9/site-packages/matplotlib/axes/_base.py:2881\u001b[0m, in \u001b[0;36m_AxesBase.draw\u001b[0;34m(self, renderer, inframe)\u001b[0m\n\u001b[1;32m   <a href='file:///usr/local/lib/python3.9/site-packages/matplotlib/axes/_base.py?line=2877'>2878</a>\u001b[0m     \u001b[39mfor\u001b[39;00m spine \u001b[39min\u001b[39;00m \u001b[39mself\u001b[39m\u001b[39m.\u001b[39mspines\u001b[39m.\u001b[39mvalues():\n\u001b[1;32m   <a href='file:///usr/local/lib/python3.9/site-packages/matplotlib/axes/_base.py?line=2878'>2879</a>\u001b[0m         artists\u001b[39m.\u001b[39mremove(spine)\n\u001b[0;32m-> <a href='file:///usr/local/lib/python3.9/site-packages/matplotlib/axes/_base.py?line=2880'>2881</a>\u001b[0m \u001b[39mself\u001b[39;49m\u001b[39m.\u001b[39;49m_update_title_position(renderer)\n\u001b[1;32m   <a href='file:///usr/local/lib/python3.9/site-packages/matplotlib/axes/_base.py?line=2882'>2883</a>\u001b[0m \u001b[39mif\u001b[39;00m \u001b[39mnot\u001b[39;00m \u001b[39mself\u001b[39m\u001b[39m.\u001b[39maxison \u001b[39mor\u001b[39;00m inframe:\n\u001b[1;32m   <a href='file:///usr/local/lib/python3.9/site-packages/matplotlib/axes/_base.py?line=2883'>2884</a>\u001b[0m     \u001b[39mfor\u001b[39;00m _axis \u001b[39min\u001b[39;00m \u001b[39mself\u001b[39m\u001b[39m.\u001b[39m_get_axis_list():\n",
      "File \u001b[0;32m/usr/local/lib/python3.9/site-packages/matplotlib/axes/_base.py:2822\u001b[0m, in \u001b[0;36m_AxesBase._update_title_position\u001b[0;34m(self, renderer)\u001b[0m\n\u001b[1;32m   <a href='file:///usr/local/lib/python3.9/site-packages/matplotlib/axes/_base.py?line=2819'>2820</a>\u001b[0m     _log\u001b[39m.\u001b[39mdebug(\u001b[39m'\u001b[39m\u001b[39mtop of axes not in the figure, so title not moved\u001b[39m\u001b[39m'\u001b[39m)\n\u001b[1;32m   <a href='file:///usr/local/lib/python3.9/site-packages/matplotlib/axes/_base.py?line=2820'>2821</a>\u001b[0m     \u001b[39mreturn\u001b[39;00m\n\u001b[0;32m-> <a href='file:///usr/local/lib/python3.9/site-packages/matplotlib/axes/_base.py?line=2821'>2822</a>\u001b[0m \u001b[39mif\u001b[39;00m title\u001b[39m.\u001b[39;49mget_window_extent(renderer)\u001b[39m.\u001b[39mymin \u001b[39m<\u001b[39m top:\n\u001b[1;32m   <a href='file:///usr/local/lib/python3.9/site-packages/matplotlib/axes/_base.py?line=2822'>2823</a>\u001b[0m     _, y \u001b[39m=\u001b[39m \u001b[39mself\u001b[39m\u001b[39m.\u001b[39mtransAxes\u001b[39m.\u001b[39minverted()\u001b[39m.\u001b[39mtransform((\u001b[39m0\u001b[39m, top))\n\u001b[1;32m   <a href='file:///usr/local/lib/python3.9/site-packages/matplotlib/axes/_base.py?line=2823'>2824</a>\u001b[0m     title\u001b[39m.\u001b[39mset_position((x, y))\n",
      "File \u001b[0;32m/usr/local/lib/python3.9/site-packages/matplotlib/text.py:903\u001b[0m, in \u001b[0;36mText.get_window_extent\u001b[0;34m(self, renderer, dpi)\u001b[0m\n\u001b[1;32m    <a href='file:///usr/local/lib/python3.9/site-packages/matplotlib/text.py?line=899'>900</a>\u001b[0m     \u001b[39mraise\u001b[39;00m \u001b[39mRuntimeError\u001b[39;00m(\u001b[39m'\u001b[39m\u001b[39mCannot get window extent w/o renderer\u001b[39m\u001b[39m'\u001b[39m)\n\u001b[1;32m    <a href='file:///usr/local/lib/python3.9/site-packages/matplotlib/text.py?line=901'>902</a>\u001b[0m \u001b[39mwith\u001b[39;00m cbook\u001b[39m.\u001b[39m_setattr_cm(\u001b[39mself\u001b[39m\u001b[39m.\u001b[39mfigure, dpi\u001b[39m=\u001b[39mdpi):\n\u001b[0;32m--> <a href='file:///usr/local/lib/python3.9/site-packages/matplotlib/text.py?line=902'>903</a>\u001b[0m     bbox, info, descent \u001b[39m=\u001b[39m \u001b[39mself\u001b[39;49m\u001b[39m.\u001b[39;49m_get_layout(\u001b[39mself\u001b[39;49m\u001b[39m.\u001b[39;49m_renderer)\n\u001b[1;32m    <a href='file:///usr/local/lib/python3.9/site-packages/matplotlib/text.py?line=903'>904</a>\u001b[0m     x, y \u001b[39m=\u001b[39m \u001b[39mself\u001b[39m\u001b[39m.\u001b[39mget_unitless_position()\n\u001b[1;32m    <a href='file:///usr/local/lib/python3.9/site-packages/matplotlib/text.py?line=904'>905</a>\u001b[0m     x, y \u001b[39m=\u001b[39m \u001b[39mself\u001b[39m\u001b[39m.\u001b[39mget_transform()\u001b[39m.\u001b[39mtransform((x, y))\n",
      "File \u001b[0;32m/usr/local/lib/python3.9/site-packages/matplotlib/text.py:306\u001b[0m, in \u001b[0;36mText._get_layout\u001b[0;34m(self, renderer)\u001b[0m\n\u001b[1;32m    <a href='file:///usr/local/lib/python3.9/site-packages/matplotlib/text.py?line=302'>303</a>\u001b[0m ys \u001b[39m=\u001b[39m []\n\u001b[1;32m    <a href='file:///usr/local/lib/python3.9/site-packages/matplotlib/text.py?line=304'>305</a>\u001b[0m \u001b[39m# Full vertical extent of font, including ascenders and descenders:\u001b[39;00m\n\u001b[0;32m--> <a href='file:///usr/local/lib/python3.9/site-packages/matplotlib/text.py?line=305'>306</a>\u001b[0m _, lp_h, lp_d \u001b[39m=\u001b[39m renderer\u001b[39m.\u001b[39;49mget_text_width_height_descent(\n\u001b[1;32m    <a href='file:///usr/local/lib/python3.9/site-packages/matplotlib/text.py?line=306'>307</a>\u001b[0m     \u001b[39m\"\u001b[39;49m\u001b[39mlp\u001b[39;49m\u001b[39m\"\u001b[39;49m, \u001b[39mself\u001b[39;49m\u001b[39m.\u001b[39;49m_fontproperties,\n\u001b[1;32m    <a href='file:///usr/local/lib/python3.9/site-packages/matplotlib/text.py?line=307'>308</a>\u001b[0m     ismath\u001b[39m=\u001b[39;49m\u001b[39m\"\u001b[39;49m\u001b[39mTeX\u001b[39;49m\u001b[39m\"\u001b[39;49m \u001b[39mif\u001b[39;49;00m \u001b[39mself\u001b[39;49m\u001b[39m.\u001b[39;49mget_usetex() \u001b[39melse\u001b[39;49;00m \u001b[39mFalse\u001b[39;49;00m)\n\u001b[1;32m    <a href='file:///usr/local/lib/python3.9/site-packages/matplotlib/text.py?line=308'>309</a>\u001b[0m min_dy \u001b[39m=\u001b[39m (lp_h \u001b[39m-\u001b[39m lp_d) \u001b[39m*\u001b[39m \u001b[39mself\u001b[39m\u001b[39m.\u001b[39m_linespacing\n\u001b[1;32m    <a href='file:///usr/local/lib/python3.9/site-packages/matplotlib/text.py?line=310'>311</a>\u001b[0m \u001b[39mfor\u001b[39;00m i, line \u001b[39min\u001b[39;00m \u001b[39menumerate\u001b[39m(lines):\n",
      "File \u001b[0;32m/usr/local/lib/python3.9/site-packages/matplotlib/backends/backend_agg.py:229\u001b[0m, in \u001b[0;36mRendererAgg.get_text_width_height_descent\u001b[0;34m(self, s, prop, ismath)\u001b[0m\n\u001b[1;32m    <a href='file:///usr/local/lib/python3.9/site-packages/matplotlib/backends/backend_agg.py?line=226'>227</a>\u001b[0m     texmanager \u001b[39m=\u001b[39m \u001b[39mself\u001b[39m\u001b[39m.\u001b[39mget_texmanager()\n\u001b[1;32m    <a href='file:///usr/local/lib/python3.9/site-packages/matplotlib/backends/backend_agg.py?line=227'>228</a>\u001b[0m     fontsize \u001b[39m=\u001b[39m prop\u001b[39m.\u001b[39mget_size_in_points()\n\u001b[0;32m--> <a href='file:///usr/local/lib/python3.9/site-packages/matplotlib/backends/backend_agg.py?line=228'>229</a>\u001b[0m     w, h, d \u001b[39m=\u001b[39m texmanager\u001b[39m.\u001b[39;49mget_text_width_height_descent(\n\u001b[1;32m    <a href='file:///usr/local/lib/python3.9/site-packages/matplotlib/backends/backend_agg.py?line=229'>230</a>\u001b[0m         s, fontsize, renderer\u001b[39m=\u001b[39;49m\u001b[39mself\u001b[39;49m)\n\u001b[1;32m    <a href='file:///usr/local/lib/python3.9/site-packages/matplotlib/backends/backend_agg.py?line=230'>231</a>\u001b[0m     \u001b[39mreturn\u001b[39;00m w, h, d\n\u001b[1;32m    <a href='file:///usr/local/lib/python3.9/site-packages/matplotlib/backends/backend_agg.py?line=232'>233</a>\u001b[0m \u001b[39mif\u001b[39;00m ismath:\n",
      "File \u001b[0;32m/usr/local/lib/python3.9/site-packages/matplotlib/texmanager.py:401\u001b[0m, in \u001b[0;36mTexManager.get_text_width_height_descent\u001b[0;34m(self, tex, fontsize, renderer)\u001b[0m\n\u001b[1;32m    <a href='file:///usr/local/lib/python3.9/site-packages/matplotlib/texmanager.py?line=398'>399</a>\u001b[0m dvifile \u001b[39m=\u001b[39m \u001b[39mself\u001b[39m\u001b[39m.\u001b[39mmake_dvi(tex, fontsize)\n\u001b[1;32m    <a href='file:///usr/local/lib/python3.9/site-packages/matplotlib/texmanager.py?line=399'>400</a>\u001b[0m \u001b[39mwith\u001b[39;00m dviread\u001b[39m.\u001b[39mDvi(dvifile, \u001b[39m72\u001b[39m \u001b[39m*\u001b[39m dpi_fraction) \u001b[39mas\u001b[39;00m dvi:\n\u001b[0;32m--> <a href='file:///usr/local/lib/python3.9/site-packages/matplotlib/texmanager.py?line=400'>401</a>\u001b[0m     page, \u001b[39m=\u001b[39m dvi\n\u001b[1;32m    <a href='file:///usr/local/lib/python3.9/site-packages/matplotlib/texmanager.py?line=401'>402</a>\u001b[0m \u001b[39m# A total height (including the descent) needs to be returned.\u001b[39;00m\n\u001b[1;32m    <a href='file:///usr/local/lib/python3.9/site-packages/matplotlib/texmanager.py?line=402'>403</a>\u001b[0m \u001b[39mreturn\u001b[39;00m page\u001b[39m.\u001b[39mwidth, page\u001b[39m.\u001b[39mheight \u001b[39m+\u001b[39m page\u001b[39m.\u001b[39mdescent, page\u001b[39m.\u001b[39mdescent\n",
      "File \u001b[0;32m/usr/local/lib/python3.9/site-packages/matplotlib/dviread.py:251\u001b[0m, in \u001b[0;36mDvi.__iter__\u001b[0;34m(self)\u001b[0m\n\u001b[1;32m    <a href='file:///usr/local/lib/python3.9/site-packages/matplotlib/dviread.py?line=234'>235</a>\u001b[0m \u001b[39mdef\u001b[39;00m \u001b[39m__iter__\u001b[39m(\u001b[39mself\u001b[39m):\n\u001b[1;32m    <a href='file:///usr/local/lib/python3.9/site-packages/matplotlib/dviread.py?line=235'>236</a>\u001b[0m     \u001b[39m\"\"\"\u001b[39;00m\n\u001b[1;32m    <a href='file:///usr/local/lib/python3.9/site-packages/matplotlib/dviread.py?line=236'>237</a>\u001b[0m \u001b[39m    Iterate through the pages of the file.\u001b[39;00m\n\u001b[1;32m    <a href='file:///usr/local/lib/python3.9/site-packages/matplotlib/dviread.py?line=237'>238</a>\u001b[0m \n\u001b[0;32m   (...)\u001b[0m\n\u001b[1;32m    <a href='file:///usr/local/lib/python3.9/site-packages/matplotlib/dviread.py?line=248'>249</a>\u001b[0m \u001b[39m        integers.\u001b[39;00m\n\u001b[1;32m    <a href='file:///usr/local/lib/python3.9/site-packages/matplotlib/dviread.py?line=249'>250</a>\u001b[0m \u001b[39m    \"\"\"\u001b[39;00m\n\u001b[0;32m--> <a href='file:///usr/local/lib/python3.9/site-packages/matplotlib/dviread.py?line=250'>251</a>\u001b[0m     \u001b[39mwhile\u001b[39;00m \u001b[39mself\u001b[39;49m\u001b[39m.\u001b[39;49m_read():\n\u001b[1;32m    <a href='file:///usr/local/lib/python3.9/site-packages/matplotlib/dviread.py?line=251'>252</a>\u001b[0m         \u001b[39myield\u001b[39;00m \u001b[39mself\u001b[39m\u001b[39m.\u001b[39m_output()\n",
      "File \u001b[0;32m/usr/local/lib/python3.9/site-packages/matplotlib/dviread.py:331\u001b[0m, in \u001b[0;36mDvi._read\u001b[0;34m(self)\u001b[0m\n\u001b[1;32m    <a href='file:///usr/local/lib/python3.9/site-packages/matplotlib/dviread.py?line=328'>329</a>\u001b[0m \u001b[39mwhile\u001b[39;00m \u001b[39mTrue\u001b[39;00m:\n\u001b[1;32m    <a href='file:///usr/local/lib/python3.9/site-packages/matplotlib/dviread.py?line=329'>330</a>\u001b[0m     byte \u001b[39m=\u001b[39m \u001b[39mself\u001b[39m\u001b[39m.\u001b[39mfile\u001b[39m.\u001b[39mread(\u001b[39m1\u001b[39m)[\u001b[39m0\u001b[39m]\n\u001b[0;32m--> <a href='file:///usr/local/lib/python3.9/site-packages/matplotlib/dviread.py?line=330'>331</a>\u001b[0m     \u001b[39mself\u001b[39;49m\u001b[39m.\u001b[39;49m_dtable[byte](\u001b[39mself\u001b[39;49m, byte)\n\u001b[1;32m    <a href='file:///usr/local/lib/python3.9/site-packages/matplotlib/dviread.py?line=331'>332</a>\u001b[0m     downs \u001b[39m+\u001b[39m\u001b[39m=\u001b[39m \u001b[39mself\u001b[39m\u001b[39m.\u001b[39m_dtable[byte]\u001b[39m.\u001b[39m\u001b[39m__name__\u001b[39m \u001b[39m==\u001b[39m \u001b[39m\"\u001b[39m\u001b[39m_down\u001b[39m\u001b[39m\"\u001b[39m\n\u001b[1;32m    <a href='file:///usr/local/lib/python3.9/site-packages/matplotlib/dviread.py?line=332'>333</a>\u001b[0m     \u001b[39mif\u001b[39;00m (\u001b[39mself\u001b[39m\u001b[39m.\u001b[39m_baseline_v \u001b[39mis\u001b[39;00m \u001b[39mNone\u001b[39;00m\n\u001b[1;32m    <a href='file:///usr/local/lib/python3.9/site-packages/matplotlib/dviread.py?line=333'>334</a>\u001b[0m             \u001b[39mand\u001b[39;00m \u001b[39mlen\u001b[39m(\u001b[39mgetattr\u001b[39m(\u001b[39mself\u001b[39m, \u001b[39m\"\u001b[39m\u001b[39mstack\u001b[39m\u001b[39m\"\u001b[39m, [])) \u001b[39m==\u001b[39m \u001b[39m3\u001b[39m\n\u001b[1;32m    <a href='file:///usr/local/lib/python3.9/site-packages/matplotlib/dviread.py?line=334'>335</a>\u001b[0m             \u001b[39mand\u001b[39;00m downs \u001b[39m>\u001b[39m\u001b[39m=\u001b[39m \u001b[39m4\u001b[39m):\n",
      "File \u001b[0;32m/usr/local/lib/python3.9/site-packages/matplotlib/dviread.py:174\u001b[0m, in \u001b[0;36m_dispatch.<locals>.decorate.<locals>.wrapper\u001b[0;34m(self, byte)\u001b[0m\n\u001b[1;32m    <a href='file:///usr/local/lib/python3.9/site-packages/matplotlib/dviread.py?line=171'>172</a>\u001b[0m \u001b[39mif\u001b[39;00m state \u001b[39mis\u001b[39;00m \u001b[39mnot\u001b[39;00m \u001b[39mNone\u001b[39;00m \u001b[39mand\u001b[39;00m \u001b[39mself\u001b[39m\u001b[39m.\u001b[39mstate \u001b[39m!=\u001b[39m state:\n\u001b[1;32m    <a href='file:///usr/local/lib/python3.9/site-packages/matplotlib/dviread.py?line=172'>173</a>\u001b[0m     \u001b[39mraise\u001b[39;00m \u001b[39mValueError\u001b[39;00m(\u001b[39m\"\u001b[39m\u001b[39mstate precondition failed\u001b[39m\u001b[39m\"\u001b[39m)\n\u001b[0;32m--> <a href='file:///usr/local/lib/python3.9/site-packages/matplotlib/dviread.py?line=173'>174</a>\u001b[0m \u001b[39mreturn\u001b[39;00m method(\u001b[39mself\u001b[39;49m, \u001b[39m*\u001b[39;49m[f(\u001b[39mself\u001b[39;49m, byte\u001b[39m-\u001b[39;49m\u001b[39mmin\u001b[39;49m) \u001b[39mfor\u001b[39;49;00m f \u001b[39min\u001b[39;49;00m get_args])\n",
      "File \u001b[0;32m/usr/local/lib/python3.9/site-packages/matplotlib/dviread.py:476\u001b[0m, in \u001b[0;36mDvi._fnt_def\u001b[0;34m(self, k, c, s, d, a, l)\u001b[0m\n\u001b[1;32m    <a href='file:///usr/local/lib/python3.9/site-packages/matplotlib/dviread.py?line=473'>474</a>\u001b[0m \u001b[39m@_dispatch\u001b[39m(\u001b[39mmin\u001b[39m\u001b[39m=\u001b[39m\u001b[39m243\u001b[39m, \u001b[39mmax\u001b[39m\u001b[39m=\u001b[39m\u001b[39m246\u001b[39m, args\u001b[39m=\u001b[39m(\u001b[39m'\u001b[39m\u001b[39molen1\u001b[39m\u001b[39m'\u001b[39m, \u001b[39m'\u001b[39m\u001b[39mu4\u001b[39m\u001b[39m'\u001b[39m, \u001b[39m'\u001b[39m\u001b[39mu4\u001b[39m\u001b[39m'\u001b[39m, \u001b[39m'\u001b[39m\u001b[39mu4\u001b[39m\u001b[39m'\u001b[39m, \u001b[39m'\u001b[39m\u001b[39mu1\u001b[39m\u001b[39m'\u001b[39m, \u001b[39m'\u001b[39m\u001b[39mu1\u001b[39m\u001b[39m'\u001b[39m))\n\u001b[1;32m    <a href='file:///usr/local/lib/python3.9/site-packages/matplotlib/dviread.py?line=474'>475</a>\u001b[0m \u001b[39mdef\u001b[39;00m \u001b[39m_fnt_def\u001b[39m(\u001b[39mself\u001b[39m, k, c, s, d, a, l):\n\u001b[0;32m--> <a href='file:///usr/local/lib/python3.9/site-packages/matplotlib/dviread.py?line=475'>476</a>\u001b[0m     \u001b[39mself\u001b[39;49m\u001b[39m.\u001b[39;49m_fnt_def_real(k, c, s, d, a, l)\n",
      "File \u001b[0;32m/usr/local/lib/python3.9/site-packages/matplotlib/dviread.py:483\u001b[0m, in \u001b[0;36mDvi._fnt_def_real\u001b[0;34m(self, k, c, s, d, a, l)\u001b[0m\n\u001b[1;32m    <a href='file:///usr/local/lib/python3.9/site-packages/matplotlib/dviread.py?line=480'>481</a>\u001b[0m tfm \u001b[39m=\u001b[39m _tfmfile(fontname)\n\u001b[1;32m    <a href='file:///usr/local/lib/python3.9/site-packages/matplotlib/dviread.py?line=481'>482</a>\u001b[0m \u001b[39mif\u001b[39;00m tfm \u001b[39mis\u001b[39;00m \u001b[39mNone\u001b[39;00m:\n\u001b[0;32m--> <a href='file:///usr/local/lib/python3.9/site-packages/matplotlib/dviread.py?line=482'>483</a>\u001b[0m     \u001b[39mraise\u001b[39;00m \u001b[39mFileNotFoundError\u001b[39;00m(\u001b[39m\"\u001b[39m\u001b[39mmissing font metrics file: \u001b[39m\u001b[39m%s\u001b[39;00m\u001b[39m\"\u001b[39m \u001b[39m%\u001b[39m fontname)\n\u001b[1;32m    <a href='file:///usr/local/lib/python3.9/site-packages/matplotlib/dviread.py?line=483'>484</a>\u001b[0m \u001b[39mif\u001b[39;00m c \u001b[39m!=\u001b[39m \u001b[39m0\u001b[39m \u001b[39mand\u001b[39;00m tfm\u001b[39m.\u001b[39mchecksum \u001b[39m!=\u001b[39m \u001b[39m0\u001b[39m \u001b[39mand\u001b[39;00m c \u001b[39m!=\u001b[39m tfm\u001b[39m.\u001b[39mchecksum:\n\u001b[1;32m    <a href='file:///usr/local/lib/python3.9/site-packages/matplotlib/dviread.py?line=484'>485</a>\u001b[0m     \u001b[39mraise\u001b[39;00m \u001b[39mValueError\u001b[39;00m(\u001b[39m'\u001b[39m\u001b[39mtfm checksum mismatch: \u001b[39m\u001b[39m%s\u001b[39;00m\u001b[39m'\u001b[39m \u001b[39m%\u001b[39m n)\n",
      "\u001b[0;31mFileNotFoundError\u001b[0m: missing font metrics file: cmr10"
     ]
    },
    {
     "data": {
      "text/plain": [
       "<Figure size 432x288 with 1 Axes>"
      ]
     },
     "metadata": {
      "needs_background": "light"
     },
     "output_type": "display_data"
    },
    {
     "ename": "FileNotFoundError",
     "evalue": "missing font metrics file: cmr10",
     "output_type": "error",
     "traceback": [
      "\u001b[0;31m---------------------------------------------------------------------------\u001b[0m",
      "\u001b[0;31mFileNotFoundError\u001b[0m                         Traceback (most recent call last)",
      "\u001b[1;32m/Users/mayank/Desktop/UROP/Code/Data/cov5/nanopore-2nd-order-skew/iter.ipynb Cell 10'\u001b[0m in \u001b[0;36m<module>\u001b[0;34m\u001b[0m\n\u001b[1;32m     <a href='vscode-notebook-cell:/Users/mayank/Desktop/UROP/Code/Data/cov5/nanopore-2nd-order-skew/iter.ipynb#ch0000009?line=17'>18</a>\u001b[0m plt\u001b[39m.\u001b[39mylabel(\u001b[39mr\u001b[39m\u001b[39m'\u001b[39m\u001b[39mNo. of Errors\u001b[39m\u001b[39m'\u001b[39m, fontsize\u001b[39m=\u001b[39m\u001b[39m11\u001b[39m)\n\u001b[1;32m     <a href='vscode-notebook-cell:/Users/mayank/Desktop/UROP/Code/Data/cov5/nanopore-2nd-order-skew/iter.ipynb#ch0000009?line=18'>19</a>\u001b[0m plt\u001b[39m.\u001b[39mshow()\n\u001b[0;32m---> <a href='vscode-notebook-cell:/Users/mayank/Desktop/UROP/Code/Data/cov5/nanopore-2nd-order-skew/iter.ipynb#ch0000009?line=19'>20</a>\u001b[0m f\u001b[39m.\u001b[39;49msavefig(\u001b[39m'\u001b[39;49m\u001b[39mcov5-iter-hamming.pdf\u001b[39;49m\u001b[39m'\u001b[39;49m, bbox_inches\u001b[39m=\u001b[39;49m\u001b[39m'\u001b[39;49m\u001b[39mtight\u001b[39;49m\u001b[39m'\u001b[39;49m)\n",
      "File \u001b[0;32m/usr/local/lib/python3.9/site-packages/matplotlib/figure.py:3015\u001b[0m, in \u001b[0;36mFigure.savefig\u001b[0;34m(self, fname, transparent, **kwargs)\u001b[0m\n\u001b[1;32m   <a href='file:///usr/local/lib/python3.9/site-packages/matplotlib/figure.py?line=3011'>3012</a>\u001b[0m         patch\u001b[39m.\u001b[39mset_facecolor(\u001b[39m'\u001b[39m\u001b[39mnone\u001b[39m\u001b[39m'\u001b[39m)\n\u001b[1;32m   <a href='file:///usr/local/lib/python3.9/site-packages/matplotlib/figure.py?line=3012'>3013</a>\u001b[0m         patch\u001b[39m.\u001b[39mset_edgecolor(\u001b[39m'\u001b[39m\u001b[39mnone\u001b[39m\u001b[39m'\u001b[39m)\n\u001b[0;32m-> <a href='file:///usr/local/lib/python3.9/site-packages/matplotlib/figure.py?line=3014'>3015</a>\u001b[0m \u001b[39mself\u001b[39;49m\u001b[39m.\u001b[39;49mcanvas\u001b[39m.\u001b[39;49mprint_figure(fname, \u001b[39m*\u001b[39;49m\u001b[39m*\u001b[39;49mkwargs)\n\u001b[1;32m   <a href='file:///usr/local/lib/python3.9/site-packages/matplotlib/figure.py?line=3016'>3017</a>\u001b[0m \u001b[39mif\u001b[39;00m transparent:\n\u001b[1;32m   <a href='file:///usr/local/lib/python3.9/site-packages/matplotlib/figure.py?line=3017'>3018</a>\u001b[0m     \u001b[39mfor\u001b[39;00m ax, cc \u001b[39min\u001b[39;00m \u001b[39mzip\u001b[39m(\u001b[39mself\u001b[39m\u001b[39m.\u001b[39maxes, original_axes_colors):\n",
      "File \u001b[0;32m/usr/local/lib/python3.9/site-packages/matplotlib/backend_bases.py:2230\u001b[0m, in \u001b[0;36mFigureCanvasBase.print_figure\u001b[0;34m(self, filename, dpi, facecolor, edgecolor, orientation, format, bbox_inches, pad_inches, bbox_extra_artists, backend, **kwargs)\u001b[0m\n\u001b[1;32m   <a href='file:///usr/local/lib/python3.9/site-packages/matplotlib/backend_bases.py?line=2225'>2226</a>\u001b[0m     ctx \u001b[39m=\u001b[39m (renderer\u001b[39m.\u001b[39m_draw_disabled()\n\u001b[1;32m   <a href='file:///usr/local/lib/python3.9/site-packages/matplotlib/backend_bases.py?line=2226'>2227</a>\u001b[0m            \u001b[39mif\u001b[39;00m \u001b[39mhasattr\u001b[39m(renderer, \u001b[39m'\u001b[39m\u001b[39m_draw_disabled\u001b[39m\u001b[39m'\u001b[39m)\n\u001b[1;32m   <a href='file:///usr/local/lib/python3.9/site-packages/matplotlib/backend_bases.py?line=2227'>2228</a>\u001b[0m            \u001b[39melse\u001b[39;00m suppress())\n\u001b[1;32m   <a href='file:///usr/local/lib/python3.9/site-packages/matplotlib/backend_bases.py?line=2228'>2229</a>\u001b[0m     \u001b[39mwith\u001b[39;00m ctx:\n\u001b[0;32m-> <a href='file:///usr/local/lib/python3.9/site-packages/matplotlib/backend_bases.py?line=2229'>2230</a>\u001b[0m         \u001b[39mself\u001b[39;49m\u001b[39m.\u001b[39;49mfigure\u001b[39m.\u001b[39;49mdraw(renderer)\n\u001b[1;32m   <a href='file:///usr/local/lib/python3.9/site-packages/matplotlib/backend_bases.py?line=2231'>2232</a>\u001b[0m \u001b[39mif\u001b[39;00m bbox_inches:\n\u001b[1;32m   <a href='file:///usr/local/lib/python3.9/site-packages/matplotlib/backend_bases.py?line=2232'>2233</a>\u001b[0m     \u001b[39mif\u001b[39;00m bbox_inches \u001b[39m==\u001b[39m \u001b[39m\"\u001b[39m\u001b[39mtight\u001b[39m\u001b[39m\"\u001b[39m:\n",
      "File \u001b[0;32m/usr/local/lib/python3.9/site-packages/matplotlib/artist.py:74\u001b[0m, in \u001b[0;36m_finalize_rasterization.<locals>.draw_wrapper\u001b[0;34m(artist, renderer, *args, **kwargs)\u001b[0m\n\u001b[1;32m     <a href='file:///usr/local/lib/python3.9/site-packages/matplotlib/artist.py?line=71'>72</a>\u001b[0m \u001b[39m@wraps\u001b[39m(draw)\n\u001b[1;32m     <a href='file:///usr/local/lib/python3.9/site-packages/matplotlib/artist.py?line=72'>73</a>\u001b[0m \u001b[39mdef\u001b[39;00m \u001b[39mdraw_wrapper\u001b[39m(artist, renderer, \u001b[39m*\u001b[39margs, \u001b[39m*\u001b[39m\u001b[39m*\u001b[39mkwargs):\n\u001b[0;32m---> <a href='file:///usr/local/lib/python3.9/site-packages/matplotlib/artist.py?line=73'>74</a>\u001b[0m     result \u001b[39m=\u001b[39m draw(artist, renderer, \u001b[39m*\u001b[39;49margs, \u001b[39m*\u001b[39;49m\u001b[39m*\u001b[39;49mkwargs)\n\u001b[1;32m     <a href='file:///usr/local/lib/python3.9/site-packages/matplotlib/artist.py?line=74'>75</a>\u001b[0m     \u001b[39mif\u001b[39;00m renderer\u001b[39m.\u001b[39m_rasterizing:\n\u001b[1;32m     <a href='file:///usr/local/lib/python3.9/site-packages/matplotlib/artist.py?line=75'>76</a>\u001b[0m         renderer\u001b[39m.\u001b[39mstop_rasterizing()\n",
      "File \u001b[0;32m/usr/local/lib/python3.9/site-packages/matplotlib/artist.py:51\u001b[0m, in \u001b[0;36mallow_rasterization.<locals>.draw_wrapper\u001b[0;34m(artist, renderer, *args, **kwargs)\u001b[0m\n\u001b[1;32m     <a href='file:///usr/local/lib/python3.9/site-packages/matplotlib/artist.py?line=47'>48</a>\u001b[0m     \u001b[39mif\u001b[39;00m artist\u001b[39m.\u001b[39mget_agg_filter() \u001b[39mis\u001b[39;00m \u001b[39mnot\u001b[39;00m \u001b[39mNone\u001b[39;00m:\n\u001b[1;32m     <a href='file:///usr/local/lib/python3.9/site-packages/matplotlib/artist.py?line=48'>49</a>\u001b[0m         renderer\u001b[39m.\u001b[39mstart_filter()\n\u001b[0;32m---> <a href='file:///usr/local/lib/python3.9/site-packages/matplotlib/artist.py?line=50'>51</a>\u001b[0m     \u001b[39mreturn\u001b[39;00m draw(artist, renderer, \u001b[39m*\u001b[39;49margs, \u001b[39m*\u001b[39;49m\u001b[39m*\u001b[39;49mkwargs)\n\u001b[1;32m     <a href='file:///usr/local/lib/python3.9/site-packages/matplotlib/artist.py?line=51'>52</a>\u001b[0m \u001b[39mfinally\u001b[39;00m:\n\u001b[1;32m     <a href='file:///usr/local/lib/python3.9/site-packages/matplotlib/artist.py?line=52'>53</a>\u001b[0m     \u001b[39mif\u001b[39;00m artist\u001b[39m.\u001b[39mget_agg_filter() \u001b[39mis\u001b[39;00m \u001b[39mnot\u001b[39;00m \u001b[39mNone\u001b[39;00m:\n",
      "File \u001b[0;32m/usr/local/lib/python3.9/site-packages/matplotlib/figure.py:2790\u001b[0m, in \u001b[0;36mFigure.draw\u001b[0;34m(self, renderer)\u001b[0m\n\u001b[1;32m   <a href='file:///usr/local/lib/python3.9/site-packages/matplotlib/figure.py?line=2786'>2787</a>\u001b[0m         \u001b[39m# ValueError can occur when resizing a window.\u001b[39;00m\n\u001b[1;32m   <a href='file:///usr/local/lib/python3.9/site-packages/matplotlib/figure.py?line=2788'>2789</a>\u001b[0m \u001b[39mself\u001b[39m\u001b[39m.\u001b[39mpatch\u001b[39m.\u001b[39mdraw(renderer)\n\u001b[0;32m-> <a href='file:///usr/local/lib/python3.9/site-packages/matplotlib/figure.py?line=2789'>2790</a>\u001b[0m mimage\u001b[39m.\u001b[39;49m_draw_list_compositing_images(\n\u001b[1;32m   <a href='file:///usr/local/lib/python3.9/site-packages/matplotlib/figure.py?line=2790'>2791</a>\u001b[0m     renderer, \u001b[39mself\u001b[39;49m, artists, \u001b[39mself\u001b[39;49m\u001b[39m.\u001b[39;49msuppressComposite)\n\u001b[1;32m   <a href='file:///usr/local/lib/python3.9/site-packages/matplotlib/figure.py?line=2792'>2793</a>\u001b[0m \u001b[39mfor\u001b[39;00m sfig \u001b[39min\u001b[39;00m \u001b[39mself\u001b[39m\u001b[39m.\u001b[39msubfigs:\n\u001b[1;32m   <a href='file:///usr/local/lib/python3.9/site-packages/matplotlib/figure.py?line=2793'>2794</a>\u001b[0m     sfig\u001b[39m.\u001b[39mdraw(renderer)\n",
      "File \u001b[0;32m/usr/local/lib/python3.9/site-packages/matplotlib/image.py:132\u001b[0m, in \u001b[0;36m_draw_list_compositing_images\u001b[0;34m(renderer, parent, artists, suppress_composite)\u001b[0m\n\u001b[1;32m    <a href='file:///usr/local/lib/python3.9/site-packages/matplotlib/image.py?line=129'>130</a>\u001b[0m \u001b[39mif\u001b[39;00m not_composite \u001b[39mor\u001b[39;00m \u001b[39mnot\u001b[39;00m has_images:\n\u001b[1;32m    <a href='file:///usr/local/lib/python3.9/site-packages/matplotlib/image.py?line=130'>131</a>\u001b[0m     \u001b[39mfor\u001b[39;00m a \u001b[39min\u001b[39;00m artists:\n\u001b[0;32m--> <a href='file:///usr/local/lib/python3.9/site-packages/matplotlib/image.py?line=131'>132</a>\u001b[0m         a\u001b[39m.\u001b[39;49mdraw(renderer)\n\u001b[1;32m    <a href='file:///usr/local/lib/python3.9/site-packages/matplotlib/image.py?line=132'>133</a>\u001b[0m \u001b[39melse\u001b[39;00m:\n\u001b[1;32m    <a href='file:///usr/local/lib/python3.9/site-packages/matplotlib/image.py?line=133'>134</a>\u001b[0m     \u001b[39m# Composite any adjacent images together\u001b[39;00m\n\u001b[1;32m    <a href='file:///usr/local/lib/python3.9/site-packages/matplotlib/image.py?line=134'>135</a>\u001b[0m     image_group \u001b[39m=\u001b[39m []\n",
      "File \u001b[0;32m/usr/local/lib/python3.9/site-packages/matplotlib/artist.py:51\u001b[0m, in \u001b[0;36mallow_rasterization.<locals>.draw_wrapper\u001b[0;34m(artist, renderer, *args, **kwargs)\u001b[0m\n\u001b[1;32m     <a href='file:///usr/local/lib/python3.9/site-packages/matplotlib/artist.py?line=47'>48</a>\u001b[0m     \u001b[39mif\u001b[39;00m artist\u001b[39m.\u001b[39mget_agg_filter() \u001b[39mis\u001b[39;00m \u001b[39mnot\u001b[39;00m \u001b[39mNone\u001b[39;00m:\n\u001b[1;32m     <a href='file:///usr/local/lib/python3.9/site-packages/matplotlib/artist.py?line=48'>49</a>\u001b[0m         renderer\u001b[39m.\u001b[39mstart_filter()\n\u001b[0;32m---> <a href='file:///usr/local/lib/python3.9/site-packages/matplotlib/artist.py?line=50'>51</a>\u001b[0m     \u001b[39mreturn\u001b[39;00m draw(artist, renderer, \u001b[39m*\u001b[39;49margs, \u001b[39m*\u001b[39;49m\u001b[39m*\u001b[39;49mkwargs)\n\u001b[1;32m     <a href='file:///usr/local/lib/python3.9/site-packages/matplotlib/artist.py?line=51'>52</a>\u001b[0m \u001b[39mfinally\u001b[39;00m:\n\u001b[1;32m     <a href='file:///usr/local/lib/python3.9/site-packages/matplotlib/artist.py?line=52'>53</a>\u001b[0m     \u001b[39mif\u001b[39;00m artist\u001b[39m.\u001b[39mget_agg_filter() \u001b[39mis\u001b[39;00m \u001b[39mnot\u001b[39;00m \u001b[39mNone\u001b[39;00m:\n",
      "File \u001b[0;32m/usr/local/lib/python3.9/site-packages/matplotlib/_api/deprecation.py:431\u001b[0m, in \u001b[0;36mdelete_parameter.<locals>.wrapper\u001b[0;34m(*inner_args, **inner_kwargs)\u001b[0m\n\u001b[1;32m    <a href='file:///usr/local/lib/python3.9/site-packages/matplotlib/_api/deprecation.py?line=420'>421</a>\u001b[0m     deprecation_addendum \u001b[39m=\u001b[39m (\n\u001b[1;32m    <a href='file:///usr/local/lib/python3.9/site-packages/matplotlib/_api/deprecation.py?line=421'>422</a>\u001b[0m         \u001b[39mf\u001b[39m\u001b[39m\"\u001b[39m\u001b[39mIf any parameter follows \u001b[39m\u001b[39m{\u001b[39;00mname\u001b[39m!r}\u001b[39;00m\u001b[39m, they should be passed as \u001b[39m\u001b[39m\"\u001b[39m\n\u001b[1;32m    <a href='file:///usr/local/lib/python3.9/site-packages/matplotlib/_api/deprecation.py?line=422'>423</a>\u001b[0m         \u001b[39mf\u001b[39m\u001b[39m\"\u001b[39m\u001b[39mkeyword, not positionally.\u001b[39m\u001b[39m\"\u001b[39m)\n\u001b[1;32m    <a href='file:///usr/local/lib/python3.9/site-packages/matplotlib/_api/deprecation.py?line=423'>424</a>\u001b[0m     warn_deprecated(\n\u001b[1;32m    <a href='file:///usr/local/lib/python3.9/site-packages/matplotlib/_api/deprecation.py?line=424'>425</a>\u001b[0m         since,\n\u001b[1;32m    <a href='file:///usr/local/lib/python3.9/site-packages/matplotlib/_api/deprecation.py?line=425'>426</a>\u001b[0m         name\u001b[39m=\u001b[39m\u001b[39mrepr\u001b[39m(name),\n\u001b[0;32m   (...)\u001b[0m\n\u001b[1;32m    <a href='file:///usr/local/lib/python3.9/site-packages/matplotlib/_api/deprecation.py?line=428'>429</a>\u001b[0m                  \u001b[39melse\u001b[39;00m deprecation_addendum,\n\u001b[1;32m    <a href='file:///usr/local/lib/python3.9/site-packages/matplotlib/_api/deprecation.py?line=429'>430</a>\u001b[0m         \u001b[39m*\u001b[39m\u001b[39m*\u001b[39mkwargs)\n\u001b[0;32m--> <a href='file:///usr/local/lib/python3.9/site-packages/matplotlib/_api/deprecation.py?line=430'>431</a>\u001b[0m \u001b[39mreturn\u001b[39;00m func(\u001b[39m*\u001b[39;49minner_args, \u001b[39m*\u001b[39;49m\u001b[39m*\u001b[39;49minner_kwargs)\n",
      "File \u001b[0;32m/usr/local/lib/python3.9/site-packages/matplotlib/axes/_base.py:2881\u001b[0m, in \u001b[0;36m_AxesBase.draw\u001b[0;34m(self, renderer, inframe)\u001b[0m\n\u001b[1;32m   <a href='file:///usr/local/lib/python3.9/site-packages/matplotlib/axes/_base.py?line=2877'>2878</a>\u001b[0m     \u001b[39mfor\u001b[39;00m spine \u001b[39min\u001b[39;00m \u001b[39mself\u001b[39m\u001b[39m.\u001b[39mspines\u001b[39m.\u001b[39mvalues():\n\u001b[1;32m   <a href='file:///usr/local/lib/python3.9/site-packages/matplotlib/axes/_base.py?line=2878'>2879</a>\u001b[0m         artists\u001b[39m.\u001b[39mremove(spine)\n\u001b[0;32m-> <a href='file:///usr/local/lib/python3.9/site-packages/matplotlib/axes/_base.py?line=2880'>2881</a>\u001b[0m \u001b[39mself\u001b[39;49m\u001b[39m.\u001b[39;49m_update_title_position(renderer)\n\u001b[1;32m   <a href='file:///usr/local/lib/python3.9/site-packages/matplotlib/axes/_base.py?line=2882'>2883</a>\u001b[0m \u001b[39mif\u001b[39;00m \u001b[39mnot\u001b[39;00m \u001b[39mself\u001b[39m\u001b[39m.\u001b[39maxison \u001b[39mor\u001b[39;00m inframe:\n\u001b[1;32m   <a href='file:///usr/local/lib/python3.9/site-packages/matplotlib/axes/_base.py?line=2883'>2884</a>\u001b[0m     \u001b[39mfor\u001b[39;00m _axis \u001b[39min\u001b[39;00m \u001b[39mself\u001b[39m\u001b[39m.\u001b[39m_get_axis_list():\n",
      "File \u001b[0;32m/usr/local/lib/python3.9/site-packages/matplotlib/axes/_base.py:2822\u001b[0m, in \u001b[0;36m_AxesBase._update_title_position\u001b[0;34m(self, renderer)\u001b[0m\n\u001b[1;32m   <a href='file:///usr/local/lib/python3.9/site-packages/matplotlib/axes/_base.py?line=2819'>2820</a>\u001b[0m     _log\u001b[39m.\u001b[39mdebug(\u001b[39m'\u001b[39m\u001b[39mtop of axes not in the figure, so title not moved\u001b[39m\u001b[39m'\u001b[39m)\n\u001b[1;32m   <a href='file:///usr/local/lib/python3.9/site-packages/matplotlib/axes/_base.py?line=2820'>2821</a>\u001b[0m     \u001b[39mreturn\u001b[39;00m\n\u001b[0;32m-> <a href='file:///usr/local/lib/python3.9/site-packages/matplotlib/axes/_base.py?line=2821'>2822</a>\u001b[0m \u001b[39mif\u001b[39;00m title\u001b[39m.\u001b[39;49mget_window_extent(renderer)\u001b[39m.\u001b[39mymin \u001b[39m<\u001b[39m top:\n\u001b[1;32m   <a href='file:///usr/local/lib/python3.9/site-packages/matplotlib/axes/_base.py?line=2822'>2823</a>\u001b[0m     _, y \u001b[39m=\u001b[39m \u001b[39mself\u001b[39m\u001b[39m.\u001b[39mtransAxes\u001b[39m.\u001b[39minverted()\u001b[39m.\u001b[39mtransform((\u001b[39m0\u001b[39m, top))\n\u001b[1;32m   <a href='file:///usr/local/lib/python3.9/site-packages/matplotlib/axes/_base.py?line=2823'>2824</a>\u001b[0m     title\u001b[39m.\u001b[39mset_position((x, y))\n",
      "File \u001b[0;32m/usr/local/lib/python3.9/site-packages/matplotlib/text.py:903\u001b[0m, in \u001b[0;36mText.get_window_extent\u001b[0;34m(self, renderer, dpi)\u001b[0m\n\u001b[1;32m    <a href='file:///usr/local/lib/python3.9/site-packages/matplotlib/text.py?line=899'>900</a>\u001b[0m     \u001b[39mraise\u001b[39;00m \u001b[39mRuntimeError\u001b[39;00m(\u001b[39m'\u001b[39m\u001b[39mCannot get window extent w/o renderer\u001b[39m\u001b[39m'\u001b[39m)\n\u001b[1;32m    <a href='file:///usr/local/lib/python3.9/site-packages/matplotlib/text.py?line=901'>902</a>\u001b[0m \u001b[39mwith\u001b[39;00m cbook\u001b[39m.\u001b[39m_setattr_cm(\u001b[39mself\u001b[39m\u001b[39m.\u001b[39mfigure, dpi\u001b[39m=\u001b[39mdpi):\n\u001b[0;32m--> <a href='file:///usr/local/lib/python3.9/site-packages/matplotlib/text.py?line=902'>903</a>\u001b[0m     bbox, info, descent \u001b[39m=\u001b[39m \u001b[39mself\u001b[39;49m\u001b[39m.\u001b[39;49m_get_layout(\u001b[39mself\u001b[39;49m\u001b[39m.\u001b[39;49m_renderer)\n\u001b[1;32m    <a href='file:///usr/local/lib/python3.9/site-packages/matplotlib/text.py?line=903'>904</a>\u001b[0m     x, y \u001b[39m=\u001b[39m \u001b[39mself\u001b[39m\u001b[39m.\u001b[39mget_unitless_position()\n\u001b[1;32m    <a href='file:///usr/local/lib/python3.9/site-packages/matplotlib/text.py?line=904'>905</a>\u001b[0m     x, y \u001b[39m=\u001b[39m \u001b[39mself\u001b[39m\u001b[39m.\u001b[39mget_transform()\u001b[39m.\u001b[39mtransform((x, y))\n",
      "File \u001b[0;32m/usr/local/lib/python3.9/site-packages/matplotlib/text.py:306\u001b[0m, in \u001b[0;36mText._get_layout\u001b[0;34m(self, renderer)\u001b[0m\n\u001b[1;32m    <a href='file:///usr/local/lib/python3.9/site-packages/matplotlib/text.py?line=302'>303</a>\u001b[0m ys \u001b[39m=\u001b[39m []\n\u001b[1;32m    <a href='file:///usr/local/lib/python3.9/site-packages/matplotlib/text.py?line=304'>305</a>\u001b[0m \u001b[39m# Full vertical extent of font, including ascenders and descenders:\u001b[39;00m\n\u001b[0;32m--> <a href='file:///usr/local/lib/python3.9/site-packages/matplotlib/text.py?line=305'>306</a>\u001b[0m _, lp_h, lp_d \u001b[39m=\u001b[39m renderer\u001b[39m.\u001b[39;49mget_text_width_height_descent(\n\u001b[1;32m    <a href='file:///usr/local/lib/python3.9/site-packages/matplotlib/text.py?line=306'>307</a>\u001b[0m     \u001b[39m\"\u001b[39;49m\u001b[39mlp\u001b[39;49m\u001b[39m\"\u001b[39;49m, \u001b[39mself\u001b[39;49m\u001b[39m.\u001b[39;49m_fontproperties,\n\u001b[1;32m    <a href='file:///usr/local/lib/python3.9/site-packages/matplotlib/text.py?line=307'>308</a>\u001b[0m     ismath\u001b[39m=\u001b[39;49m\u001b[39m\"\u001b[39;49m\u001b[39mTeX\u001b[39;49m\u001b[39m\"\u001b[39;49m \u001b[39mif\u001b[39;49;00m \u001b[39mself\u001b[39;49m\u001b[39m.\u001b[39;49mget_usetex() \u001b[39melse\u001b[39;49;00m \u001b[39mFalse\u001b[39;49;00m)\n\u001b[1;32m    <a href='file:///usr/local/lib/python3.9/site-packages/matplotlib/text.py?line=308'>309</a>\u001b[0m min_dy \u001b[39m=\u001b[39m (lp_h \u001b[39m-\u001b[39m lp_d) \u001b[39m*\u001b[39m \u001b[39mself\u001b[39m\u001b[39m.\u001b[39m_linespacing\n\u001b[1;32m    <a href='file:///usr/local/lib/python3.9/site-packages/matplotlib/text.py?line=310'>311</a>\u001b[0m \u001b[39mfor\u001b[39;00m i, line \u001b[39min\u001b[39;00m \u001b[39menumerate\u001b[39m(lines):\n",
      "File \u001b[0;32m/usr/local/lib/python3.9/site-packages/matplotlib/backends/_backend_pdf_ps.py:88\u001b[0m, in \u001b[0;36mRendererPDFPSBase.get_text_width_height_descent\u001b[0;34m(self, s, prop, ismath)\u001b[0m\n\u001b[1;32m     <a href='file:///usr/local/lib/python3.9/site-packages/matplotlib/backends/_backend_pdf_ps.py?line=85'>86</a>\u001b[0m     texmanager \u001b[39m=\u001b[39m \u001b[39mself\u001b[39m\u001b[39m.\u001b[39mget_texmanager()\n\u001b[1;32m     <a href='file:///usr/local/lib/python3.9/site-packages/matplotlib/backends/_backend_pdf_ps.py?line=86'>87</a>\u001b[0m     fontsize \u001b[39m=\u001b[39m prop\u001b[39m.\u001b[39mget_size_in_points()\n\u001b[0;32m---> <a href='file:///usr/local/lib/python3.9/site-packages/matplotlib/backends/_backend_pdf_ps.py?line=87'>88</a>\u001b[0m     w, h, d \u001b[39m=\u001b[39m texmanager\u001b[39m.\u001b[39;49mget_text_width_height_descent(\n\u001b[1;32m     <a href='file:///usr/local/lib/python3.9/site-packages/matplotlib/backends/_backend_pdf_ps.py?line=88'>89</a>\u001b[0m         s, fontsize, renderer\u001b[39m=\u001b[39;49m\u001b[39mself\u001b[39;49m)\n\u001b[1;32m     <a href='file:///usr/local/lib/python3.9/site-packages/matplotlib/backends/_backend_pdf_ps.py?line=89'>90</a>\u001b[0m     \u001b[39mreturn\u001b[39;00m w, h, d\n\u001b[1;32m     <a href='file:///usr/local/lib/python3.9/site-packages/matplotlib/backends/_backend_pdf_ps.py?line=90'>91</a>\u001b[0m \u001b[39melif\u001b[39;00m ismath:\n\u001b[1;32m     <a href='file:///usr/local/lib/python3.9/site-packages/matplotlib/backends/_backend_pdf_ps.py?line=91'>92</a>\u001b[0m     \u001b[39m# Circular import.\u001b[39;00m\n",
      "File \u001b[0;32m/usr/local/lib/python3.9/site-packages/matplotlib/texmanager.py:401\u001b[0m, in \u001b[0;36mTexManager.get_text_width_height_descent\u001b[0;34m(self, tex, fontsize, renderer)\u001b[0m\n\u001b[1;32m    <a href='file:///usr/local/lib/python3.9/site-packages/matplotlib/texmanager.py?line=398'>399</a>\u001b[0m dvifile \u001b[39m=\u001b[39m \u001b[39mself\u001b[39m\u001b[39m.\u001b[39mmake_dvi(tex, fontsize)\n\u001b[1;32m    <a href='file:///usr/local/lib/python3.9/site-packages/matplotlib/texmanager.py?line=399'>400</a>\u001b[0m \u001b[39mwith\u001b[39;00m dviread\u001b[39m.\u001b[39mDvi(dvifile, \u001b[39m72\u001b[39m \u001b[39m*\u001b[39m dpi_fraction) \u001b[39mas\u001b[39;00m dvi:\n\u001b[0;32m--> <a href='file:///usr/local/lib/python3.9/site-packages/matplotlib/texmanager.py?line=400'>401</a>\u001b[0m     page, \u001b[39m=\u001b[39m dvi\n\u001b[1;32m    <a href='file:///usr/local/lib/python3.9/site-packages/matplotlib/texmanager.py?line=401'>402</a>\u001b[0m \u001b[39m# A total height (including the descent) needs to be returned.\u001b[39;00m\n\u001b[1;32m    <a href='file:///usr/local/lib/python3.9/site-packages/matplotlib/texmanager.py?line=402'>403</a>\u001b[0m \u001b[39mreturn\u001b[39;00m page\u001b[39m.\u001b[39mwidth, page\u001b[39m.\u001b[39mheight \u001b[39m+\u001b[39m page\u001b[39m.\u001b[39mdescent, page\u001b[39m.\u001b[39mdescent\n",
      "File \u001b[0;32m/usr/local/lib/python3.9/site-packages/matplotlib/dviread.py:251\u001b[0m, in \u001b[0;36mDvi.__iter__\u001b[0;34m(self)\u001b[0m\n\u001b[1;32m    <a href='file:///usr/local/lib/python3.9/site-packages/matplotlib/dviread.py?line=234'>235</a>\u001b[0m \u001b[39mdef\u001b[39;00m \u001b[39m__iter__\u001b[39m(\u001b[39mself\u001b[39m):\n\u001b[1;32m    <a href='file:///usr/local/lib/python3.9/site-packages/matplotlib/dviread.py?line=235'>236</a>\u001b[0m     \u001b[39m\"\"\"\u001b[39;00m\n\u001b[1;32m    <a href='file:///usr/local/lib/python3.9/site-packages/matplotlib/dviread.py?line=236'>237</a>\u001b[0m \u001b[39m    Iterate through the pages of the file.\u001b[39;00m\n\u001b[1;32m    <a href='file:///usr/local/lib/python3.9/site-packages/matplotlib/dviread.py?line=237'>238</a>\u001b[0m \n\u001b[0;32m   (...)\u001b[0m\n\u001b[1;32m    <a href='file:///usr/local/lib/python3.9/site-packages/matplotlib/dviread.py?line=248'>249</a>\u001b[0m \u001b[39m        integers.\u001b[39;00m\n\u001b[1;32m    <a href='file:///usr/local/lib/python3.9/site-packages/matplotlib/dviread.py?line=249'>250</a>\u001b[0m \u001b[39m    \"\"\"\u001b[39;00m\n\u001b[0;32m--> <a href='file:///usr/local/lib/python3.9/site-packages/matplotlib/dviread.py?line=250'>251</a>\u001b[0m     \u001b[39mwhile\u001b[39;00m \u001b[39mself\u001b[39;49m\u001b[39m.\u001b[39;49m_read():\n\u001b[1;32m    <a href='file:///usr/local/lib/python3.9/site-packages/matplotlib/dviread.py?line=251'>252</a>\u001b[0m         \u001b[39myield\u001b[39;00m \u001b[39mself\u001b[39m\u001b[39m.\u001b[39m_output()\n",
      "File \u001b[0;32m/usr/local/lib/python3.9/site-packages/matplotlib/dviread.py:331\u001b[0m, in \u001b[0;36mDvi._read\u001b[0;34m(self)\u001b[0m\n\u001b[1;32m    <a href='file:///usr/local/lib/python3.9/site-packages/matplotlib/dviread.py?line=328'>329</a>\u001b[0m \u001b[39mwhile\u001b[39;00m \u001b[39mTrue\u001b[39;00m:\n\u001b[1;32m    <a href='file:///usr/local/lib/python3.9/site-packages/matplotlib/dviread.py?line=329'>330</a>\u001b[0m     byte \u001b[39m=\u001b[39m \u001b[39mself\u001b[39m\u001b[39m.\u001b[39mfile\u001b[39m.\u001b[39mread(\u001b[39m1\u001b[39m)[\u001b[39m0\u001b[39m]\n\u001b[0;32m--> <a href='file:///usr/local/lib/python3.9/site-packages/matplotlib/dviread.py?line=330'>331</a>\u001b[0m     \u001b[39mself\u001b[39;49m\u001b[39m.\u001b[39;49m_dtable[byte](\u001b[39mself\u001b[39;49m, byte)\n\u001b[1;32m    <a href='file:///usr/local/lib/python3.9/site-packages/matplotlib/dviread.py?line=331'>332</a>\u001b[0m     downs \u001b[39m+\u001b[39m\u001b[39m=\u001b[39m \u001b[39mself\u001b[39m\u001b[39m.\u001b[39m_dtable[byte]\u001b[39m.\u001b[39m\u001b[39m__name__\u001b[39m \u001b[39m==\u001b[39m \u001b[39m\"\u001b[39m\u001b[39m_down\u001b[39m\u001b[39m\"\u001b[39m\n\u001b[1;32m    <a href='file:///usr/local/lib/python3.9/site-packages/matplotlib/dviread.py?line=332'>333</a>\u001b[0m     \u001b[39mif\u001b[39;00m (\u001b[39mself\u001b[39m\u001b[39m.\u001b[39m_baseline_v \u001b[39mis\u001b[39;00m \u001b[39mNone\u001b[39;00m\n\u001b[1;32m    <a href='file:///usr/local/lib/python3.9/site-packages/matplotlib/dviread.py?line=333'>334</a>\u001b[0m             \u001b[39mand\u001b[39;00m \u001b[39mlen\u001b[39m(\u001b[39mgetattr\u001b[39m(\u001b[39mself\u001b[39m, \u001b[39m\"\u001b[39m\u001b[39mstack\u001b[39m\u001b[39m\"\u001b[39m, [])) \u001b[39m==\u001b[39m \u001b[39m3\u001b[39m\n\u001b[1;32m    <a href='file:///usr/local/lib/python3.9/site-packages/matplotlib/dviread.py?line=334'>335</a>\u001b[0m             \u001b[39mand\u001b[39;00m downs \u001b[39m>\u001b[39m\u001b[39m=\u001b[39m \u001b[39m4\u001b[39m):\n",
      "File \u001b[0;32m/usr/local/lib/python3.9/site-packages/matplotlib/dviread.py:174\u001b[0m, in \u001b[0;36m_dispatch.<locals>.decorate.<locals>.wrapper\u001b[0;34m(self, byte)\u001b[0m\n\u001b[1;32m    <a href='file:///usr/local/lib/python3.9/site-packages/matplotlib/dviread.py?line=171'>172</a>\u001b[0m \u001b[39mif\u001b[39;00m state \u001b[39mis\u001b[39;00m \u001b[39mnot\u001b[39;00m \u001b[39mNone\u001b[39;00m \u001b[39mand\u001b[39;00m \u001b[39mself\u001b[39m\u001b[39m.\u001b[39mstate \u001b[39m!=\u001b[39m state:\n\u001b[1;32m    <a href='file:///usr/local/lib/python3.9/site-packages/matplotlib/dviread.py?line=172'>173</a>\u001b[0m     \u001b[39mraise\u001b[39;00m \u001b[39mValueError\u001b[39;00m(\u001b[39m\"\u001b[39m\u001b[39mstate precondition failed\u001b[39m\u001b[39m\"\u001b[39m)\n\u001b[0;32m--> <a href='file:///usr/local/lib/python3.9/site-packages/matplotlib/dviread.py?line=173'>174</a>\u001b[0m \u001b[39mreturn\u001b[39;00m method(\u001b[39mself\u001b[39;49m, \u001b[39m*\u001b[39;49m[f(\u001b[39mself\u001b[39;49m, byte\u001b[39m-\u001b[39;49m\u001b[39mmin\u001b[39;49m) \u001b[39mfor\u001b[39;49;00m f \u001b[39min\u001b[39;49;00m get_args])\n",
      "File \u001b[0;32m/usr/local/lib/python3.9/site-packages/matplotlib/dviread.py:476\u001b[0m, in \u001b[0;36mDvi._fnt_def\u001b[0;34m(self, k, c, s, d, a, l)\u001b[0m\n\u001b[1;32m    <a href='file:///usr/local/lib/python3.9/site-packages/matplotlib/dviread.py?line=473'>474</a>\u001b[0m \u001b[39m@_dispatch\u001b[39m(\u001b[39mmin\u001b[39m\u001b[39m=\u001b[39m\u001b[39m243\u001b[39m, \u001b[39mmax\u001b[39m\u001b[39m=\u001b[39m\u001b[39m246\u001b[39m, args\u001b[39m=\u001b[39m(\u001b[39m'\u001b[39m\u001b[39molen1\u001b[39m\u001b[39m'\u001b[39m, \u001b[39m'\u001b[39m\u001b[39mu4\u001b[39m\u001b[39m'\u001b[39m, \u001b[39m'\u001b[39m\u001b[39mu4\u001b[39m\u001b[39m'\u001b[39m, \u001b[39m'\u001b[39m\u001b[39mu4\u001b[39m\u001b[39m'\u001b[39m, \u001b[39m'\u001b[39m\u001b[39mu1\u001b[39m\u001b[39m'\u001b[39m, \u001b[39m'\u001b[39m\u001b[39mu1\u001b[39m\u001b[39m'\u001b[39m))\n\u001b[1;32m    <a href='file:///usr/local/lib/python3.9/site-packages/matplotlib/dviread.py?line=474'>475</a>\u001b[0m \u001b[39mdef\u001b[39;00m \u001b[39m_fnt_def\u001b[39m(\u001b[39mself\u001b[39m, k, c, s, d, a, l):\n\u001b[0;32m--> <a href='file:///usr/local/lib/python3.9/site-packages/matplotlib/dviread.py?line=475'>476</a>\u001b[0m     \u001b[39mself\u001b[39;49m\u001b[39m.\u001b[39;49m_fnt_def_real(k, c, s, d, a, l)\n",
      "File \u001b[0;32m/usr/local/lib/python3.9/site-packages/matplotlib/dviread.py:483\u001b[0m, in \u001b[0;36mDvi._fnt_def_real\u001b[0;34m(self, k, c, s, d, a, l)\u001b[0m\n\u001b[1;32m    <a href='file:///usr/local/lib/python3.9/site-packages/matplotlib/dviread.py?line=480'>481</a>\u001b[0m tfm \u001b[39m=\u001b[39m _tfmfile(fontname)\n\u001b[1;32m    <a href='file:///usr/local/lib/python3.9/site-packages/matplotlib/dviread.py?line=481'>482</a>\u001b[0m \u001b[39mif\u001b[39;00m tfm \u001b[39mis\u001b[39;00m \u001b[39mNone\u001b[39;00m:\n\u001b[0;32m--> <a href='file:///usr/local/lib/python3.9/site-packages/matplotlib/dviread.py?line=482'>483</a>\u001b[0m     \u001b[39mraise\u001b[39;00m \u001b[39mFileNotFoundError\u001b[39;00m(\u001b[39m\"\u001b[39m\u001b[39mmissing font metrics file: \u001b[39m\u001b[39m%s\u001b[39;00m\u001b[39m\"\u001b[39m \u001b[39m%\u001b[39m fontname)\n\u001b[1;32m    <a href='file:///usr/local/lib/python3.9/site-packages/matplotlib/dviread.py?line=483'>484</a>\u001b[0m \u001b[39mif\u001b[39;00m c \u001b[39m!=\u001b[39m \u001b[39m0\u001b[39m \u001b[39mand\u001b[39;00m tfm\u001b[39m.\u001b[39mchecksum \u001b[39m!=\u001b[39m \u001b[39m0\u001b[39m \u001b[39mand\u001b[39;00m c \u001b[39m!=\u001b[39m tfm\u001b[39m.\u001b[39mchecksum:\n\u001b[1;32m    <a href='file:///usr/local/lib/python3.9/site-packages/matplotlib/dviread.py?line=484'>485</a>\u001b[0m     \u001b[39mraise\u001b[39;00m \u001b[39mValueError\u001b[39;00m(\u001b[39m'\u001b[39m\u001b[39mtfm checksum mismatch: \u001b[39m\u001b[39m%s\u001b[39;00m\u001b[39m'\u001b[39m \u001b[39m%\u001b[39m n)\n",
      "\u001b[0;31mFileNotFoundError\u001b[0m: missing font metrics file: cmr10"
     ]
    }
   ],
   "source": [
    "# Hamming Distance Graph\n",
    "strand_len = 110\n",
    "count_pos = [0] * (strand_len + 1)\n",
    "\n",
    "def hamming(ref_strand, recons_strand):\n",
    "    for i, (c1, c2) in enumerate(zip(ref_strand, recons_strand)):\n",
    "        if c1 != c2:\n",
    "            count_pos[i] += 1\n",
    "\n",
    "for i in tqdm(range(len(ref_strands))):\n",
    "    hamming(ref_strands[i], noisy_strands[i])\n",
    "\n",
    "print(count_pos[:-1])\n",
    "f = plt.figure()\n",
    "plt.plot(range(strand_len), count_pos[:-1])\n",
    "plt.title(r'Hamming Error: Iterative;  N = 5', fontsize=11)\n",
    "plt.xlabel(r'Strand Position', fontsize=11)\n",
    "plt.ylabel(r'No. of Errors', fontsize=11)\n",
    "plt.show()\n",
    "f.savefig('cov5-iter-hamming.pdf', bbox_inches='tight')"
   ]
  },
  {
   "cell_type": "code",
   "execution_count": null,
   "metadata": {},
   "outputs": [
    {
     "name": "stderr",
     "output_type": "stream",
     "text": [
      "100%|██████████| 10000/10000 [00:14<00:00, 686.55it/s]\n"
     ]
    }
   ],
   "source": [
    "pairs = []\n",
    "pairs_no_pos = []\n",
    "\n",
    "for i in tqdm(range(len(ref_strands))):\n",
    "    if ref_strands[i] != noisy_strands[i]:\n",
    "        print_diff(ref_strands[i], noisy_strands[i])\n"
   ]
  },
  {
   "cell_type": "code",
   "execution_count": null,
   "metadata": {},
   "outputs": [
    {
     "name": "stdout",
     "output_type": "stream",
     "text": [
      "C -> AG 7\n",
      "C -> AT 7\n",
      "T -> CG 9\n",
      "C -> GT 12\n",
      "G -> A 13\n",
      "G -> C 28\n",
      "T ->  34\n",
      "C ->  37\n",
      "G -> T 40\n",
      "A -> C 48\n",
      "A -> T 48\n",
      "A -> G 51\n",
      "C -> A 54\n",
      "C -> G 55\n",
      "C -> T 66\n",
      "T -> A 73\n",
      "T -> G 79\n",
      "T -> C 92\n",
      "A ->  179\n",
      "G ->  203\n",
      " -> T 1360\n",
      " -> A 1509\n",
      " -> C 1668\n",
      " -> G 1760\n"
     ]
    }
   ],
   "source": [
    "\n",
    "subs_no_pos, counts_no_pos = np.unique(pairs_no_pos, return_counts=True, axis=0)\n",
    "sorting = np.argsort(counts_no_pos)\n",
    "subs_no_pos = subs_no_pos[sorting]\n",
    "counts_no_pos = counts_no_pos[sorting]\n",
    "\n",
    "for sub, count in zip(subs_no_pos, counts_no_pos):\n",
    "    if count > 5:\n",
    "        print(\"{} -> {}\".format(sub[0], sub[1]), count)\n"
   ]
  },
  {
   "cell_type": "code",
   "execution_count": null,
   "metadata": {},
   "outputs": [
    {
     "name": "stdout",
     "output_type": "stream",
     "text": [
      " -> G @ 104 6\n",
      " -> A @ 32 6\n",
      " -> A @ 81 6\n",
      " -> C @ 41 6\n",
      " -> A @ 71 6\n",
      " -> G @ 29 6\n",
      " -> A @ 72 6\n",
      " -> T @ 90 6\n",
      " -> G @ 56 6\n",
      " -> A @ 79 6\n",
      " -> A @ 25 6\n",
      " -> A @ 78 6\n",
      " -> C @ 38 6\n",
      " -> A @ 77 6\n",
      " -> C @ 108 6\n",
      " -> T @ 88 6\n",
      " -> A @ 75 6\n",
      " -> A @ 68 6\n",
      " -> T @ 65 6\n",
      " -> G @ 96 6\n",
      " -> C @ 10 6\n",
      " -> C @ 83 6\n",
      " -> C @ 61 6\n",
      " -> A @ 89 6\n",
      " -> A @ 48 6\n",
      " -> A @ 47 6\n",
      " -> T @ 41 6\n",
      " -> A @ 50 6\n",
      " -> A @ 54 6\n",
      " -> T @ 54 6\n",
      " -> A @ 64 6\n",
      " -> A @ 58 6\n",
      " -> C @ 52 6\n",
      " -> A @ 65 6\n",
      " -> T @ 62 6\n",
      " -> C @ 68 6\n",
      " -> C @ 103 6\n",
      " -> A @ 98 6\n",
      " -> C @ 13 7\n",
      " -> T @ 100 7\n",
      " -> C @ 15 7\n",
      "T ->  @ 110 7\n",
      "C -> AT @ 110 7\n",
      " -> T @ 91 7\n",
      " -> T @ 63 7\n",
      " -> T @ 35 7\n",
      " -> T @ 38 7\n",
      " -> T @ 40 7\n",
      " -> T @ 53 7\n",
      " -> G @ 59 7\n",
      " -> A @ 102 7\n",
      " -> A @ 96 7\n",
      " -> G @ 61 7\n",
      " -> T @ 77 7\n",
      " -> A @ 95 7\n",
      " -> C @ 102 7\n",
      "C -> AG @ 110 7\n",
      " -> A @ 11 7\n",
      " -> T @ 14 7\n",
      " -> A @ 69 7\n",
      " -> C @ 90 7\n",
      " -> C @ 43 7\n",
      " -> C @ 9 7\n",
      " -> A @ 28 7\n",
      " -> A @ 45 7\n",
      " -> C @ 99 7\n",
      " -> C @ 82 7\n",
      " -> C @ 92 7\n",
      " -> A @ 23 7\n",
      " -> C @ 8 7\n",
      " -> G @ 27 7\n",
      " -> A @ 21 7\n",
      " -> A @ 15 7\n",
      " -> A @ 82 7\n",
      " -> A @ 67 7\n",
      " -> A @ 87 7\n",
      " -> C @ 65 7\n",
      " -> A @ 17 7\n",
      " -> C @ 5 7\n",
      " -> C @ 77 7\n",
      " -> A @ 53 7\n",
      " -> A @ 56 7\n",
      " -> T @ 46 8\n",
      " -> A @ 42 8\n",
      " -> C @ 57 8\n",
      " -> G @ 84 8\n",
      " -> T @ 43 8\n",
      " -> A @ 40 8\n",
      " -> G @ 88 8\n",
      " -> C @ 20 8\n",
      " -> G @ 9 8\n",
      " -> G @ 90 8\n",
      " -> C @ 63 8\n",
      " -> C @ 80 8\n",
      " -> C @ 64 8\n",
      " -> A @ 51 8\n",
      " -> T @ 27 8\n",
      " -> T @ 25 8\n",
      " -> A @ 99 8\n",
      " -> T @ 104 8\n",
      " -> G @ 89 8\n",
      " -> C @ 85 8\n",
      " -> G @ 76 8\n",
      " -> T @ 84 8\n",
      " -> G @ 28 8\n",
      " -> C @ 33 8\n",
      " -> C @ 37 8\n",
      " -> T @ 87 8\n",
      " -> A @ 92 8\n",
      " -> G @ 15 8\n",
      " -> A @ 16 8\n",
      " -> A @ 107 8\n",
      " -> C @ 17 8\n",
      " -> A @ 27 8\n",
      " -> A @ 7 8\n",
      " -> T @ 78 8\n",
      " -> G @ 41 8\n",
      " -> G @ 63 8\n",
      " -> A @ 34 8\n",
      " -> G @ 66 8\n",
      " -> T @ 74 8\n",
      " -> T @ 71 8\n",
      " -> G @ 70 8\n",
      " -> G @ 100 8\n",
      " -> C @ 49 8\n",
      " -> T @ 59 8\n",
      " -> T @ 97 8\n",
      " -> A @ 94 8\n",
      " -> T @ 20 9\n",
      "T -> CG @ 110 9\n",
      " -> T @ 18 9\n",
      " -> T @ 55 9\n",
      " -> T @ 86 9\n",
      " -> T @ 56 9\n",
      " -> T @ 4 9\n",
      " -> T @ 42 9\n",
      " -> T @ 72 9\n",
      " -> T @ 68 9\n",
      " -> T @ 60 9\n",
      " -> T @ 32 9\n",
      " -> T @ 12 9\n",
      " -> G @ 81 9\n",
      " -> G @ 105 9\n",
      " -> G @ 68 9\n",
      " -> G @ 95 9\n",
      " -> C @ 21 9\n",
      " -> G @ 13 9\n",
      " -> C @ 25 9\n",
      " -> C @ 26 9\n",
      " -> G @ 12 9\n",
      " -> A @ 10 9\n",
      " -> G @ 86 9\n",
      " -> G @ 54 9\n",
      " -> C @ 40 9\n",
      " -> A @ 103 9\n",
      " -> C @ 45 9\n",
      " -> C @ 50 9\n",
      " -> G @ 108 9\n",
      " -> G @ 107 9\n",
      " -> C @ 60 9\n",
      " -> G @ 83 9\n",
      " -> G @ 103 9\n",
      " -> G @ 79 9\n",
      " -> T @ 108 9\n",
      " -> C @ 95 9\n",
      " -> G @ 72 9\n",
      " -> C @ 11 9\n",
      " -> G @ 45 9\n",
      " -> G @ 26 9\n",
      " -> A @ 5 9\n",
      " -> A @ 44 9\n",
      " -> T @ 103 9\n",
      " -> A @ 33 9\n",
      " -> G @ 99 9\n",
      " -> A @ 57 9\n",
      " -> A @ 31 9\n",
      " -> A @ 61 9\n",
      " -> A @ 26 9\n",
      " -> A @ 8 9\n",
      " -> A @ 22 9\n",
      " -> G @ 64 9\n",
      " -> A @ 86 9\n",
      " -> A @ 20 9\n",
      " -> A @ 93 9\n",
      " -> A @ 97 9\n",
      " -> G @ 53 9\n",
      " -> A @ 13 9\n",
      " -> A @ 41 9\n",
      " -> G @ 50 9\n",
      " -> G @ 42 10\n",
      " -> T @ 95 10\n",
      " -> T @ 98 10\n",
      " -> T @ 99 10\n",
      " -> G @ 47 10\n",
      " -> G @ 21 10\n",
      " -> G @ 22 10\n",
      " -> C @ 94 10\n",
      " -> T @ 94 10\n",
      " -> C @ 86 10\n",
      " -> C @ 30 10\n",
      " -> C @ 78 10\n",
      " -> A @ 19 10\n",
      " -> A @ 36 10\n",
      " -> A @ 38 10\n",
      " -> A @ 46 10\n",
      " -> A @ 60 10\n",
      " -> A @ 66 10\n",
      " -> A @ 80 10\n",
      " -> A @ 85 10\n",
      " -> C @ 101 10\n",
      " -> C @ 104 10\n",
      " -> C @ 105 10\n",
      " -> A @ 104 10\n",
      " -> C @ 12 10\n",
      " -> C @ 19 10\n",
      " -> C @ 22 10\n",
      " -> C @ 28 10\n",
      " -> C @ 29 10\n",
      " -> C @ 54 10\n",
      " -> C @ 58 10\n",
      " -> C @ 67 10\n",
      " -> C @ 71 10\n",
      " -> C @ 73 10\n",
      " -> C @ 75 10\n",
      " -> C @ 81 10\n",
      " -> G @ 57 10\n",
      " -> A @ 108 10\n",
      " -> G @ 87 10\n",
      " -> G @ 85 10\n",
      " -> G @ 71 10\n",
      " -> T @ 73 10\n",
      " -> T @ 76 10\n",
      " -> G @ 62 10\n",
      " -> T @ 102 10\n",
      " -> T @ 29 10\n",
      " -> T @ 17 10\n",
      " -> T @ 8 10\n",
      " -> T @ 33 10\n",
      " -> T @ 58 10\n",
      " -> T @ 39 10\n",
      " -> G @ 6 10\n",
      " -> G @ 97 10\n",
      " -> T @ 61 10\n",
      " -> T @ 83 10\n",
      " -> T @ 105 10\n",
      " -> G @ 17 11\n",
      " -> C @ 46 11\n",
      " -> C @ 47 11\n",
      " -> G @ 14 11\n",
      " -> T @ 70 11\n",
      " -> T @ 7 11\n",
      " -> T @ 50 11\n",
      " -> G @ 19 11\n",
      " -> T @ 37 11\n",
      " -> A @ 39 11\n",
      " -> T @ 19 11\n",
      " -> C @ 62 11\n",
      " -> A @ 74 11\n",
      " -> A @ 70 11\n",
      " -> C @ 96 11\n",
      " -> C @ 70 11\n",
      " -> C @ 72 11\n",
      " -> C @ 76 11\n",
      " -> T @ 69 11\n",
      " -> T @ 3 11\n",
      " -> G @ 69 11\n",
      " -> T @ 45 11\n",
      " -> A @ 106 11\n",
      " -> T @ 34 11\n",
      " -> T @ 79 11\n",
      " -> G @ 46 11\n",
      " -> G @ 91 11\n",
      "G -> A @ 110 11\n",
      " -> T @ 44 11\n",
      " -> C @ 84 11\n",
      " -> A @ 24 11\n",
      " -> C @ 79 11\n",
      " -> C @ 31 11\n",
      " -> C @ 39 11\n",
      " -> A @ 30 11\n",
      " -> G @ 31 11\n",
      " -> T @ 106 11\n",
      " -> T @ 47 12\n",
      " -> T @ 48 12\n",
      " -> G @ 75 12\n",
      " -> C @ 106 12\n",
      " -> G @ 77 12\n",
      " -> C @ 74 12\n",
      " -> C @ 100 12\n",
      " -> C @ 24 12\n",
      " -> T @ 30 12\n",
      " -> A @ 88 12\n",
      " -> A @ 76 12\n",
      " -> C @ 27 12\n",
      " -> A @ 90 12\n",
      " -> A @ 83 12\n",
      " -> A @ 91 12\n",
      " -> T @ 52 12\n",
      " -> T @ 85 12\n",
      " -> C @ 51 12\n",
      " -> C @ 36 12\n",
      " -> T @ 49 12\n",
      "C -> GT @ 110 12\n",
      " -> G @ 20 12\n",
      " -> G @ 40 12\n",
      " -> A @ 14 12\n",
      " -> G @ 36 12\n",
      " -> A @ 29 12\n",
      " -> G @ 33 12\n",
      " -> G @ 3 12\n",
      " -> G @ 49 12\n",
      " -> G @ 67 12\n",
      " -> T @ 16 12\n",
      " -> T @ 80 12\n",
      " -> A @ 37 12\n",
      " -> T @ 75 12\n",
      " -> T @ 67 12\n",
      " -> G @ 106 12\n",
      " -> G @ 7 12\n",
      " -> T @ 107 12\n",
      " -> T @ 24 12\n",
      " -> T @ 9 12\n",
      " -> T @ 21 12\n",
      " -> A @ 100 12\n",
      " -> A @ 49 12\n",
      " -> T @ 64 12\n",
      " -> C @ 88 13\n",
      " -> T @ 13 13\n",
      " -> C @ 93 13\n",
      " -> T @ 15 13\n",
      " -> C @ 35 13\n",
      " -> G @ 30 13\n",
      " -> T @ 93 13\n",
      " -> T @ 66 13\n",
      " -> T @ 5 13\n",
      " -> T @ 92 13\n",
      " -> T @ 11 13\n",
      " -> G @ 11 13\n",
      " -> T @ 28 13\n",
      " -> C @ 56 13\n",
      "C ->  @ 110 13\n",
      " -> C @ 59 13\n",
      " -> C @ 44 13\n",
      " -> G @ 74 13\n",
      " -> T @ 96 14\n",
      " -> C @ 18 14\n",
      " -> G @ 98 14\n",
      " -> G @ 94 14\n",
      " -> A @ 12 14\n",
      " -> C @ 87 14\n",
      " -> G @ 39 14\n",
      " -> C @ 4 14\n",
      " -> G @ 24 14\n",
      " -> G @ 16 14\n",
      " -> C @ 48 14\n",
      " -> T @ 51 14\n",
      " -> C @ 7 14\n",
      " -> G @ 78 14\n",
      " -> T @ 101 14\n",
      " -> T @ 10 14\n",
      " -> G @ 43 14\n",
      " -> T @ 2 15\n",
      " -> T @ 36 15\n",
      " -> A @ 59 15\n",
      " -> G @ 10 15\n",
      " -> G @ 73 15\n",
      " -> C @ 14 15\n",
      " -> G @ 52 15\n",
      " -> G @ 5 15\n",
      " -> G @ 44 15\n",
      " -> G @ 4 15\n",
      " -> C @ 32 15\n",
      " -> C @ 42 15\n",
      " -> C @ 89 16\n",
      " -> G @ 102 16\n",
      " -> T @ 1 16\n",
      " -> A @ 4 16\n",
      " -> G @ 8 16\n",
      " -> G @ 32 16\n",
      " -> A @ 3 16\n",
      " -> C @ 66 16\n",
      " -> C @ 98 16\n",
      " -> G @ 35 16\n",
      " -> C @ 91 16\n",
      " -> G @ 60 16\n",
      " -> G @ 92 16\n",
      " -> G @ 34 16\n",
      " -> C @ 3 17\n",
      " -> G @ 37 17\n",
      " -> C @ 16 17\n",
      " -> C @ 34 17\n",
      " -> G @ 58 18\n",
      " -> C @ 69 18\n",
      " -> C @ 6 18\n",
      " -> C @ 23 19\n",
      " -> G @ 101 19\n",
      " -> T @ 31 20\n",
      "G -> C @ 110 20\n",
      " -> C @ 97 20\n",
      " -> T @ 0 26\n",
      "G -> T @ 110 36\n",
      "A -> C @ 110 39\n",
      " -> A @ 2 40\n",
      "A -> T @ 110 43\n",
      "A -> G @ 110 45\n",
      "C -> G @ 110 49\n",
      "C -> A @ 110 49\n",
      " -> A @ 110 51\n",
      " -> C @ 110 59\n",
      " -> G @ 2 60\n",
      "T -> A @ 110 61\n",
      "C -> T @ 110 61\n",
      " -> C @ 2 64\n",
      " -> G @ 1 66\n",
      "T -> G @ 110 72\n",
      "T -> C @ 110 76\n",
      " -> C @ 1 93\n",
      " -> A @ 1 105\n",
      " -> G @ 110 108\n",
      " -> T @ 110 117\n",
      " -> C @ 0 162\n",
      " -> T @ 109 164\n",
      "A ->  @ 110 166\n",
      " -> A @ 0 172\n",
      " -> G @ 0 173\n",
      "G ->  @ 110 189\n",
      " -> C @ 109 195\n",
      " -> G @ 109 268\n",
      " -> A @ 109 274\n",
      "[539, 286, 185, 60, 57, 44, 35, 48, 44, 34, 44, 43, 44, 40, 47, 37, 53, 38, 34, 45, 38, 40, 32, 34, 54, 29, 33, 36, 38, 40, 49, 54, 47, 40, 53, 40, 52, 49, 28, 48, 38, 29, 42, 36, 51, 36, 41, 41, 38, 47, 36, 39, 38, 26, 35, 20, 36, 33, 47, 45, 46, 33, 35, 29, 38, 24, 48, 41, 30, 49, 44, 36, 36, 42, 45, 44, 42, 35, 39, 39, 35, 32, 21, 37, 34, 44, 38, 40, 39, 35, 33, 48, 44, 40, 42, 38, 40, 50, 48, 36, 39, 51, 40, 35, 34, 35, 48, 38, 35, 902, 1344]\n"
     ]
    },
    {
     "data": {
      "text/plain": [
       "[<matplotlib.lines.Line2D at 0x125c57340>]"
      ]
     },
     "execution_count": 195,
     "metadata": {},
     "output_type": "execute_result"
    },
    {
     "data": {
      "image/png": "[encoded data removed]",
      "text/plain": [
       "<Figure size 432x288 with 1 Axes>"
      ]
     },
     "metadata": {
      "needs_background": "light"
     },
     "output_type": "display_data"
    }
   ],
   "source": [
    "subs, counts = np.unique(pairs, return_counts=True, axis=0)\n",
    "sorting = np.argsort(counts)\n",
    "subs = subs[sorting]\n",
    "counts = counts[sorting]\n",
    "\n",
    "for sub, count in zip(subs, counts):\n",
    "    if count > 5:\n",
    "        print(\"{} -> {} @ {}\".format(sub[0], sub[1], sub[2]), count)\n",
    "\n",
    "strand_len = 110\n",
    "pos_counts = [0] * (strand_len + 1)\n",
    "for sub, count in zip(subs, counts):\n",
    "    pos_counts[int(sub[2])] += count\n",
    "\n",
    "print(pos_counts)\n",
    "\n",
    "f = plt.figure()\n",
    "plt.plot(range(strand_len + 1), pos_counts)\n",
    "plt.title(r'Aligned Error: Iterative @ N = 5', fontsize=11)\n",
    "plt.xlabel(r'Strand Position', fontsize=11)\n",
    "plt.ylabel(r'No. of Errors', fontsize=11)\n",
    "plt.show()\n",
    "f.savefig('cov5-iter-aligned.pdf', bbox_inches='tight')"
   ]
  },
  {
   "cell_type": "code",
   "execution_count": null,
   "metadata": {},
   "outputs": [],
   "source": [
    "subs, counts = np.unique(pairs, return_counts=True, axis=0)\n",
    "sorting = np.argsort(counts)\n",
    "subs = subs[sorting]\n",
    "counts = counts[sorting]\n"
   ]
  },
  {
   "cell_type": "code",
   "execution_count": null,
   "metadata": {},
   "outputs": [],
   "source": [
    "def get_key(char1, char2):\n",
    "    char1 = char1 if char1 != '' else '_'\n",
    "    char2 = char2 if char2 != '' else '_'\n",
    "    return char1 + ' -> ' + char2\n",
    "\n",
    "strand_len = 110\n",
    "pos_map = {}\n",
    "pos_counts = [0] * (strand_len + 1)\n",
    "for sub, count in zip(subs, counts):\n",
    "    key = get_key(sub[0], sub[1])\n",
    "    if key not in pos_map:\n",
    "        pos_map[key] = [0] * (strand_len + 1)\n",
    "    pos_map[key][int(sub[2])] += count"
   ]
  },
  {
   "cell_type": "code",
   "execution_count": null,
   "metadata": {},
   "outputs": [],
   "source": [
    "sub_keys = [get_key(sub[0], sub[1]) for sub in subs_no_pos]\n",
    "max_10_keys = sub_keys[-10:]\n",
    "max_10_counts = counts_no_pos[-10:]\n"
   ]
  },
  {
   "cell_type": "code",
   "execution_count": null,
   "metadata": {},
   "outputs": [
    {
     "name": "stdout",
     "output_type": "stream",
     "text": [
      "[173, 66, 60, 12, 15, 15, 10, 12, 16, 8, 15, 13, 9, 9, 11, 8, 14, 11, 5, 11, 12, 10, 10, 3, 14, 4, 9, 7, 8, 6, 13, 11, 16, 12, 16, 16, 12, 17, 5, 14, 12, 8, 10, 14, 15, 9, 11, 10, 4, 12, 9, 5, 15, 9, 9, 3, 6, 10, 18, 7, 16, 7, 10, 8, 9, 2, 8, 12, 9, 11, 8, 10, 9, 15, 13, 12, 8, 12, 14, 9, 5, 9, 3, 9, 8, 10, 9, 10, 8, 8, 8, 11, 16, 5, 14, 9, 6, 10, 14, 9, 8, 19, 16, 9, 6, 9, 12, 9, 9, 268, 108]\n",
      "[162, 93, 64, 17, 14, 7, 18, 14, 7, 7, 6, 9, 10, 7, 15, 7, 17, 8, 14, 10, 8, 9, 10, 19, 12, 9, 9, 12, 10, 10, 10, 11, 15, 8, 17, 13, 12, 8, 6, 11, 9, 6, 15, 7, 13, 9, 11, 11, 14, 8, 9, 12, 6, 2, 10, 4, 13, 8, 10, 13, 9, 6, 11, 8, 8, 7, 16, 10, 6, 18, 11, 10, 11, 10, 12, 10, 11, 7, 10, 11, 8, 10, 7, 6, 11, 8, 10, 14, 13, 16, 7, 16, 7, 13, 10, 9, 11, 20, 16, 7, 12, 10, 7, 6, 10, 10, 12, 5, 6, 195, 59]\n",
      "[172, 105, 40, 16, 16, 9, 2, 8, 9, 4, 9, 7, 14, 9, 12, 7, 8, 7, 5, 10, 9, 7, 9, 7, 11, 6, 9, 8, 7, 12, 11, 9, 6, 9, 8, 4, 10, 12, 10, 11, 8, 9, 8, 5, 9, 7, 10, 6, 6, 12, 6, 8, 3, 7, 6, 2, 7, 9, 6, 15, 10, 9, 5, 5, 6, 6, 10, 7, 6, 7, 11, 6, 6, 4, 11, 6, 12, 6, 6, 6, 10, 6, 7, 12, 5, 10, 9, 7, 12, 6, 12, 12, 8, 9, 8, 7, 7, 9, 6, 8, 12, 5, 7, 9, 10, 4, 11, 8, 10, 274, 51]\n",
      "[26, 16, 15, 11, 9, 13, 5, 11, 10, 12, 14, 13, 9, 13, 7, 13, 12, 10, 9, 11, 9, 12, 2, 5, 12, 8, 5, 8, 13, 10, 12, 20, 9, 10, 11, 7, 15, 11, 7, 10, 7, 6, 9, 8, 11, 11, 8, 12, 12, 12, 11, 14, 12, 7, 6, 9, 9, 3, 10, 8, 9, 10, 6, 7, 12, 6, 13, 12, 9, 11, 11, 8, 9, 10, 8, 12, 10, 7, 8, 11, 12, 5, 4, 10, 8, 12, 9, 8, 6, 5, 6, 7, 13, 13, 10, 10, 14, 8, 10, 10, 7, 14, 10, 9, 8, 10, 11, 12, 9, 164, 117]\n",
      "[0, 0, 0, 0, 0, 0, 0, 1, 0, 0, 0, 0, 0, 0, 0, 1, 0, 0, 0, 1, 0, 0, 0, 0, 0, 0, 1, 0, 0, 0, 0, 0, 1, 0, 0, 0, 0, 0, 0, 0, 0, 0, 0, 0, 1, 0, 0, 0, 0, 0, 1, 0, 0, 0, 0, 0, 1, 0, 1, 0, 0, 0, 0, 0, 0, 0, 0, 0, 0, 0, 0, 0, 0, 0, 0, 0, 0, 0, 1, 0, 0, 0, 0, 0, 0, 2, 0, 0, 0, 0, 0, 1, 0, 0, 0, 0, 0, 0, 0, 0, 0, 0, 0, 0, 0, 1, 0, 0, 0, 0, 189]\n",
      "[0, 0, 0, 0, 0, 0, 0, 0, 1, 0, 0, 0, 0, 0, 0, 0, 0, 0, 0, 0, 0, 0, 0, 0, 0, 0, 0, 0, 0, 0, 1, 1, 0, 0, 0, 0, 0, 0, 0, 0, 0, 0, 0, 0, 0, 0, 0, 1, 0, 1, 0, 0, 0, 0, 0, 0, 0, 0, 0, 0, 0, 0, 0, 0, 1, 2, 1, 0, 0, 0, 0, 0, 0, 1, 0, 0, 0, 0, 0, 0, 0, 0, 0, 0, 0, 0, 0, 0, 0, 0, 0, 0, 0, 0, 0, 0, 0, 0, 1, 0, 0, 1, 0, 0, 0, 0, 0, 1, 0, 0, 166]\n",
      "[0, 0, 1, 0, 0, 0, 0, 1, 0, 0, 0, 0, 0, 0, 0, 0, 0, 0, 0, 0, 0, 1, 0, 0, 0, 0, 0, 1, 0, 0, 0, 0, 0, 0, 0, 0, 1, 0, 0, 0, 0, 0, 0, 0, 1, 0, 0, 0, 0, 0, 0, 0, 1, 0, 2, 0, 0, 0, 0, 1, 0, 0, 1, 0, 0, 0, 0, 0, 0, 0, 1, 0, 0, 0, 0, 0, 0, 0, 0, 0, 0, 0, 0, 0, 0, 0, 0, 0, 0, 0, 0, 0, 0, 0, 0, 0, 0, 2, 0, 0, 0, 0, 0, 0, 0, 0, 0, 1, 1, 0, 76]\n",
      "[0, 0, 0, 0, 2, 0, 0, 0, 0, 0, 0, 0, 0, 0, 0, 0, 0, 1, 0, 0, 0, 0, 0, 0, 0, 0, 0, 0, 0, 0, 0, 0, 0, 0, 0, 0, 0, 0, 0, 0, 0, 0, 0, 0, 0, 0, 0, 0, 0, 0, 0, 0, 1, 0, 0, 0, 0, 0, 0, 0, 1, 0, 0, 0, 0, 0, 0, 0, 0, 0, 0, 0, 0, 1, 0, 0, 0, 0, 0, 0, 0, 0, 0, 0, 0, 1, 0, 0, 0, 0, 0, 0, 0, 0, 0, 0, 0, 0, 0, 0, 0, 0, 0, 0, 0, 0, 0, 0, 0, 0, 72]\n",
      "[0, 0, 0, 0, 0, 0, 0, 0, 0, 0, 0, 0, 0, 0, 0, 0, 0, 1, 0, 0, 0, 0, 0, 0, 0, 0, 0, 0, 0, 0, 0, 0, 0, 0, 0, 0, 0, 0, 0, 1, 0, 0, 0, 0, 0, 0, 0, 0, 0, 0, 0, 0, 0, 0, 1, 1, 0, 0, 2, 0, 0, 0, 0, 0, 0, 1, 0, 0, 0, 1, 0, 0, 0, 0, 0, 0, 0, 0, 0, 0, 0, 0, 0, 0, 0, 0, 0, 0, 0, 0, 0, 0, 0, 0, 0, 0, 0, 0, 0, 0, 0, 1, 0, 2, 0, 0, 1, 0, 0, 0, 61]\n",
      "[0, 1, 0, 0, 0, 0, 0, 0, 0, 1, 0, 0, 0, 0, 0, 0, 0, 0, 0, 0, 0, 0, 0, 0, 0, 0, 0, 0, 0, 1, 0, 0, 0, 1, 0, 0, 0, 0, 0, 0, 0, 0, 0, 0, 0, 0, 0, 0, 0, 0, 0, 0, 0, 0, 0, 1, 0, 0, 0, 0, 0, 0, 0, 0, 0, 0, 0, 0, 0, 0, 0, 0, 0, 0, 0, 0, 0, 0, 0, 0, 0, 0, 0, 0, 0, 0, 0, 0, 0, 0, 0, 0, 0, 0, 0, 0, 0, 0, 0, 0, 0, 0, 0, 0, 0, 0, 0, 0, 0, 0, 61]\n"
     ]
    },
    {
     "data": {
      "image/png": "[encoded data removed]",
      "text/plain": [
       "<Figure size 432x288 with 1 Axes>"
      ]
     },
     "metadata": {
      "needs_background": "light"
     },
     "output_type": "display_data"
    },
    {
     "data": {
      "image/png": "[encoded data removed]",
      "text/plain": [
       "<Figure size 432x288 with 1 Axes>"
      ]
     },
     "metadata": {
      "needs_background": "light"
     },
     "output_type": "display_data"
    },
    {
     "data": {
      "image/png": "[encoded data removed]",
      "text/plain": [
       "<Figure size 432x288 with 1 Axes>"
      ]
     },
     "metadata": {
      "needs_background": "light"
     },
     "output_type": "display_data"
    },
    {
     "data": {
      "image/png": "[encoded data removed]",
      "text/plain": [
       "<Figure size 432x288 with 1 Axes>"
      ]
     },
     "metadata": {
      "needs_background": "light"
     },
     "output_type": "display_data"
    },
    {
     "data": {
      "image/png": "[encoded data removed]",
      "text/plain": [
       "<Figure size 432x288 with 1 Axes>"
      ]
     },
     "metadata": {
      "needs_background": "light"
     },
     "output_type": "display_data"
    },
    {
     "data": {
      "image/png": "[encoded data removed]",
      "text/plain": [
       "<Figure size 432x288 with 1 Axes>"
      ]
     },
     "metadata": {
      "needs_background": "light"
     },
     "output_type": "display_data"
    },
    {
     "data": {
      "image/png": "[encoded data removed]",
      "text/plain": [
       "<Figure size 432x288 with 1 Axes>"
      ]
     },
     "metadata": {
      "needs_background": "light"
     },
     "output_type": "display_data"
    },
    {
     "data": {
      "image/png": "[encoded data removed]",
      "text/plain": [
       "<Figure size 432x288 with 1 Axes>"
      ]
     },
     "metadata": {
      "needs_background": "light"
     },
     "output_type": "display_data"
    },
    {
     "data": {
      "image/png": "[encoded data removed]",
      "text/plain": [
       "<Figure size 432x288 with 1 Axes>"
      ]
     },
     "metadata": {
      "needs_background": "light"
     },
     "output_type": "display_data"
    },
    {
     "data": {
      "image/png": "[encoded data removed]",
      "text/plain": [
       "<Figure size 432x288 with 1 Axes>"
      ]
     },
     "metadata": {
      "needs_background": "light"
     },
     "output_type": "display_data"
    }
   ],
   "source": [
    "for key, count in zip(reversed(max_10_keys), reversed(max_10_counts)):\n",
    "    plt.figure(key)\n",
    "    print(pos_map[key])\n",
    "    plt.plot(range(strand_len + 1), pos_map[key])"
   ]
  },
  {
   "cell_type": "code",
   "execution_count": null,
   "metadata": {},
   "outputs": [],
   "source": [
    "np.save('subs.npy', subs)\n",
    "np.save('counts.npy', counts)"
   ]
  }
 ],
 "metadata": {
  "interpreter": {
   "hash": "aee8b7b246df8f9039afb4144a1f6fd8d2ca17a180786b69acc140d282b71a49"
  },
  "kernelspec": {
   "display_name": "Python 3.9.10 64-bit",
   "language": "python",
   "name": "python3"
  },
  "language_info": {
   "codemirror_mode": {
    "name": "ipython",
    "version": 3
   },
   "file_extension": ".py",
   "mimetype": "text/x-python",
   "name": "python",
   "nbconvert_exporter": "python",
   "pygments_lexer": "ipython3",
   "version": "3.9.10"
  },
  "orig_nbformat": 4
 },
 "nbformat": 4,
 "nbformat_minor": 2
}
