{
 "cells": [
  {
   "cell_type": "code",
   "execution_count": 13,
   "metadata": {},
   "outputs": [],
   "source": [
    "import pandas as pd"
   ]
  },
  {
   "cell_type": "code",
   "execution_count": 14,
   "metadata": {},
   "outputs": [],
   "source": [
    "\n",
    "df = pd.read_csv('recons-sab-bma.csv')\n"
   ]
  },
  {
   "cell_type": "code",
   "execution_count": 15,
   "metadata": {},
   "outputs": [
    {
     "data": {
      "text/html": [
       "<div>\n",
       "<style scoped>\n",
       "    .dataframe tbody tr th:only-of-type {\n",
       "        vertical-align: middle;\n",
       "    }\n",
       "\n",
       "    .dataframe tbody tr th {\n",
       "        vertical-align: top;\n",
       "    }\n",
       "\n",
       "    .dataframe thead th {\n",
       "        text-align: right;\n",
       "    }\n",
       "</style>\n",
       "<table border=\"1\" class=\"dataframe\">\n",
       "  <thead>\n",
       "    <tr style=\"text-align: right;\">\n",
       "      <th></th>\n",
       "      <th>Refs</th>\n",
       "      <th>Reads</th>\n",
       "    </tr>\n",
       "  </thead>\n",
       "  <tbody>\n",
       "    <tr>\n",
       "      <th>0</th>\n",
       "      <td>ACCATAATGCGTGGGGCCGACCTCGGAATGCGGTCTCCATGCGCGT...</td>\n",
       "      <td>ACCATAATGCGTGGGGCCGACCTCGGAATGCGGTCTCCATGCGCGT...</td>\n",
       "    </tr>\n",
       "    <tr>\n",
       "      <th>1</th>\n",
       "      <td>TCGAAGCAGTAGGGCCTACCAAATAGGTTGGTCCTCCGTTGTATCT...</td>\n",
       "      <td>TCGAAGCAGTAGGGCCTACCAAATAGGTTGGTCTCCGTTGTATCTA...</td>\n",
       "    </tr>\n",
       "    <tr>\n",
       "      <th>2</th>\n",
       "      <td>AGTTAACGTCCCACGGCGAGGCACTCTTGATCCCCACCTTCAAGAG...</td>\n",
       "      <td>AGTTAACGTCCCACGGCGAGGCACTCTTGATCCCCACCTTCAAGGG...</td>\n",
       "    </tr>\n",
       "    <tr>\n",
       "      <th>3</th>\n",
       "      <td>GCCCAAGGGTACGCCCGCAGCGACGCAATTGGCGGAGTAAGCGCGT...</td>\n",
       "      <td>GCCCAAGGGTACGCCCGCAGCGACGCAAATGGCGGAGTAAGCGCGT...</td>\n",
       "    </tr>\n",
       "    <tr>\n",
       "      <th>4</th>\n",
       "      <td>GCACTGATGTAACTCATGGTACATCCGTCGCTGAGCGCCATTTTGT...</td>\n",
       "      <td>GCACTGATGTAACTCATGGTACATCCGCTGAGCGCCATTTTGTTTA...</td>\n",
       "    </tr>\n",
       "    <tr>\n",
       "      <th>...</th>\n",
       "      <td>...</td>\n",
       "      <td>...</td>\n",
       "    </tr>\n",
       "    <tr>\n",
       "      <th>9995</th>\n",
       "      <td>GCATGATTTGGAAGGTCGGCACTATACCCACCCAGGGTATATGGTC...</td>\n",
       "      <td>GCATGATTTGGAAGGTCGGCACTATACCCACCCAGGGTATATGGTC...</td>\n",
       "    </tr>\n",
       "    <tr>\n",
       "      <th>9996</th>\n",
       "      <td>GAAGTTTGGAACGTGTTCGTCCGCCAATTAAGGTTGGCTTCTAGTA...</td>\n",
       "      <td>GAAGTTTGGAACGTGTTCGTCCGCCAATTAAGGTTGGCTTCTAGTA...</td>\n",
       "    </tr>\n",
       "    <tr>\n",
       "      <th>9997</th>\n",
       "      <td>TGCATCCCGGACAACCGCAAGGGTGCATGGGCACCGCAATTCCCAA...</td>\n",
       "      <td>TGCATCCCGGACAACCGCAAGGGTGCATGGGCACCGCAATTCCCAA...</td>\n",
       "    </tr>\n",
       "    <tr>\n",
       "      <th>9998</th>\n",
       "      <td>ACTGGACGTCCTATGCTGGCATAATGAAACGACAACCTGTCTTCGA...</td>\n",
       "      <td>ACTGGACGTCCTATGCTGGCATAATGAAACGACAACCTGTCTTCGA...</td>\n",
       "    </tr>\n",
       "    <tr>\n",
       "      <th>9999</th>\n",
       "      <td>ATCGTGGTATCCCTCCAACCCGAATGACCTGGCGAGGCAGATCAAC...</td>\n",
       "      <td>ATCGTGGTATCCCTCCAACCCGAATGACCTGGCGAGGCAGATCAAC...</td>\n",
       "    </tr>\n",
       "  </tbody>\n",
       "</table>\n",
       "<p>10000 rows × 2 columns</p>\n",
       "</div>"
      ],
      "text/plain": [
       "                                                   Refs  \\\n",
       "0     ACCATAATGCGTGGGGCCGACCTCGGAATGCGGTCTCCATGCGCGT...   \n",
       "1     TCGAAGCAGTAGGGCCTACCAAATAGGTTGGTCCTCCGTTGTATCT...   \n",
       "2     AGTTAACGTCCCACGGCGAGGCACTCTTGATCCCCACCTTCAAGAG...   \n",
       "3     GCCCAAGGGTACGCCCGCAGCGACGCAATTGGCGGAGTAAGCGCGT...   \n",
       "4     GCACTGATGTAACTCATGGTACATCCGTCGCTGAGCGCCATTTTGT...   \n",
       "...                                                 ...   \n",
       "9995  GCATGATTTGGAAGGTCGGCACTATACCCACCCAGGGTATATGGTC...   \n",
       "9996  GAAGTTTGGAACGTGTTCGTCCGCCAATTAAGGTTGGCTTCTAGTA...   \n",
       "9997  TGCATCCCGGACAACCGCAAGGGTGCATGGGCACCGCAATTCCCAA...   \n",
       "9998  ACTGGACGTCCTATGCTGGCATAATGAAACGACAACCTGTCTTCGA...   \n",
       "9999  ATCGTGGTATCCCTCCAACCCGAATGACCTGGCGAGGCAGATCAAC...   \n",
       "\n",
       "                                                  Reads  \n",
       "0     ACCATAATGCGTGGGGCCGACCTCGGAATGCGGTCTCCATGCGCGT...  \n",
       "1     TCGAAGCAGTAGGGCCTACCAAATAGGTTGGTCTCCGTTGTATCTA...  \n",
       "2     AGTTAACGTCCCACGGCGAGGCACTCTTGATCCCCACCTTCAAGGG...  \n",
       "3     GCCCAAGGGTACGCCCGCAGCGACGCAAATGGCGGAGTAAGCGCGT...  \n",
       "4     GCACTGATGTAACTCATGGTACATCCGCTGAGCGCCATTTTGTTTA...  \n",
       "...                                                 ...  \n",
       "9995  GCATGATTTGGAAGGTCGGCACTATACCCACCCAGGGTATATGGTC...  \n",
       "9996  GAAGTTTGGAACGTGTTCGTCCGCCAATTAAGGTTGGCTTCTAGTA...  \n",
       "9997  TGCATCCCGGACAACCGCAAGGGTGCATGGGCACCGCAATTCCCAA...  \n",
       "9998  ACTGGACGTCCTATGCTGGCATAATGAAACGACAACCTGTCTTCGA...  \n",
       "9999  ATCGTGGTATCCCTCCAACCCGAATGACCTGGCGAGGCAGATCAAC...  \n",
       "\n",
       "[10000 rows x 2 columns]"
      ]
     },
     "execution_count": 15,
     "metadata": {},
     "output_type": "execute_result"
    }
   ],
   "source": [
    "df\n"
   ]
  },
  {
   "cell_type": "code",
   "execution_count": 16,
   "metadata": {},
   "outputs": [],
   "source": [
    "from tqdm import tqdm\n"
   ]
  },
  {
   "cell_type": "code",
   "execution_count": 17,
   "metadata": {},
   "outputs": [],
   "source": [
    "noisy_strands = [s.strip() for s in list(df['Reads'])]\n"
   ]
  },
  {
   "cell_type": "code",
   "execution_count": 18,
   "metadata": {},
   "outputs": [],
   "source": [
    "ref_strands = [s.strip() for s in list(df['Refs'])]\n"
   ]
  },
  {
   "cell_type": "code",
   "execution_count": 19,
   "metadata": {},
   "outputs": [],
   "source": [
    "import difflib\n"
   ]
  },
  {
   "cell_type": "code",
   "execution_count": 20,
   "metadata": {},
   "outputs": [],
   "source": [
    "def print_diff(ref_strand, recons_strand):\n",
    "    global pairs\n",
    "    global pairs_no_pos\n",
    "    a, b = 0, 0\n",
    "\n",
    "    # quadratic time, no heuristics\n",
    "    for match in difflib.SequenceMatcher(None, ref_strand, recons_strand, autojunk=False).get_matching_blocks():\n",
    "        was = ref_strand[a:match.a]\n",
    "        now = recons_strand[b:match.b]\n",
    "        \n",
    "        a = match.a + match.size\n",
    "        b = match.b + match.size\n",
    "        \n",
    "        if was == '' and now == '':\n",
    "            pass\n",
    "        else:\n",
    "            # print('{}|{}'.format(was, now), end=', ')\n",
    "            pairs += [(was, now, match.a)]\n",
    "            pairs_no_pos += [(was, now)]\n",
    "\n",
    "\n",
    "            \n",
    "        \n",
    "    #print('')\n"
   ]
  },
  {
   "cell_type": "code",
   "execution_count": 21,
   "metadata": {},
   "outputs": [
    {
     "name": "stdout",
     "output_type": "stream",
     "text": [
      "[1, 1, 1, 1, 0]\n",
      "Match(a=0, b=1, size=3)  T 0\n",
      "Match(a=4, b=4, size=0) T  4\n"
     ]
    }
   ],
   "source": [
    "# AGCT\n",
    "# TAGC\n",
    "\n",
    "# SM: (0, _ -> T), (4, _ -> T)\n",
    "# Prof: (0, 1, 2, 3)\n",
    "\n",
    "count_pos = [0] * 5\n",
    "def print_diff2(ref_strand, recons_strand):\n",
    "    for i, (c1, c2) in enumerate(zip(ref_strand, recons_strand)):\n",
    "        if c1 != c2:\n",
    "            count_pos[i] += 1\n",
    "print_diff2(\"AGCT\", \"TAGC\")\n",
    "print(count_pos)\n",
    "\n",
    "ref_strand = \"AGCT\"\n",
    "recons_strand = \"TAGC\"\n",
    "a = 0\n",
    "b = 0\n",
    "for match in difflib.SequenceMatcher(None, ref_strand, recons_strand, autojunk=False).get_matching_blocks():\n",
    "    was = ref_strand[a:match.a]\n",
    "    now = recons_strand[b:match.b]\n",
    "\n",
    "    a = match.a + match.size\n",
    "    b = match.b + match.size\n",
    "\n",
    "    print(match, was, now, match.a)\n",
    "\n",
    "\n",
    "    if was == '' and now == '':\n",
    "        pass\n",
    "    else:\n",
    "        pass\n",
    "        # print('{}|{}'.format(was, now), end=', ')\n",
    "        # pairs += [(was, now, match.a)]\n",
    "        # pairs_no_pos += [(was, now)]\n"
   ]
  },
  {
   "cell_type": "code",
   "execution_count": 22,
   "metadata": {},
   "outputs": [
    {
     "name": "stderr",
     "output_type": "stream",
     "text": [
      "100%|██████████| 10000/10000 [00:00<00:00, 151381.75it/s]"
     ]
    },
    {
     "name": "stdout",
     "output_type": "stream",
     "text": [
      "[21, 88, 99, 104, 122, 138, 183, 186, 202, 208, 227, 257, 268, 302, 316, 349, 363, 387, 384, 427, 462, 478, 501, 524, 579, 602, 591, 619, 640, 694, 695, 718, 730, 797, 822, 830, 873, 888, 912, 965, 1003, 989, 1047, 1042, 1089, 1072, 1090, 1149, 1181, 1177, 1245, 1199, 1265, 1330, 1346, 2073, 2018, 2001, 1974, 1980, 1921, 1889, 1898, 1854, 1850, 1771, 1744, 1784, 1746, 1701, 1682, 1663, 1606, 1603, 1589, 1608, 1555, 1525, 1514, 1486, 1500, 1444, 1427, 1397, 1398, 1379, 1324, 1333, 1310, 1269, 1256, 1245, 1250, 1227, 1212, 1186, 1155, 1145, 1121, 1037, 1072, 1074, 1088, 1050, 1016, 1034, 1078, 1064, 953, 743, 0]\n"
     ]
    },
    {
     "name": "stderr",
     "output_type": "stream",
     "text": [
      "\n"
     ]
    },
    {
     "data": {
      "image/png": "[encoded data removed]",
      "text/plain": [
       "<Figure size 432x288 with 1 Axes>"
      ]
     },
     "metadata": {
      "needs_background": "light"
     },
     "output_type": "display_data"
    }
   ],
   "source": [
    "strand_len = 110\n",
    "count_pos = [0] * (strand_len + 1)\n",
    "\n",
    "def print_diff2(ref_strand, recons_strand):\n",
    "    for i, (c1, c2) in enumerate(zip(ref_strand, recons_strand)):\n",
    "        if c1 != c2:\n",
    "            count_pos[i] += 1\n",
    "\n",
    "for i in tqdm(range(len(ref_strands))):\n",
    "    if ref_strands[i] != noisy_strands[i]:\n",
    "        #print(i, end=': ')\n",
    "        print_diff2(ref_strands[i], noisy_strands[i])\n",
    "\n",
    "import matplotlib.pyplot as plt\n",
    "plt.plot(range(strand_len + 1), count_pos)\n",
    "print(count_pos)\n"
   ]
  },
  {
   "cell_type": "code",
   "execution_count": 23,
   "metadata": {},
   "outputs": [],
   "source": [
    "import numpy as np\n"
   ]
  },
  {
   "cell_type": "code",
   "execution_count": 24,
   "metadata": {},
   "outputs": [
    {
     "name": "stderr",
     "output_type": "stream",
     "text": [
      "100%|██████████| 10000/10000 [00:04<00:00, 2054.64it/s]\n"
     ]
    }
   ],
   "source": [
    "pairs = []\n",
    "pairs_no_pos = []\n",
    "for i in tqdm(range(len(ref_strands))):\n",
    "    if ref_strands[i] != noisy_strands[i]:\n",
    "        #print(i, end=': ')\n",
    "        print_diff(ref_strands[i], noisy_strands[i])"
   ]
  },
  {
   "cell_type": "code",
   "execution_count": 25,
   "metadata": {},
   "outputs": [],
   "source": [
    "subs_no_pos, counts_no_pos = np.unique(pairs_no_pos, return_counts=True, axis=0)\n",
    "sorting = np.argsort(counts_no_pos)\n",
    "subs_no_pos = subs_no_pos[sorting]\n",
    "counts_no_pos = counts_no_pos[sorting]"
   ]
  },
  {
   "cell_type": "code",
   "execution_count": 26,
   "metadata": {},
   "outputs": [
    {
     "name": "stdout",
     "output_type": "stream",
     "text": [
      "GAT ->  6\n",
      "TTG ->  6\n",
      " -> GAG 6\n",
      "G -> AT 6\n",
      "CAT ->  6\n",
      "T -> GG 6\n",
      " -> TGT 6\n",
      "GC -> AA 6\n",
      " -> AAT 6\n",
      " -> ACA 6\n",
      "TGT ->  6\n",
      "C -> GA 6\n",
      "TCG ->  6\n",
      "TAC ->  6\n",
      "TCC ->  7\n",
      "GT -> AA 7\n",
      "GTA ->  7\n",
      " -> CCC 7\n",
      "TGG ->  7\n",
      "TC -> G 7\n",
      "T -> CG 7\n",
      "CTT ->  7\n",
      "CGG ->  7\n",
      "CGT ->  7\n",
      "GTC ->  8\n",
      " -> CAA 8\n",
      "GT -> AC 8\n",
      "AA ->  8\n",
      " -> AAC 8\n",
      "ATT ->  8\n",
      "TAT ->  8\n",
      "G -> CA 8\n",
      " -> ACG 9\n",
      "TG -> AC 9\n",
      "T -> GA 10\n",
      "T -> CC 10\n",
      "C -> AA 10\n",
      "TG -> C 11\n",
      "GC -> A 11\n",
      "G -> CC 11\n",
      "T -> CA 12\n",
      "T -> GC 12\n",
      "TGC ->  13\n",
      "CT -> A 13\n",
      "G -> AA 13\n",
      "TT -> A 13\n",
      "CG -> A 13\n",
      "G -> AC 14\n",
      "GT -> C 15\n",
      "T -> AG 16\n",
      "TC -> A 16\n",
      "GT -> A 17\n",
      "TG -> A 17\n",
      "T -> AC 18\n",
      "T -> AA 19\n",
      "CC ->  20\n",
      "AC ->  21\n",
      "AG ->  31\n",
      " -> TA 32\n",
      "CA ->  34\n",
      " -> GT 34\n",
      " -> GG 35\n",
      "GG ->  37\n",
      "GA ->  37\n",
      " -> TG 37\n",
      "GC ->  39\n",
      " -> GC 39\n",
      " -> TT 39\n",
      "TA ->  39\n",
      " -> CT 40\n",
      " -> CG 40\n",
      "CG ->  41\n",
      " -> AC 41\n",
      " -> TC 41\n",
      "TT ->  46\n",
      " -> AT 49\n",
      "AT ->  50\n",
      " -> GA 50\n",
      " -> CC 56\n",
      "CT ->  57\n",
      "A -> T 60\n",
      " -> AG 60\n",
      " -> CA 65\n",
      "C -> T 66\n",
      " -> AA 66\n",
      "TC ->  68\n",
      "GT ->  69\n",
      "A -> G 74\n",
      "G -> T 75\n",
      "TG ->  78\n",
      "C -> G 80\n",
      "A -> C 87\n",
      "G -> C 300\n",
      "G -> A 319\n",
      "T -> G 354\n",
      "T -> A 397\n",
      "C -> A 401\n",
      "T -> C 404\n",
      "A ->  635\n",
      " -> T 660\n",
      " -> G 843\n",
      "C ->  950\n",
      "G ->  1081\n",
      " -> C 1084\n",
      " -> A 1270\n",
      "T ->  1483\n"
     ]
    }
   ],
   "source": [
    "for sub, count in zip(subs_no_pos, counts_no_pos):\n",
    "    if count > 5:\n",
    "        print(\"{} -> {}\".format(sub[0], sub[1]), count)"
   ]
  },
  {
   "cell_type": "code",
   "execution_count": 27,
   "metadata": {},
   "outputs": [],
   "source": [
    "subs, counts = np.unique(pairs, return_counts=True, axis=0)\n",
    "sorting = np.argsort(counts)\n",
    "subs = subs[sorting]\n",
    "counts = counts[sorting]\n"
   ]
  },
  {
   "cell_type": "code",
   "execution_count": 28,
   "metadata": {},
   "outputs": [
    {
     "name": "stdout",
     "output_type": "stream",
     "text": [
      "C ->  @ 49 6\n",
      " -> C @ 33 6\n",
      " -> A @ 89 6\n",
      "C ->  @ 38 6\n",
      " -> C @ 32 6\n",
      "G ->  @ 4 6\n",
      " -> A @ 88 6\n",
      " -> A @ 87 6\n",
      " -> A @ 41 6\n",
      "C ->  @ 40 6\n",
      "C ->  @ 36 6\n",
      "C ->  @ 9 6\n",
      "G ->  @ 43 6\n",
      " -> A @ 84 6\n",
      "C ->  @ 92 6\n",
      " -> A @ 73 6\n",
      "C -> A @ 88 6\n",
      "C -> A @ 81 6\n",
      " -> A @ 74 6\n",
      " -> A @ 30 6\n",
      " -> C @ 64 6\n",
      "A ->  @ 94 6\n",
      "C ->  @ 12 6\n",
      "C -> A @ 67 6\n",
      " -> A @ 92 6\n",
      "C ->  @ 93 6\n",
      "C ->  @ 24 6\n",
      "C ->  @ 72 6\n",
      "C ->  @ 69 6\n",
      "C ->  @ 13 6\n",
      " -> A @ 46 6\n",
      "C ->  @ 63 6\n",
      "C -> A @ 32 6\n",
      "G ->  @ 20 6\n",
      "C ->  @ 59 6\n",
      "C ->  @ 20 6\n",
      "G ->  @ 3 6\n",
      "C ->  @ 50 6\n",
      " -> A @ 35 6\n",
      " -> C @ 20 6\n",
      " -> AT @ 56 6\n",
      " -> A @ 34 6\n",
      "C ->  @ 34 6\n",
      "C -> A @ 57 6\n",
      "G ->  @ 15 6\n",
      " -> C @ 103 6\n",
      "C ->  @ 17 6\n",
      " -> C @ 30 6\n",
      "C ->  @ 91 6\n",
      "T -> G @ 65 6\n",
      "T -> C @ 66 6\n",
      "T -> A @ 50 6\n",
      "T -> A @ 53 6\n",
      "T -> C @ 95 6\n",
      "T -> A @ 55 6\n",
      "T -> C @ 91 6\n",
      " -> GAG @ 55 6\n",
      "T -> C @ 79 6\n",
      "T ->  @ 7 6\n",
      "A ->  @ 105 6\n",
      "T -> C @ 73 6\n",
      "T -> C @ 71 6\n",
      "T -> C @ 68 6\n",
      "T ->  @ 95 6\n",
      "T -> C @ 63 6\n",
      "G ->  @ 64 6\n",
      "T -> C @ 61 6\n",
      "G ->  @ 72 6\n",
      "T ->  @ 75 6\n",
      "G -> A @ 55 6\n",
      " -> CA @ 56 6\n",
      "A ->  @ 59 6\n",
      "T -> G @ 70 6\n",
      "T -> G @ 56 6\n",
      "T ->  @ 9 6\n",
      "T -> G @ 80 6\n",
      "T ->  @ 97 6\n",
      " -> G @ 78 6\n",
      " -> G @ 0 6\n",
      "T -> A @ 41 6\n",
      "G ->  @ 96 6\n",
      "G -> A @ 34 6\n",
      "G ->  @ 93 6\n",
      "T ->  @ 80 6\n",
      "G ->  @ 92 6\n",
      "A ->  @ 45 6\n",
      "T -> G @ 95 6\n",
      "T -> A @ 48 6\n",
      "T -> A @ 61 6\n",
      " -> C @ 88 6\n",
      "T ->  @ 94 6\n",
      "T -> A @ 65 6\n",
      " -> T @ 52 6\n",
      "T ->  @ 17 6\n",
      "G ->  @ 50 6\n",
      "T -> A @ 64 6\n",
      "G -> C @ 47 6\n",
      "T ->  @ 10 6\n",
      " -> TT @ 54 6\n",
      "G -> C @ 45 6\n",
      " -> C @ 74 6\n",
      "T ->  @ 22 6\n",
      "T -> C @ 35 6\n",
      "T ->  @ 25 6\n",
      "T ->  @ 16 6\n",
      "T -> A @ 74 6\n",
      "T -> C @ 36 6\n",
      " -> C @ 78 6\n",
      "T -> C @ 41 6\n",
      "T ->  @ 33 6\n",
      "G ->  @ 6 6\n",
      " -> G @ 58 6\n",
      " -> G @ 49 6\n",
      "T -> C @ 51 6\n",
      "T -> A @ 66 6\n",
      "T -> C @ 45 6\n",
      "T ->  @ 3 6\n",
      "T -> C @ 44 6\n",
      "G -> T @ 110 6\n",
      "GA ->  @ 57 6\n",
      "T -> A @ 68 6\n",
      "G -> C @ 61 6\n",
      "G -> T @ 59 7\n",
      "C -> A @ 72 7\n",
      " -> CT @ 54 7\n",
      "T -> G @ 41 7\n",
      "T -> G @ 36 7\n",
      " -> TC @ 54 7\n",
      "G -> A @ 36 7\n",
      " -> TT @ 56 7\n",
      "A ->  @ 41 7\n",
      "G -> A @ 49 7\n",
      " -> GC @ 54 7\n",
      " -> AG @ 53 7\n",
      "T -> C @ 64 7\n",
      "T -> A @ 59 7\n",
      "A -> T @ 110 7\n",
      "T -> C @ 76 7\n",
      "T -> A @ 92 7\n",
      " -> AC @ 54 7\n",
      "G -> A @ 63 7\n",
      "T -> A @ 80 7\n",
      "G -> A @ 52 7\n",
      "G -> C @ 50 7\n",
      "T -> A @ 47 7\n",
      " -> GA @ 54 7\n",
      "A ->  @ 37 7\n",
      "T ->  @ 88 7\n",
      "C -> A @ 75 7\n",
      "T -> G @ 66 7\n",
      " -> A @ 94 7\n",
      "T ->  @ 59 7\n",
      "C ->  @ 46 7\n",
      " -> C @ 23 7\n",
      "T ->  @ 5 7\n",
      " -> A @ 77 7\n",
      " -> A @ 76 7\n",
      "T ->  @ 48 7\n",
      "C ->  @ 42 7\n",
      " -> A @ 61 7\n",
      "T ->  @ 30 7\n",
      "C ->  @ 32 7\n",
      "G ->  @ 41 7\n",
      " -> A @ 48 7\n",
      "G ->  @ 42 7\n",
      " -> C @ 45 7\n",
      "T ->  @ 20 7\n",
      "G ->  @ 52 7\n",
      " -> A @ 36 7\n",
      "T ->  @ 15 7\n",
      "T ->  @ 107 7\n",
      " -> A @ 21 7\n",
      "T ->  @ 100 7\n",
      "G ->  @ 46 7\n",
      "C ->  @ 19 7\n",
      " -> A @ 1 7\n",
      " -> C @ 65 7\n",
      "G ->  @ 28 7\n",
      "G ->  @ 27 7\n",
      "C ->  @ 45 7\n",
      "G ->  @ 25 7\n",
      "C ->  @ 84 7\n",
      " -> C @ 0 7\n",
      "C ->  @ 76 7\n",
      "G ->  @ 26 7\n",
      "T ->  @ 86 7\n",
      "G ->  @ 86 7\n",
      "C ->  @ 70 7\n",
      "G ->  @ 84 7\n",
      "G ->  @ 21 7\n",
      "G ->  @ 91 7\n",
      "C ->  @ 65 7\n",
      "C -> A @ 76 7\n",
      "T ->  @ 89 7\n",
      "G ->  @ 79 7\n",
      "G ->  @ 106 7\n",
      "T ->  @ 67 7\n",
      "G ->  @ 77 7\n",
      " -> A @ 95 7\n",
      " -> G @ 64 7\n",
      " -> A @ 107 8\n",
      " -> A @ 24 8\n",
      "C ->  @ 89 8\n",
      " -> A @ 102 8\n",
      "T ->  @ 96 8\n",
      "C -> A @ 60 8\n",
      "T ->  @ 92 8\n",
      "C -> A @ 73 8\n",
      "T -> A @ 33 8\n",
      "C ->  @ 71 8\n",
      "T ->  @ 27 8\n",
      "T ->  @ 61 8\n",
      "T ->  @ 6 8\n",
      " -> A @ 99 8\n",
      "T ->  @ 93 8\n",
      "T ->  @ 50 8\n",
      "C ->  @ 106 8\n",
      " -> A @ 38 8\n",
      "C ->  @ 44 8\n",
      "T -> A @ 49 8\n",
      " -> A @ 67 8\n",
      " -> A @ 64 8\n",
      "C -> A @ 50 8\n",
      " -> A @ 58 8\n",
      "T ->  @ 79 8\n",
      "C -> A @ 22 8\n",
      " -> C @ 66 8\n",
      "C -> A @ 40 8\n",
      "A ->  @ 73 8\n",
      " -> AT @ 54 8\n",
      "G ->  @ 94 8\n",
      "A ->  @ 109 8\n",
      "G ->  @ 81 8\n",
      "G ->  @ 80 8\n",
      " -> C @ 59 8\n",
      "T -> C @ 67 8\n",
      "T -> G @ 47 8\n",
      " -> AG @ 54 8\n",
      "G -> C @ 35 8\n",
      " -> C @ 60 8\n",
      "T -> C @ 48 8\n",
      "G ->  @ 60 8\n",
      "G ->  @ 69 8\n",
      "T -> G @ 71 8\n",
      "G ->  @ 76 8\n",
      "G ->  @ 59 8\n",
      "G ->  @ 88 8\n",
      " -> C @ 51 8\n",
      "G -> C @ 55 8\n",
      "G ->  @ 1 8\n",
      "G ->  @ 53 8\n",
      "G ->  @ 103 8\n",
      "G ->  @ 108 8\n",
      "G ->  @ 107 8\n",
      "G ->  @ 95 9\n",
      "G ->  @ 87 9\n",
      "T ->  @ 46 9\n",
      " -> A @ 33 9\n",
      "G ->  @ 39 9\n",
      "C ->  @ 25 9\n",
      "G ->  @ 63 9\n",
      "T ->  @ 12 9\n",
      "T ->  @ 74 9\n",
      "T ->  @ 28 9\n",
      "T ->  @ 99 9\n",
      "T ->  @ 76 9\n",
      "T ->  @ 47 9\n",
      " -> C @ 40 9\n",
      "T ->  @ 102 9\n",
      "G ->  @ 38 9\n",
      "T ->  @ 32 9\n",
      " -> C @ 69 9\n",
      " -> G @ 51 9\n",
      " -> A @ 44 9\n",
      " -> C @ 62 9\n",
      "G ->  @ 47 9\n",
      " -> C @ 61 9\n",
      "C -> A @ 59 9\n",
      "G -> A @ 64 9\n",
      " -> C @ 76 9\n",
      "G -> C @ 48 9\n",
      "G ->  @ 32 9\n",
      " -> A @ 50 9\n",
      "C ->  @ 47 9\n",
      "C ->  @ 60 9\n",
      "G ->  @ 75 9\n",
      "C ->  @ 21 9\n",
      "C ->  @ 62 9\n",
      "C ->  @ 102 9\n",
      "T ->  @ 42 9\n",
      "T ->  @ 81 10\n",
      "G ->  @ 14 10\n",
      "G ->  @ 2 10\n",
      "T ->  @ 26 10\n",
      "T ->  @ 68 10\n",
      "T ->  @ 63 10\n",
      "G ->  @ 67 10\n",
      "G ->  @ 78 10\n",
      "T ->  @ 77 10\n",
      "C ->  @ 58 10\n",
      "T ->  @ 53 10\n",
      " -> A @ 85 10\n",
      "T ->  @ 14 10\n",
      "T ->  @ 84 10\n",
      "T ->  @ 31 10\n",
      " -> A @ 62 10\n",
      "C -> A @ 56 10\n",
      "C -> A @ 55 10\n",
      "T ->  @ 36 10\n",
      "C -> G @ 110 10\n",
      "T -> C @ 55 10\n",
      "G ->  @ 48 10\n",
      "T -> C @ 56 10\n",
      "T -> C @ 57 10\n",
      "T ->  @ 43 10\n",
      "T -> A @ 56 10\n",
      "T ->  @ 2 10\n",
      " -> A @ 72 10\n",
      "T ->  @ 85 10\n",
      " -> C @ 48 10\n",
      "C ->  @ 108 10\n",
      " -> A @ 78 10\n",
      " -> A @ 71 10\n",
      "T ->  @ 90 10\n",
      "A ->  @ 58 10\n",
      "G ->  @ 66 11\n",
      " -> A @ 63 11\n",
      "T ->  @ 49 11\n",
      "T ->  @ 44 11\n",
      "T ->  @ 52 11\n",
      "T ->  @ 41 11\n",
      "C ->  @ 31 11\n",
      "G ->  @ 65 11\n",
      "G ->  @ 61 11\n",
      "G ->  @ 37 11\n",
      "G ->  @ 73 11\n",
      "T ->  @ 21 11\n",
      "G ->  @ 58 11\n",
      " -> AA @ 56 11\n",
      " -> A @ 42 11\n",
      "T ->  @ 82 11\n",
      "T ->  @ 70 11\n",
      "T ->  @ 104 11\n",
      "C ->  @ 79 11\n",
      " -> A @ 22 11\n",
      "T ->  @ 69 11\n",
      " -> C @ 108 11\n",
      " -> CC @ 54 11\n",
      " -> G @ 57 11\n",
      "T ->  @ 78 11\n",
      "G ->  @ 62 12\n",
      " -> A @ 39 12\n",
      " -> T @ 110 12\n",
      "G ->  @ 49 12\n",
      "C ->  @ 107 12\n",
      "C ->  @ 52 12\n",
      " -> A @ 40 12\n",
      "T ->  @ 72 12\n",
      "T ->  @ 65 12\n",
      "C ->  @ 53 12\n",
      " -> A @ 51 12\n",
      "T ->  @ 73 13\n",
      "T ->  @ 103 13\n",
      "T ->  @ 39 13\n",
      "T ->  @ 38 13\n",
      "T ->  @ 35 13\n",
      "G ->  @ 70 13\n",
      "T ->  @ 40 13\n",
      " -> A @ 69 13\n",
      "T ->  @ 66 13\n",
      "A ->  @ 54 13\n",
      "T ->  @ 87 13\n",
      " -> CG @ 55 13\n",
      " -> TG @ 55 13\n",
      "T ->  @ 29 13\n",
      "T ->  @ 64 14\n",
      "T ->  @ 34 14\n",
      " -> C @ 58 14\n",
      " -> A @ 47 14\n",
      " -> TA @ 55 14\n",
      "T ->  @ 45 14\n",
      "A -> C @ 110 14\n",
      "T ->  @ 108 14\n",
      "T ->  @ 71 14\n",
      " -> GC @ 55 15\n",
      "T ->  @ 98 15\n",
      "T ->  @ 51 15\n",
      " -> G @ 52 16\n",
      " -> CT @ 55 16\n",
      "A -> G @ 110 16\n",
      "G ->  @ 35 16\n",
      " -> G @ 110 17\n",
      " -> A @ 57 17\n",
      " -> TC @ 55 17\n",
      " -> AC @ 55 17\n",
      " -> CA @ 55 17\n",
      "C ->  @ 54 18\n",
      " -> AA @ 55 19\n",
      " -> C @ 52 19\n",
      " -> GT @ 55 19\n",
      "T ->  @ 58 19\n",
      " -> GA @ 55 20\n",
      "T ->  @ 1 20\n",
      " -> A @ 0 20\n",
      " -> TT @ 55 20\n",
      " -> A @ 108 21\n",
      " -> T @ 57 21\n",
      " -> GG @ 55 22\n",
      " -> C @ 57 23\n",
      "T ->  @ 54 23\n",
      " -> AT @ 55 23\n",
      " -> AG @ 55 24\n",
      "G ->  @ 54 24\n",
      " -> A @ 52 25\n",
      "C ->  @ 109 25\n",
      " -> CC @ 55 25\n",
      " -> G @ 53 26\n",
      "G -> C @ 110 26\n",
      " -> T @ 53 27\n",
      " -> C @ 110 27\n",
      "A ->  @ 57 29\n",
      "G -> A @ 110 30\n",
      " -> A @ 53 32\n",
      "T -> G @ 110 33\n",
      "G ->  @ 109 33\n",
      "C ->  @ 57 34\n",
      "T -> A @ 110 37\n",
      "T ->  @ 109 39\n",
      "T -> C @ 110 40\n",
      " -> G @ 54 40\n",
      " -> T @ 54 40\n",
      "G ->  @ 57 40\n",
      " -> C @ 53 41\n",
      "T ->  @ 57 41\n",
      "C -> A @ 110 43\n",
      " -> A @ 54 43\n",
      " -> A @ 110 45\n",
      " -> C @ 54 48\n",
      " -> T @ 109 49\n",
      " -> C @ 56 49\n",
      "G ->  @ 55 51\n",
      "C ->  @ 55 52\n",
      "A ->  @ 55 59\n",
      " -> A @ 56 62\n",
      "T ->  @ 55 68\n",
      " -> T @ 56 69\n",
      " -> G @ 56 70\n",
      " -> G @ 109 74\n",
      "C ->  @ 56 96\n",
      "A ->  @ 56 105\n",
      "G ->  @ 56 106\n",
      "A ->  @ 110 111\n",
      " -> A @ 109 115\n",
      "T ->  @ 56 118\n",
      " -> C @ 109 119\n",
      "G ->  @ 110 165\n",
      "C ->  @ 110 186\n",
      "T ->  @ 110 273\n",
      " -> T @ 55 277\n",
      " -> C @ 55 317\n",
      " -> A @ 55 320\n",
      " -> G @ 55 323\n"
     ]
    }
   ],
   "source": [
    "for sub, count in zip(subs, counts):\n",
    "    if count > 5:\n",
    "        print(\"{} -> {} @ {}\".format(sub[0], sub[1], sub[2]), count)\n"
   ]
  },
  {
   "cell_type": "code",
   "execution_count": 29,
   "metadata": {},
   "outputs": [],
   "source": [
    "import matplotlib.pyplot as plt"
   ]
  },
  {
   "cell_type": "code",
   "execution_count": 30,
   "metadata": {},
   "outputs": [
    {
     "name": "stdout",
     "output_type": "stream",
     "text": [
      "[34, 59, 59, 34, 25, 33, 32, 35, 31, 40, 43, 40, 51, 40, 54, 43, 51, 44, 47, 46, 55, 68, 62, 56, 54, 67, 59, 62, 61, 76, 68, 63, 91, 63, 79, 103, 92, 68, 94, 96, 106, 94, 97, 88, 87, 102, 86, 98, 104, 112, 115, 120, 166, 261, 438, 1995, 875, 360, 155, 121, 106, 121, 113, 111, 116, 107, 109, 97, 86, 103, 85, 101, 105, 101, 72, 82, 108, 85, 101, 89, 77, 78, 61, 72, 78, 80, 74, 80, 74, 66, 58, 72, 72, 58, 63, 71, 68, 52, 80, 59, 44, 38, 58, 56, 53, 51, 63, 67, 84, 484, 1121]\n"
     ]
    }
   ],
   "source": [
    "strand_len = 110\n",
    "pos_counts = [0] * (strand_len + 1)\n",
    "for sub, count in zip(subs, counts):\n",
    "    pos_counts[int(sub[2])] += count\n",
    "\n",
    "print(pos_counts)"
   ]
  },
  {
   "cell_type": "code",
   "execution_count": 31,
   "metadata": {},
   "outputs": [
    {
     "data": {
      "text/plain": [
       "[<matplotlib.lines.Line2D at 0x11faf5310>]"
      ]
     },
     "execution_count": 31,
     "metadata": {},
     "output_type": "execute_result"
    },
    {
     "data": {
      "image/png": "[encoded data removed]",
      "text/plain": [
       "<Figure size 432x288 with 1 Axes>"
      ]
     },
     "metadata": {
      "needs_background": "light"
     },
     "output_type": "display_data"
    }
   ],
   "source": [
    "plt.plot(range(strand_len + 1), pos_counts)"
   ]
  },
  {
   "cell_type": "code",
   "execution_count": 32,
   "metadata": {},
   "outputs": [
    {
     "name": "stdout",
     "output_type": "stream",
     "text": [
      "[1, 0, 0, 0, 0, 1, 0, 2, 0, 1, 4, 3, 1, 1, 0, 0, 1, 1, 2, 4, 3, 2, 0, 0, 1, 2, 0, 0, 2, 3, 0, 4, 3, 1, 1, 0, 1, 1, 0, 3, 4, 0, 1, 1, 3, 1, 2, 2, 4, 2, 1, 1, 6, 27, 40, 277, 69, 21, 4, 4, 1, 0, 1, 5, 3, 2, 2, 2, 4, 1, 2, 1, 3, 1, 2, 3, 2, 4, 3, 4, 3, 0, 2, 0, 3, 2, 1, 3, 0, 0, 0, 0, 3, 1, 1, 2, 1, 0, 3, 1, 1, 0, 2, 1, 0, 0, 2, 1, 1, 49, 12]\n"
     ]
    }
   ],
   "source": [
    "def get_key(char1, char2):\n",
    "    char1 = char1 if char1 != '' else '_'\n",
    "    char2 = char2 if char2 != '' else '_'\n",
    "    return char1 + ' -> ' + char2\n",
    "\n",
    "strand_len = 110\n",
    "pos_map = {}\n",
    "pos_counts = [0] * (strand_len + 1)\n",
    "for sub, count in zip(subs, counts):\n",
    "    key = get_key(sub[0], sub[1])\n",
    "    if key not in pos_map:\n",
    "        pos_map[key] = [0] * (strand_len + 1)\n",
    "    pos_map[key][int(sub[2])] += count\n",
    "\n",
    "print(pos_map['_ -> T'])"
   ]
  },
  {
   "cell_type": "code",
   "execution_count": 33,
   "metadata": {},
   "outputs": [],
   "source": [
    "sub_keys = [get_key(sub[0], sub[1]) for sub in subs_no_pos]\n",
    "max_10_keys = sub_keys[-10:]\n",
    "max_10_counts = counts_no_pos[-10:]\n"
   ]
  },
  {
   "cell_type": "code",
   "execution_count": 34,
   "metadata": {},
   "outputs": [
    {
     "data": {
      "image/png": "[encoded data removed]",
      "text/plain": [
       "<Figure size 432x288 with 1 Axes>"
      ]
     },
     "metadata": {
      "needs_background": "light"
     },
     "output_type": "display_data"
    },
    {
     "data": {
      "image/png": "[encoded data removed]",
      "text/plain": [
       "<Figure size 432x288 with 1 Axes>"
      ]
     },
     "metadata": {
      "needs_background": "light"
     },
     "output_type": "display_data"
    },
    {
     "data": {
      "image/png": "[encoded data removed]",
      "text/plain": [
       "<Figure size 432x288 with 1 Axes>"
      ]
     },
     "metadata": {
      "needs_background": "light"
     },
     "output_type": "display_data"
    },
    {
     "data": {
      "image/png": "[encoded data removed]",
      "text/plain": [
       "<Figure size 432x288 with 1 Axes>"
      ]
     },
     "metadata": {
      "needs_background": "light"
     },
     "output_type": "display_data"
    },
    {
     "data": {
      "image/png": "[encoded data removed]",
      "text/plain": [
       "<Figure size 432x288 with 1 Axes>"
      ]
     },
     "metadata": {
      "needs_background": "light"
     },
     "output_type": "display_data"
    },
    {
     "data": {
      "image/png": "[encoded data removed]",
      "text/plain": [
       "<Figure size 432x288 with 1 Axes>"
      ]
     },
     "metadata": {
      "needs_background": "light"
     },
     "output_type": "display_data"
    },
    {
     "data": {
      "image/png": "[encoded data removed]",
      "text/plain": [
       "<Figure size 432x288 with 1 Axes>"
      ]
     },
     "metadata": {
      "needs_background": "light"
     },
     "output_type": "display_data"
    },
    {
     "data": {
      "image/png": "[encoded data removed]",
      "text/plain": [
       "<Figure size 432x288 with 1 Axes>"
      ]
     },
     "metadata": {
      "needs_background": "light"
     },
     "output_type": "display_data"
    },
    {
     "data": {
      "image/png": "[encoded data removed]",
      "text/plain": [
       "<Figure size 432x288 with 1 Axes>"
      ]
     },
     "metadata": {
      "needs_background": "light"
     },
     "output_type": "display_data"
    },
    {
     "data": {
      "image/png": "[encoded data removed]",
      "text/plain": [
       "<Figure size 432x288 with 1 Axes>"
      ]
     },
     "metadata": {
      "needs_background": "light"
     },
     "output_type": "display_data"
    }
   ],
   "source": [
    "for key, count in zip(reversed(max_10_keys), reversed(max_10_counts)):\n",
    "    plt.figure(key)\n",
    "    plt.title(f'{key} : {count}')\n",
    "    plt.plot(range(strand_len + 1), pos_map[key])"
   ]
  },
  {
   "cell_type": "code",
   "execution_count": 35,
   "metadata": {},
   "outputs": [],
   "source": [
    "np.save('subs.npy', subs)\n",
    "np.save('counts.npy', counts)"
   ]
  }
 ],
 "metadata": {
  "interpreter": {
   "hash": "aee8b7b246df8f9039afb4144a1f6fd8d2ca17a180786b69acc140d282b71a49"
  },
  "kernelspec": {
   "display_name": "Python 3.9.10 64-bit",
   "language": "python",
   "name": "python3"
  },
  "language_info": {
   "codemirror_mode": {
    "name": "ipython",
    "version": 3
   },
   "file_extension": ".py",
   "mimetype": "text/x-python",
   "name": "python",
   "nbconvert_exporter": "python",
   "pygments_lexer": "ipython3",
   "version": "3.9.10"
  },
  "orig_nbformat": 4
 },
 "nbformat": 4,
 "nbformat_minor": 2
}
