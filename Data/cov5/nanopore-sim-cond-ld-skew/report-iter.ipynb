{
 "cells": [
  {
   "cell_type": "code",
   "execution_count": 1,
   "metadata": {},
   "outputs": [],
   "source": [
    "import pandas as pd"
   ]
  },
  {
   "cell_type": "code",
   "execution_count": 2,
   "metadata": {},
   "outputs": [],
   "source": [
    "\n",
    "df = pd.read_csv('recons-iter.csv')\n"
   ]
  },
  {
   "cell_type": "code",
   "execution_count": 3,
   "metadata": {},
   "outputs": [
    {
     "data": {
      "text/html": [
       "<div>\n",
       "<style scoped>\n",
       "    .dataframe tbody tr th:only-of-type {\n",
       "        vertical-align: middle;\n",
       "    }\n",
       "\n",
       "    .dataframe tbody tr th {\n",
       "        vertical-align: top;\n",
       "    }\n",
       "\n",
       "    .dataframe thead th {\n",
       "        text-align: right;\n",
       "    }\n",
       "</style>\n",
       "<table border=\"1\" class=\"dataframe\">\n",
       "  <thead>\n",
       "    <tr style=\"text-align: right;\">\n",
       "      <th></th>\n",
       "      <th>Refs</th>\n",
       "      <th>Reads</th>\n",
       "    </tr>\n",
       "  </thead>\n",
       "  <tbody>\n",
       "    <tr>\n",
       "      <th>0</th>\n",
       "      <td>ACCATAATGCGTGGGGCCGACCTCGGAATGCGGTCTCCATGCGCGT...</td>\n",
       "      <td>ACCATAATGCGTGGGGCCGACCTCGGAATGCGGTCTCCATGCGCGT...</td>\n",
       "    </tr>\n",
       "    <tr>\n",
       "      <th>1</th>\n",
       "      <td>TCGAAGCAGTAGGGCCTACCAAATAGGTTGGTCCTCCGTTGTATCT...</td>\n",
       "      <td>TCGAAGCAGTAGGGCCTACCAAATAGGTTGGTCCTCCGTTGTATCT...</td>\n",
       "    </tr>\n",
       "    <tr>\n",
       "      <th>2</th>\n",
       "      <td>AGTTAACGTCCCACGGCGAGGCACTCTTGATCCCCACCTTCAAGAG...</td>\n",
       "      <td>AGTTAACGTCCCACGGCGAGGCACTCTTGATCCCCACCTTCAAGAG...</td>\n",
       "    </tr>\n",
       "    <tr>\n",
       "      <th>3</th>\n",
       "      <td>GCCCAAGGGTACGCCCGCAGCGACGCAATTGGCGGAGTAAGCGCGT...</td>\n",
       "      <td>GCCCAAGGGTACGCCCGCAGCGACGCCAATTGGCGGAGTAAGCGCG...</td>\n",
       "    </tr>\n",
       "    <tr>\n",
       "      <th>4</th>\n",
       "      <td>GCACTGATGTAACTCATGGTACATCCGTCGCTGAGCGCCATTTTGT...</td>\n",
       "      <td>GCACTGATGTAACTCATGGTACATCCGTCGCTGAGCGCCATTTTGT...</td>\n",
       "    </tr>\n",
       "    <tr>\n",
       "      <th>...</th>\n",
       "      <td>...</td>\n",
       "      <td>...</td>\n",
       "    </tr>\n",
       "    <tr>\n",
       "      <th>9995</th>\n",
       "      <td>GCATGATTTGGAAGGTCGGCACTATACCCACCCAGGGTATATGGTC...</td>\n",
       "      <td>GCATGATTTGGAAGGTCGGCACTATACCCACCGCAGGGTATATGGT...</td>\n",
       "    </tr>\n",
       "    <tr>\n",
       "      <th>9996</th>\n",
       "      <td>GAAGTTTGGAACGTGTTCGTCCGCCAATTAAGGTTGGCTTCTAGTA...</td>\n",
       "      <td>GAAGTTTGGAACGTGTTCGTCCGCCAATTAAGGTTGGCTTCTAGTA...</td>\n",
       "    </tr>\n",
       "    <tr>\n",
       "      <th>9997</th>\n",
       "      <td>TGCATCCCGGACAACCGCAAGGGTGCATGGGCACCGCAATTCCCAA...</td>\n",
       "      <td>TGCATCCCGGACAACCGCAAGGGTGCATGGGCACCGCAATTCCCAA...</td>\n",
       "    </tr>\n",
       "    <tr>\n",
       "      <th>9998</th>\n",
       "      <td>ACTGGACGTCCTATGCTGGCATAATGAAACGACAACCTGTCTTCGA...</td>\n",
       "      <td>ACTGGACGTCCTATGCTGGCATAATGAAACGACAACCTGTCTTCGA...</td>\n",
       "    </tr>\n",
       "    <tr>\n",
       "      <th>9999</th>\n",
       "      <td>ATCGTGGTATCCCTCCAACCCGAATGACCTGGCGAGGCAGATCAAC...</td>\n",
       "      <td>ATCGTGGTATCCCTCCAACCCGAATGACCTGGCGAGGCAGATCAAC...</td>\n",
       "    </tr>\n",
       "  </tbody>\n",
       "</table>\n",
       "<p>10000 rows × 2 columns</p>\n",
       "</div>"
      ],
      "text/plain": [
       "                                                   Refs  \\\n",
       "0     ACCATAATGCGTGGGGCCGACCTCGGAATGCGGTCTCCATGCGCGT...   \n",
       "1     TCGAAGCAGTAGGGCCTACCAAATAGGTTGGTCCTCCGTTGTATCT...   \n",
       "2     AGTTAACGTCCCACGGCGAGGCACTCTTGATCCCCACCTTCAAGAG...   \n",
       "3     GCCCAAGGGTACGCCCGCAGCGACGCAATTGGCGGAGTAAGCGCGT...   \n",
       "4     GCACTGATGTAACTCATGGTACATCCGTCGCTGAGCGCCATTTTGT...   \n",
       "...                                                 ...   \n",
       "9995  GCATGATTTGGAAGGTCGGCACTATACCCACCCAGGGTATATGGTC...   \n",
       "9996  GAAGTTTGGAACGTGTTCGTCCGCCAATTAAGGTTGGCTTCTAGTA...   \n",
       "9997  TGCATCCCGGACAACCGCAAGGGTGCATGGGCACCGCAATTCCCAA...   \n",
       "9998  ACTGGACGTCCTATGCTGGCATAATGAAACGACAACCTGTCTTCGA...   \n",
       "9999  ATCGTGGTATCCCTCCAACCCGAATGACCTGGCGAGGCAGATCAAC...   \n",
       "\n",
       "                                                  Reads  \n",
       "0     ACCATAATGCGTGGGGCCGACCTCGGAATGCGGTCTCCATGCGCGT...  \n",
       "1     TCGAAGCAGTAGGGCCTACCAAATAGGTTGGTCCTCCGTTGTATCT...  \n",
       "2     AGTTAACGTCCCACGGCGAGGCACTCTTGATCCCCACCTTCAAGAG...  \n",
       "3     GCCCAAGGGTACGCCCGCAGCGACGCCAATTGGCGGAGTAAGCGCG...  \n",
       "4     GCACTGATGTAACTCATGGTACATCCGTCGCTGAGCGCCATTTTGT...  \n",
       "...                                                 ...  \n",
       "9995  GCATGATTTGGAAGGTCGGCACTATACCCACCGCAGGGTATATGGT...  \n",
       "9996  GAAGTTTGGAACGTGTTCGTCCGCCAATTAAGGTTGGCTTCTAGTA...  \n",
       "9997  TGCATCCCGGACAACCGCAAGGGTGCATGGGCACCGCAATTCCCAA...  \n",
       "9998  ACTGGACGTCCTATGCTGGCATAATGAAACGACAACCTGTCTTCGA...  \n",
       "9999  ATCGTGGTATCCCTCCAACCCGAATGACCTGGCGAGGCAGATCAAC...  \n",
       "\n",
       "[10000 rows x 2 columns]"
      ]
     },
     "execution_count": 3,
     "metadata": {},
     "output_type": "execute_result"
    }
   ],
   "source": [
    "df\n"
   ]
  },
  {
   "cell_type": "code",
   "execution_count": 4,
   "metadata": {},
   "outputs": [],
   "source": [
    "from tqdm import tqdm\n"
   ]
  },
  {
   "cell_type": "code",
   "execution_count": 5,
   "metadata": {},
   "outputs": [],
   "source": [
    "noisy_strands = [s.strip() for s in list(df['Reads'])]\n"
   ]
  },
  {
   "cell_type": "code",
   "execution_count": 6,
   "metadata": {},
   "outputs": [],
   "source": [
    "ref_strands = [s.strip() for s in list(df['Refs'])]\n"
   ]
  },
  {
   "cell_type": "code",
   "execution_count": 7,
   "metadata": {},
   "outputs": [],
   "source": [
    "import difflib\n"
   ]
  },
  {
   "cell_type": "code",
   "execution_count": 8,
   "metadata": {},
   "outputs": [],
   "source": [
    "import matplotlib.pyplot as plt\n",
    "import numpy as np\n",
    "import os\n",
    "\n",
    "# use LaTeX fonts in the plot\n",
    "plt.rc('text', usetex=True)\n",
    "plt.rc('font', family='serif')\n",
    "os.environ[\"PATH\"] += os.pathsep + '/usr/local/texlive/2021basic/bin/universal-darwin'"
   ]
  },
  {
   "cell_type": "code",
   "execution_count": 9,
   "metadata": {},
   "outputs": [],
   "source": [
    "def print_diff(ref_strand, noisy_strand):\n",
    "    global pairs\n",
    "    global pairs_no_pos\n",
    "    a, b = 0, 0\n",
    "\n",
    "    # quadratic time, no heuristics\n",
    "    for match in difflib.SequenceMatcher(None, ref_strand, noisy_strand, autojunk=False).get_matching_blocks():\n",
    "        was = ref_strand[a:match.a]\n",
    "        now = noisy_strand[b:match.b]\n",
    "        \n",
    "        a = match.a + match.size\n",
    "        b = match.b + match.size\n",
    "        \n",
    "        if was == '' and now == '':\n",
    "            pass\n",
    "        else:\n",
    "            # print('{}|{}'.format(was, now), end=', ')\n",
    "            pairs += [(was, now, match.a)]\n",
    "            pairs_no_pos += [(was, now)]\n",
    "\n"
   ]
  },
  {
   "cell_type": "code",
   "execution_count": 10,
   "metadata": {},
   "outputs": [
    {
     "name": "stderr",
     "output_type": "stream",
     "text": [
      "100%|██████████| 10000/10000 [00:00<00:00, 82398.13it/s]\n"
     ]
    },
    {
     "name": "stdout",
     "output_type": "stream",
     "text": [
      "[98, 230, 272, 289, 325, 358, 406, 435, 468, 477, 493, 536, 570, 597, 626, 646, 697, 689, 741, 794, 768, 801, 853, 869, 905, 951, 970, 1025, 1022, 1059, 1102, 1115, 1187, 1178, 1218, 1236, 1323, 1327, 1333, 1368, 1419, 1413, 1425, 1435, 1498, 1530, 1517, 1585, 1637, 1640, 1679, 1699, 1687, 1754, 1771, 1821, 1813, 1862, 1903, 1886, 1956, 1978, 1977, 2035, 2040, 2038, 2012, 2116, 2131, 2166, 2205, 2227, 2226, 2240, 2312, 2356, 2337, 2390, 2444, 2454, 2418, 2507, 2554, 2570, 2636, 2669, 2602, 2666, 2728, 2739, 2725, 2809, 2872, 2868, 2906, 2869, 2927, 2930, 2994, 3033, 3019, 3093, 3114, 3143, 3158, 3176, 3235, 3297, 3342, 4781]\n"
     ]
    },
    {
     "data": {
      "image/png": "[encoded data removed]",
      "text/plain": [
       "<Figure size 432x288 with 1 Axes>"
      ]
     },
     "metadata": {
      "needs_background": "light"
     },
     "output_type": "display_data"
    }
   ],
   "source": [
    "# Hamming Distance Graph\n",
    "strand_len = 110\n",
    "count_pos = [0] * (strand_len + 1)\n",
    "\n",
    "def hamming(ref_strand, recons_strand):\n",
    "    for i, (c1, c2) in enumerate(zip(ref_strand, recons_strand)):\n",
    "        if c1 != c2:\n",
    "            count_pos[i] += 1\n",
    "\n",
    "for i in tqdm(range(len(ref_strands))):\n",
    "    hamming(ref_strands[i], noisy_strands[i])\n",
    "\n",
    "print(count_pos[:-1])\n",
    "f = plt.figure()\n",
    "plt.plot(range(strand_len), count_pos[:-1])\n",
    "plt.title(r'Hamming Error; Iterative; N = 5', fontsize=11)\n",
    "plt.xlabel(r'Strand Position', fontsize=11)\n",
    "plt.ylabel(r'No. of Errors', fontsize=11)\n",
    "plt.show()\n",
    "f.savefig('cov5-iter-hamming.pdf', bbox_inches='tight')"
   ]
  },
  {
   "cell_type": "code",
   "execution_count": 11,
   "metadata": {},
   "outputs": [
    {
     "name": "stderr",
     "output_type": "stream",
     "text": [
      "100%|██████████| 10000/10000 [00:05<00:00, 1788.08it/s]\n"
     ]
    }
   ],
   "source": [
    "pairs = []\n",
    "pairs_no_pos = []\n",
    "\n",
    "for i in tqdm(range(len(ref_strands))):\n",
    "    if ref_strands[i] != noisy_strands[i]:\n",
    "        print_diff(ref_strands[i], noisy_strands[i])\n"
   ]
  },
  {
   "cell_type": "code",
   "execution_count": 12,
   "metadata": {},
   "outputs": [
    {
     "name": "stdout",
     "output_type": "stream",
     "text": [
      "G -> A 11\n",
      "T -> C 19\n",
      "G -> T 20\n",
      "G -> C 22\n",
      "T -> G 24\n",
      "C -> A 29\n",
      "T -> A 30\n",
      "A -> C 31\n",
      "A -> G 33\n",
      "A -> T 35\n",
      "C -> T 37\n",
      "C -> G 37\n",
      "A ->  38\n",
      "G ->  47\n",
      "T ->  64\n",
      "C ->  73\n",
      " -> A 1454\n",
      " -> G 1590\n",
      " -> T 1663\n",
      " -> C 1691\n"
     ]
    }
   ],
   "source": [
    "\n",
    "subs_no_pos, counts_no_pos = np.unique(pairs_no_pos, return_counts=True, axis=0)\n",
    "sorting = np.argsort(counts_no_pos)\n",
    "subs_no_pos = subs_no_pos[sorting]\n",
    "counts_no_pos = counts_no_pos[sorting]\n",
    "\n",
    "for sub, count in zip(subs_no_pos, counts_no_pos):\n",
    "    if count > 5:\n",
    "        print(\"{} -> {}\".format(sub[0], sub[1]), count)\n"
   ]
  },
  {
   "cell_type": "code",
   "execution_count": 13,
   "metadata": {},
   "outputs": [
    {
     "name": "stdout",
     "output_type": "stream",
     "text": [
      " -> G @ 54 6\n",
      " -> T @ 39 6\n",
      " -> T @ 29 6\n",
      " -> G @ 34 6\n",
      " -> T @ 101 6\n",
      " -> G @ 84 6\n",
      " -> G @ 90 6\n",
      " -> G @ 4 6\n",
      " -> T @ 30 6\n",
      " -> C @ 51 6\n",
      " -> A @ 8 6\n",
      " -> G @ 27 6\n",
      " -> A @ 3 6\n",
      " -> A @ 90 6\n",
      " -> A @ 91 6\n",
      " -> C @ 77 6\n",
      " -> A @ 76 6\n",
      " -> A @ 11 6\n",
      " -> A @ 37 6\n",
      " -> A @ 104 6\n",
      " -> T @ 9 6\n",
      " -> A @ 43 6\n",
      " -> A @ 46 6\n",
      " -> C @ 64 6\n",
      " -> A @ 49 6\n",
      " -> C @ 52 6\n",
      " -> A @ 62 6\n",
      " -> T @ 51 7\n",
      " -> T @ 14 7\n",
      " -> T @ 21 7\n",
      " -> T @ 61 7\n",
      " -> G @ 53 7\n",
      " -> G @ 77 7\n",
      " -> G @ 68 7\n",
      "G -> A @ 110 7\n",
      " -> T @ 41 7\n",
      " -> T @ 71 7\n",
      " -> G @ 95 7\n",
      " -> C @ 75 7\n",
      " -> C @ 35 7\n",
      " -> G @ 14 7\n",
      " -> A @ 69 7\n",
      " -> G @ 18 7\n",
      " -> A @ 50 7\n",
      " -> G @ 21 7\n",
      " -> A @ 26 7\n",
      " -> A @ 20 7\n",
      " -> C @ 103 7\n",
      " -> A @ 97 7\n",
      " -> A @ 61 7\n",
      " -> G @ 33 7\n",
      " -> A @ 65 7\n",
      " -> A @ 81 7\n",
      " -> A @ 73 7\n",
      " -> A @ 101 7\n",
      " -> A @ 7 7\n",
      " -> G @ 13 7\n",
      " -> C @ 40 7\n",
      " -> G @ 15 7\n",
      " -> C @ 91 7\n",
      " -> C @ 41 7\n",
      " -> C @ 86 7\n",
      " -> A @ 14 7\n",
      " -> C @ 99 7\n",
      " -> C @ 96 7\n",
      " -> C @ 56 7\n",
      " -> C @ 6 8\n",
      " -> A @ 9 8\n",
      " -> T @ 3 8\n",
      " -> C @ 65 8\n",
      " -> A @ 84 8\n",
      " -> T @ 20 8\n",
      " -> C @ 66 8\n",
      " -> T @ 12 8\n",
      " -> C @ 68 8\n",
      " -> A @ 72 8\n",
      " -> A @ 16 8\n",
      " -> C @ 78 8\n",
      " -> A @ 96 8\n",
      " -> C @ 90 8\n",
      " -> C @ 43 8\n",
      " -> T @ 49 8\n",
      " -> C @ 104 8\n",
      " -> C @ 59 8\n",
      " -> G @ 23 8\n",
      " -> C @ 95 8\n",
      " -> T @ 57 8\n",
      " -> T @ 59 8\n",
      " -> C @ 54 8\n",
      " -> T @ 78 8\n",
      " -> T @ 8 8\n",
      " -> A @ 19 8\n",
      " -> A @ 13 8\n",
      " -> C @ 53 8\n",
      " -> C @ 4 8\n",
      " -> G @ 3 8\n",
      " -> A @ 68 8\n",
      " -> A @ 99 8\n",
      " -> G @ 37 8\n",
      " -> G @ 99 8\n",
      " -> G @ 46 8\n",
      " -> A @ 41 8\n",
      " -> G @ 41 8\n",
      " -> A @ 6 8\n",
      " -> G @ 72 8\n",
      " -> A @ 53 8\n",
      " -> G @ 61 8\n",
      " -> G @ 7 8\n",
      " -> A @ 40 8\n",
      " -> T @ 102 8\n",
      " -> G @ 38 8\n",
      " -> G @ 96 8\n",
      " -> A @ 100 8\n",
      " -> T @ 10 8\n",
      " -> A @ 29 8\n",
      " -> G @ 56 8\n",
      " -> A @ 12 9\n",
      " -> C @ 15 9\n",
      " -> G @ 104 9\n",
      " -> G @ 22 9\n",
      " -> G @ 83 9\n",
      " -> A @ 51 9\n",
      " -> G @ 26 9\n",
      " -> G @ 87 9\n",
      " -> C @ 107 9\n",
      " -> C @ 106 9\n",
      " -> C @ 12 9\n",
      " -> T @ 65 9\n",
      " -> C @ 44 9\n",
      " -> T @ 68 9\n",
      " -> G @ 74 9\n",
      " -> T @ 89 9\n",
      " -> T @ 88 9\n",
      " -> G @ 73 9\n",
      " -> A @ 44 9\n",
      " -> C @ 34 9\n",
      " -> T @ 83 9\n",
      " -> G @ 80 9\n",
      " -> T @ 82 9\n",
      " -> A @ 45 9\n",
      " -> C @ 26 9\n",
      " -> G @ 70 9\n",
      " -> T @ 74 9\n",
      " -> G @ 11 9\n",
      " -> A @ 58 9\n",
      " -> C @ 19 9\n",
      " -> T @ 95 9\n",
      " -> G @ 89 9\n",
      " -> T @ 48 9\n",
      " -> G @ 12 9\n",
      " -> G @ 9 9\n",
      " -> T @ 26 9\n",
      " -> A @ 86 9\n",
      " -> G @ 52 9\n",
      " -> T @ 22 9\n",
      " -> G @ 35 9\n",
      " -> T @ 19 9\n",
      " -> T @ 18 9\n",
      " -> G @ 40 9\n",
      " -> G @ 57 9\n",
      " -> G @ 36 9\n",
      " -> T @ 13 9\n",
      " -> C @ 83 9\n",
      " -> C @ 7 9\n",
      " -> C @ 73 9\n",
      " -> G @ 32 9\n",
      " -> A @ 64 9\n",
      " -> A @ 87 9\n",
      " -> A @ 23 9\n",
      " -> A @ 39 9\n",
      " -> A @ 94 9\n",
      " -> A @ 28 9\n",
      " -> G @ 47 9\n",
      " -> A @ 95 9\n",
      " -> T @ 43 9\n",
      " -> G @ 66 9\n",
      " -> G @ 65 9\n",
      " -> G @ 31 9\n",
      " -> A @ 35 10\n",
      " -> A @ 30 10\n",
      " -> G @ 67 10\n",
      " -> G @ 58 10\n",
      " -> G @ 64 10\n",
      " -> C @ 62 10\n",
      " -> C @ 42 10\n",
      " -> A @ 15 10\n",
      " -> G @ 102 10\n",
      " -> C @ 61 10\n",
      " -> T @ 99 10\n",
      " -> C @ 5 10\n",
      " -> A @ 108 10\n",
      " -> A @ 34 10\n",
      " -> C @ 45 10\n",
      " -> C @ 46 10\n",
      " -> C @ 39 10\n",
      " -> A @ 27 10\n",
      " -> G @ 91 10\n",
      " -> T @ 17 10\n",
      " -> A @ 89 10\n",
      " -> T @ 32 10\n",
      " -> T @ 33 10\n",
      " -> T @ 15 10\n",
      " -> A @ 60 10\n",
      " -> A @ 80 10\n",
      " -> G @ 30 10\n",
      " -> C @ 38 10\n",
      " -> A @ 98 10\n",
      " -> C @ 74 10\n",
      " -> A @ 24 10\n",
      " -> T @ 45 10\n",
      " -> T @ 46 10\n",
      " -> T @ 23 10\n",
      " -> G @ 81 10\n",
      " -> G @ 20 10\n",
      " -> T @ 100 10\n",
      " -> G @ 76 10\n",
      " -> T @ 80 10\n",
      " -> T @ 107 10\n",
      " -> T @ 75 10\n",
      " -> T @ 60 10\n",
      " -> A @ 48 10\n",
      " -> G @ 45 10\n",
      " -> C @ 16 10\n",
      " -> G @ 19 10\n",
      " -> A @ 79 10\n",
      " -> T @ 64 10\n",
      " -> C @ 13 10\n",
      " -> A @ 82 10\n",
      " -> A @ 67 11\n",
      " -> C @ 72 11\n",
      " -> A @ 74 11\n",
      " -> C @ 36 11\n",
      " -> A @ 66 11\n",
      " -> A @ 93 11\n",
      "T -> C @ 110 11\n",
      " -> A @ 4 11\n",
      " -> C @ 47 11\n",
      " -> C @ 22 11\n",
      " -> C @ 24 11\n",
      " -> C @ 27 11\n",
      " -> C @ 30 11\n",
      " -> A @ 31 11\n",
      " -> C @ 17 11\n",
      " -> G @ 10 11\n",
      " -> G @ 105 11\n",
      " -> A @ 106 11\n",
      " -> T @ 27 11\n",
      " -> A @ 103 11\n",
      " -> G @ 107 11\n",
      " -> T @ 7 11\n",
      " -> T @ 35 11\n",
      " -> G @ 98 11\n",
      " -> C @ 97 11\n",
      " -> G @ 93 11\n",
      " -> T @ 24 11\n",
      " -> C @ 93 11\n",
      " -> G @ 43 11\n",
      " -> T @ 93 11\n",
      " -> G @ 44 11\n",
      " -> C @ 80 11\n",
      " -> T @ 63 11\n",
      " -> T @ 79 11\n",
      " -> G @ 6 11\n",
      " -> G @ 63 11\n",
      " -> G @ 62 11\n",
      " -> G @ 60 11\n",
      " -> C @ 82 11\n",
      " -> G @ 85 11\n",
      " -> T @ 53 11\n",
      " -> T @ 6 11\n",
      " -> T @ 28 12\n",
      " -> T @ 36 12\n",
      " -> T @ 40 12\n",
      " -> C @ 102 12\n",
      " -> T @ 50 12\n",
      " -> A @ 21 12\n",
      " -> A @ 22 12\n",
      " -> T @ 31 12\n",
      " -> C @ 76 12\n",
      " -> C @ 8 12\n",
      " -> T @ 16 12\n",
      " -> A @ 33 12\n",
      " -> A @ 36 12\n",
      " -> A @ 38 12\n",
      " -> A @ 47 12\n",
      " -> G @ 79 12\n",
      " -> G @ 88 12\n",
      " -> G @ 42 12\n",
      " -> G @ 92 12\n",
      " -> G @ 94 12\n",
      " -> G @ 97 12\n",
      " -> G @ 39 12\n",
      " -> T @ 104 12\n",
      " -> A @ 102 12\n",
      " -> A @ 70 12\n",
      " -> A @ 78 12\n",
      " -> A @ 83 12\n",
      " -> T @ 70 12\n",
      " -> G @ 50 12\n",
      " -> T @ 87 12\n",
      " -> C @ 50 12\n",
      " -> C @ 3 12\n",
      " -> G @ 106 12\n",
      " -> C @ 87 12\n",
      " -> C @ 63 12\n",
      " -> T @ 81 12\n",
      " -> G @ 101 12\n",
      " -> C @ 25 12\n",
      " -> T @ 97 12\n",
      " -> C @ 69 12\n",
      " -> C @ 81 12\n",
      " -> C @ 32 12\n",
      " -> T @ 85 12\n",
      " -> T @ 72 12\n",
      " -> C @ 84 12\n",
      " -> C @ 98 12\n",
      " -> C @ 21 13\n",
      " -> G @ 108 13\n",
      " -> T @ 92 13\n",
      " -> T @ 103 13\n",
      " -> G @ 103 13\n",
      " -> T @ 91 13\n",
      " -> C @ 20 13\n",
      " -> C @ 57 13\n",
      " -> A @ 88 13\n",
      " -> C @ 60 13\n",
      " -> C @ 88 13\n",
      " -> G @ 75 13\n",
      " -> G @ 69 13\n",
      " -> C @ 67 13\n",
      " -> C @ 70 13\n",
      " -> A @ 18 13\n",
      " -> G @ 48 13\n",
      " -> G @ 5 13\n",
      " -> C @ 94 13\n",
      " -> C @ 9 13\n",
      " -> C @ 105 13\n",
      " -> A @ 92 13\n",
      " -> T @ 84 13\n",
      " -> G @ 29 13\n",
      " -> T @ 52 13\n",
      " -> C @ 28 13\n",
      " -> T @ 47 13\n",
      " -> T @ 77 13\n",
      " -> C @ 10 13\n",
      " -> T @ 76 13\n",
      " -> G @ 16 13\n",
      " -> C @ 23 13\n",
      " -> A @ 2 13\n",
      " -> T @ 4 13\n",
      " -> C @ 14 14\n",
      " -> G @ 82 14\n",
      " -> A @ 52 14\n",
      " -> C @ 58 14\n",
      " -> G @ 49 14\n",
      " -> C @ 2 14\n",
      " -> A @ 63 14\n",
      " -> C @ 108 14\n",
      " -> T @ 94 14\n",
      " -> T @ 34 14\n",
      " -> T @ 96 14\n",
      " -> C @ 100 14\n",
      " -> C @ 101 15\n",
      " -> C @ 37 15\n",
      " -> A @ 85 15\n",
      " -> T @ 86 15\n",
      " -> C @ 29 15\n",
      " -> G @ 28 15\n",
      " -> T @ 106 15\n",
      " -> G @ 71 15\n",
      " -> A @ 25 15\n",
      " -> T @ 25 16\n",
      " -> C @ 18 16\n",
      " -> T @ 11 16\n",
      " -> T @ 5 16\n",
      " -> A @ 5 16\n",
      " -> A @ 107 16\n",
      " -> T @ 108 16\n",
      "G -> C @ 110 16\n",
      " -> T @ 44 16\n",
      " -> C @ 85 16\n",
      " -> C @ 11 17\n",
      "T -> G @ 110 17\n",
      " -> T @ 2 17\n",
      " -> C @ 31 17\n",
      "T -> A @ 110 17\n",
      "G -> T @ 110 17\n",
      " -> G @ 78 17\n",
      " -> T @ 37 18\n",
      " -> C @ 71 18\n",
      " -> C @ 48 18\n",
      " -> C @ 89 19\n",
      " -> G @ 2 19\n",
      " -> T @ 105 20\n",
      "A -> C @ 110 20\n",
      "C -> A @ 110 22\n",
      "A -> G @ 110 23\n",
      " -> A @ 1 24\n",
      "A -> T @ 110 24\n",
      "G ->  @ 110 27\n",
      "C -> T @ 110 27\n",
      "C -> G @ 110 27\n",
      "A ->  @ 110 28\n",
      " -> T @ 1 29\n",
      " -> G @ 1 32\n",
      " -> C @ 1 33\n",
      "C ->  @ 110 38\n",
      "T ->  @ 110 42\n",
      " -> T @ 0 42\n",
      " -> G @ 0 52\n",
      " -> A @ 0 56\n",
      " -> C @ 0 62\n",
      " -> A @ 110 106\n",
      " -> C @ 110 110\n",
      " -> T @ 110 139\n",
      " -> G @ 110 141\n",
      " -> A @ 109 325\n",
      " -> G @ 109 357\n",
      " -> C @ 109 366\n",
      " -> T @ 109 391\n",
      "[213, 126, 69, 36, 41, 55, 39, 36, 34, 38, 39, 49, 36, 35, 40, 37, 43, 28, 45, 38, 40, 40, 42, 42, 39, 50, 36, 40, 52, 42, 40, 51, 36, 36, 40, 41, 45, 49, 39, 39, 39, 32, 29, 39, 46, 41, 35, 48, 52, 33, 45, 29, 43, 36, 24, 18, 26, 35, 41, 28, 44, 33, 33, 49, 37, 33, 32, 39, 33, 37, 50, 47, 40, 33, 42, 35, 44, 31, 46, 43, 42, 42, 45, 41, 42, 55, 37, 45, 47, 49, 28, 36, 44, 47, 51, 35, 38, 42, 41, 35, 39, 40, 44, 46, 37, 50, 48, 49, 58, 1440, 880]\n"
     ]
    },
    {
     "data": {
      "image/png": "[encoded data removed]",
      "text/plain": [
       "<Figure size 432x288 with 1 Axes>"
      ]
     },
     "metadata": {
      "needs_background": "light"
     },
     "output_type": "display_data"
    }
   ],
   "source": [
    "subs, counts = np.unique(pairs, return_counts=True, axis=0)\n",
    "sorting = np.argsort(counts)\n",
    "subs = subs[sorting]\n",
    "counts = counts[sorting]\n",
    "\n",
    "for sub, count in zip(subs, counts):\n",
    "    if count > 5:\n",
    "        print(\"{} -> {} @ {}\".format(sub[0], sub[1], sub[2]), count)\n",
    "\n",
    "strand_len = 110\n",
    "pos_counts = [0] * (strand_len + 1)\n",
    "for sub, count in zip(subs, counts):\n",
    "    pos_counts[int(sub[2])] += count\n",
    "\n",
    "print(pos_counts)\n",
    "\n",
    "f = plt.figure()\n",
    "plt.plot(range(strand_len + 1), pos_counts)\n",
    "plt.title(r'Aligned Error; Iterative; N = 5', fontsize=11)\n",
    "plt.xlabel(r'Strand Position', fontsize=11)\n",
    "plt.ylabel(r'No. of Errors', fontsize=11)\n",
    "plt.show()\n",
    "f.savefig('cov5-iter-aligned.pdf', bbox_inches='tight')"
   ]
  },
  {
   "cell_type": "code",
   "execution_count": 14,
   "metadata": {},
   "outputs": [],
   "source": [
    "subs, counts = np.unique(pairs, return_counts=True, axis=0)\n",
    "sorting = np.argsort(counts)\n",
    "subs = subs[sorting]\n",
    "counts = counts[sorting]\n"
   ]
  },
  {
   "cell_type": "code",
   "execution_count": 15,
   "metadata": {},
   "outputs": [],
   "source": [
    "def get_key(char1, char2):\n",
    "    char1 = char1 if char1 != '' else '_'\n",
    "    char2 = char2 if char2 != '' else '_'\n",
    "    return char1 + ' -> ' + char2\n",
    "\n",
    "strand_len = 110\n",
    "pos_map = {}\n",
    "pos_counts = [0] * (strand_len + 1)\n",
    "for sub, count in zip(subs, counts):\n",
    "    key = get_key(sub[0], sub[1])\n",
    "    if key not in pos_map:\n",
    "        pos_map[key] = [0] * (strand_len + 1)\n",
    "    pos_map[key][int(sub[2])] += count"
   ]
  },
  {
   "cell_type": "code",
   "execution_count": 16,
   "metadata": {},
   "outputs": [],
   "source": [
    "sub_keys = [get_key(sub[0], sub[1]) for sub in subs_no_pos]\n",
    "max_10_keys = sub_keys[-10:]\n",
    "max_10_counts = counts_no_pos[-10:]\n"
   ]
  },
  {
   "cell_type": "code",
   "execution_count": 17,
   "metadata": {},
   "outputs": [
    {
     "name": "stdout",
     "output_type": "stream",
     "text": [
      "[62, 33, 14, 12, 8, 10, 8, 9, 12, 13, 13, 17, 9, 10, 14, 9, 10, 11, 16, 9, 13, 13, 11, 13, 11, 12, 9, 11, 13, 15, 11, 17, 12, 5, 9, 7, 11, 15, 10, 10, 7, 7, 10, 8, 9, 10, 10, 11, 18, 4, 12, 6, 6, 8, 8, 3, 7, 13, 14, 8, 13, 10, 10, 12, 6, 8, 8, 13, 8, 12, 13, 18, 11, 9, 10, 7, 12, 6, 8, 5, 11, 12, 11, 9, 12, 16, 7, 12, 13, 19, 8, 7, 3, 11, 13, 8, 7, 11, 12, 7, 14, 15, 12, 7, 8, 13, 9, 9, 14, 366, 110]\n",
      "[42, 29, 17, 8, 13, 16, 11, 11, 8, 6, 8, 16, 8, 9, 7, 10, 12, 10, 9, 9, 8, 7, 9, 10, 11, 16, 9, 11, 12, 6, 6, 12, 10, 10, 14, 11, 12, 18, 5, 6, 12, 7, 2, 9, 16, 10, 10, 13, 9, 8, 12, 7, 13, 11, 5, 4, 5, 8, 5, 8, 10, 7, 5, 11, 10, 9, 2, 4, 9, 4, 12, 7, 12, 5, 9, 10, 13, 13, 8, 11, 10, 12, 9, 9, 13, 12, 15, 12, 9, 9, 5, 13, 13, 11, 14, 9, 14, 12, 5, 10, 10, 6, 8, 13, 12, 20, 15, 10, 16, 391, 139]\n",
      "[52, 32, 19, 8, 6, 13, 11, 8, 5, 9, 11, 9, 9, 7, 7, 7, 13, 2, 7, 10, 10, 7, 9, 8, 4, 5, 9, 6, 15, 13, 10, 9, 9, 7, 6, 9, 9, 8, 8, 12, 9, 8, 12, 11, 11, 10, 8, 9, 13, 14, 12, 4, 9, 7, 6, 5, 8, 9, 10, 5, 11, 8, 11, 11, 10, 9, 9, 10, 7, 13, 9, 15, 8, 9, 9, 13, 10, 7, 17, 12, 9, 10, 14, 9, 6, 11, 5, 9, 12, 9, 6, 10, 12, 11, 12, 7, 8, 12, 11, 8, 4, 12, 10, 13, 9, 11, 12, 11, 13, 357, 141]\n",
      "[56, 24, 13, 6, 11, 16, 8, 7, 6, 8, 4, 6, 9, 8, 7, 10, 8, 4, 13, 8, 7, 12, 12, 9, 10, 15, 7, 10, 9, 8, 10, 11, 5, 12, 10, 10, 12, 6, 12, 9, 8, 8, 4, 6, 9, 9, 6, 12, 10, 6, 7, 9, 14, 8, 5, 4, 4, 5, 9, 5, 10, 7, 6, 14, 9, 7, 11, 11, 8, 7, 12, 5, 8, 7, 11, 5, 6, 5, 12, 10, 10, 7, 10, 12, 8, 15, 9, 9, 13, 10, 6, 6, 13, 11, 9, 9, 8, 7, 10, 8, 8, 7, 12, 11, 6, 5, 11, 16, 10, 325, 106]\n",
      "[0, 0, 0, 0, 1, 0, 0, 0, 0, 0, 0, 0, 1, 0, 0, 0, 0, 1, 0, 0, 1, 0, 0, 0, 0, 0, 2, 0, 1, 0, 1, 1, 0, 0, 0, 1, 0, 0, 0, 0, 0, 0, 0, 0, 0, 0, 0, 2, 0, 0, 1, 1, 1, 0, 0, 0, 1, 0, 1, 0, 0, 0, 1, 1, 1, 0, 1, 1, 0, 0, 0, 0, 0, 0, 1, 0, 0, 0, 0, 0, 0, 0, 0, 1, 1, 0, 0, 0, 0, 1, 1, 0, 0, 1, 0, 1, 0, 0, 0, 0, 1, 0, 1, 0, 2, 0, 0, 1, 1, 0, 38]\n",
      "[0, 2, 0, 0, 0, 0, 0, 1, 0, 0, 0, 0, 0, 0, 0, 0, 0, 0, 0, 0, 0, 1, 1, 0, 0, 0, 0, 0, 0, 0, 2, 1, 0, 0, 0, 0, 0, 0, 0, 0, 0, 0, 0, 1, 0, 0, 0, 0, 0, 1, 0, 0, 0, 0, 0, 1, 0, 0, 0, 1, 0, 0, 0, 0, 0, 0, 0, 0, 0, 0, 0, 0, 1, 1, 0, 0, 1, 0, 0, 1, 0, 0, 0, 0, 1, 0, 0, 0, 0, 1, 1, 0, 1, 0, 0, 0, 0, 0, 1, 0, 0, 0, 0, 0, 0, 0, 0, 0, 1, 0, 42]\n",
      "[0, 1, 2, 0, 0, 0, 0, 0, 0, 1, 0, 0, 0, 0, 0, 0, 0, 0, 0, 1, 0, 0, 0, 0, 0, 0, 0, 0, 0, 0, 0, 0, 0, 0, 0, 0, 1, 0, 1, 0, 0, 0, 0, 0, 0, 0, 0, 0, 0, 0, 1, 0, 0, 0, 0, 0, 0, 0, 2, 0, 0, 0, 0, 0, 0, 0, 0, 0, 0, 1, 2, 0, 0, 0, 0, 0, 0, 0, 0, 0, 1, 1, 0, 0, 0, 1, 0, 2, 0, 0, 1, 0, 0, 0, 0, 0, 0, 0, 0, 0, 0, 0, 0, 1, 0, 0, 0, 0, 0, 0, 27]\n",
      "[0, 0, 0, 1, 0, 0, 1, 0, 0, 0, 0, 0, 0, 0, 1, 0, 0, 0, 0, 1, 0, 0, 0, 0, 0, 0, 0, 0, 0, 0, 0, 0, 0, 0, 0, 0, 0, 0, 0, 0, 1, 0, 0, 0, 0, 1, 0, 0, 0, 0, 0, 0, 0, 0, 0, 0, 0, 0, 0, 0, 0, 0, 0, 0, 0, 0, 0, 0, 1, 0, 0, 0, 0, 0, 0, 0, 0, 0, 0, 0, 0, 0, 1, 0, 0, 0, 0, 0, 0, 0, 0, 0, 0, 0, 0, 0, 0, 0, 0, 0, 1, 0, 0, 0, 0, 1, 0, 0, 0, 0, 28]\n",
      "[0, 0, 0, 0, 0, 0, 0, 0, 1, 0, 1, 0, 0, 0, 0, 0, 0, 0, 0, 0, 0, 0, 0, 0, 0, 0, 0, 0, 0, 0, 0, 0, 0, 0, 0, 0, 0, 0, 0, 0, 0, 1, 0, 1, 0, 1, 0, 0, 0, 0, 0, 0, 0, 0, 0, 0, 0, 0, 0, 0, 0, 0, 0, 0, 0, 0, 0, 0, 0, 0, 0, 0, 0, 0, 0, 0, 1, 0, 0, 1, 1, 0, 0, 0, 0, 0, 0, 0, 0, 0, 0, 0, 0, 1, 0, 0, 0, 0, 0, 0, 0, 0, 0, 0, 0, 0, 0, 0, 1, 0, 27]\n",
      "[0, 1, 1, 0, 0, 0, 0, 0, 0, 0, 0, 0, 0, 0, 0, 0, 0, 0, 0, 0, 0, 0, 0, 1, 0, 0, 0, 0, 0, 0, 0, 0, 0, 0, 0, 0, 0, 0, 0, 0, 0, 0, 0, 1, 0, 0, 0, 1, 1, 0, 0, 0, 0, 0, 0, 0, 0, 0, 0, 0, 0, 0, 0, 0, 0, 0, 1, 0, 0, 0, 0, 0, 0, 0, 0, 0, 0, 0, 0, 0, 0, 0, 0, 0, 0, 0, 0, 0, 0, 0, 0, 0, 0, 0, 1, 0, 0, 0, 0, 1, 0, 0, 0, 1, 0, 0, 0, 0, 0, 0, 27]\n"
     ]
    },
    {
     "data": {
      "image/png": "[encoded data removed]",
      "text/plain": [
       "<Figure size 432x288 with 1 Axes>"
      ]
     },
     "metadata": {
      "needs_background": "light"
     },
     "output_type": "display_data"
    },
    {
     "data": {
      "image/png": "[encoded data removed]",
      "text/plain": [
       "<Figure size 432x288 with 1 Axes>"
      ]
     },
     "metadata": {
      "needs_background": "light"
     },
     "output_type": "display_data"
    },
    {
     "data": {
      "image/png": "[encoded data removed]",
      "text/plain": [
       "<Figure size 432x288 with 1 Axes>"
      ]
     },
     "metadata": {
      "needs_background": "light"
     },
     "output_type": "display_data"
    },
    {
     "data": {
      "image/png": "[encoded data removed]",
      "text/plain": [
       "<Figure size 432x288 with 1 Axes>"
      ]
     },
     "metadata": {
      "needs_background": "light"
     },
     "output_type": "display_data"
    },
    {
     "data": {
      "image/png": "[encoded data removed]",
      "text/plain": [
       "<Figure size 432x288 with 1 Axes>"
      ]
     },
     "metadata": {
      "needs_background": "light"
     },
     "output_type": "display_data"
    },
    {
     "data": {
      "image/png": "[encoded data removed]",
      "text/plain": [
       "<Figure size 432x288 with 1 Axes>"
      ]
     },
     "metadata": {
      "needs_background": "light"
     },
     "output_type": "display_data"
    },
    {
     "data": {
      "image/png": "[encoded data removed]",
      "text/plain": [
       "<Figure size 432x288 with 1 Axes>"
      ]
     },
     "metadata": {
      "needs_background": "light"
     },
     "output_type": "display_data"
    },
    {
     "data": {
      "image/png": "[encoded data removed]",
      "text/plain": [
       "<Figure size 432x288 with 1 Axes>"
      ]
     },
     "metadata": {
      "needs_background": "light"
     },
     "output_type": "display_data"
    },
    {
     "data": {
      "image/png": "[encoded data removed]",
      "text/plain": [
       "<Figure size 432x288 with 1 Axes>"
      ]
     },
     "metadata": {
      "needs_background": "light"
     },
     "output_type": "display_data"
    },
    {
     "data": {
      "image/png": "[encoded data removed]",
      "text/plain": [
       "<Figure size 432x288 with 1 Axes>"
      ]
     },
     "metadata": {
      "needs_background": "light"
     },
     "output_type": "display_data"
    }
   ],
   "source": [
    "for key, count in zip(reversed(max_10_keys), reversed(max_10_counts)):\n",
    "    plt.figure(key)\n",
    "    print(pos_map[key])\n",
    "    plt.plot(range(strand_len + 1), pos_map[key])"
   ]
  },
  {
   "cell_type": "code",
   "execution_count": 18,
   "metadata": {},
   "outputs": [],
   "source": [
    "np.save('subs.npy', subs)\n",
    "np.save('counts.npy', counts)"
   ]
  }
 ],
 "metadata": {
  "interpreter": {
   "hash": "aee8b7b246df8f9039afb4144a1f6fd8d2ca17a180786b69acc140d282b71a49"
  },
  "kernelspec": {
   "display_name": "Python 3.9.10 64-bit",
   "language": "python",
   "name": "python3"
  },
  "language_info": {
   "codemirror_mode": {
    "name": "ipython",
    "version": 3
   },
   "file_extension": ".py",
   "mimetype": "text/x-python",
   "name": "python",
   "nbconvert_exporter": "python",
   "pygments_lexer": "ipython3",
   "version": "3.9.10"
  },
  "orig_nbformat": 4
 },
 "nbformat": 4,
 "nbformat_minor": 2
}
