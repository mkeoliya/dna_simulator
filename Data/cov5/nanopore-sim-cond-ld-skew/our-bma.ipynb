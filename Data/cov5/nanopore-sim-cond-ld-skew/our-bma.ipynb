{
 "cells": [
  {
   "cell_type": "code",
   "execution_count": 21,
   "metadata": {},
   "outputs": [],
   "source": [
    "import pandas as pd"
   ]
  },
  {
   "cell_type": "code",
   "execution_count": 22,
   "metadata": {},
   "outputs": [],
   "source": [
    "\n",
    "df = pd.read_csv('recons-our-bma.csv')\n"
   ]
  },
  {
   "cell_type": "code",
   "execution_count": 23,
   "metadata": {},
   "outputs": [
    {
     "data": {
      "text/html": [
       "<div>\n",
       "<style scoped>\n",
       "    .dataframe tbody tr th:only-of-type {\n",
       "        vertical-align: middle;\n",
       "    }\n",
       "\n",
       "    .dataframe tbody tr th {\n",
       "        vertical-align: top;\n",
       "    }\n",
       "\n",
       "    .dataframe thead th {\n",
       "        text-align: right;\n",
       "    }\n",
       "</style>\n",
       "<table border=\"1\" class=\"dataframe\">\n",
       "  <thead>\n",
       "    <tr style=\"text-align: right;\">\n",
       "      <th></th>\n",
       "      <th>Refs</th>\n",
       "      <th>Reads</th>\n",
       "    </tr>\n",
       "  </thead>\n",
       "  <tbody>\n",
       "    <tr>\n",
       "      <th>0</th>\n",
       "      <td>ACCATAATGCGTGGGGCCGACCTCGGAATGCGGTCTCCATGCGCGT...</td>\n",
       "      <td>ACCATAATGCGTGGGGCCGACCTCGGAATGCGGTCTCCATGCGCGT...</td>\n",
       "    </tr>\n",
       "    <tr>\n",
       "      <th>1</th>\n",
       "      <td>TCGAAGCAGTAGGGCCTACCAAATAGGTTGGTCCTCCGTTGTATCT...</td>\n",
       "      <td>TCGAAGCAGTAGGGCCTACCAAATAGGTTGGTCTCCGTTGTATCTA...</td>\n",
       "    </tr>\n",
       "    <tr>\n",
       "      <th>2</th>\n",
       "      <td>AGTTAACGTCCCACGGCGAGGCACTCTTGATCCCCACCTTCAAGAG...</td>\n",
       "      <td>AGTTAACGTCCCACGGCGAGGCACTCTTGATCCCCACCTTCAAGAG...</td>\n",
       "    </tr>\n",
       "    <tr>\n",
       "      <th>3</th>\n",
       "      <td>GCCCAAGGGTACGCCCGCAGCGACGCAATTGGCGGAGTAAGCGCGT...</td>\n",
       "      <td>GCCCAAGGGTACGCCCGAAGCGACGCAATTGGCGGAGTAAGCGCGT...</td>\n",
       "    </tr>\n",
       "    <tr>\n",
       "      <th>4</th>\n",
       "      <td>GCACTGATGTAACTCATGGTACATCCGTCGCTGAGCGCCATTTTGT...</td>\n",
       "      <td>GCACTGATGTAACTCATGGTACATCCGTCGCTGAGCGCCATTTTGT...</td>\n",
       "    </tr>\n",
       "    <tr>\n",
       "      <th>...</th>\n",
       "      <td>...</td>\n",
       "      <td>...</td>\n",
       "    </tr>\n",
       "    <tr>\n",
       "      <th>9995</th>\n",
       "      <td>GCATGATTTGGAAGGTCGGCACTATACCCACCCAGGGTATATGGTC...</td>\n",
       "      <td>GCATGATTTGGAAGGTCGGCACTATACCCACCCAGGGTATATGGTC...</td>\n",
       "    </tr>\n",
       "    <tr>\n",
       "      <th>9996</th>\n",
       "      <td>GAAGTTTGGAACGTGTTCGTCCGCCAATTAAGGTTGGCTTCTAGTA...</td>\n",
       "      <td>GAAGTTTGGAACGTGTTCGTCCGCCAATTAAGGTTGGCTTCTAGTA...</td>\n",
       "    </tr>\n",
       "    <tr>\n",
       "      <th>9997</th>\n",
       "      <td>TGCATCCCGGACAACCGCAAGGGTGCATGGGCACCGCAATTCCCAA...</td>\n",
       "      <td>TGCATCCCGGACAACCGCAAGGGTGCATGGGCACCGCAATTCCCAA...</td>\n",
       "    </tr>\n",
       "    <tr>\n",
       "      <th>9998</th>\n",
       "      <td>ACTGGACGTCCTATGCTGGCATAATGAAACGACAACCTGTCTTCGA...</td>\n",
       "      <td>ACTGGACGTCCTATGCTGGCATAATGAAACGACAACCTGTCTTCGA...</td>\n",
       "    </tr>\n",
       "    <tr>\n",
       "      <th>9999</th>\n",
       "      <td>ATCGTGGTATCCCTCCAACCCGAATGACCTGGCGAGGCAGATCAAC...</td>\n",
       "      <td>ATCGTGGTATCCCTCCAACCCGAATGACCTGGCGAGGCAGATCAAC...</td>\n",
       "    </tr>\n",
       "  </tbody>\n",
       "</table>\n",
       "<p>10000 rows × 2 columns</p>\n",
       "</div>"
      ],
      "text/plain": [
       "                                                   Refs  \\\n",
       "0     ACCATAATGCGTGGGGCCGACCTCGGAATGCGGTCTCCATGCGCGT...   \n",
       "1     TCGAAGCAGTAGGGCCTACCAAATAGGTTGGTCCTCCGTTGTATCT...   \n",
       "2     AGTTAACGTCCCACGGCGAGGCACTCTTGATCCCCACCTTCAAGAG...   \n",
       "3     GCCCAAGGGTACGCCCGCAGCGACGCAATTGGCGGAGTAAGCGCGT...   \n",
       "4     GCACTGATGTAACTCATGGTACATCCGTCGCTGAGCGCCATTTTGT...   \n",
       "...                                                 ...   \n",
       "9995  GCATGATTTGGAAGGTCGGCACTATACCCACCCAGGGTATATGGTC...   \n",
       "9996  GAAGTTTGGAACGTGTTCGTCCGCCAATTAAGGTTGGCTTCTAGTA...   \n",
       "9997  TGCATCCCGGACAACCGCAAGGGTGCATGGGCACCGCAATTCCCAA...   \n",
       "9998  ACTGGACGTCCTATGCTGGCATAATGAAACGACAACCTGTCTTCGA...   \n",
       "9999  ATCGTGGTATCCCTCCAACCCGAATGACCTGGCGAGGCAGATCAAC...   \n",
       "\n",
       "                                                  Reads  \n",
       "0     ACCATAATGCGTGGGGCCGACCTCGGAATGCGGTCTCCATGCGCGT...  \n",
       "1     TCGAAGCAGTAGGGCCTACCAAATAGGTTGGTCTCCGTTGTATCTA...  \n",
       "2     AGTTAACGTCCCACGGCGAGGCACTCTTGATCCCCACCTTCAAGAG...  \n",
       "3     GCCCAAGGGTACGCCCGAAGCGACGCAATTGGCGGAGTAAGCGCGT...  \n",
       "4     GCACTGATGTAACTCATGGTACATCCGTCGCTGAGCGCCATTTTGT...  \n",
       "...                                                 ...  \n",
       "9995  GCATGATTTGGAAGGTCGGCACTATACCCACCCAGGGTATATGGTC...  \n",
       "9996  GAAGTTTGGAACGTGTTCGTCCGCCAATTAAGGTTGGCTTCTAGTA...  \n",
       "9997  TGCATCCCGGACAACCGCAAGGGTGCATGGGCACCGCAATTCCCAA...  \n",
       "9998  ACTGGACGTCCTATGCTGGCATAATGAAACGACAACCTGTCTTCGA...  \n",
       "9999  ATCGTGGTATCCCTCCAACCCGAATGACCTGGCGAGGCAGATCAAC...  \n",
       "\n",
       "[10000 rows x 2 columns]"
      ]
     },
     "execution_count": 23,
     "metadata": {},
     "output_type": "execute_result"
    }
   ],
   "source": [
    "df\n"
   ]
  },
  {
   "cell_type": "code",
   "execution_count": 24,
   "metadata": {},
   "outputs": [],
   "source": [
    "from tqdm import tqdm\n"
   ]
  },
  {
   "cell_type": "code",
   "execution_count": 25,
   "metadata": {},
   "outputs": [],
   "source": [
    "noisy_strands = [s.strip() for s in list(df['Reads'])]\n"
   ]
  },
  {
   "cell_type": "code",
   "execution_count": 26,
   "metadata": {},
   "outputs": [],
   "source": [
    "ref_strands = [s.strip() for s in list(df['Refs'])]\n"
   ]
  },
  {
   "cell_type": "code",
   "execution_count": 27,
   "metadata": {},
   "outputs": [],
   "source": [
    "import difflib\n"
   ]
  },
  {
   "cell_type": "code",
   "execution_count": 28,
   "metadata": {},
   "outputs": [],
   "source": [
    "def print_diff(ref_strand, recons_strand):\n",
    "    global pairs\n",
    "    global pairs_no_pos\n",
    "    a, b = 0, 0\n",
    "\n",
    "    # quadratic time, no heuristics\n",
    "    for match in difflib.SequenceMatcher(None, ref_strand, recons_strand, autojunk=False).get_matching_blocks():\n",
    "        was = ref_strand[a:match.a]\n",
    "        now = recons_strand[b:match.b]\n",
    "        \n",
    "        a = match.a + match.size\n",
    "        b = match.b + match.size\n",
    "        \n",
    "        if was == '' and now == '':\n",
    "            pass\n",
    "        else:\n",
    "            # print('{}|{}'.format(was, now), end=', ')\n",
    "            pairs += [(was, now, match.a)]\n",
    "            pairs_no_pos += [(was, now)]\n",
    "\n",
    "\n",
    "            \n",
    "        \n",
    "    #print('')\n"
   ]
  },
  {
   "cell_type": "code",
   "execution_count": 29,
   "metadata": {},
   "outputs": [
    {
     "name": "stdout",
     "output_type": "stream",
     "text": [
      "[1, 1, 1, 1, 0]\n",
      "Match(a=0, b=1, size=3)  T 0\n",
      "Match(a=4, b=4, size=0) T  4\n"
     ]
    }
   ],
   "source": [
    "# AGCT\n",
    "# TAGC\n",
    "\n",
    "# SM: (0, _ -> T), (4, _ -> T)\n",
    "# Prof: (0, 1, 2, 3)\n",
    "\n",
    "count_pos = [0] * 5\n",
    "def print_diff2(ref_strand, recons_strand):\n",
    "    for i, (c1, c2) in enumerate(zip(ref_strand, recons_strand)):\n",
    "        if c1 != c2:\n",
    "            count_pos[i] += 1\n",
    "print_diff2(\"AGCT\", \"TAGC\")\n",
    "print(count_pos)\n",
    "\n",
    "ref_strand = \"AGCT\"\n",
    "recons_strand = \"TAGC\"\n",
    "a = 0\n",
    "b = 0\n",
    "for match in difflib.SequenceMatcher(None, ref_strand, recons_strand, autojunk=False).get_matching_blocks():\n",
    "    was = ref_strand[a:match.a]\n",
    "    now = recons_strand[b:match.b]\n",
    "\n",
    "    a = match.a + match.size\n",
    "    b = match.b + match.size\n",
    "\n",
    "    print(match, was, now, match.a)\n",
    "\n",
    "\n",
    "    if was == '' and now == '':\n",
    "        pass\n",
    "    else:\n",
    "        pass\n",
    "        # print('{}|{}'.format(was, now), end=', ')\n",
    "        # pairs += [(was, now, match.a)]\n",
    "        # pairs_no_pos += [(was, now)]\n"
   ]
  },
  {
   "cell_type": "code",
   "execution_count": 30,
   "metadata": {},
   "outputs": [
    {
     "name": "stderr",
     "output_type": "stream",
     "text": [
      "100%|██████████| 10000/10000 [00:00<00:00, 144992.65it/s]"
     ]
    },
    {
     "name": "stdout",
     "output_type": "stream",
     "text": [
      "[23, 148, 148, 178, 202, 234, 262, 290, 309, 315, 321, 371, 388, 402, 408, 444, 491, 505, 508, 568, 570, 610, 613, 647, 665, 694, 731, 710, 745, 776, 787, 813, 840, 851, 862, 882, 903, 915, 951, 998, 994, 1022, 1024, 1087, 1090, 1103, 1098, 1158, 1162, 1220, 1211, 1206, 1221, 1256, 1975, 1964, 1923, 1915, 1915, 1912, 1848, 1839, 1846, 1805, 1847, 1739, 1742, 1712, 1673, 1712, 1674, 1646, 1652, 1631, 1600, 1591, 1552, 1564, 1527, 1519, 1503, 1455, 1441, 1404, 1421, 1405, 1337, 1359, 1320, 1263, 1284, 1295, 1265, 1223, 1246, 1186, 1156, 1133, 1174, 1075, 1083, 1095, 1094, 1047, 1014, 1004, 1006, 1108, 741, 731, 0]\n"
     ]
    },
    {
     "name": "stderr",
     "output_type": "stream",
     "text": [
      "\n"
     ]
    },
    {
     "data": {
      "image/png": "[encoded data removed]",
      "text/plain": [
       "<Figure size 432x288 with 1 Axes>"
      ]
     },
     "metadata": {
      "needs_background": "light"
     },
     "output_type": "display_data"
    }
   ],
   "source": [
    "strand_len = 110\n",
    "count_pos = [0] * (strand_len + 1)\n",
    "\n",
    "def print_diff2(ref_strand, recons_strand):\n",
    "    for i, (c1, c2) in enumerate(zip(ref_strand, recons_strand)):\n",
    "        if c1 != c2:\n",
    "            count_pos[i] += 1\n",
    "\n",
    "for i in tqdm(range(len(ref_strands))):\n",
    "    if ref_strands[i] != noisy_strands[i]:\n",
    "        #print(i, end=': ')\n",
    "        print_diff2(ref_strands[i], noisy_strands[i])\n",
    "\n",
    "import matplotlib.pyplot as plt\n",
    "plt.plot(range(strand_len + 1), count_pos)\n",
    "print(count_pos)\n"
   ]
  },
  {
   "cell_type": "code",
   "execution_count": 31,
   "metadata": {},
   "outputs": [
    {
     "name": "stderr",
     "output_type": "stream",
     "text": [
      "100%|██████████| 10000/10000 [00:04<00:00, 2050.92it/s]\n"
     ]
    }
   ],
   "source": [
    "pairs = []\n",
    "pairs_no_pos = []\n",
    "for i in tqdm(range(len(ref_strands))):\n",
    "    if ref_strands[i] != noisy_strands[i]:\n",
    "        #print(i, end=': ')\n",
    "        print_diff(ref_strands[i], noisy_strands[i])"
   ]
  },
  {
   "cell_type": "code",
   "execution_count": 32,
   "metadata": {},
   "outputs": [],
   "source": [
    "import numpy as np\n"
   ]
  },
  {
   "cell_type": "code",
   "execution_count": 33,
   "metadata": {},
   "outputs": [],
   "source": [
    "subs_no_pos, counts_no_pos = np.unique(pairs_no_pos, return_counts=True, axis=0)\n",
    "sorting = np.argsort(counts_no_pos)\n",
    "subs_no_pos = subs_no_pos[sorting]\n",
    "counts_no_pos = counts_no_pos[sorting]"
   ]
  },
  {
   "cell_type": "code",
   "execution_count": 34,
   "metadata": {},
   "outputs": [
    {
     "name": "stdout",
     "output_type": "stream",
     "text": [
      " -> AAA 6\n",
      "A -> GC 6\n",
      "C -> GG 6\n",
      "G -> AC 6\n",
      "A -> GT 6\n",
      "TCA ->  6\n",
      "C -> TT 7\n",
      "A -> GG 7\n",
      "A -> TT 7\n",
      "G -> TC 8\n",
      "C -> AA 9\n",
      "T -> AC 9\n",
      "T -> CA 10\n",
      "G -> TT 11\n",
      "A -> TC 11\n",
      "T -> GG 12\n",
      "G -> AA 13\n",
      "T -> AA 14\n",
      "CC ->  14\n",
      "GG ->  14\n",
      "TT ->  15\n",
      "AA ->  17\n",
      "T -> CC 20\n",
      "GC ->  22\n",
      "G -> CC 23\n",
      "AG ->  23\n",
      "CG ->  25\n",
      " -> AG 25\n",
      "AC ->  25\n",
      "TG ->  26\n",
      " -> AT 26\n",
      " -> GA 27\n",
      "GA ->  28\n",
      "CT ->  29\n",
      " -> GC 30\n",
      "GT ->  32\n",
      " -> CT 32\n",
      " -> CG 32\n",
      "TC ->  32\n",
      "A -> CC 33\n",
      "TA ->  33\n",
      " -> GT 34\n",
      "AT ->  35\n",
      " -> AA 36\n",
      " -> TG 36\n",
      " -> TC 37\n",
      " -> CA 38\n",
      " -> CC 38\n",
      " -> AC 39\n",
      " -> TA 40\n",
      " -> TT 42\n",
      " -> GG 43\n",
      "CA ->  49\n",
      "G -> T 228\n",
      "C -> T 235\n",
      "C -> G 236\n",
      "G -> A 238\n",
      "A -> G 244\n",
      "C -> A 249\n",
      "A -> T 280\n",
      "T -> G 288\n",
      "T -> A 333\n",
      "G -> C 340\n",
      "T -> C 421\n",
      "A -> C 425\n",
      " -> T 822\n",
      " -> G 889\n",
      " -> A 909\n",
      " -> C 968\n",
      "C ->  1017\n",
      "A ->  1087\n",
      "G ->  1101\n",
      "T ->  1217\n"
     ]
    }
   ],
   "source": [
    "for sub, count in zip(subs_no_pos, counts_no_pos):\n",
    "    if count > 5:\n",
    "        print(\"{} -> {}\".format(sub[0], sub[1]), count)"
   ]
  },
  {
   "cell_type": "code",
   "execution_count": 35,
   "metadata": {},
   "outputs": [],
   "source": [
    "subs, counts = np.unique(pairs, return_counts=True, axis=0)\n",
    "sorting = np.argsort(counts)\n",
    "subs = subs[sorting]\n",
    "counts = counts[sorting]\n"
   ]
  },
  {
   "cell_type": "code",
   "execution_count": 36,
   "metadata": {},
   "outputs": [
    {
     "name": "stdout",
     "output_type": "stream",
     "text": [
      "C ->  @ 40 6\n",
      " -> T @ 66 6\n",
      "G ->  @ 72 6\n",
      "A ->  @ 47 6\n",
      "T ->  @ 12 6\n",
      "A ->  @ 12 6\n",
      " -> T @ 61 6\n",
      "T -> C @ 58 6\n",
      "G -> T @ 60 6\n",
      "T -> C @ 55 6\n",
      "T -> G @ 104 6\n",
      "A ->  @ 63 6\n",
      " -> C @ 78 6\n",
      "G ->  @ 84 6\n",
      " -> AT @ 55 6\n",
      "A -> G @ 109 6\n",
      "G ->  @ 37 6\n",
      "C ->  @ 33 6\n",
      " -> CG @ 55 6\n",
      "T ->  @ 99 6\n",
      "T -> A @ 67 6\n",
      "C ->  @ 106 6\n",
      "T ->  @ 105 6\n",
      "T -> G @ 102 6\n",
      "G -> T @ 13 6\n",
      " -> A @ 22 6\n",
      "T -> C @ 95 6\n",
      " -> A @ 100 6\n",
      "G ->  @ 62 6\n",
      " -> TC @ 53 6\n",
      "A ->  @ 20 6\n",
      "A -> C @ 25 6\n",
      "C ->  @ 20 6\n",
      " -> TA @ 55 6\n",
      "C -> T @ 41 6\n",
      "T -> C @ 87 6\n",
      "C ->  @ 78 6\n",
      "A ->  @ 27 6\n",
      "G -> T @ 22 6\n",
      "A ->  @ 29 6\n",
      "G ->  @ 67 6\n",
      " -> T @ 28 6\n",
      "G ->  @ 5 6\n",
      "A ->  @ 15 6\n",
      "G -> C @ 54 6\n",
      "A ->  @ 33 6\n",
      "A -> T @ 86 6\n",
      "GT ->  @ 56 6\n",
      "G ->  @ 50 6\n",
      "G ->  @ 89 6\n",
      "T -> A @ 54 6\n",
      "G -> T @ 54 6\n",
      "C ->  @ 27 6\n",
      "T -> C @ 68 6\n",
      "A -> C @ 2 6\n",
      " -> C @ 74 6\n",
      "C ->  @ 71 6\n",
      "G ->  @ 26 6\n",
      " -> A @ 38 6\n",
      "A -> C @ 53 6\n",
      "T ->  @ 81 6\n",
      "G ->  @ 13 6\n",
      "G ->  @ 12 6\n",
      "C ->  @ 63 6\n",
      " -> GA @ 53 6\n",
      "G ->  @ 15 6\n",
      "G ->  @ 11 6\n",
      "G -> T @ 91 6\n",
      "C ->  @ 58 6\n",
      "A ->  @ 93 6\n",
      " -> C @ 46 6\n",
      " -> C @ 45 6\n",
      "A ->  @ 66 6\n",
      "A -> C @ 70 6\n",
      "A ->  @ 9 6\n",
      "G ->  @ 16 6\n",
      " -> C @ 57 6\n",
      "T -> A @ 9 6\n",
      "A -> C @ 56 6\n",
      "A -> C @ 58 6\n",
      "T ->  @ 8 6\n",
      "C ->  @ 98 6\n",
      "C ->  @ 69 6\n",
      "G ->  @ 27 6\n",
      "A -> T @ 46 6\n",
      " -> GT @ 53 6\n",
      " -> C @ 58 6\n",
      "T ->  @ 67 6\n",
      " -> GG @ 55 6\n",
      "T ->  @ 66 6\n",
      "G ->  @ 74 6\n",
      "T ->  @ 69 6\n",
      "G ->  @ 3 6\n",
      "T -> G @ 2 6\n",
      "A -> C @ 9 6\n",
      "T ->  @ 5 6\n",
      "T ->  @ 3 6\n",
      "A -> C @ 91 6\n",
      "A ->  @ 8 6\n",
      "T ->  @ 27 6\n",
      "T ->  @ 91 6\n",
      "A -> C @ 89 6\n",
      "A ->  @ 78 6\n",
      "T ->  @ 23 6\n",
      "A -> C @ 92 6\n",
      "T -> C @ 30 6\n",
      "T ->  @ 95 6\n",
      "A -> G @ 57 6\n",
      "T ->  @ 96 6\n",
      "T -> C @ 28 6\n",
      " -> C @ 24 6\n",
      "T ->  @ 13 6\n",
      "T -> C @ 14 6\n",
      "C -> T @ 77 6\n",
      " -> C @ 3 6\n",
      "T -> G @ 46 6\n",
      "C ->  @ 90 6\n",
      "C -> A @ 2 6\n",
      "A ->  @ 87 6\n",
      "T ->  @ 33 6\n",
      "T -> C @ 107 6\n",
      "C ->  @ 9 7\n",
      " -> C @ 64 7\n",
      "C ->  @ 79 7\n",
      "C ->  @ 83 7\n",
      " -> G @ 107 7\n",
      " -> C @ 37 7\n",
      "C -> G @ 108 7\n",
      "C ->  @ 47 7\n",
      "C -> A @ 109 7\n",
      " -> C @ 66 7\n",
      " -> A @ 107 7\n",
      " -> A @ 16 7\n",
      "C -> G @ 78 7\n",
      "C ->  @ 41 7\n",
      "C ->  @ 38 7\n",
      "C -> T @ 109 7\n",
      "T -> A @ 44 7\n",
      "C ->  @ 31 7\n",
      "G ->  @ 20 7\n",
      "T ->  @ 15 7\n",
      "G ->  @ 78 7\n",
      "T ->  @ 101 7\n",
      "G ->  @ 18 7\n",
      " -> T @ 57 7\n",
      "G ->  @ 88 7\n",
      "G ->  @ 92 7\n",
      " -> TA @ 53 7\n",
      "A ->  @ 1 7\n",
      "A ->  @ 19 7\n",
      "A ->  @ 35 7\n",
      "A ->  @ 36 7\n",
      "A ->  @ 38 7\n",
      "A ->  @ 43 7\n",
      "T ->  @ 28 7\n",
      "A ->  @ 45 7\n",
      " -> T @ 105 7\n",
      "T ->  @ 45 7\n",
      "G ->  @ 73 7\n",
      "G ->  @ 60 7\n",
      "T ->  @ 92 7\n",
      "T ->  @ 9 7\n",
      "T ->  @ 86 7\n",
      "T ->  @ 83 7\n",
      "T ->  @ 78 7\n",
      "T ->  @ 73 7\n",
      "T ->  @ 71 7\n",
      "G ->  @ 47 7\n",
      "T ->  @ 7 7\n",
      "T ->  @ 68 7\n",
      "T ->  @ 50 7\n",
      "G ->  @ 35 7\n",
      "T ->  @ 48 7\n",
      "T ->  @ 4 7\n",
      "T -> C @ 2 7\n",
      "A ->  @ 17 7\n",
      "T -> C @ 38 7\n",
      "A -> C @ 6 7\n",
      " -> G @ 6 7\n",
      "A ->  @ 72 7\n",
      "A ->  @ 88 7\n",
      "A -> C @ 44 7\n",
      "G -> A @ 30 7\n",
      "G -> T @ 92 7\n",
      "G -> C @ 65 7\n",
      "A -> C @ 67 7\n",
      "G -> C @ 48 7\n",
      "A -> C @ 104 7\n",
      "A ->  @ 58 7\n",
      " -> G @ 47 7\n",
      "C ->  @ 105 7\n",
      "C ->  @ 3 7\n",
      "C ->  @ 103 7\n",
      "A ->  @ 5 7\n",
      "A ->  @ 46 7\n",
      "A ->  @ 79 7\n",
      "T ->  @ 44 8\n",
      "A -> T @ 108 8\n",
      "A -> C @ 88 8\n",
      "T ->  @ 62 8\n",
      "A -> C @ 7 8\n",
      "A -> C @ 74 8\n",
      "G -> C @ 108 8\n",
      "T ->  @ 75 8\n",
      " -> A @ 108 8\n",
      " -> A @ 106 8\n",
      "T ->  @ 90 8\n",
      "G -> C @ 46 8\n",
      " -> T @ 51 8\n",
      "T ->  @ 6 8\n",
      "T ->  @ 43 8\n",
      "G ->  @ 77 8\n",
      "T ->  @ 34 8\n",
      "A ->  @ 42 8\n",
      "A ->  @ 41 8\n",
      "A ->  @ 51 8\n",
      "A ->  @ 34 8\n",
      "A ->  @ 24 8\n",
      "A ->  @ 59 8\n",
      "G ->  @ 70 8\n",
      "A ->  @ 14 8\n",
      "A ->  @ 11 8\n",
      "A -> T @ 55 8\n",
      "A ->  @ 99 8\n",
      "G ->  @ 99 8\n",
      "A ->  @ 75 8\n",
      " -> A @ 35 8\n",
      "G ->  @ 87 8\n",
      "G ->  @ 86 8\n",
      " -> AG @ 54 8\n",
      " -> C @ 1 8\n",
      "A ->  @ 84 8\n",
      "A ->  @ 89 8\n",
      "A ->  @ 98 8\n",
      "G ->  @ 76 8\n",
      "G ->  @ 93 8\n",
      "T -> A @ 108 8\n",
      "T ->  @ 49 8\n",
      "G ->  @ 66 8\n",
      " -> G @ 51 8\n",
      "C ->  @ 70 8\n",
      "G ->  @ 46 8\n",
      "G ->  @ 42 8\n",
      "G ->  @ 25 8\n",
      "G ->  @ 28 8\n",
      "T -> C @ 88 8\n",
      " -> G @ 57 8\n",
      "T -> C @ 48 8\n",
      "C ->  @ 44 8\n",
      "C ->  @ 16 8\n",
      " -> G @ 58 8\n",
      "C ->  @ 43 8\n",
      "G ->  @ 40 8\n",
      "G ->  @ 104 8\n",
      "G ->  @ 102 8\n",
      "C ->  @ 49 8\n",
      "G ->  @ 61 8\n",
      "G ->  @ 34 8\n",
      "G ->  @ 1 8\n",
      "C ->  @ 74 8\n",
      "G ->  @ 23 8\n",
      "T ->  @ 36 9\n",
      "T ->  @ 46 9\n",
      "C ->  @ 32 9\n",
      "T ->  @ 21 9\n",
      "T ->  @ 103 9\n",
      " -> C @ 108 9\n",
      "A ->  @ 44 9\n",
      "A ->  @ 26 9\n",
      "T -> C @ 108 9\n",
      "C ->  @ 102 9\n",
      "A ->  @ 105 9\n",
      "A ->  @ 101 9\n",
      " -> TT @ 54 9\n",
      " -> AA @ 54 9\n",
      "A ->  @ 64 9\n",
      "A ->  @ 65 9\n",
      "G ->  @ 14 9\n",
      "A ->  @ 67 9\n",
      " -> AT @ 54 9\n",
      "T ->  @ 100 9\n",
      " -> G @ 0 9\n",
      "T ->  @ 20 9\n",
      " -> G @ 1 9\n",
      "A ->  @ 37 9\n",
      "A -> G @ 108 9\n",
      "T -> C @ 56 9\n",
      "C ->  @ 19 9\n",
      "C ->  @ 91 9\n",
      "T -> G @ 65 9\n",
      "T ->  @ 98 9\n",
      "G ->  @ 63 9\n",
      "A -> C @ 108 9\n",
      " -> G @ 108 9\n",
      "T ->  @ 87 9\n",
      "T ->  @ 77 9\n",
      "C ->  @ 11 10\n",
      " -> GT @ 54 10\n",
      "A ->  @ 77 10\n",
      "A ->  @ 69 10\n",
      "T ->  @ 79 10\n",
      "C ->  @ 85 10\n",
      "T ->  @ 107 10\n",
      "T ->  @ 97 10\n",
      "T ->  @ 10 10\n",
      "G ->  @ 107 10\n",
      "T ->  @ 82 10\n",
      "T -> C @ 5 10\n",
      "G ->  @ 83 10\n",
      " -> C @ 69 10\n",
      "T ->  @ 74 10\n",
      "T ->  @ 93 10\n",
      "A ->  @ 104 10\n",
      "T ->  @ 51 10\n",
      "C ->  @ 92 10\n",
      "T ->  @ 47 10\n",
      "G ->  @ 4 10\n",
      "T ->  @ 63 10\n",
      "T ->  @ 2 10\n",
      " -> TC @ 54 10\n",
      "T ->  @ 41 10\n",
      "T ->  @ 40 10\n",
      " -> T @ 108 10\n",
      "T ->  @ 64 10\n",
      "G ->  @ 48 10\n",
      "C ->  @ 60 10\n",
      "A ->  @ 3 10\n",
      " -> CT @ 54 10\n",
      "T ->  @ 89 10\n",
      "A ->  @ 96 11\n",
      " -> CA @ 54 11\n",
      "G ->  @ 57 11\n",
      "A ->  @ 57 11\n",
      "G ->  @ 105 11\n",
      "G ->  @ 96 11\n",
      " -> GA @ 54 11\n",
      "T ->  @ 106 11\n",
      "G ->  @ 79 11\n",
      "C ->  @ 52 11\n",
      "G ->  @ 36 11\n",
      "T ->  @ 57 11\n",
      "G ->  @ 75 11\n",
      "C -> T @ 108 11\n",
      "A ->  @ 106 11\n",
      "A ->  @ 107 11\n",
      "T ->  @ 102 11\n",
      " -> GG @ 54 11\n",
      "T ->  @ 104 11\n",
      "G ->  @ 80 12\n",
      " -> GC @ 54 12\n",
      "G ->  @ 65 12\n",
      "C ->  @ 57 12\n",
      "T ->  @ 58 12\n",
      " -> C @ 0 12\n",
      "A ->  @ 2 12\n",
      "T ->  @ 85 12\n",
      "A ->  @ 85 12\n",
      "T -> G @ 108 12\n",
      "C ->  @ 107 13\n",
      "T ->  @ 22 13\n",
      "G ->  @ 59 13\n",
      " -> TG @ 54 13\n",
      "G ->  @ 52 13\n",
      "T ->  @ 30 13\n",
      " -> C @ 51 13\n",
      " -> TA @ 54 14\n",
      "G ->  @ 106 14\n",
      "A ->  @ 68 14\n",
      "G ->  @ 2 14\n",
      "T ->  @ 52 14\n",
      "A ->  @ 52 14\n",
      "C ->  @ 21 15\n",
      "T ->  @ 1 15\n",
      " -> C @ 56 15\n",
      "C ->  @ 2 16\n",
      " -> AC @ 54 17\n",
      " -> A @ 0 18\n",
      " -> A @ 56 22\n",
      "A ->  @ 108 22\n",
      "G -> T @ 110 23\n",
      " -> T @ 56 23\n",
      "A ->  @ 53 24\n",
      "G ->  @ 53 25\n",
      "T ->  @ 108 25\n",
      "T ->  @ 53 25\n",
      "G ->  @ 108 25\n",
      " -> G @ 52 26\n",
      " -> A @ 52 26\n",
      " -> T @ 52 26\n",
      " -> G @ 56 27\n",
      "G -> C @ 110 28\n",
      "C -> T @ 110 28\n",
      "T ->  @ 56 28\n",
      "G -> A @ 110 28\n",
      "A ->  @ 56 29\n",
      "C ->  @ 108 29\n",
      "G ->  @ 56 29\n",
      "C ->  @ 53 30\n",
      "C -> G @ 110 31\n",
      "C -> A @ 110 32\n",
      "C ->  @ 56 33\n",
      "A -> G @ 110 35\n",
      "T -> G @ 110 35\n",
      "C ->  @ 109 35\n",
      "A -> T @ 110 37\n",
      "A -> C @ 110 37\n",
      "G ->  @ 109 39\n",
      " -> T @ 110 39\n",
      " -> A @ 55 41\n",
      "T -> A @ 110 41\n",
      " -> C @ 52 43\n",
      "A ->  @ 109 45\n",
      " -> C @ 110 45\n",
      "T -> C @ 110 46\n",
      " -> G @ 110 46\n",
      " -> C @ 55 48\n",
      " -> G @ 55 51\n",
      "T ->  @ 109 51\n",
      " -> A @ 110 52\n",
      " -> T @ 55 62\n",
      " -> A @ 109 64\n",
      " -> T @ 109 67\n",
      "G ->  @ 54 71\n",
      " -> G @ 109 73\n",
      "T ->  @ 54 83\n",
      "A ->  @ 54 84\n",
      "C ->  @ 54 89\n",
      " -> T @ 53 89\n",
      "C ->  @ 55 98\n",
      " -> G @ 53 98\n",
      " -> C @ 109 98\n",
      " -> C @ 53 102\n",
      "T ->  @ 55 104\n",
      " -> A @ 53 105\n",
      "G ->  @ 110 116\n",
      "A ->  @ 55 117\n",
      "A ->  @ 110 123\n",
      "G ->  @ 55 130\n",
      "C ->  @ 110 148\n",
      "T ->  @ 110 156\n",
      " -> G @ 54 241\n",
      " -> C @ 54 247\n",
      " -> T @ 54 254\n",
      " -> A @ 54 284\n"
     ]
    }
   ],
   "source": [
    "for sub, count in zip(subs, counts):\n",
    "    if count > 5:\n",
    "        print(\"{} -> {} @ {}\".format(sub[0], sub[1], sub[2]), count)\n"
   ]
  },
  {
   "cell_type": "code",
   "execution_count": 37,
   "metadata": {},
   "outputs": [],
   "source": [
    "import matplotlib.pyplot as plt"
   ]
  },
  {
   "cell_type": "code",
   "execution_count": 38,
   "metadata": {},
   "outputs": [
    {
     "name": "stdout",
     "output_type": "stream",
     "text": [
      "[48, 72, 118, 72, 64, 69, 68, 55, 59, 60, 57, 62, 67, 65, 67, 63, 62, 65, 68, 53, 67, 61, 71, 58, 61, 76, 66, 76, 72, 45, 78, 64, 66, 65, 68, 68, 82, 69, 72, 67, 77, 72, 83, 67, 86, 74, 78, 83, 74, 64, 81, 100, 254, 639, 1639, 838, 348, 141, 102, 78, 79, 72, 74, 80, 76, 103, 72, 84, 81, 87, 67, 68, 68, 68, 78, 82, 75, 71, 65, 84, 61, 67, 61, 75, 72, 88, 74, 72, 72, 77, 49, 68, 80, 68, 55, 72, 84, 62, 66, 65, 70, 73, 82, 72, 91, 98, 109, 125, 253, 535, 1181]\n"
     ]
    }
   ],
   "source": [
    "strand_len = 110\n",
    "pos_counts = [0] * (strand_len + 1)\n",
    "for sub, count in zip(subs, counts):\n",
    "    pos_counts[int(sub[2])] += count\n",
    "\n",
    "print(pos_counts)"
   ]
  },
  {
   "cell_type": "code",
   "execution_count": 39,
   "metadata": {},
   "outputs": [
    {
     "data": {
      "text/plain": [
       "[<matplotlib.lines.Line2D at 0x115f121c0>]"
      ]
     },
     "execution_count": 39,
     "metadata": {},
     "output_type": "execute_result"
    },
    {
     "data": {
      "image/png": "[encoded data removed]",
      "text/plain": [
       "<Figure size 432x288 with 1 Axes>"
      ]
     },
     "metadata": {
      "needs_background": "light"
     },
     "output_type": "display_data"
    }
   ],
   "source": [
    "plt.plot(range(strand_len + 1), pos_counts)"
   ]
  },
  {
   "cell_type": "code",
   "execution_count": 40,
   "metadata": {},
   "outputs": [
    {
     "name": "stdout",
     "output_type": "stream",
     "text": [
      "[5, 3, 1, 3, 2, 1, 1, 2, 1, 2, 1, 2, 1, 4, 4, 2, 1, 1, 2, 1, 2, 3, 1, 0, 1, 1, 1, 3, 6, 3, 2, 0, 2, 2, 2, 2, 2, 2, 3, 1, 0, 3, 2, 2, 4, 1, 1, 3, 3, 3, 4, 8, 26, 89, 254, 62, 23, 7, 3, 2, 2, 6, 3, 1, 4, 2, 6, 1, 4, 2, 4, 4, 1, 4, 5, 1, 5, 3, 2, 2, 4, 4, 1, 3, 0, 0, 3, 1, 1, 2, 1, 1, 3, 2, 0, 2, 4, 4, 0, 1, 1, 4, 3, 5, 0, 7, 4, 4, 10, 67, 39]\n"
     ]
    }
   ],
   "source": [
    "def get_key(char1, char2):\n",
    "    char1 = char1 if char1 != '' else '_'\n",
    "    char2 = char2 if char2 != '' else '_'\n",
    "    return char1 + ' -> ' + char2\n",
    "\n",
    "strand_len = 110\n",
    "pos_map = {}\n",
    "pos_counts = [0] * (strand_len + 1)\n",
    "for sub, count in zip(subs, counts):\n",
    "    key = get_key(sub[0], sub[1])\n",
    "    if key not in pos_map:\n",
    "        pos_map[key] = [0] * (strand_len + 1)\n",
    "    pos_map[key][int(sub[2])] += count\n",
    "\n",
    "print(pos_map['_ -> T'])"
   ]
  },
  {
   "cell_type": "code",
   "execution_count": 41,
   "metadata": {},
   "outputs": [],
   "source": [
    "sub_keys = [get_key(sub[0], sub[1]) for sub in subs_no_pos]\n",
    "max_10_keys = sub_keys[-10:]\n",
    "max_10_counts = counts_no_pos[-10:]\n"
   ]
  },
  {
   "cell_type": "code",
   "execution_count": 42,
   "metadata": {},
   "outputs": [
    {
     "data": {
      "image/png": "[encoded data removed]",
      "text/plain": [
       "<Figure size 432x288 with 1 Axes>"
      ]
     },
     "metadata": {
      "needs_background": "light"
     },
     "output_type": "display_data"
    },
    {
     "data": {
      "image/png": "[encoded data removed]",
      "text/plain": [
       "<Figure size 432x288 with 1 Axes>"
      ]
     },
     "metadata": {
      "needs_background": "light"
     },
     "output_type": "display_data"
    },
    {
     "data": {
      "image/png": "[encoded data removed]",
      "text/plain": [
       "<Figure size 432x288 with 1 Axes>"
      ]
     },
     "metadata": {
      "needs_background": "light"
     },
     "output_type": "display_data"
    },
    {
     "data": {
      "image/png": "[encoded data removed]",
      "text/plain": [
       "<Figure size 432x288 with 1 Axes>"
      ]
     },
     "metadata": {
      "needs_background": "light"
     },
     "output_type": "display_data"
    },
    {
     "data": {
      "image/png": "[encoded data removed]",
      "text/plain": [
       "<Figure size 432x288 with 1 Axes>"
      ]
     },
     "metadata": {
      "needs_background": "light"
     },
     "output_type": "display_data"
    },
    {
     "data": {
      "image/png": "[encoded data removed]",
      "text/plain": [
       "<Figure size 432x288 with 1 Axes>"
      ]
     },
     "metadata": {
      "needs_background": "light"
     },
     "output_type": "display_data"
    },
    {
     "data": {
      "image/png": "[encoded data removed]",
      "text/plain": [
       "<Figure size 432x288 with 1 Axes>"
      ]
     },
     "metadata": {
      "needs_background": "light"
     },
     "output_type": "display_data"
    },
    {
     "data": {
      "image/png": "[encoded data removed]",
      "text/plain": [
       "<Figure size 432x288 with 1 Axes>"
      ]
     },
     "metadata": {
      "needs_background": "light"
     },
     "output_type": "display_data"
    },
    {
     "data": {
      "image/png": "[encoded data removed]",
      "text/plain": [
       "<Figure size 432x288 with 1 Axes>"
      ]
     },
     "metadata": {
      "needs_background": "light"
     },
     "output_type": "display_data"
    },
    {
     "data": {
      "image/png": "[encoded data removed]",
      "text/plain": [
       "<Figure size 432x288 with 1 Axes>"
      ]
     },
     "metadata": {
      "needs_background": "light"
     },
     "output_type": "display_data"
    }
   ],
   "source": [
    "for key, count in zip(reversed(max_10_keys), reversed(max_10_counts)):\n",
    "    plt.figure(key)\n",
    "    plt.title(f'{key} : {count}')\n",
    "    plt.plot(range(strand_len + 1), pos_map[key])"
   ]
  },
  {
   "cell_type": "code",
   "execution_count": 43,
   "metadata": {},
   "outputs": [],
   "source": [
    "np.save('subs.npy', subs)\n",
    "np.save('counts.npy', counts)"
   ]
  }
 ],
 "metadata": {
  "interpreter": {
   "hash": "aee8b7b246df8f9039afb4144a1f6fd8d2ca17a180786b69acc140d282b71a49"
  },
  "kernelspec": {
   "display_name": "Python 3.9.10 64-bit",
   "language": "python",
   "name": "python3"
  },
  "language_info": {
   "codemirror_mode": {
    "name": "ipython",
    "version": 3
   },
   "file_extension": ".py",
   "mimetype": "text/x-python",
   "name": "python",
   "nbconvert_exporter": "python",
   "pygments_lexer": "ipython3",
   "version": "3.9.10"
  },
  "orig_nbformat": 4
 },
 "nbformat": 4,
 "nbformat_minor": 2
}
