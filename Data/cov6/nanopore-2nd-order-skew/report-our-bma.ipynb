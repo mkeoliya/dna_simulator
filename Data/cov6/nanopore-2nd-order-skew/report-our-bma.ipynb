{
 "cells": [
  {
   "cell_type": "code",
   "execution_count": 1,
   "metadata": {},
   "outputs": [],
   "source": [
    "import pandas as pd"
   ]
  },
  {
   "cell_type": "code",
   "execution_count": 2,
   "metadata": {},
   "outputs": [],
   "source": [
    "\n",
    "df = pd.read_csv('our-bma.csv')\n"
   ]
  },
  {
   "cell_type": "code",
   "execution_count": 3,
   "metadata": {},
   "outputs": [
    {
     "data": {
      "text/html": [
       "<div>\n",
       "<style scoped>\n",
       "    .dataframe tbody tr th:only-of-type {\n",
       "        vertical-align: middle;\n",
       "    }\n",
       "\n",
       "    .dataframe tbody tr th {\n",
       "        vertical-align: top;\n",
       "    }\n",
       "\n",
       "    .dataframe thead th {\n",
       "        text-align: right;\n",
       "    }\n",
       "</style>\n",
       "<table border=\"1\" class=\"dataframe\">\n",
       "  <thead>\n",
       "    <tr style=\"text-align: right;\">\n",
       "      <th></th>\n",
       "      <th>Refs</th>\n",
       "      <th>Reads</th>\n",
       "    </tr>\n",
       "  </thead>\n",
       "  <tbody>\n",
       "    <tr>\n",
       "      <th>0</th>\n",
       "      <td>ACCATAATGCGTGGGGCCGACCTCGGAATGCGGTCTCCATGCGCGT...</td>\n",
       "      <td>AACAAAAGCGTGGGGCCGACCTCGGAATGCGGTCTCCATGCGCGTT...</td>\n",
       "    </tr>\n",
       "    <tr>\n",
       "      <th>1</th>\n",
       "      <td>TCGAAGCAGTAGGGCCTACCAAATAGGTTGGTCCTCCGTTGTATCT...</td>\n",
       "      <td>TCGAAGCAGTAGGGCCTACCAAATAGGTTGGTCCTCCGTTGTATCT...</td>\n",
       "    </tr>\n",
       "    <tr>\n",
       "      <th>2</th>\n",
       "      <td>AGTTAACGTCCCACGGCGAGGCACTCTTGATCCCCACCTTCAAGAG...</td>\n",
       "      <td>AGTTAACGCCCACGGCGAGGCACTCTTGATCCCCACCTTCAAGAGG...</td>\n",
       "    </tr>\n",
       "    <tr>\n",
       "      <th>3</th>\n",
       "      <td>GCCCAAGGGTACGCCCGCAGCGACGCAATTGGCGGAGTAAGCGCGT...</td>\n",
       "      <td>GCCCAAGGGTACGCCCGCAGCGACGCAATTGGCGGAGTAAGCGCGT...</td>\n",
       "    </tr>\n",
       "    <tr>\n",
       "      <th>4</th>\n",
       "      <td>GCACTGATGTAACTCATGGTACATCCGTCGCTGAGCGCCATTTTGT...</td>\n",
       "      <td>GCACTGATGTAACTCATGGTACATCCGCCGCTGAGCGCCATTTTGT...</td>\n",
       "    </tr>\n",
       "    <tr>\n",
       "      <th>...</th>\n",
       "      <td>...</td>\n",
       "      <td>...</td>\n",
       "    </tr>\n",
       "    <tr>\n",
       "      <th>9995</th>\n",
       "      <td>GCATGATTTGGAAGGTCGGCACTATACCCACCCAGGGTATATGGTC...</td>\n",
       "      <td>GCATGATTTGGAAGGTCGGCACTATACCCACCCAGGGTATATGGTC...</td>\n",
       "    </tr>\n",
       "    <tr>\n",
       "      <th>9996</th>\n",
       "      <td>GAAGTTTGGAACGTGTTCGTCCGCCAATTAAGGTTGGCTTCTAGTA...</td>\n",
       "      <td>GAAGTTTGGAACCGGGTTCGTCCGCCAATTAAGGTTGGCTTCTAGT...</td>\n",
       "    </tr>\n",
       "    <tr>\n",
       "      <th>9997</th>\n",
       "      <td>TGCATCCCGGACAACCGCAAGGGTGCATGGGCACCGCAATTCCCAA...</td>\n",
       "      <td>TGCATCCCGGACAACCGCAAGGGTGCATGGGCACCGCAATTCCCAA...</td>\n",
       "    </tr>\n",
       "    <tr>\n",
       "      <th>9998</th>\n",
       "      <td>ACTGGACGTCCTATGCTGGCATAATGAAACGACAACCTGTCTTCGA...</td>\n",
       "      <td>ACTGGACGTCCTATGCTGGCATAATGAAACGACAACCTGTCTTCGA...</td>\n",
       "    </tr>\n",
       "    <tr>\n",
       "      <th>9999</th>\n",
       "      <td>ATCGTGGTATCCCTCCAACCCGAATGACCTGGCGAGGCAGATCAAC...</td>\n",
       "      <td>ATCGTGGTATCCCTCCAACCCGAATGACCTGGCGAGGCAGATCAAC...</td>\n",
       "    </tr>\n",
       "  </tbody>\n",
       "</table>\n",
       "<p>10000 rows × 2 columns</p>\n",
       "</div>"
      ],
      "text/plain": [
       "                                                   Refs  \\\n",
       "0     ACCATAATGCGTGGGGCCGACCTCGGAATGCGGTCTCCATGCGCGT...   \n",
       "1     TCGAAGCAGTAGGGCCTACCAAATAGGTTGGTCCTCCGTTGTATCT...   \n",
       "2     AGTTAACGTCCCACGGCGAGGCACTCTTGATCCCCACCTTCAAGAG...   \n",
       "3     GCCCAAGGGTACGCCCGCAGCGACGCAATTGGCGGAGTAAGCGCGT...   \n",
       "4     GCACTGATGTAACTCATGGTACATCCGTCGCTGAGCGCCATTTTGT...   \n",
       "...                                                 ...   \n",
       "9995  GCATGATTTGGAAGGTCGGCACTATACCCACCCAGGGTATATGGTC...   \n",
       "9996  GAAGTTTGGAACGTGTTCGTCCGCCAATTAAGGTTGGCTTCTAGTA...   \n",
       "9997  TGCATCCCGGACAACCGCAAGGGTGCATGGGCACCGCAATTCCCAA...   \n",
       "9998  ACTGGACGTCCTATGCTGGCATAATGAAACGACAACCTGTCTTCGA...   \n",
       "9999  ATCGTGGTATCCCTCCAACCCGAATGACCTGGCGAGGCAGATCAAC...   \n",
       "\n",
       "                                                  Reads  \n",
       "0     AACAAAAGCGTGGGGCCGACCTCGGAATGCGGTCTCCATGCGCGTT...  \n",
       "1     TCGAAGCAGTAGGGCCTACCAAATAGGTTGGTCCTCCGTTGTATCT...  \n",
       "2     AGTTAACGCCCACGGCGAGGCACTCTTGATCCCCACCTTCAAGAGG...  \n",
       "3     GCCCAAGGGTACGCCCGCAGCGACGCAATTGGCGGAGTAAGCGCGT...  \n",
       "4     GCACTGATGTAACTCATGGTACATCCGCCGCTGAGCGCCATTTTGT...  \n",
       "...                                                 ...  \n",
       "9995  GCATGATTTGGAAGGTCGGCACTATACCCACCCAGGGTATATGGTC...  \n",
       "9996  GAAGTTTGGAACCGGGTTCGTCCGCCAATTAAGGTTGGCTTCTAGT...  \n",
       "9997  TGCATCCCGGACAACCGCAAGGGTGCATGGGCACCGCAATTCCCAA...  \n",
       "9998  ACTGGACGTCCTATGCTGGCATAATGAAACGACAACCTGTCTTCGA...  \n",
       "9999  ATCGTGGTATCCCTCCAACCCGAATGACCTGGCGAGGCAGATCAAC...  \n",
       "\n",
       "[10000 rows x 2 columns]"
      ]
     },
     "execution_count": 3,
     "metadata": {},
     "output_type": "execute_result"
    }
   ],
   "source": [
    "df\n"
   ]
  },
  {
   "cell_type": "code",
   "execution_count": 4,
   "metadata": {},
   "outputs": [],
   "source": [
    "from tqdm import tqdm\n"
   ]
  },
  {
   "cell_type": "code",
   "execution_count": 5,
   "metadata": {},
   "outputs": [],
   "source": [
    "noisy_strands = [s.strip() for s in list(df['Reads'])]\n"
   ]
  },
  {
   "cell_type": "code",
   "execution_count": 6,
   "metadata": {},
   "outputs": [],
   "source": [
    "ref_strands = [s.strip() for s in list(df['Refs'])]\n"
   ]
  },
  {
   "cell_type": "code",
   "execution_count": 7,
   "metadata": {},
   "outputs": [],
   "source": [
    "import difflib\n"
   ]
  },
  {
   "cell_type": "code",
   "execution_count": 8,
   "metadata": {},
   "outputs": [],
   "source": [
    "import matplotlib.pyplot as plt\n",
    "import numpy as np\n",
    "import os\n",
    "\n",
    "# use LaTeX fonts in the plot\n",
    "plt.rc('text', usetex=True)\n",
    "plt.rc('font', family='serif')\n",
    "os.environ[\"PATH\"] += os.pathsep + '/usr/local/texlive/2021basic/bin/universal-darwin'"
   ]
  },
  {
   "cell_type": "code",
   "execution_count": 9,
   "metadata": {},
   "outputs": [],
   "source": [
    "def print_diff(ref_strand, noisy_strand):\n",
    "    global pairs\n",
    "    global pairs_no_pos\n",
    "    a, b = 0, 0\n",
    "\n",
    "    # quadratic time, no heuristics\n",
    "    for match in difflib.SequenceMatcher(None, ref_strand, noisy_strand, autojunk=False).get_matching_blocks():\n",
    "        was = ref_strand[a:match.a]\n",
    "        now = noisy_strand[b:match.b]\n",
    "        \n",
    "        a = match.a + match.size\n",
    "        b = match.b + match.size\n",
    "        \n",
    "        if was == '' and now == '':\n",
    "            pass\n",
    "        else:\n",
    "            # print('{}|{}'.format(was, now), end=', ')\n",
    "            pairs += [(was, now, match.a)]\n",
    "            pairs_no_pos += [(was, now)]\n",
    "\n"
   ]
  },
  {
   "cell_type": "code",
   "execution_count": 10,
   "metadata": {},
   "outputs": [
    {
     "name": "stderr",
     "output_type": "stream",
     "text": [
      "100%|██████████| 10000/10000 [00:00<00:00, 57245.59it/s]\n"
     ]
    },
    {
     "name": "stdout",
     "output_type": "stream",
     "text": [
      "[24, 147, 258, 271, 251, 289, 271, 302, 327, 309, 316, 379, 362, 381, 386, 406, 415, 445, 461, 484, 487, 509, 530, 527, 561, 573, 582, 576, 601, 640, 647, 670, 663, 692, 707, 702, 752, 757, 781, 785, 810, 808, 846, 817, 839, 863, 871, 882, 891, 876, 947, 930, 965, 949, 1606, 1556, 1576, 1561, 1536, 1520, 1534, 1514, 1481, 1465, 1484, 1475, 1420, 1399, 1435, 1412, 1404, 1372, 1402, 1349, 1373, 1347, 1288, 1288, 1308, 1282, 1257, 1276, 1254, 1243, 1241, 1185, 1183, 1193, 1184, 1166, 1171, 1119, 1112, 1128, 1108, 1075, 1067, 1049, 1064, 1059, 1022, 999, 1001, 988, 942, 969, 918, 988, 644, 1347]\n"
     ]
    },
    {
     "data": {
      "image/png": "[encoded data removed]",
      "text/plain": [
       "<Figure size 432x288 with 1 Axes>"
      ]
     },
     "metadata": {
      "needs_background": "light"
     },
     "output_type": "display_data"
    }
   ],
   "source": [
    "# Hamming Distance Graph\n",
    "strand_len = 110\n",
    "count_pos = [0] * (strand_len + 1)\n",
    "\n",
    "def hamming(ref_strand, recons_strand):\n",
    "    for i, (c1, c2) in enumerate(zip(ref_strand, recons_strand)):\n",
    "        if c1 != c2:\n",
    "            count_pos[i] += 1\n",
    "\n",
    "for i in tqdm(range(len(ref_strands))):\n",
    "    hamming(ref_strands[i], noisy_strands[i])\n",
    "\n",
    "print(count_pos[:-1])\n",
    "f = plt.figure()\n",
    "plt.plot(range(strand_len), count_pos[:-1])\n",
    "plt.title(r'Hamming Error; BMA; N = 6', fontsize=11)\n",
    "plt.xlabel(r'Strand Position', fontsize=11)\n",
    "plt.ylabel(r'No. of Errors', fontsize=11)\n",
    "plt.show()\n",
    "f.savefig('cov6-our-bma-hamming.pdf', bbox_inches='tight')"
   ]
  },
  {
   "cell_type": "code",
   "execution_count": 11,
   "metadata": {},
   "outputs": [
    {
     "name": "stderr",
     "output_type": "stream",
     "text": [
      "100%|██████████| 10000/10000 [00:06<00:00, 1619.56it/s]\n"
     ]
    }
   ],
   "source": [
    "pairs = []\n",
    "pairs_no_pos = []\n",
    "\n",
    "for i in tqdm(range(len(ref_strands))):\n",
    "    if ref_strands[i] != noisy_strands[i]:\n",
    "        print_diff(ref_strands[i], noisy_strands[i])\n"
   ]
  },
  {
   "cell_type": "code",
   "execution_count": 12,
   "metadata": {},
   "outputs": [
    {
     "name": "stdout",
     "output_type": "stream",
     "text": [
      " -> AAAA 6\n",
      "G -> AAA 7\n",
      "C -> AAA 7\n",
      "TG -> A 7\n",
      " -> AAA 8\n",
      " -> CAA 8\n",
      "T -> CG 9\n",
      "T -> AG 9\n",
      "GG ->  9\n",
      "T -> AAA 9\n",
      "CA ->  10\n",
      "AG ->  10\n",
      "AC ->  11\n",
      "TC ->  11\n",
      "T -> GA 11\n",
      "T -> AC 12\n",
      "CG ->  12\n",
      "CC ->  12\n",
      "TA ->  12\n",
      "G -> AC 13\n",
      "T -> GG 14\n",
      "GA ->  14\n",
      "T -> CA 15\n",
      " -> TG 17\n",
      "CT ->  17\n",
      "GC ->  17\n",
      "TT ->  17\n",
      " -> GC 18\n",
      "G -> CA 18\n",
      " -> TC 20\n",
      " -> GG 21\n",
      " -> GA 22\n",
      "AT ->  24\n",
      " -> AT 24\n",
      "GT ->  24\n",
      " -> GT 25\n",
      " -> AG 27\n",
      " -> TT 28\n",
      " -> CC 29\n",
      " -> CG 29\n",
      "TG ->  30\n",
      " -> CA 31\n",
      " -> CT 31\n",
      " -> TA 32\n",
      "T -> CC 33\n",
      " -> AC 33\n",
      "G -> T 36\n",
      "A -> T 39\n",
      "G -> CC 42\n",
      "C -> AA 45\n",
      "G -> AA 50\n",
      "C -> T 55\n",
      "T -> AA 60\n",
      "A -> G 64\n",
      " -> AA 68\n",
      "C -> G 91\n",
      "A -> C 96\n",
      "T -> G 424\n",
      "G -> A 429\n",
      "G -> C 449\n",
      "C -> A 459\n",
      "A ->  510\n",
      " -> T 515\n",
      "T -> C 553\n",
      "T -> A 567\n",
      "C ->  597\n",
      " -> G 626\n",
      " -> C 700\n",
      " -> A 820\n",
      "G ->  1196\n",
      "T ->  1375\n"
     ]
    }
   ],
   "source": [
    "\n",
    "subs_no_pos, counts_no_pos = np.unique(pairs_no_pos, return_counts=True, axis=0)\n",
    "sorting = np.argsort(counts_no_pos)\n",
    "subs_no_pos = subs_no_pos[sorting]\n",
    "counts_no_pos = counts_no_pos[sorting]\n",
    "\n",
    "for sub, count in zip(subs_no_pos, counts_no_pos):\n",
    "    if count > 5:\n",
    "        print(\"{} -> {}\".format(sub[0], sub[1]), count)\n"
   ]
  },
  {
   "cell_type": "code",
   "execution_count": 13,
   "metadata": {},
   "outputs": [
    {
     "name": "stdout",
     "output_type": "stream",
     "text": [
      "T -> G @ 107 6\n",
      "C -> A @ 71 6\n",
      "T -> G @ 106 6\n",
      "G ->  @ 14 6\n",
      "T -> G @ 33 6\n",
      "G ->  @ 15 6\n",
      "G ->  @ 36 6\n",
      "C ->  @ 59 6\n",
      " -> C @ 57 6\n",
      "C ->  @ 57 6\n",
      "T ->  @ 65 6\n",
      "G ->  @ 18 6\n",
      "G ->  @ 34 6\n",
      "G -> A @ 78 6\n",
      "G ->  @ 13 6\n",
      "T -> G @ 26 6\n",
      "G ->  @ 76 6\n",
      "G ->  @ 26 6\n",
      "G ->  @ 28 6\n",
      "T ->  @ 99 6\n",
      " -> C @ 58 6\n",
      "G ->  @ 86 6\n",
      "C ->  @ 40 6\n",
      "G -> A @ 25 6\n",
      "G ->  @ 23 6\n",
      "T -> A @ 6 6\n",
      " -> CA @ 53 6\n",
      "T -> A @ 104 6\n",
      "G ->  @ 90 6\n",
      "G -> A @ 51 6\n",
      "T -> A @ 87 6\n",
      "T -> G @ 109 6\n",
      "G -> C @ 27 6\n",
      "T -> A @ 55 6\n",
      "T -> A @ 102 6\n",
      "G ->  @ 40 6\n",
      "T ->  @ 73 6\n",
      "G -> C @ 35 6\n",
      "G -> C @ 62 6\n",
      "T -> C @ 61 6\n",
      "T ->  @ 4 6\n",
      "T ->  @ 40 6\n",
      "T ->  @ 52 6\n",
      "G ->  @ 62 6\n",
      "T -> C @ 54 6\n",
      "T -> A @ 66 6\n",
      " -> G @ 2 6\n",
      "C -> A @ 92 6\n",
      "C ->  @ 4 6\n",
      " -> C @ 107 6\n",
      "G ->  @ 68 6\n",
      "T -> C @ 41 6\n",
      "G ->  @ 70 6\n",
      " -> C @ 108 6\n",
      "T -> C @ 68 6\n",
      "T -> C @ 27 6\n",
      "T -> A @ 99 6\n",
      "T -> A @ 2 6\n",
      "G ->  @ 43 6\n",
      "G ->  @ 44 6\n",
      "T -> C @ 87 6\n",
      "G -> C @ 71 6\n",
      "T ->  @ 82 6\n",
      "G -> A @ 4 6\n",
      "T -> C @ 78 6\n",
      "T -> A @ 22 6\n",
      "G ->  @ 2 6\n",
      "G ->  @ 52 6\n",
      "T -> G @ 2 7\n",
      "T ->  @ 69 7\n",
      "T -> G @ 22 7\n",
      "G ->  @ 4 7\n",
      "T ->  @ 5 7\n",
      "T ->  @ 72 7\n",
      "T ->  @ 78 7\n",
      "T -> A @ 48 7\n",
      " -> CT @ 55 7\n",
      "T ->  @ 71 7\n",
      "G ->  @ 31 7\n",
      "G ->  @ 66 7\n",
      "G ->  @ 64 7\n",
      "T ->  @ 81 7\n",
      "G -> C @ 34 7\n",
      " -> G @ 50 7\n",
      "T ->  @ 86 7\n",
      "G -> A @ 48 7\n",
      "A ->  @ 109 7\n",
      " -> GT @ 53 7\n",
      "T ->  @ 92 7\n",
      " -> G @ 57 7\n",
      "G ->  @ 29 7\n",
      " -> A @ 107 7\n",
      "G -> A @ 20 7\n",
      "T -> G @ 4 7\n",
      "T ->  @ 7 7\n",
      "G -> C @ 60 7\n",
      "T ->  @ 23 7\n",
      " -> AT @ 54 7\n",
      "T ->  @ 13 7\n",
      "T ->  @ 14 7\n",
      "T -> A @ 39 7\n",
      "T -> A @ 35 7\n",
      "T ->  @ 58 7\n",
      " -> A @ 50 7\n",
      "T ->  @ 21 7\n",
      "T -> C @ 20 7\n",
      " -> A @ 40 7\n",
      "C ->  @ 52 7\n",
      "T ->  @ 35 7\n",
      "T -> C @ 7 7\n",
      "G -> C @ 64 7\n",
      "T ->  @ 39 7\n",
      "G -> C @ 105 7\n",
      "T -> C @ 53 7\n",
      "T ->  @ 42 7\n",
      "T -> C @ 49 7\n",
      " -> TG @ 54 7\n",
      "A ->  @ 57 7\n",
      " -> A @ 4 7\n",
      "G ->  @ 75 7\n",
      "T -> A @ 43 7\n",
      "T ->  @ 95 7\n",
      " -> C @ 110 7\n",
      " -> AC @ 53 7\n",
      "G ->  @ 101 7\n",
      "C ->  @ 78 7\n",
      "T ->  @ 64 7\n",
      "G ->  @ 100 7\n",
      "T -> C @ 106 7\n",
      " -> A @ 70 8\n",
      "C -> A @ 109 8\n",
      "G ->  @ 61 8\n",
      " -> A @ 109 8\n",
      " -> G @ 110 8\n",
      "G -> C @ 4 8\n",
      "C ->  @ 27 8\n",
      "T -> C @ 57 8\n",
      "T ->  @ 41 8\n",
      "C ->  @ 105 8\n",
      "T -> G @ 91 8\n",
      "T -> C @ 55 8\n",
      "C -> A @ 4 8\n",
      "T ->  @ 9 8\n",
      " -> CC @ 54 8\n",
      "G ->  @ 67 8\n",
      "T ->  @ 94 8\n",
      "T ->  @ 44 8\n",
      "G ->  @ 69 8\n",
      "T -> C @ 4 8\n",
      "T ->  @ 48 8\n",
      "G ->  @ 71 8\n",
      " -> C @ 51 8\n",
      "G ->  @ 12 8\n",
      "T ->  @ 61 8\n",
      "T ->  @ 38 8\n",
      "T -> G @ 3 8\n",
      "G ->  @ 33 8\n",
      "A ->  @ 56 8\n",
      "G -> A @ 106 8\n",
      "G -> A @ 100 8\n",
      " -> AA @ 53 8\n",
      "C ->  @ 1 8\n",
      "T ->  @ 84 8\n",
      "G ->  @ 88 8\n",
      "G ->  @ 103 8\n",
      "T ->  @ 79 8\n",
      "T -> A @ 7 8\n",
      "T -> C @ 9 8\n",
      "T ->  @ 27 8\n",
      "G ->  @ 50 8\n",
      "T -> C @ 73 8\n",
      "T -> C @ 72 8\n",
      "T ->  @ 96 8\n",
      "C ->  @ 51 8\n",
      "G ->  @ 16 8\n",
      "C ->  @ 3 9\n",
      " -> T @ 51 9\n",
      " -> AA @ 54 9\n",
      "T -> A @ 107 9\n",
      "G -> AA @ 110 9\n",
      "T ->  @ 49 9\n",
      "C ->  @ 103 9\n",
      "T ->  @ 67 9\n",
      "G ->  @ 19 9\n",
      "T ->  @ 29 9\n",
      "T ->  @ 28 9\n",
      "G -> A @ 3 9\n",
      "T ->  @ 24 9\n",
      " -> AT @ 53 9\n",
      "T ->  @ 20 9\n",
      "G ->  @ 104 9\n",
      "G ->  @ 102 9\n",
      "T -> C @ 2 9\n",
      "T ->  @ 18 9\n",
      "G ->  @ 74 9\n",
      "T ->  @ 17 9\n",
      "G ->  @ 105 9\n",
      "T ->  @ 68 9\n",
      "T ->  @ 59 9\n",
      "T ->  @ 33 9\n",
      "G ->  @ 7 9\n",
      "T ->  @ 89 9\n",
      "T ->  @ 88 9\n",
      "T ->  @ 87 9\n",
      "T ->  @ 45 9\n",
      "T ->  @ 31 9\n",
      " -> G @ 109 9\n",
      "T -> C @ 3 9\n",
      "T ->  @ 36 9\n",
      "T ->  @ 34 9\n",
      "T ->  @ 80 9\n",
      "T ->  @ 75 9\n",
      "C -> A @ 2 9\n",
      "G ->  @ 39 9\n",
      " -> TC @ 54 9\n",
      "G -> C @ 106 10\n",
      " -> AA @ 110 10\n",
      " -> TT @ 53 10\n",
      "T ->  @ 46 10\n",
      "T ->  @ 30 10\n",
      "C -> A @ 3 10\n",
      "G ->  @ 20 10\n",
      "G ->  @ 79 10\n",
      " -> GA @ 54 10\n",
      "T -> C @ 107 10\n",
      "T ->  @ 70 10\n",
      " -> AG @ 54 10\n",
      "T ->  @ 97 11\n",
      " -> AC @ 54 11\n",
      "T ->  @ 63 11\n",
      "T ->  @ 60 11\n",
      "G -> C @ 108 11\n",
      "T ->  @ 100 11\n",
      "T ->  @ 83 11\n",
      "T -> A @ 105 11\n",
      "T ->  @ 16 11\n",
      " -> A @ 108 11\n",
      " -> GT @ 54 11\n",
      " -> GC @ 54 11\n",
      " -> A @ 56 11\n",
      "G -> C @ 109 11\n",
      "T -> A @ 70 11\n",
      " -> C @ 2 11\n",
      " -> G @ 1 12\n",
      "T ->  @ 101 12\n",
      " -> CA @ 54 12\n",
      "T ->  @ 15 12\n",
      "C ->  @ 106 12\n",
      "T ->  @ 12 12\n",
      "T -> A @ 106 12\n",
      "T ->  @ 93 12\n",
      "T ->  @ 90 12\n",
      " -> A @ 51 13\n",
      "T ->  @ 77 13\n",
      "G -> A @ 107 13\n",
      " -> TT @ 54 13\n",
      "T ->  @ 62 13\n",
      "G ->  @ 107 13\n",
      "T ->  @ 98 13\n",
      "A ->  @ 53 13\n",
      "T ->  @ 85 13\n",
      "T -> A @ 3 14\n",
      " -> T @ 56 14\n",
      "C ->  @ 107 14\n",
      "C ->  @ 56 14\n",
      "T ->  @ 56 14\n",
      " -> CT @ 54 14\n",
      " -> G @ 51 14\n",
      "T ->  @ 66 15\n",
      " -> CG @ 54 15\n",
      "T ->  @ 57 15\n",
      "T ->  @ 1 15\n",
      " -> TA @ 54 16\n",
      "T -> C @ 109 16\n",
      " -> C @ 1 16\n",
      "T ->  @ 51 16\n",
      "T ->  @ 105 16\n",
      "T -> G @ 108 16\n",
      "T -> A @ 4 16\n",
      "G -> T @ 110 16\n",
      "G -> A @ 108 17\n",
      " -> C @ 0 17\n",
      "T ->  @ 53 17\n",
      "T ->  @ 103 17\n",
      "C -> A @ 108 18\n",
      "G ->  @ 56 18\n",
      "G ->  @ 53 18\n",
      "T ->  @ 37 19\n",
      "T ->  @ 2 19\n",
      " -> G @ 0 19\n",
      "A -> T @ 110 19\n",
      "C ->  @ 53 20\n",
      " -> C @ 56 20\n",
      "G ->  @ 106 20\n",
      "T ->  @ 3 21\n",
      "T -> A @ 108 21\n",
      " -> G @ 56 23\n",
      "C ->  @ 108 24\n",
      "T ->  @ 104 24\n",
      " -> A @ 2 24\n",
      "T -> C @ 108 28\n",
      "C ->  @ 55 30\n",
      "A -> G @ 110 30\n",
      " -> A @ 1 31\n",
      " -> A @ 0 32\n",
      "A ->  @ 55 33\n",
      "G ->  @ 55 33\n",
      " -> G @ 55 34\n",
      "C ->  @ 109 34\n",
      " -> T @ 55 36\n",
      " -> A @ 55 36\n",
      "T ->  @ 106 36\n",
      " -> A @ 110 36\n",
      "T ->  @ 55 36\n",
      "C -> T @ 110 38\n",
      "T ->  @ 107 39\n",
      " -> C @ 52 39\n",
      "C -> G @ 110 40\n",
      " -> C @ 55 40\n",
      " -> T @ 52 41\n",
      " -> A @ 52 41\n",
      "G ->  @ 108 42\n",
      " -> G @ 52 42\n",
      "G ->  @ 109 45\n",
      "A -> C @ 110 46\n",
      "G ->  @ 54 52\n",
      "A ->  @ 54 58\n",
      "C ->  @ 54 60\n",
      "C ->  @ 110 73\n",
      "T ->  @ 54 77\n",
      "T ->  @ 108 81\n",
      "G -> C @ 110 82\n",
      "T ->  @ 109 84\n",
      "G -> A @ 110 86\n",
      "T ->  @ 110 96\n",
      "T -> G @ 110 97\n",
      "C -> A @ 110 107\n",
      "T -> C @ 110 109\n",
      "T -> A @ 110 117\n",
      " -> A @ 53 132\n",
      " -> T @ 53 133\n",
      " -> G @ 53 140\n",
      " -> C @ 53 148\n",
      " -> T @ 54 209\n",
      " -> C @ 54 213\n",
      " -> G @ 54 218\n",
      " -> A @ 54 242\n",
      "A ->  @ 110 258\n",
      "G ->  @ 110 417\n",
      "[75, 99, 126, 109, 98, 52, 54, 56, 48, 45, 35, 38, 58, 45, 54, 49, 49, 54, 52, 47, 56, 44, 49, 51, 47, 51, 35, 55, 35, 47, 54, 45, 42, 51, 53, 55, 48, 58, 40, 55, 53, 46, 47, 52, 46, 43, 43, 47, 55, 52, 63, 122, 241, 760, 1381, 385, 186, 90, 62, 59, 48, 49, 66, 57, 55, 54, 56, 49, 60, 53, 59, 56, 48, 56, 33, 53, 39, 52, 54, 54, 45, 49, 39, 43, 44, 55, 44, 49, 46, 42, 51, 47, 43, 46, 43, 48, 41, 46, 50, 41, 63, 52, 47, 61, 75, 91, 131, 156, 315, 244, 1746]\n"
     ]
    },
    {
     "data": {
      "image/png": "[encoded data removed]",
      "text/plain": [
       "<Figure size 432x288 with 1 Axes>"
      ]
     },
     "metadata": {
      "needs_background": "light"
     },
     "output_type": "display_data"
    }
   ],
   "source": [
    "subs, counts = np.unique(pairs, return_counts=True, axis=0)\n",
    "sorting = np.argsort(counts)\n",
    "subs = subs[sorting]\n",
    "counts = counts[sorting]\n",
    "\n",
    "for sub, count in zip(subs, counts):\n",
    "    if count > 5:\n",
    "        print(\"{} -> {} @ {}\".format(sub[0], sub[1], sub[2]), count)\n",
    "\n",
    "strand_len = 110\n",
    "pos_counts = [0] * (strand_len + 1)\n",
    "for sub, count in zip(subs, counts):\n",
    "    pos_counts[int(sub[2])] += count\n",
    "\n",
    "print(pos_counts)\n",
    "\n",
    "f = plt.figure()\n",
    "plt.plot(range(strand_len + 1), pos_counts)\n",
    "plt.title(r'Aligned Error; BMA; N = 6', fontsize=11)\n",
    "plt.xlabel(r'Strand Position', fontsize=11)\n",
    "plt.ylabel(r'No. of Errors', fontsize=11)\n",
    "plt.show()\n",
    "f.savefig('cov6-our-bma-aligned.pdf', bbox_inches='tight')"
   ]
  },
  {
   "cell_type": "code",
   "execution_count": 14,
   "metadata": {},
   "outputs": [],
   "source": [
    "subs, counts = np.unique(pairs, return_counts=True, axis=0)\n",
    "sorting = np.argsort(counts)\n",
    "subs = subs[sorting]\n",
    "counts = counts[sorting]\n"
   ]
  },
  {
   "cell_type": "code",
   "execution_count": 15,
   "metadata": {},
   "outputs": [],
   "source": [
    "def get_key(char1, char2):\n",
    "    char1 = char1 if char1 != '' else '_'\n",
    "    char2 = char2 if char2 != '' else '_'\n",
    "    return char1 + ' -> ' + char2\n",
    "\n",
    "strand_len = 110\n",
    "pos_map = {}\n",
    "pos_counts = [0] * (strand_len + 1)\n",
    "for sub, count in zip(subs, counts):\n",
    "    key = get_key(sub[0], sub[1])\n",
    "    if key not in pos_map:\n",
    "        pos_map[key] = [0] * (strand_len + 1)\n",
    "    pos_map[key][int(sub[2])] += count"
   ]
  },
  {
   "cell_type": "code",
   "execution_count": 16,
   "metadata": {},
   "outputs": [],
   "source": [
    "sub_keys = [get_key(sub[0], sub[1]) for sub in subs_no_pos]\n",
    "max_10_keys = sub_keys[-10:]\n",
    "max_10_counts = counts_no_pos[-10:]\n"
   ]
  },
  {
   "cell_type": "code",
   "execution_count": 17,
   "metadata": {},
   "outputs": [
    {
     "name": "stdout",
     "output_type": "stream",
     "text": [
      "[0, 15, 19, 21, 6, 7, 4, 7, 4, 8, 1, 3, 12, 7, 7, 12, 11, 9, 9, 5, 9, 7, 4, 7, 9, 5, 5, 8, 9, 9, 10, 9, 3, 9, 9, 7, 9, 19, 8, 7, 6, 8, 7, 5, 8, 9, 10, 5, 8, 9, 5, 16, 6, 17, 77, 36, 14, 15, 7, 9, 11, 8, 13, 11, 7, 6, 15, 9, 9, 7, 10, 7, 7, 6, 4, 9, 4, 13, 7, 8, 9, 7, 6, 11, 8, 13, 7, 9, 9, 9, 12, 5, 7, 12, 8, 7, 8, 11, 13, 6, 11, 12, 5, 17, 24, 16, 36, 39, 81, 84, 96]\n",
      "[0, 3, 6, 3, 7, 4, 2, 9, 5, 4, 4, 5, 8, 6, 6, 6, 8, 2, 6, 9, 10, 5, 4, 6, 3, 5, 6, 5, 6, 7, 5, 7, 5, 8, 6, 4, 6, 5, 3, 9, 6, 5, 4, 6, 6, 4, 3, 4, 4, 2, 8, 5, 6, 18, 52, 33, 18, 5, 4, 3, 3, 8, 6, 2, 7, 5, 7, 8, 6, 8, 6, 8, 3, 2, 9, 7, 6, 3, 4, 10, 5, 4, 4, 4, 4, 5, 6, 3, 8, 5, 6, 2, 3, 3, 2, 5, 0, 3, 5, 1, 7, 7, 9, 8, 9, 9, 20, 13, 42, 45, 417]\n",
      "[32, 31, 24, 1, 7, 3, 2, 1, 3, 3, 0, 0, 1, 2, 2, 1, 4, 4, 1, 0, 2, 2, 1, 1, 0, 2, 2, 2, 0, 2, 3, 1, 0, 2, 1, 1, 1, 2, 2, 1, 7, 2, 2, 2, 2, 1, 4, 3, 1, 1, 7, 13, 41, 132, 242, 36, 11, 5, 1, 3, 3, 1, 4, 3, 2, 2, 3, 0, 1, 1, 8, 2, 0, 2, 1, 1, 2, 1, 1, 1, 2, 4, 1, 0, 1, 5, 1, 4, 1, 3, 2, 4, 1, 0, 1, 3, 2, 1, 2, 1, 3, 0, 4, 1, 3, 1, 2, 7, 11, 8, 36]\n",
      "[17, 16, 11, 1, 2, 0, 2, 1, 4, 3, 2, 3, 2, 0, 5, 1, 0, 0, 1, 3, 0, 4, 2, 1, 5, 4, 2, 1, 1, 3, 0, 1, 1, 1, 0, 0, 2, 4, 4, 1, 1, 1, 2, 0, 1, 1, 1, 0, 1, 1, 3, 8, 39, 148, 213, 40, 20, 6, 6, 4, 3, 3, 0, 2, 2, 3, 1, 0, 1, 3, 0, 1, 1, 1, 2, 4, 1, 1, 0, 5, 3, 0, 1, 0, 2, 3, 0, 1, 0, 0, 1, 1, 0, 1, 2, 1, 0, 3, 2, 2, 1, 1, 2, 2, 1, 3, 3, 6, 6, 4, 7]\n",
      "[19, 12, 6, 2, 0, 2, 0, 1, 0, 0, 0, 0, 2, 2, 1, 2, 1, 2, 2, 1, 2, 0, 0, 2, 0, 1, 0, 1, 0, 0, 0, 0, 0, 3, 2, 0, 0, 0, 0, 1, 0, 3, 0, 0, 0, 2, 1, 1, 1, 1, 7, 14, 42, 140, 218, 34, 23, 7, 3, 2, 0, 0, 1, 2, 0, 0, 1, 1, 2, 0, 1, 1, 1, 0, 0, 2, 1, 4, 0, 1, 0, 1, 1, 0, 1, 1, 1, 1, 0, 0, 0, 1, 1, 0, 2, 0, 0, 1, 0, 1, 3, 1, 3, 0, 0, 1, 0, 3, 2, 9, 8]\n",
      "[0, 8, 3, 9, 6, 3, 4, 3, 0, 1, 3, 3, 5, 4, 3, 1, 4, 3, 4, 2, 0, 3, 3, 1, 0, 4, 3, 8, 1, 2, 4, 3, 3, 1, 2, 3, 3, 1, 1, 2, 6, 5, 0, 3, 1, 2, 4, 2, 5, 1, 1, 8, 7, 20, 60, 30, 14, 6, 4, 6, 2, 5, 3, 3, 4, 1, 0, 1, 3, 3, 1, 4, 3, 3, 1, 2, 2, 1, 7, 5, 1, 2, 2, 3, 4, 1, 3, 1, 2, 3, 5, 4, 2, 3, 4, 2, 3, 3, 4, 4, 3, 1, 3, 9, 4, 8, 12, 14, 24, 34, 73]\n",
      "[0, 2, 6, 14, 16, 5, 6, 8, 3, 3, 3, 1, 4, 3, 2, 4, 1, 4, 0, 4, 2, 3, 6, 4, 5, 2, 1, 4, 2, 3, 3, 3, 2, 4, 2, 7, 1, 3, 4, 7, 1, 4, 2, 7, 4, 5, 3, 2, 7, 2, 5, 4, 1, 3, 4, 6, 4, 1, 5, 3, 1, 4, 1, 4, 3, 5, 6, 2, 1, 4, 11, 3, 4, 5, 4, 4, 2, 2, 4, 4, 1, 4, 0, 4, 1, 2, 4, 6, 2, 2, 1, 5, 5, 4, 5, 5, 4, 4, 2, 6, 3, 3, 6, 3, 6, 11, 12, 9, 21, 5, 117]\n",
      "[0, 2, 9, 9, 8, 0, 4, 7, 4, 8, 2, 2, 4, 2, 5, 1, 2, 5, 2, 1, 7, 4, 4, 5, 3, 5, 2, 6, 4, 1, 5, 2, 4, 4, 2, 5, 2, 3, 1, 2, 3, 6, 5, 2, 5, 1, 1, 3, 2, 7, 0, 2, 2, 7, 6, 8, 4, 8, 5, 5, 4, 6, 5, 5, 2, 2, 0, 4, 6, 4, 5, 4, 8, 8, 0, 3, 3, 4, 6, 2, 3, 5, 0, 0, 1, 0, 3, 6, 5, 0, 4, 1, 2, 3, 3, 5, 0, 4, 3, 2, 4, 3, 3, 2, 5, 5, 7, 10, 28, 16, 109]\n",
      "[5, 3, 1, 1, 0, 0, 0, 0, 1, 0, 1, 0, 0, 0, 1, 1, 1, 0, 1, 0, 2, 2, 2, 0, 0, 0, 0, 1, 0, 0, 3, 0, 0, 0, 1, 0, 2, 1, 0, 0, 2, 0, 0, 1, 0, 1, 0, 2, 0, 0, 5, 9, 41, 133, 209, 36, 14, 4, 1, 0, 0, 0, 2, 1, 1, 0, 0, 1, 0, 1, 1, 0, 0, 0, 1, 1, 0, 0, 0, 0, 0, 2, 1, 1, 0, 0, 0, 0, 1, 1, 0, 0, 1, 1, 1, 1, 1, 0, 0, 1, 0, 0, 0, 1, 0, 0, 0, 1, 2, 1, 1]\n",
      "[0, 1, 0, 1, 2, 2, 1, 1, 1, 3, 0, 2, 1, 2, 1, 0, 1, 1, 2, 1, 3, 0, 3, 2, 2, 0, 0, 2, 1, 0, 3, 1, 2, 0, 2, 0, 2, 2, 1, 3, 0, 1, 3, 1, 1, 1, 1, 1, 0, 0, 1, 3, 2, 13, 58, 33, 8, 7, 1, 0, 0, 1, 2, 2, 1, 4, 0, 0, 0, 2, 0, 0, 0, 0, 0, 4, 0, 2, 0, 0, 1, 2, 0, 1, 1, 4, 1, 0, 1, 1, 0, 1, 1, 1, 1, 0, 1, 0, 2, 0, 3, 2, 0, 2, 0, 3, 2, 5, 4, 7, 258]\n"
     ]
    },
    {
     "data": {
      "image/png": "[encoded data removed]",
      "text/plain": [
       "<Figure size 432x288 with 1 Axes>"
      ]
     },
     "metadata": {
      "needs_background": "light"
     },
     "output_type": "display_data"
    },
    {
     "data": {
      "image/png": "[encoded data removed]",
      "text/plain": [
       "<Figure size 432x288 with 1 Axes>"
      ]
     },
     "metadata": {
      "needs_background": "light"
     },
     "output_type": "display_data"
    },
    {
     "data": {
      "image/png": "[encoded data removed]",
      "text/plain": [
       "<Figure size 432x288 with 1 Axes>"
      ]
     },
     "metadata": {
      "needs_background": "light"
     },
     "output_type": "display_data"
    },
    {
     "data": {
      "image/png": "[encoded data removed]",
      "text/plain": [
       "<Figure size 432x288 with 1 Axes>"
      ]
     },
     "metadata": {
      "needs_background": "light"
     },
     "output_type": "display_data"
    },
    {
     "data": {
      "image/png": "[encoded data removed]",
      "text/plain": [
       "<Figure size 432x288 with 1 Axes>"
      ]
     },
     "metadata": {
      "needs_background": "light"
     },
     "output_type": "display_data"
    },
    {
     "data": {
      "image/png": "[encoded data removed]",
      "text/plain": [
       "<Figure size 432x288 with 1 Axes>"
      ]
     },
     "metadata": {
      "needs_background": "light"
     },
     "output_type": "display_data"
    },
    {
     "data": {
      "image/png": "[encoded data removed]",
      "text/plain": [
       "<Figure size 432x288 with 1 Axes>"
      ]
     },
     "metadata": {
      "needs_background": "light"
     },
     "output_type": "display_data"
    },
    {
     "data": {
      "image/png": "[encoded data removed]",
      "text/plain": [
       "<Figure size 432x288 with 1 Axes>"
      ]
     },
     "metadata": {
      "needs_background": "light"
     },
     "output_type": "display_data"
    },
    {
     "data": {
      "image/png": "[encoded data removed]",
      "text/plain": [
       "<Figure size 432x288 with 1 Axes>"
      ]
     },
     "metadata": {
      "needs_background": "light"
     },
     "output_type": "display_data"
    },
    {
     "data": {
      "image/png": "[encoded data removed]",
      "text/plain": [
       "<Figure size 432x288 with 1 Axes>"
      ]
     },
     "metadata": {
      "needs_background": "light"
     },
     "output_type": "display_data"
    }
   ],
   "source": [
    "for key, count in zip(reversed(max_10_keys), reversed(max_10_counts)):\n",
    "    plt.figure(key)\n",
    "    print(pos_map[key])\n",
    "    plt.plot(range(strand_len + 1), pos_map[key])"
   ]
  },
  {
   "cell_type": "code",
   "execution_count": 18,
   "metadata": {},
   "outputs": [],
   "source": [
    "np.save('subs.npy', subs)\n",
    "np.save('counts.npy', counts)"
   ]
  }
 ],
 "metadata": {
  "interpreter": {
   "hash": "aee8b7b246df8f9039afb4144a1f6fd8d2ca17a180786b69acc140d282b71a49"
  },
  "kernelspec": {
   "display_name": "Python 3.9.10 64-bit",
   "language": "python",
   "name": "python3"
  },
  "language_info": {
   "codemirror_mode": {
    "name": "ipython",
    "version": 3
   },
   "file_extension": ".py",
   "mimetype": "text/x-python",
   "name": "python",
   "nbconvert_exporter": "python",
   "pygments_lexer": "ipython3",
   "version": "3.9.10"
  },
  "orig_nbformat": 4
 },
 "nbformat": 4,
 "nbformat_minor": 2
}
