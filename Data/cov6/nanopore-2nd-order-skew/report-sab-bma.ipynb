{
 "cells": [
  {
   "cell_type": "code",
   "execution_count": 1,
   "metadata": {},
   "outputs": [],
   "source": [
    "import pandas as pd"
   ]
  },
  {
   "cell_type": "code",
   "execution_count": 2,
   "metadata": {},
   "outputs": [],
   "source": [
    "\n",
    "df = pd.read_csv('sab-bma.csv')\n"
   ]
  },
  {
   "cell_type": "code",
   "execution_count": 3,
   "metadata": {},
   "outputs": [
    {
     "data": {
      "text/html": [
       "<div>\n",
       "<style scoped>\n",
       "    .dataframe tbody tr th:only-of-type {\n",
       "        vertical-align: middle;\n",
       "    }\n",
       "\n",
       "    .dataframe tbody tr th {\n",
       "        vertical-align: top;\n",
       "    }\n",
       "\n",
       "    .dataframe thead th {\n",
       "        text-align: right;\n",
       "    }\n",
       "</style>\n",
       "<table border=\"1\" class=\"dataframe\">\n",
       "  <thead>\n",
       "    <tr style=\"text-align: right;\">\n",
       "      <th></th>\n",
       "      <th>Refs</th>\n",
       "      <th>Reads</th>\n",
       "    </tr>\n",
       "  </thead>\n",
       "  <tbody>\n",
       "    <tr>\n",
       "      <th>0</th>\n",
       "      <td>ACCATAATGCGTGGGGCCGACCTCGGAATGCGGTCTCCATGCGCGT...</td>\n",
       "      <td>ACCATAATGCGTGGGGCCGACCTCGGAATGCGGTCTCCATGCGCGT...</td>\n",
       "    </tr>\n",
       "    <tr>\n",
       "      <th>1</th>\n",
       "      <td>TCGAAGCAGTAGGGCCTACCAAATAGGTTGGTCCTCCGTTGTATCT...</td>\n",
       "      <td>TCGAAGCAGTAGGGCCTACCAAATAGGTTGGTCCTCCGTTGTATCT...</td>\n",
       "    </tr>\n",
       "    <tr>\n",
       "      <th>2</th>\n",
       "      <td>AGTTAACGTCCCACGGCGAGGCACTCTTGATCCCCACCTTCAAGAG...</td>\n",
       "      <td>AGTTAACGCCCACGGCGAGGCACTCTTGATCCCACCTTCAAGAGGT...</td>\n",
       "    </tr>\n",
       "    <tr>\n",
       "      <th>3</th>\n",
       "      <td>GCCCAAGGGTACGCCCGCAGCGACGCAATTGGCGGAGTAAGCGCGT...</td>\n",
       "      <td>GCCCAAGGGTACGCCCGCAGCGACGCAATTGGCGGAGTAAGCGCGT...</td>\n",
       "    </tr>\n",
       "    <tr>\n",
       "      <th>4</th>\n",
       "      <td>GCACTGATGTAACTCATGGTACATCCGTCGCTGAGCGCCATTTTGT...</td>\n",
       "      <td>GCACTGATGTAACTCATGGTACATCCGTCGCTGAGCGCCATTTTGT...</td>\n",
       "    </tr>\n",
       "    <tr>\n",
       "      <th>...</th>\n",
       "      <td>...</td>\n",
       "      <td>...</td>\n",
       "    </tr>\n",
       "    <tr>\n",
       "      <th>9995</th>\n",
       "      <td>GCATGATTTGGAAGGTCGGCACTATACCCACCCAGGGTATATGGTC...</td>\n",
       "      <td>GCATGATTTGGAAGGTCGGCACTATACCCACCCAGGGTATATGGTC...</td>\n",
       "    </tr>\n",
       "    <tr>\n",
       "      <th>9996</th>\n",
       "      <td>GAAGTTTGGAACGTGTTCGTCCGCCAATTAAGGTTGGCTTCTAGTA...</td>\n",
       "      <td>GAAGTTTGGAACGTGTTCGTCCGCCAATTAAGGTTGGCTTCTAGTA...</td>\n",
       "    </tr>\n",
       "    <tr>\n",
       "      <th>9997</th>\n",
       "      <td>TGCATCCCGGACAACCGCAAGGGTGCATGGGCACCGCAATTCCCAA...</td>\n",
       "      <td>TGCATCCCGGACAACCGCAAGGGTGCATGGGCACCGCAATTCCCAA...</td>\n",
       "    </tr>\n",
       "    <tr>\n",
       "      <th>9998</th>\n",
       "      <td>ACTGGACGTCCTATGCTGGCATAATGAAACGACAACCTGTCTTCGA...</td>\n",
       "      <td>ACTGGACGTCCTATGCTGGCATAATGAAACGACAACCTGTCTTCGA...</td>\n",
       "    </tr>\n",
       "    <tr>\n",
       "      <th>9999</th>\n",
       "      <td>ATCGTGGTATCCCTCCAACCCGAATGACCTGGCGAGGCAGATCAAC...</td>\n",
       "      <td>ATCGTGGTATCCCTCCAACCCGAATGACCTGGCGAGGCAGATCAAC...</td>\n",
       "    </tr>\n",
       "  </tbody>\n",
       "</table>\n",
       "<p>10000 rows × 2 columns</p>\n",
       "</div>"
      ],
      "text/plain": [
       "                                                   Refs  \\\n",
       "0     ACCATAATGCGTGGGGCCGACCTCGGAATGCGGTCTCCATGCGCGT...   \n",
       "1     TCGAAGCAGTAGGGCCTACCAAATAGGTTGGTCCTCCGTTGTATCT...   \n",
       "2     AGTTAACGTCCCACGGCGAGGCACTCTTGATCCCCACCTTCAAGAG...   \n",
       "3     GCCCAAGGGTACGCCCGCAGCGACGCAATTGGCGGAGTAAGCGCGT...   \n",
       "4     GCACTGATGTAACTCATGGTACATCCGTCGCTGAGCGCCATTTTGT...   \n",
       "...                                                 ...   \n",
       "9995  GCATGATTTGGAAGGTCGGCACTATACCCACCCAGGGTATATGGTC...   \n",
       "9996  GAAGTTTGGAACGTGTTCGTCCGCCAATTAAGGTTGGCTTCTAGTA...   \n",
       "9997  TGCATCCCGGACAACCGCAAGGGTGCATGGGCACCGCAATTCCCAA...   \n",
       "9998  ACTGGACGTCCTATGCTGGCATAATGAAACGACAACCTGTCTTCGA...   \n",
       "9999  ATCGTGGTATCCCTCCAACCCGAATGACCTGGCGAGGCAGATCAAC...   \n",
       "\n",
       "                                                  Reads  \n",
       "0     ACCATAATGCGTGGGGCCGACCTCGGAATGCGGTCTCCATGCGCGT...  \n",
       "1     TCGAAGCAGTAGGGCCTACCAAATAGGTTGGTCCTCCGTTGTATCT...  \n",
       "2     AGTTAACGCCCACGGCGAGGCACTCTTGATCCCACCTTCAAGAGGT...  \n",
       "3     GCCCAAGGGTACGCCCGCAGCGACGCAATTGGCGGAGTAAGCGCGT...  \n",
       "4     GCACTGATGTAACTCATGGTACATCCGTCGCTGAGCGCCATTTTGT...  \n",
       "...                                                 ...  \n",
       "9995  GCATGATTTGGAAGGTCGGCACTATACCCACCCAGGGTATATGGTC...  \n",
       "9996  GAAGTTTGGAACGTGTTCGTCCGCCAATTAAGGTTGGCTTCTAGTA...  \n",
       "9997  TGCATCCCGGACAACCGCAAGGGTGCATGGGCACCGCAATTCCCAA...  \n",
       "9998  ACTGGACGTCCTATGCTGGCATAATGAAACGACAACCTGTCTTCGA...  \n",
       "9999  ATCGTGGTATCCCTCCAACCCGAATGACCTGGCGAGGCAGATCAAC...  \n",
       "\n",
       "[10000 rows x 2 columns]"
      ]
     },
     "execution_count": 3,
     "metadata": {},
     "output_type": "execute_result"
    }
   ],
   "source": [
    "df\n"
   ]
  },
  {
   "cell_type": "code",
   "execution_count": 4,
   "metadata": {},
   "outputs": [],
   "source": [
    "from tqdm import tqdm\n"
   ]
  },
  {
   "cell_type": "code",
   "execution_count": 5,
   "metadata": {},
   "outputs": [],
   "source": [
    "noisy_strands = [s.strip() for s in list(df['Reads'])]\n"
   ]
  },
  {
   "cell_type": "code",
   "execution_count": 6,
   "metadata": {},
   "outputs": [],
   "source": [
    "ref_strands = [s.strip() for s in list(df['Refs'])]\n"
   ]
  },
  {
   "cell_type": "code",
   "execution_count": 7,
   "metadata": {},
   "outputs": [],
   "source": [
    "import difflib\n"
   ]
  },
  {
   "cell_type": "code",
   "execution_count": 8,
   "metadata": {},
   "outputs": [],
   "source": [
    "import matplotlib.pyplot as plt\n",
    "import numpy as np\n",
    "import os\n",
    "\n",
    "# use LaTeX fonts in the plot\n",
    "plt.rc('text', usetex=True)\n",
    "plt.rc('font', family='serif')\n",
    "os.environ[\"PATH\"] += os.pathsep + '/usr/local/texlive/2021basic/bin/universal-darwin'"
   ]
  },
  {
   "cell_type": "code",
   "execution_count": 9,
   "metadata": {},
   "outputs": [],
   "source": [
    "def print_diff(ref_strand, noisy_strand):\n",
    "    global pairs\n",
    "    global pairs_no_pos\n",
    "    a, b = 0, 0\n",
    "\n",
    "    # quadratic time, no heuristics\n",
    "    for match in difflib.SequenceMatcher(None, ref_strand, noisy_strand, autojunk=False).get_matching_blocks():\n",
    "        was = ref_strand[a:match.a]\n",
    "        now = noisy_strand[b:match.b]\n",
    "        \n",
    "        a = match.a + match.size\n",
    "        b = match.b + match.size\n",
    "        \n",
    "        if was == '' and now == '':\n",
    "            pass\n",
    "        else:\n",
    "            # print('{}|{}'.format(was, now), end=', ')\n",
    "            pairs += [(was, now, match.a)]\n",
    "            pairs_no_pos += [(was, now)]\n",
    "\n"
   ]
  },
  {
   "cell_type": "code",
   "execution_count": 10,
   "metadata": {},
   "outputs": [
    {
     "name": "stderr",
     "output_type": "stream",
     "text": [
      "100%|██████████| 10000/10000 [00:00<00:00, 65248.60it/s]\n"
     ]
    },
    {
     "name": "stdout",
     "output_type": "stream",
     "text": [
      "[24, 68, 163, 171, 175, 196, 186, 203, 224, 208, 227, 234, 247, 263, 280, 278, 297, 333, 318, 340, 358, 363, 389, 389, 417, 429, 441, 464, 486, 506, 542, 547, 582, 560, 596, 617, 631, 637, 649, 681, 690, 665, 738, 723, 726, 759, 750, 793, 789, 823, 838, 861, 873, 910, 932, 1591, 1578, 1572, 1540, 1537, 1546, 1475, 1440, 1446, 1476, 1443, 1383, 1361, 1405, 1352, 1352, 1330, 1316, 1316, 1281, 1300, 1281, 1244, 1264, 1231, 1221, 1206, 1185, 1180, 1159, 1128, 1097, 1128, 1123, 1097, 1065, 1058, 1064, 1080, 1044, 1031, 1026, 999, 1019, 1010, 960, 981, 976, 998, 928, 965, 938, 931, 912, 1341]\n"
     ]
    },
    {
     "data": {
      "image/png": "[encoded data removed]",
      "text/plain": [
       "<Figure size 432x288 with 1 Axes>"
      ]
     },
     "metadata": {
      "needs_background": "light"
     },
     "output_type": "display_data"
    }
   ],
   "source": [
    "# Hamming Distance Graph\n",
    "strand_len = 110\n",
    "count_pos = [0] * (strand_len + 1)\n",
    "\n",
    "def hamming(ref_strand, recons_strand):\n",
    "    for i, (c1, c2) in enumerate(zip(ref_strand, recons_strand)):\n",
    "        if c1 != c2:\n",
    "            count_pos[i] += 1\n",
    "\n",
    "for i in tqdm(range(len(ref_strands))):\n",
    "    hamming(ref_strands[i], noisy_strands[i])\n",
    "\n",
    "print(count_pos[:-1])\n",
    "f = plt.figure()\n",
    "plt.plot(range(strand_len), count_pos[:-1])\n",
    "plt.title(r'Hamming Error; BMA; N = 6', fontsize=11)\n",
    "plt.xlabel(r'Strand Position', fontsize=11)\n",
    "plt.ylabel(r'No. of Errors', fontsize=11)\n",
    "plt.show()\n",
    "f.savefig('cov6-sab-bma-hamming.pdf', bbox_inches='tight')"
   ]
  },
  {
   "cell_type": "code",
   "execution_count": 11,
   "metadata": {},
   "outputs": [
    {
     "name": "stderr",
     "output_type": "stream",
     "text": [
      "100%|██████████| 10000/10000 [00:04<00:00, 2212.37it/s]\n"
     ]
    }
   ],
   "source": [
    "pairs = []\n",
    "pairs_no_pos = []\n",
    "\n",
    "for i in tqdm(range(len(ref_strands))):\n",
    "    if ref_strands[i] != noisy_strands[i]:\n",
    "        print_diff(ref_strands[i], noisy_strands[i])\n"
   ]
  },
  {
   "cell_type": "code",
   "execution_count": 12,
   "metadata": {},
   "outputs": [
    {
     "name": "stdout",
     "output_type": "stream",
     "text": [
      "AA ->  6\n",
      " -> CTT 6\n",
      "TT -> G 6\n",
      "GT -> C 7\n",
      "T -> AC 7\n",
      " -> CTA 7\n",
      "CTG ->  8\n",
      "TC -> AA 8\n",
      "CT -> A 8\n",
      "CG -> A 9\n",
      "T -> GA 9\n",
      "T -> CA 10\n",
      "TC -> A 10\n",
      "G -> AC 10\n",
      "TTG ->  11\n",
      " -> TG 11\n",
      "AC ->  11\n",
      "TG -> A 11\n",
      " -> CT 15\n",
      "GG ->  17\n",
      " -> GC 18\n",
      "CA ->  18\n",
      " -> GG 19\n",
      " -> TC 20\n",
      "CG ->  23\n",
      "A -> T 24\n",
      " -> CG 24\n",
      " -> GT 24\n",
      " -> GA 24\n",
      "AT ->  25\n",
      "GA ->  25\n",
      " -> AT 26\n",
      " -> CC 26\n",
      " -> TT 27\n",
      "G -> T 27\n",
      "AG ->  28\n",
      " -> TA 29\n",
      "TC ->  29\n",
      "A -> G 30\n",
      "TA ->  32\n",
      "CT ->  33\n",
      " -> AC 35\n",
      " -> AG 37\n",
      "TT ->  37\n",
      "GC ->  37\n",
      "GT ->  43\n",
      "TG ->  44\n",
      " -> AA 44\n",
      "A -> C 46\n",
      " -> CA 48\n",
      "C -> G 51\n",
      "C -> T 58\n",
      "G -> C 225\n",
      "G -> A 253\n",
      "T -> G 299\n",
      "C -> A 326\n",
      "T -> C 334\n",
      "T -> A 345\n",
      "C ->  473\n",
      " -> T 562\n",
      "A ->  586\n",
      " -> G 645\n",
      " -> C 687\n",
      "T ->  836\n",
      " -> A 905\n",
      "G ->  1128\n"
     ]
    }
   ],
   "source": [
    "\n",
    "subs_no_pos, counts_no_pos = np.unique(pairs_no_pos, return_counts=True, axis=0)\n",
    "sorting = np.argsort(counts_no_pos)\n",
    "subs_no_pos = subs_no_pos[sorting]\n",
    "counts_no_pos = counts_no_pos[sorting]\n",
    "\n",
    "for sub, count in zip(subs_no_pos, counts_no_pos):\n",
    "    if count > 5:\n",
    "        print(\"{} -> {}\".format(sub[0], sub[1]), count)\n"
   ]
  },
  {
   "cell_type": "code",
   "execution_count": 13,
   "metadata": {},
   "outputs": [
    {
     "name": "stdout",
     "output_type": "stream",
     "text": [
      "C -> A @ 40 6\n",
      "T ->  @ 52 6\n",
      "T ->  @ 28 6\n",
      " -> A @ 66 6\n",
      "G -> C @ 54 6\n",
      " -> A @ 64 6\n",
      "T ->  @ 63 6\n",
      "T ->  @ 64 6\n",
      "T ->  @ 103 6\n",
      "T ->  @ 69 6\n",
      " -> C @ 61 6\n",
      " -> A @ 60 6\n",
      "T ->  @ 48 6\n",
      " -> T @ 109 6\n",
      "T ->  @ 31 6\n",
      "T -> C @ 43 6\n",
      "T -> C @ 39 6\n",
      " -> A @ 70 6\n",
      "T -> G @ 62 6\n",
      "T -> C @ 44 6\n",
      "G ->  @ 22 6\n",
      "G ->  @ 48 6\n",
      "T ->  @ 19 6\n",
      "T -> C @ 56 6\n",
      "C ->  @ 69 6\n",
      "T ->  @ 16 6\n",
      "T ->  @ 43 6\n",
      " -> A @ 67 6\n",
      "T ->  @ 46 6\n",
      "T ->  @ 12 6\n",
      " -> C @ 14 6\n",
      "C ->  @ 49 6\n",
      "T -> C @ 61 6\n",
      "T ->  @ 82 6\n",
      "G ->  @ 15 6\n",
      " -> AG @ 54 6\n",
      "G -> A @ 58 6\n",
      "G ->  @ 44 6\n",
      "G -> A @ 54 6\n",
      "T ->  @ 9 6\n",
      "G ->  @ 100 6\n",
      " -> A @ 51 6\n",
      " -> TG @ 55 6\n",
      "G ->  @ 66 6\n",
      "G -> A @ 48 6\n",
      " -> TC @ 54 6\n",
      " -> CC @ 54 6\n",
      "G ->  @ 39 6\n",
      "C -> A @ 67 6\n",
      "T -> G @ 22 6\n",
      " -> T @ 52 6\n",
      "G ->  @ 74 6\n",
      "T -> A @ 67 6\n",
      " -> G @ 59 6\n",
      "C ->  @ 46 6\n",
      "C -> A @ 79 6\n",
      "G ->  @ 72 6\n",
      "G ->  @ 77 6\n",
      "G ->  @ 36 6\n",
      "T ->  @ 20 7\n",
      "A -> T @ 110 7\n",
      "T -> A @ 74 7\n",
      " -> GC @ 55 7\n",
      "T ->  @ 107 7\n",
      "T ->  @ 108 7\n",
      "G ->  @ 59 7\n",
      "C ->  @ 58 7\n",
      "T -> G @ 66 7\n",
      "C ->  @ 109 7\n",
      "T ->  @ 26 7\n",
      "G -> A @ 56 7\n",
      "G -> A @ 80 7\n",
      "T -> A @ 70 7\n",
      "G ->  @ 35 7\n",
      "T -> A @ 56 7\n",
      "C ->  @ 1 7\n",
      "T -> G @ 55 7\n",
      "G -> C @ 51 7\n",
      " -> G @ 2 7\n",
      "T ->  @ 98 7\n",
      "T -> C @ 31 7\n",
      "C -> A @ 55 7\n",
      "G -> C @ 56 7\n",
      "T ->  @ 60 7\n",
      "T ->  @ 36 7\n",
      "C -> A @ 57 7\n",
      "T ->  @ 65 7\n",
      " -> A @ 63 7\n",
      "G ->  @ 64 7\n",
      " -> C @ 51 7\n",
      "G ->  @ 61 7\n",
      "T ->  @ 68 7\n",
      "T ->  @ 50 7\n",
      "T ->  @ 72 7\n",
      "G ->  @ 60 7\n",
      "T ->  @ 90 7\n",
      " -> T @ 58 7\n",
      "G -> T @ 110 7\n",
      " -> A @ 69 7\n",
      "T ->  @ 40 7\n",
      "T ->  @ 87 7\n",
      "G ->  @ 80 7\n",
      " -> A @ 38 8\n",
      "T ->  @ 75 8\n",
      "G ->  @ 29 8\n",
      "C -> A @ 56 8\n",
      "G ->  @ 53 8\n",
      "T ->  @ 39 8\n",
      "T ->  @ 18 8\n",
      "T ->  @ 59 8\n",
      "G ->  @ 33 8\n",
      "T ->  @ 84 8\n",
      "T ->  @ 53 8\n",
      " -> A @ 76 8\n",
      "T ->  @ 51 8\n",
      "T ->  @ 89 8\n",
      "T ->  @ 30 8\n",
      "G ->  @ 40 8\n",
      " -> GA @ 55 8\n",
      " -> A @ 35 9\n",
      " -> G @ 1 9\n",
      " -> A @ 81 9\n",
      "G ->  @ 50 9\n",
      "T ->  @ 61 9\n",
      "G -> A @ 55 9\n",
      " -> C @ 2 9\n",
      "T ->  @ 66 9\n",
      "T ->  @ 70 9\n",
      "T ->  @ 73 9\n",
      "T ->  @ 45 9\n",
      "T ->  @ 41 9\n",
      "T ->  @ 58 9\n",
      "T ->  @ 62 10\n",
      "T ->  @ 23 10\n",
      "T ->  @ 67 10\n",
      "G ->  @ 52 10\n",
      " -> A @ 58 11\n",
      " -> A @ 2 11\n",
      "A -> G @ 110 11\n",
      " -> TC @ 55 11\n",
      "T ->  @ 109 11\n",
      "A ->  @ 57 11\n",
      " -> TT @ 55 11\n",
      " -> C @ 58 11\n",
      " -> AG @ 55 11\n",
      " -> CC @ 55 12\n",
      "G ->  @ 108 12\n",
      " -> GG @ 55 12\n",
      " -> AC @ 55 13\n",
      " -> C @ 52 13\n",
      "C ->  @ 54 13\n",
      " -> AT @ 55 13\n",
      "T ->  @ 32 13\n",
      "T ->  @ 33 13\n",
      "G ->  @ 109 13\n",
      " -> CG @ 55 13\n",
      " -> C @ 109 14\n",
      " -> GT @ 55 14\n",
      "T ->  @ 3 15\n",
      " -> AA @ 55 15\n",
      " -> TA @ 55 15\n",
      "C ->  @ 57 15\n",
      "G ->  @ 54 16\n",
      " -> CA @ 55 16\n",
      " -> G @ 0 16\n",
      "T ->  @ 2 17\n",
      " -> C @ 1 17\n",
      " -> A @ 52 17\n",
      " -> T @ 57 18\n",
      "T ->  @ 1 18\n",
      "G -> C @ 110 18\n",
      "A ->  @ 54 19\n",
      "T ->  @ 54 19\n",
      "T ->  @ 57 19\n",
      " -> G @ 52 19\n",
      " -> C @ 0 20\n",
      "A -> C @ 110 20\n",
      " -> G @ 57 21\n",
      " -> C @ 57 23\n",
      "G -> A @ 110 24\n",
      " -> G @ 109 24\n",
      " -> C @ 54 24\n",
      "G ->  @ 57 25\n",
      " -> A @ 109 26\n",
      " -> A @ 0 26\n",
      " -> A @ 57 27\n",
      " -> G @ 54 29\n",
      "C -> G @ 110 30\n",
      "C -> T @ 110 34\n",
      "A ->  @ 56 35\n",
      " -> T @ 54 35\n",
      "T ->  @ 55 36\n",
      " -> G @ 53 36\n",
      " -> C @ 53 37\n",
      " -> A @ 53 38\n",
      " -> A @ 54 38\n",
      " -> A @ 1 39\n",
      "T ->  @ 56 39\n",
      "G ->  @ 56 40\n",
      "C ->  @ 56 45\n",
      " -> T @ 53 46\n",
      "A ->  @ 55 50\n",
      " -> G @ 56 52\n",
      "C ->  @ 55 55\n",
      " -> C @ 56 59\n",
      "G ->  @ 55 60\n",
      " -> T @ 56 65\n",
      " -> A @ 56 73\n",
      "C ->  @ 110 77\n",
      "T -> G @ 110 88\n",
      "T -> C @ 110 99\n",
      "C -> A @ 110 106\n",
      "T ->  @ 110 110\n",
      "T -> A @ 110 120\n",
      " -> C @ 55 262\n",
      " -> A @ 55 293\n",
      " -> T @ 55 299\n",
      " -> G @ 55 302\n",
      "A ->  @ 110 346\n",
      "G ->  @ 110 572\n",
      "[62, 97, 52, 30, 15, 14, 11, 15, 19, 23, 19, 20, 23, 21, 29, 27, 30, 18, 28, 31, 23, 31, 38, 40, 39, 32, 43, 34, 31, 51, 50, 56, 45, 71, 47, 56, 44, 50, 36, 52, 55, 49, 43, 55, 57, 48, 53, 59, 60, 53, 72, 73, 117, 253, 325, 1708, 537, 231, 119, 91, 73, 74, 73, 71, 78, 66, 83, 57, 65, 66, 57, 46, 47, 56, 51, 45, 45, 55, 47, 42, 48, 58, 43, 28, 47, 47, 33, 46, 37, 35, 37, 36, 21, 37, 24, 31, 23, 30, 26, 20, 28, 20, 24, 23, 26, 19, 18, 23, 38, 112, 1692]\n"
     ]
    },
    {
     "data": {
      "image/png": "[encoded data removed]",
      "text/plain": [
       "<Figure size 432x288 with 1 Axes>"
      ]
     },
     "metadata": {
      "needs_background": "light"
     },
     "output_type": "display_data"
    }
   ],
   "source": [
    "subs, counts = np.unique(pairs, return_counts=True, axis=0)\n",
    "sorting = np.argsort(counts)\n",
    "subs = subs[sorting]\n",
    "counts = counts[sorting]\n",
    "\n",
    "for sub, count in zip(subs, counts):\n",
    "    if count > 5:\n",
    "        print(\"{} -> {} @ {}\".format(sub[0], sub[1], sub[2]), count)\n",
    "\n",
    "strand_len = 110\n",
    "pos_counts = [0] * (strand_len + 1)\n",
    "for sub, count in zip(subs, counts):\n",
    "    pos_counts[int(sub[2])] += count\n",
    "\n",
    "print(pos_counts)\n",
    "\n",
    "f = plt.figure()\n",
    "plt.plot(range(strand_len + 1), pos_counts)\n",
    "plt.title(r'Aligned Error; BMA; N = 6', fontsize=11)\n",
    "plt.xlabel(r'Strand Position', fontsize=11)\n",
    "plt.ylabel(r'No. of Errors', fontsize=11)\n",
    "plt.show()\n",
    "f.savefig('cov6-sab-bma-aligned.pdf', bbox_inches='tight')"
   ]
  },
  {
   "cell_type": "code",
   "execution_count": 14,
   "metadata": {},
   "outputs": [],
   "source": [
    "subs, counts = np.unique(pairs, return_counts=True, axis=0)\n",
    "sorting = np.argsort(counts)\n",
    "subs = subs[sorting]\n",
    "counts = counts[sorting]\n"
   ]
  },
  {
   "cell_type": "code",
   "execution_count": 15,
   "metadata": {},
   "outputs": [],
   "source": [
    "def get_key(char1, char2):\n",
    "    char1 = char1 if char1 != '' else '_'\n",
    "    char2 = char2 if char2 != '' else '_'\n",
    "    return char1 + ' -> ' + char2\n",
    "\n",
    "strand_len = 110\n",
    "pos_map = {}\n",
    "pos_counts = [0] * (strand_len + 1)\n",
    "for sub, count in zip(subs, counts):\n",
    "    key = get_key(sub[0], sub[1])\n",
    "    if key not in pos_map:\n",
    "        pos_map[key] = [0] * (strand_len + 1)\n",
    "    pos_map[key][int(sub[2])] += count"
   ]
  },
  {
   "cell_type": "code",
   "execution_count": 16,
   "metadata": {},
   "outputs": [],
   "source": [
    "sub_keys = [get_key(sub[0], sub[1]) for sub in subs_no_pos]\n",
    "max_10_keys = sub_keys[-10:]\n",
    "max_10_counts = counts_no_pos[-10:]\n"
   ]
  },
  {
   "cell_type": "code",
   "execution_count": 17,
   "metadata": {},
   "outputs": [
    {
     "name": "stdout",
     "output_type": "stream",
     "text": [
      "[0, 1, 1, 0, 1, 2, 2, 5, 3, 2, 3, 2, 1, 2, 4, 6, 5, 1, 2, 5, 3, 2, 6, 5, 1, 5, 2, 2, 1, 8, 5, 5, 3, 8, 4, 7, 6, 4, 2, 6, 8, 5, 4, 4, 6, 5, 1, 3, 6, 5, 9, 3, 10, 8, 16, 60, 40, 25, 5, 7, 7, 7, 1, 2, 7, 4, 6, 1, 5, 5, 4, 2, 6, 5, 6, 0, 3, 6, 1, 5, 7, 3, 4, 4, 3, 4, 0, 5, 2, 5, 5, 3, 0, 3, 0, 4, 1, 4, 1, 4, 6, 2, 1, 1, 4, 3, 2, 4, 12, 13, 572]\n",
      "[26, 39, 11, 1, 1, 1, 1, 0, 2, 2, 3, 3, 4, 3, 5, 4, 1, 1, 2, 1, 1, 4, 3, 2, 3, 5, 2, 2, 2, 2, 5, 5, 2, 4, 2, 9, 3, 3, 8, 0, 4, 1, 3, 2, 3, 3, 1, 5, 5, 3, 4, 6, 17, 38, 38, 293, 73, 27, 11, 4, 6, 4, 2, 7, 6, 3, 6, 6, 5, 7, 6, 1, 4, 1, 1, 0, 8, 5, 0, 3, 3, 9, 2, 3, 1, 4, 4, 5, 2, 3, 4, 4, 4, 4, 0, 1, 1, 1, 2, 1, 2, 2, 2, 3, 0, 2, 2, 1, 5, 26, 2]\n",
      "[0, 18, 17, 15, 2, 2, 0, 1, 4, 6, 2, 5, 6, 1, 4, 3, 6, 4, 8, 6, 7, 4, 0, 10, 5, 2, 7, 4, 6, 4, 8, 6, 13, 13, 5, 3, 7, 5, 3, 8, 7, 9, 3, 6, 5, 9, 6, 4, 6, 4, 7, 8, 6, 8, 19, 36, 39, 19, 9, 8, 7, 9, 10, 6, 6, 7, 9, 10, 7, 6, 9, 5, 7, 9, 5, 8, 5, 5, 4, 1, 4, 4, 6, 2, 8, 4, 4, 7, 4, 8, 7, 2, 4, 5, 4, 3, 3, 5, 7, 2, 4, 4, 4, 6, 4, 1, 2, 7, 7, 11, 110]\n",
      "[20, 17, 9, 1, 2, 0, 1, 1, 0, 1, 2, 2, 1, 0, 6, 1, 2, 1, 2, 1, 2, 0, 0, 0, 5, 2, 0, 2, 3, 4, 2, 1, 0, 2, 1, 1, 5, 0, 1, 2, 1, 3, 2, 0, 1, 5, 1, 3, 2, 5, 4, 7, 13, 37, 24, 262, 59, 23, 11, 4, 3, 6, 1, 3, 4, 3, 2, 2, 3, 4, 1, 3, 0, 1, 1, 4, 1, 4, 3, 2, 3, 1, 4, 1, 4, 3, 2, 3, 3, 1, 0, 1, 3, 2, 1, 1, 3, 2, 3, 0, 0, 0, 1, 2, 0, 1, 0, 2, 3, 14, 2]\n",
      "[16, 9, 7, 2, 0, 2, 0, 1, 1, 0, 1, 0, 1, 0, 0, 1, 3, 0, 0, 0, 2, 1, 2, 1, 2, 1, 3, 0, 2, 2, 4, 0, 0, 2, 3, 2, 4, 3, 0, 1, 0, 2, 2, 3, 0, 1, 3, 2, 2, 0, 1, 3, 19, 36, 29, 302, 52, 21, 2, 6, 3, 5, 1, 1, 2, 3, 3, 0, 2, 0, 1, 1, 0, 0, 1, 2, 0, 1, 0, 0, 2, 1, 0, 1, 1, 3, 2, 0, 1, 0, 1, 3, 1, 0, 0, 1, 1, 0, 0, 0, 2, 2, 2, 2, 3, 0, 0, 0, 0, 24, 1]\n",
      "[0, 0, 0, 0, 2, 0, 0, 0, 1, 0, 0, 1, 1, 1, 0, 1, 0, 0, 2, 1, 2, 1, 3, 1, 0, 0, 1, 1, 1, 2, 1, 4, 1, 0, 1, 0, 1, 2, 1, 2, 2, 0, 1, 0, 2, 2, 2, 4, 0, 1, 1, 2, 2, 3, 19, 50, 35, 11, 4, 0, 1, 1, 2, 3, 2, 1, 4, 3, 0, 0, 0, 0, 0, 4, 1, 0, 1, 0, 3, 0, 1, 3, 2, 0, 1, 3, 0, 1, 1, 1, 2, 1, 1, 1, 0, 1, 2, 0, 1, 1, 3, 1, 0, 1, 1, 0, 1, 3, 2, 3, 346]\n",
      "[0, 2, 0, 0, 1, 0, 0, 0, 1, 0, 2, 0, 0, 1, 0, 1, 0, 1, 1, 0, 0, 0, 0, 2, 2, 1, 0, 0, 0, 1, 1, 0, 2, 1, 1, 1, 1, 0, 2, 2, 2, 2, 0, 0, 0, 0, 2, 1, 0, 2, 2, 1, 6, 46, 35, 299, 65, 18, 7, 5, 3, 2, 0, 1, 2, 0, 0, 2, 1, 0, 1, 0, 3, 0, 2, 1, 0, 0, 1, 1, 1, 1, 1, 1, 0, 0, 1, 0, 0, 0, 2, 1, 0, 2, 3, 0, 0, 0, 0, 0, 0, 0, 0, 0, 0, 0, 0, 1, 1, 6, 1]\n",
      "[0, 7, 3, 4, 1, 2, 2, 2, 1, 3, 1, 5, 3, 3, 2, 0, 1, 1, 2, 2, 1, 2, 3, 2, 3, 5, 4, 1, 2, 1, 3, 5, 4, 5, 1, 5, 0, 1, 0, 1, 4, 2, 0, 1, 0, 1, 6, 3, 2, 6, 5, 4, 2, 5, 13, 55, 45, 15, 7, 3, 1, 2, 5, 4, 5, 2, 4, 2, 4, 6, 2, 1, 1, 2, 1, 1, 1, 5, 3, 5, 1, 4, 2, 1, 5, 1, 2, 2, 2, 1, 2, 3, 2, 1, 2, 5, 3, 3, 0, 5, 0, 1, 2, 0, 1, 2, 3, 1, 2, 7, 77]\n",
      "[0, 1, 1, 1, 1, 2, 2, 1, 0, 0, 1, 0, 0, 1, 0, 2, 3, 2, 2, 1, 0, 5, 3, 2, 3, 1, 3, 4, 2, 2, 1, 2, 1, 2, 2, 3, 3, 2, 2, 1, 0, 4, 1, 3, 2, 2, 5, 4, 5, 3, 1, 4, 2, 1, 2, 3, 7, 4, 2, 3, 1, 3, 4, 2, 2, 3, 4, 6, 3, 0, 7, 3, 2, 2, 7, 0, 3, 4, 5, 1, 2, 4, 0, 0, 3, 2, 0, 2, 1, 2, 1, 0, 0, 3, 4, 1, 2, 1, 0, 0, 1, 0, 1, 2, 3, 2, 2, 0, 1, 0, 120]\n",
      "[0, 1, 2, 0, 2, 0, 0, 1, 0, 1, 0, 0, 1, 2, 1, 3, 0, 1, 0, 1, 0, 1, 2, 2, 2, 3, 4, 2, 1, 4, 4, 7, 0, 3, 2, 4, 4, 5, 1, 6, 1, 2, 3, 6, 6, 3, 1, 1, 2, 3, 5, 1, 4, 2, 1, 5, 6, 1, 5, 4, 1, 6, 5, 2, 5, 5, 4, 2, 2, 4, 1, 3, 3, 1, 1, 4, 1, 3, 3, 1, 1, 3, 1, 2, 4, 1, 3, 1, 0, 2, 0, 2, 0, 0, 3, 2, 1, 4, 2, 1, 1, 2, 1, 0, 1, 0, 1, 2, 2, 0, 99]\n"
     ]
    },
    {
     "data": {
      "image/png": "[encoded data removed]",
      "text/plain": [
       "<Figure size 432x288 with 1 Axes>"
      ]
     },
     "metadata": {
      "needs_background": "light"
     },
     "output_type": "display_data"
    },
    {
     "data": {
      "image/png": "[encoded data removed]",
      "text/plain": [
       "<Figure size 432x288 with 1 Axes>"
      ]
     },
     "metadata": {
      "needs_background": "light"
     },
     "output_type": "display_data"
    },
    {
     "data": {
      "image/png": "[encoded data removed]",
      "text/plain": [
       "<Figure size 432x288 with 1 Axes>"
      ]
     },
     "metadata": {
      "needs_background": "light"
     },
     "output_type": "display_data"
    },
    {
     "data": {
      "image/png": "[encoded data removed]",
      "text/plain": [
       "<Figure size 432x288 with 1 Axes>"
      ]
     },
     "metadata": {
      "needs_background": "light"
     },
     "output_type": "display_data"
    },
    {
     "data": {
      "image/png": "[encoded data removed]",
      "text/plain": [
       "<Figure size 432x288 with 1 Axes>"
      ]
     },
     "metadata": {
      "needs_background": "light"
     },
     "output_type": "display_data"
    },
    {
     "data": {
      "image/png": "[encoded data removed]",
      "text/plain": [
       "<Figure size 432x288 with 1 Axes>"
      ]
     },
     "metadata": {
      "needs_background": "light"
     },
     "output_type": "display_data"
    },
    {
     "data": {
      "image/png": "[encoded data removed]",
      "text/plain": [
       "<Figure size 432x288 with 1 Axes>"
      ]
     },
     "metadata": {
      "needs_background": "light"
     },
     "output_type": "display_data"
    },
    {
     "data": {
      "image/png": "[encoded data removed]",
      "text/plain": [
       "<Figure size 432x288 with 1 Axes>"
      ]
     },
     "metadata": {
      "needs_background": "light"
     },
     "output_type": "display_data"
    },
    {
     "data": {
      "image/png": "[encoded data removed]",
      "text/plain": [
       "<Figure size 432x288 with 1 Axes>"
      ]
     },
     "metadata": {
      "needs_background": "light"
     },
     "output_type": "display_data"
    },
    {
     "data": {
      "image/png": "[encoded data removed]",
      "text/plain": [
       "<Figure size 432x288 with 1 Axes>"
      ]
     },
     "metadata": {
      "needs_background": "light"
     },
     "output_type": "display_data"
    }
   ],
   "source": [
    "for key, count in zip(reversed(max_10_keys), reversed(max_10_counts)):\n",
    "    plt.figure(key)\n",
    "    print(pos_map[key])\n",
    "    plt.plot(range(strand_len + 1), pos_map[key])"
   ]
  },
  {
   "cell_type": "code",
   "execution_count": 18,
   "metadata": {},
   "outputs": [],
   "source": [
    "np.save('subs.npy', subs)\n",
    "np.save('counts.npy', counts)"
   ]
  }
 ],
 "metadata": {
  "interpreter": {
   "hash": "aee8b7b246df8f9039afb4144a1f6fd8d2ca17a180786b69acc140d282b71a49"
  },
  "kernelspec": {
   "display_name": "Python 3.9.10 64-bit",
   "language": "python",
   "name": "python3"
  },
  "language_info": {
   "codemirror_mode": {
    "name": "ipython",
    "version": 3
   },
   "file_extension": ".py",
   "mimetype": "text/x-python",
   "name": "python",
   "nbconvert_exporter": "python",
   "pygments_lexer": "ipython3",
   "version": "3.9.10"
  },
  "orig_nbformat": 4
 },
 "nbformat": 4,
 "nbformat_minor": 2
}
