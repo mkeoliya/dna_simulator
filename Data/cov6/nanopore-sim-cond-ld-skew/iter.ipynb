{
 "cells": [
  {
   "cell_type": "code",
   "execution_count": 1,
   "metadata": {},
   "outputs": [],
   "source": [
    "import pandas as pd"
   ]
  },
  {
   "cell_type": "code",
   "execution_count": 2,
   "metadata": {},
   "outputs": [],
   "source": [
    "\n",
    "df = pd.read_csv('recons-iter.csv')\n"
   ]
  },
  {
   "cell_type": "code",
   "execution_count": 3,
   "metadata": {},
   "outputs": [
    {
     "data": {
      "text/html": [
       "<div>\n",
       "<style scoped>\n",
       "    .dataframe tbody tr th:only-of-type {\n",
       "        vertical-align: middle;\n",
       "    }\n",
       "\n",
       "    .dataframe tbody tr th {\n",
       "        vertical-align: top;\n",
       "    }\n",
       "\n",
       "    .dataframe thead th {\n",
       "        text-align: right;\n",
       "    }\n",
       "</style>\n",
       "<table border=\"1\" class=\"dataframe\">\n",
       "  <thead>\n",
       "    <tr style=\"text-align: right;\">\n",
       "      <th></th>\n",
       "      <th>Refs</th>\n",
       "      <th>Reads</th>\n",
       "    </tr>\n",
       "  </thead>\n",
       "  <tbody>\n",
       "    <tr>\n",
       "      <th>0</th>\n",
       "      <td>ACCATAATGCGTGGGGCCGACCTCGGAATGCGGTCTCCATGCGCGT...</td>\n",
       "      <td>ACCATAATGCGTGGGGCCGACCTCGGAATGCGGTCTCCATGCGCGT...</td>\n",
       "    </tr>\n",
       "    <tr>\n",
       "      <th>1</th>\n",
       "      <td>TCGAAGCAGTAGGGCCTACCAAATAGGTTGGTCCTCCGTTGTATCT...</td>\n",
       "      <td>TCGAAGCAGTAGGGCCTACCAAATAGGTTGGTCCTCCGTTGTATCT...</td>\n",
       "    </tr>\n",
       "    <tr>\n",
       "      <th>2</th>\n",
       "      <td>AGTTAACGTCCCACGGCGAGGCACTCTTGATCCCCACCTTCAAGAG...</td>\n",
       "      <td>AGTTAACGTCCCACGGCGAGGCACTCTTGATCCCCACCTTCAAGAG...</td>\n",
       "    </tr>\n",
       "    <tr>\n",
       "      <th>3</th>\n",
       "      <td>GCCCAAGGGTACGCCCGCAGCGACGCAATTGGCGGAGTAAGCGCGT...</td>\n",
       "      <td>GCCCAAGGGTACGCCCGCAGCGACGCAAATTGGCGGAGTAAGCGCG...</td>\n",
       "    </tr>\n",
       "    <tr>\n",
       "      <th>4</th>\n",
       "      <td>GCACTGATGTAACTCATGGTACATCCGTCGCTGAGCGCCATTTTGT...</td>\n",
       "      <td>GCACTGATGTAACTCATGGTACATCCGTCGCTGAGCGCCATTTTGT...</td>\n",
       "    </tr>\n",
       "    <tr>\n",
       "      <th>...</th>\n",
       "      <td>...</td>\n",
       "      <td>...</td>\n",
       "    </tr>\n",
       "    <tr>\n",
       "      <th>9995</th>\n",
       "      <td>GCATGATTTGGAAGGTCGGCACTATACCCACCCAGGGTATATGGTC...</td>\n",
       "      <td>GCATGATTTGGAAGGTCGGCACTATACCCACCCAGGGTATATGGTC...</td>\n",
       "    </tr>\n",
       "    <tr>\n",
       "      <th>9996</th>\n",
       "      <td>GAAGTTTGGAACGTGTTCGTCCGCCAATTAAGGTTGGCTTCTAGTA...</td>\n",
       "      <td>GAAGTTTGGAACGTGTTCGTCCGCCAATTAAGGTTGGCTTCTAGTA...</td>\n",
       "    </tr>\n",
       "    <tr>\n",
       "      <th>9997</th>\n",
       "      <td>TGCATCCCGGACAACCGCAAGGGTGCATGGGCACCGCAATTCCCAA...</td>\n",
       "      <td>TGCATCCCGGACAACCGCAAGGGTGCATGGGCACCGCAATTCCCAA...</td>\n",
       "    </tr>\n",
       "    <tr>\n",
       "      <th>9998</th>\n",
       "      <td>ACTGGACGTCCTATGCTGGCATAATGAAACGACAACCTGTCTTCGA...</td>\n",
       "      <td>ACTGGACGTCCTATGCTGGCATAATGAAACGACAACCTGTCTTCGA...</td>\n",
       "    </tr>\n",
       "    <tr>\n",
       "      <th>9999</th>\n",
       "      <td>ATCGTGGTATCCCTCCAACCCGAATGACCTGGCGAGGCAGATCAAC...</td>\n",
       "      <td>ATCGTGGTATCCCTCCAACCCGAATGACCTGGCGAGGCAGATCAAC...</td>\n",
       "    </tr>\n",
       "  </tbody>\n",
       "</table>\n",
       "<p>10000 rows × 2 columns</p>\n",
       "</div>"
      ],
      "text/plain": [
       "                                                   Refs  \\\n",
       "0     ACCATAATGCGTGGGGCCGACCTCGGAATGCGGTCTCCATGCGCGT...   \n",
       "1     TCGAAGCAGTAGGGCCTACCAAATAGGTTGGTCCTCCGTTGTATCT...   \n",
       "2     AGTTAACGTCCCACGGCGAGGCACTCTTGATCCCCACCTTCAAGAG...   \n",
       "3     GCCCAAGGGTACGCCCGCAGCGACGCAATTGGCGGAGTAAGCGCGT...   \n",
       "4     GCACTGATGTAACTCATGGTACATCCGTCGCTGAGCGCCATTTTGT...   \n",
       "...                                                 ...   \n",
       "9995  GCATGATTTGGAAGGTCGGCACTATACCCACCCAGGGTATATGGTC...   \n",
       "9996  GAAGTTTGGAACGTGTTCGTCCGCCAATTAAGGTTGGCTTCTAGTA...   \n",
       "9997  TGCATCCCGGACAACCGCAAGGGTGCATGGGCACCGCAATTCCCAA...   \n",
       "9998  ACTGGACGTCCTATGCTGGCATAATGAAACGACAACCTGTCTTCGA...   \n",
       "9999  ATCGTGGTATCCCTCCAACCCGAATGACCTGGCGAGGCAGATCAAC...   \n",
       "\n",
       "                                                  Reads  \n",
       "0     ACCATAATGCGTGGGGCCGACCTCGGAATGCGGTCTCCATGCGCGT...  \n",
       "1     TCGAAGCAGTAGGGCCTACCAAATAGGTTGGTCCTCCGTTGTATCT...  \n",
       "2     AGTTAACGTCCCACGGCGAGGCACTCTTGATCCCCACCTTCAAGAG...  \n",
       "3     GCCCAAGGGTACGCCCGCAGCGACGCAAATTGGCGGAGTAAGCGCG...  \n",
       "4     GCACTGATGTAACTCATGGTACATCCGTCGCTGAGCGCCATTTTGT...  \n",
       "...                                                 ...  \n",
       "9995  GCATGATTTGGAAGGTCGGCACTATACCCACCCAGGGTATATGGTC...  \n",
       "9996  GAAGTTTGGAACGTGTTCGTCCGCCAATTAAGGTTGGCTTCTAGTA...  \n",
       "9997  TGCATCCCGGACAACCGCAAGGGTGCATGGGCACCGCAATTCCCAA...  \n",
       "9998  ACTGGACGTCCTATGCTGGCATAATGAAACGACAACCTGTCTTCGA...  \n",
       "9999  ATCGTGGTATCCCTCCAACCCGAATGACCTGGCGAGGCAGATCAAC...  \n",
       "\n",
       "[10000 rows x 2 columns]"
      ]
     },
     "execution_count": 3,
     "metadata": {},
     "output_type": "execute_result"
    }
   ],
   "source": [
    "df\n"
   ]
  },
  {
   "cell_type": "code",
   "execution_count": 4,
   "metadata": {},
   "outputs": [],
   "source": [
    "from tqdm import tqdm\n"
   ]
  },
  {
   "cell_type": "code",
   "execution_count": 5,
   "metadata": {},
   "outputs": [],
   "source": [
    "noisy_strands = [s.strip() for s in list(df['Reads'])]\n"
   ]
  },
  {
   "cell_type": "code",
   "execution_count": 6,
   "metadata": {},
   "outputs": [],
   "source": [
    "ref_strands = [s.strip() for s in list(df['Refs'])]\n"
   ]
  },
  {
   "cell_type": "code",
   "execution_count": 7,
   "metadata": {},
   "outputs": [],
   "source": [
    "import difflib\n"
   ]
  },
  {
   "cell_type": "code",
   "execution_count": 8,
   "metadata": {},
   "outputs": [],
   "source": [
    "def print_diff(ref_strand, recons_strand):\n",
    "    global pairs\n",
    "    global pairs_no_pos\n",
    "    a, b = 0, 0\n",
    "\n",
    "    # quadratic time, no heuristics\n",
    "    for match in difflib.SequenceMatcher(None, ref_strand, recons_strand, autojunk=False).get_matching_blocks():\n",
    "        was = ref_strand[a:match.a]\n",
    "        now = recons_strand[b:match.b]\n",
    "        \n",
    "        a = match.a + match.size\n",
    "        b = match.b + match.size\n",
    "        \n",
    "        if was == '' and now == '':\n",
    "            pass\n",
    "        else:\n",
    "            # print('{}|{}'.format(was, now), end=', ')\n",
    "            pairs += [(was, now, match.a)]\n",
    "            pairs_no_pos += [(was, now)]\n",
    "\n",
    "\n",
    "            \n",
    "        \n",
    "    #print('')\n"
   ]
  },
  {
   "cell_type": "code",
   "execution_count": 9,
   "metadata": {},
   "outputs": [
    {
     "name": "stdout",
     "output_type": "stream",
     "text": [
      "[1, 1, 1, 1, 0]\n",
      "Match(a=0, b=1, size=3)  T 0\n",
      "Match(a=4, b=4, size=0) T  4\n"
     ]
    }
   ],
   "source": [
    "# AGCT\n",
    "# TAGC\n",
    "\n",
    "# SM: (0, _ -> T), (4, _ -> T)\n",
    "# Prof: (0, 1, 2, 3)\n",
    "\n",
    "count_pos = [0] * 5\n",
    "def print_diff2(ref_strand, recons_strand):\n",
    "    for i, (c1, c2) in enumerate(zip(ref_strand, recons_strand)):\n",
    "        if c1 != c2:\n",
    "            count_pos[i] += 1\n",
    "print_diff2(\"AGCT\", \"TAGC\")\n",
    "print(count_pos)\n",
    "\n",
    "ref_strand = \"AGCT\"\n",
    "recons_strand = \"TAGC\"\n",
    "a = 0\n",
    "b = 0\n",
    "for match in difflib.SequenceMatcher(None, ref_strand, recons_strand, autojunk=False).get_matching_blocks():\n",
    "    was = ref_strand[a:match.a]\n",
    "    now = recons_strand[b:match.b]\n",
    "\n",
    "    a = match.a + match.size\n",
    "    b = match.b + match.size\n",
    "\n",
    "    print(match, was, now, match.a)\n",
    "\n",
    "\n",
    "    if was == '' and now == '':\n",
    "        pass\n",
    "    else:\n",
    "        pass\n",
    "        # print('{}|{}'.format(was, now), end=', ')\n",
    "        # pairs += [(was, now, match.a)]\n",
    "        # pairs_no_pos += [(was, now)]\n"
   ]
  },
  {
   "cell_type": "code",
   "execution_count": 10,
   "metadata": {},
   "outputs": [
    {
     "name": "stderr",
     "output_type": "stream",
     "text": [
      "100%|██████████| 10000/10000 [00:00<00:00, 283027.92it/s]\n"
     ]
    },
    {
     "name": "stdout",
     "output_type": "stream",
     "text": [
      "[33, 88, 92, 97, 105, 117, 136, 138, 158, 146, 152, 173, 174, 187, 180, 210, 205, 221, 214, 232, 239, 258, 261, 277, 270, 293, 298, 301, 311, 321, 315, 328, 342, 353, 377, 370, 408, 382, 403, 429, 443, 432, 453, 451, 468, 463, 486, 477, 490, 505, 498, 524, 515, 518, 529, 558, 550, 569, 603, 582, 621, 616, 614, 623, 645, 642, 634, 666, 680, 684, 697, 698, 707, 720, 741, 743, 744, 765, 765, 783, 758, 780, 809, 830, 822, 838, 831, 826, 862, 851, 864, 896, 909, 918, 922, 923, 927, 930, 939, 963, 933, 989, 1009, 1004, 1013, 1005, 1048, 1026, 1042, 2121, 0]\n"
     ]
    },
    {
     "data": {
      "image/png": "[encoded data removed]",
      "text/plain": [
       "<Figure size 432x288 with 1 Axes>"
      ]
     },
     "metadata": {
      "needs_background": "light"
     },
     "output_type": "display_data"
    }
   ],
   "source": [
    "strand_len = 110\n",
    "count_pos = [0] * (strand_len + 1)\n",
    "\n",
    "def print_diff2(ref_strand, recons_strand):\n",
    "    for i, (c1, c2) in enumerate(zip(ref_strand, recons_strand)):\n",
    "        if c1 != c2:\n",
    "            count_pos[i] += 1\n",
    "\n",
    "for i in tqdm(range(len(ref_strands))):\n",
    "    if ref_strands[i] != noisy_strands[i]:\n",
    "        #print(i, end=': ')\n",
    "        print_diff2(ref_strands[i], noisy_strands[i])\n",
    "\n",
    "import matplotlib.pyplot as plt\n",
    "plt.plot(range(strand_len + 1), count_pos)\n",
    "print(count_pos)\n"
   ]
  },
  {
   "cell_type": "code",
   "execution_count": 11,
   "metadata": {},
   "outputs": [
    {
     "name": "stderr",
     "output_type": "stream",
     "text": [
      "100%|██████████| 10000/10000 [00:02<00:00, 4573.56it/s]\n"
     ]
    }
   ],
   "source": [
    "pairs = []\n",
    "pairs_no_pos = []\n",
    "for i in tqdm(range(len(ref_strands))):\n",
    "    if ref_strands[i] != noisy_strands[i]:\n",
    "        #print(i, end=': ')\n",
    "        print_diff(ref_strands[i], noisy_strands[i])"
   ]
  },
  {
   "cell_type": "code",
   "execution_count": 12,
   "metadata": {},
   "outputs": [],
   "source": [
    "import numpy as np\n"
   ]
  },
  {
   "cell_type": "code",
   "execution_count": 13,
   "metadata": {},
   "outputs": [],
   "source": [
    "subs_no_pos, counts_no_pos = np.unique(pairs_no_pos, return_counts=True, axis=0)\n",
    "sorting = np.argsort(counts_no_pos)\n",
    "subs_no_pos = subs_no_pos[sorting]\n",
    "counts_no_pos = counts_no_pos[sorting]"
   ]
  },
  {
   "cell_type": "code",
   "execution_count": 14,
   "metadata": {},
   "outputs": [
    {
     "name": "stdout",
     "output_type": "stream",
     "text": [
      "G -> A 13\n",
      "G -> T 15\n",
      "A -> G 17\n",
      "G -> C 17\n",
      "C -> A 17\n",
      "C -> T 18\n",
      "T -> G 18\n",
      "A -> C 18\n",
      "T -> A 20\n",
      "C -> G 20\n",
      "T -> C 21\n",
      "A -> T 21\n",
      "G ->  43\n",
      "C ->  50\n",
      "A ->  50\n",
      "T ->  65\n",
      " -> A 546\n",
      " -> C 637\n",
      " -> G 655\n",
      " -> T 681\n"
     ]
    }
   ],
   "source": [
    "for sub, count in zip(subs_no_pos, counts_no_pos):\n",
    "    if count > 5:\n",
    "        print(\"{} -> {}\".format(sub[0], sub[1]), count)"
   ]
  },
  {
   "cell_type": "code",
   "execution_count": 15,
   "metadata": {},
   "outputs": [],
   "source": [
    "subs, counts = np.unique(pairs, return_counts=True, axis=0)\n",
    "sorting = np.argsort(counts)\n",
    "subs = subs[sorting]\n",
    "counts = counts[sorting]\n"
   ]
  },
  {
   "cell_type": "code",
   "execution_count": 16,
   "metadata": {},
   "outputs": [
    {
     "name": "stdout",
     "output_type": "stream",
     "text": [
      " -> G @ 5 6\n",
      " -> G @ 80 6\n",
      " -> C @ 20 6\n",
      " -> C @ 21 6\n",
      " -> C @ 33 6\n",
      " -> C @ 71 6\n",
      " -> C @ 73 6\n",
      " -> C @ 8 6\n",
      " -> C @ 88 6\n",
      " -> C @ 89 6\n",
      " -> G @ 105 6\n",
      " -> A @ 88 6\n",
      " -> G @ 64 6\n",
      " -> G @ 67 6\n",
      " -> G @ 82 6\n",
      " -> G @ 99 6\n",
      " -> A @ 82 6\n",
      " -> C @ 11 6\n",
      " -> T @ 96 6\n",
      " -> T @ 86 6\n",
      " -> T @ 98 6\n",
      " -> T @ 27 6\n",
      " -> T @ 89 6\n",
      " -> T @ 75 6\n",
      " -> T @ 34 6\n",
      " -> G @ 63 7\n",
      " -> G @ 108 7\n",
      " -> T @ 20 7\n",
      " -> T @ 70 7\n",
      " -> T @ 92 7\n",
      " -> G @ 88 7\n",
      " -> G @ 91 7\n",
      " -> G @ 95 7\n",
      " -> T @ 11 7\n",
      " -> A @ 39 7\n",
      " -> C @ 38 7\n",
      " -> A @ 1 8\n",
      " -> G @ 102 8\n",
      " -> C @ 69 9\n",
      " -> G @ 106 10\n",
      "C -> A @ 110 12\n",
      "G -> A @ 110 12\n",
      "G -> T @ 110 12\n",
      " -> C @ 1 13\n",
      " -> T @ 1 13\n",
      "C -> T @ 110 14\n",
      "A -> G @ 110 14\n",
      " -> G @ 1 14\n",
      "G -> C @ 110 15\n",
      "A -> C @ 110 15\n",
      " -> T @ 0 15\n",
      " -> G @ 0 15\n",
      "T -> A @ 110 16\n",
      "T -> G @ 110 17\n",
      "T -> C @ 110 18\n",
      "A -> T @ 110 18\n",
      "C -> G @ 110 18\n",
      " -> C @ 0 21\n",
      " -> A @ 0 27\n",
      "G ->  @ 110 31\n",
      "C ->  @ 110 36\n",
      "A ->  @ 110 39\n",
      " -> A @ 110 44\n",
      " -> C @ 110 47\n",
      "T ->  @ 110 49\n",
      " -> T @ 110 55\n",
      " -> G @ 110 65\n",
      " -> G @ 109 223\n",
      " -> A @ 109 224\n",
      " -> C @ 109 233\n",
      " -> T @ 109 260\n"
     ]
    }
   ],
   "source": [
    "for sub, count in zip(subs, counts):\n",
    "    if count > 5:\n",
    "        print(\"{} -> {} @ {}\".format(sub[0], sub[1], sub[2]), count)\n"
   ]
  },
  {
   "cell_type": "code",
   "execution_count": 17,
   "metadata": {},
   "outputs": [],
   "source": [
    "import matplotlib.pyplot as plt"
   ]
  },
  {
   "cell_type": "code",
   "execution_count": 18,
   "metadata": {},
   "outputs": [
    {
     "name": "stdout",
     "output_type": "stream",
     "text": [
      "[79, 48, 19, 7, 8, 14, 15, 9, 9, 8, 9, 17, 9, 16, 14, 5, 11, 10, 9, 12, 17, 15, 10, 11, 9, 8, 12, 12, 13, 15, 12, 13, 14, 18, 14, 9, 14, 12, 15, 18, 11, 11, 11, 10, 12, 10, 9, 13, 14, 5, 10, 9, 9, 17, 3, 7, 13, 13, 15, 13, 18, 10, 6, 18, 21, 7, 11, 13, 6, 16, 19, 13, 8, 18, 11, 14, 14, 13, 12, 18, 11, 9, 17, 8, 10, 10, 13, 8, 24, 20, 8, 13, 14, 8, 17, 13, 12, 13, 17, 12, 12, 7, 18, 14, 12, 18, 19, 11, 21, 941, 556]\n"
     ]
    }
   ],
   "source": [
    "strand_len = 110\n",
    "pos_counts = [0] * (strand_len + 1)\n",
    "for sub, count in zip(subs, counts):\n",
    "    pos_counts[int(sub[2])] += count\n",
    "\n",
    "print(pos_counts)"
   ]
  },
  {
   "cell_type": "code",
   "execution_count": 19,
   "metadata": {},
   "outputs": [
    {
     "data": {
      "text/plain": [
       "[<matplotlib.lines.Line2D at 0x121bb7f40>]"
      ]
     },
     "execution_count": 19,
     "metadata": {},
     "output_type": "execute_result"
    },
    {
     "data": {
      "image/png": "[encoded data removed]",
      "text/plain": [
       "<Figure size 432x288 with 1 Axes>"
      ]
     },
     "metadata": {
      "needs_background": "light"
     },
     "output_type": "display_data"
    }
   ],
   "source": [
    "plt.plot(range(strand_len + 1), pos_counts)"
   ]
  },
  {
   "cell_type": "code",
   "execution_count": 20,
   "metadata": {},
   "outputs": [
    {
     "name": "stdout",
     "output_type": "stream",
     "text": [
      "[15, 13, 2, 0, 3, 4, 5, 3, 0, 3, 4, 7, 3, 5, 2, 1, 2, 3, 3, 5, 7, 4, 1, 1, 4, 4, 2, 6, 3, 4, 3, 4, 5, 4, 6, 1, 4, 4, 0, 2, 5, 4, 3, 1, 5, 2, 3, 4, 4, 1, 3, 2, 4, 5, 0, 2, 3, 1, 4, 3, 5, 1, 0, 5, 5, 1, 2, 1, 1, 3, 7, 0, 3, 3, 3, 6, 5, 5, 1, 4, 0, 3, 1, 2, 3, 2, 6, 2, 5, 6, 1, 3, 7, 3, 4, 4, 6, 4, 6, 2, 1, 2, 1, 3, 5, 4, 3, 1, 4, 260, 55]\n"
     ]
    }
   ],
   "source": [
    "def get_key(char1, char2):\n",
    "    char1 = char1 if char1 != '' else '_'\n",
    "    char2 = char2 if char2 != '' else '_'\n",
    "    return char1 + ' -> ' + char2\n",
    "\n",
    "strand_len = 110\n",
    "pos_map = {}\n",
    "pos_counts = [0] * (strand_len + 1)\n",
    "for sub, count in zip(subs, counts):\n",
    "    key = get_key(sub[0], sub[1])\n",
    "    if key not in pos_map:\n",
    "        pos_map[key] = [0] * (strand_len + 1)\n",
    "    pos_map[key][int(sub[2])] += count\n",
    "\n",
    "print(pos_map['_ -> T'])"
   ]
  },
  {
   "cell_type": "code",
   "execution_count": 21,
   "metadata": {},
   "outputs": [],
   "source": [
    "sub_keys = [get_key(sub[0], sub[1]) for sub in subs_no_pos]\n",
    "max_10_keys = sub_keys[-10:]\n",
    "max_10_counts = counts_no_pos[-10:]\n"
   ]
  },
  {
   "cell_type": "code",
   "execution_count": 22,
   "metadata": {},
   "outputs": [
    {
     "data": {
      "image/png": "[encoded data removed]",
      "text/plain": [
       "<Figure size 432x288 with 1 Axes>"
      ]
     },
     "metadata": {
      "needs_background": "light"
     },
     "output_type": "display_data"
    },
    {
     "data": {
      "image/png": "[encoded data removed]",
      "text/plain": [
       "<Figure size 432x288 with 1 Axes>"
      ]
     },
     "metadata": {
      "needs_background": "light"
     },
     "output_type": "display_data"
    },
    {
     "data": {
      "image/png": "[encoded data removed]",
      "text/plain": [
       "<Figure size 432x288 with 1 Axes>"
      ]
     },
     "metadata": {
      "needs_background": "light"
     },
     "output_type": "display_data"
    },
    {
     "data": {
      "image/png": "[encoded data removed]",
      "text/plain": [
       "<Figure size 432x288 with 1 Axes>"
      ]
     },
     "metadata": {
      "needs_background": "light"
     },
     "output_type": "display_data"
    },
    {
     "data": {
      "image/png": "[encoded data removed]",
      "text/plain": [
       "<Figure size 432x288 with 1 Axes>"
      ]
     },
     "metadata": {
      "needs_background": "light"
     },
     "output_type": "display_data"
    },
    {
     "data": {
      "image/png": "[encoded data removed]",
      "text/plain": [
       "<Figure size 432x288 with 1 Axes>"
      ]
     },
     "metadata": {
      "needs_background": "light"
     },
     "output_type": "display_data"
    },
    {
     "data": {
      "image/png": "[encoded data removed]",
      "text/plain": [
       "<Figure size 432x288 with 1 Axes>"
      ]
     },
     "metadata": {
      "needs_background": "light"
     },
     "output_type": "display_data"
    },
    {
     "data": {
      "image/png": "[encoded data removed]",
      "text/plain": [
       "<Figure size 432x288 with 1 Axes>"
      ]
     },
     "metadata": {
      "needs_background": "light"
     },
     "output_type": "display_data"
    },
    {
     "data": {
      "image/png": "[encoded data removed]",
      "text/plain": [
       "<Figure size 432x288 with 1 Axes>"
      ]
     },
     "metadata": {
      "needs_background": "light"
     },
     "output_type": "display_data"
    },
    {
     "data": {
      "image/png": "[encoded data removed]",
      "text/plain": [
       "<Figure size 432x288 with 1 Axes>"
      ]
     },
     "metadata": {
      "needs_background": "light"
     },
     "output_type": "display_data"
    }
   ],
   "source": [
    "for key, count in zip(reversed(max_10_keys), reversed(max_10_counts)):\n",
    "    plt.figure(key)\n",
    "    plt.title(f'{key} : {count}')\n",
    "    plt.plot(range(strand_len + 1), pos_map[key])"
   ]
  },
  {
   "cell_type": "code",
   "execution_count": 23,
   "metadata": {},
   "outputs": [],
   "source": [
    "np.save('subs.npy', subs)\n",
    "np.save('counts.npy', counts)"
   ]
  }
 ],
 "metadata": {
  "interpreter": {
   "hash": "aee8b7b246df8f9039afb4144a1f6fd8d2ca17a180786b69acc140d282b71a49"
  },
  "kernelspec": {
   "display_name": "Python 3.9.10 64-bit",
   "language": "python",
   "name": "python3"
  },
  "language_info": {
   "codemirror_mode": {
    "name": "ipython",
    "version": 3
   },
   "file_extension": ".py",
   "mimetype": "text/x-python",
   "name": "python",
   "nbconvert_exporter": "python",
   "pygments_lexer": "ipython3",
   "version": "3.9.10"
  },
  "orig_nbformat": 4
 },
 "nbformat": 4,
 "nbformat_minor": 2
}
